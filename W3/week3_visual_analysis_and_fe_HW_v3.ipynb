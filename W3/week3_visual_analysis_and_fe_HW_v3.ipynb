{
 "cells": [
  {
   "cell_type": "markdown",
   "metadata": {},
   "source": [
    "<center>\n",
    "<img src=\"https://habrastorage.org/web/677/8e1/337/6778e1337c3d4b159d7e99df94227cb2.jpg\"/>\n",
    "## Специализация \"Машинное обучение и анализ данных\"\n",
    "<center>Автор материала: программист-исследователь Mail.Ru Group, старший преподаватель Факультета Компьютерных Наук ВШЭ [Юрий Кашницкий](https://yorko.github.io/)"
   ]
  },
  {
   "cell_type": "markdown",
   "metadata": {},
   "source": [
    "# <center>  Capstone проект №1 <br> Идентификация пользователей по посещенным веб-страницам\n",
    "<img src='http://i.istockimg.com/file_thumbview_approve/21546327/5/stock-illustration-21546327-identification-de-l-utilisateur.jpg'>\n",
    "\n",
    "# <center>Неделя 3. Визуальный анализ данных и построение признаков\n",
    "\n",
    "На 3 неделе мы займемся визуальным анализом данных и построением признаков. Сначала мы вместе построим и проанализируем несколько признаков, потом Вы сможете сами придумать и описать различные признаки. \n",
    "\n",
    "**План 3 недели:**\n",
    " - Часть 1. Построение признаков\n",
    " - Часть 2. Визуальный анализ данных\n",
    " - Часть 3. Дальнейшее построение признаков\n",
    " - Часть 4. Проверка построенных признаков\n",
    "\n",
    "**В этой части проекта Вам могут быть полезны видеозаписи следующих лекций курса \"Поиск структуры в данных\":**\n",
    "   - [Задача визуализации](https://www.coursera.org/learn/unsupervised-learning/lecture/hlvlT/zadacha-vizualizatsii)\n",
    "   - [Визуализация данных в sklearn](https://www.coursera.org/learn/unsupervised-learning/lecture/ityMo/vizualizatsiia-dannykh-v-sklearn)\n",
    "   \n",
    "**Также в задании будет использоваться библиотека Seaborn (ее можно дополнительно установить командой *pip install seaborn*), будет полезно обращаться к документациям [Matplotlib](http://matplotlib.org/users/) и [Seaborn](http://seaborn.pydata.org/), а также к примерам визуализации, описанным на StackOverflow.**\n",
    "\n"
   ]
  },
  {
   "cell_type": "markdown",
   "metadata": {},
   "source": [
    "### Задание\n",
    "1. Заполните код в этой тетрадке \n",
    "2. Если вы проходите специализацию Яндеса и МФТИ, пошлите тетрадку в соответствующем Peer Review. <br> Если вы проходите курс ODS, выберите ответы в [веб-форме](https://docs.google.com/forms/d/1EbjK7-hF-Gepi6RH-K5I2XeiYGRoY0LNDx03QmLu9Xo). "
   ]
  },
  {
   "cell_type": "markdown",
   "metadata": {},
   "source": [
    "## Часть 1. Построение признаков"
   ]
  },
  {
   "cell_type": "code",
   "execution_count": 3,
   "metadata": {},
   "outputs": [],
   "source": [
    "from __future__ import division, print_function\n",
    "# отключим всякие предупреждения Anaconda\n",
    "import warnings\n",
    "warnings.filterwarnings('ignore')\n",
    "from glob import glob\n",
    "import os\n",
    "import numpy as np\n",
    "import pandas as pd\n",
    "pd.set_option('display.max.columns', 25)\n",
    "import pickle\n",
    "import seaborn as sns\n",
    "%matplotlib inline\n",
    "from tqdm import tqdm, tqdm_notebook\n",
    "from matplotlib import pyplot as plt"
   ]
  },
  {
   "cell_type": "code",
   "execution_count": 4,
   "metadata": {},
   "outputs": [],
   "source": [
    "# Поменяйте на свой путь к данным\n",
    "PATH_TO_DATA = os.path.join(os.getcwd(), 'capstone_user_identification')"
   ]
  },
  {
   "cell_type": "markdown",
   "metadata": {},
   "source": [
    "**Создайте на основе функций *prepare_train_set* и *prepare_sparse_train_set_window*  новую – *prepare_train_set_with_fe*, (от \"feature engineering\"), создайте следующие признаки:**\n",
    "- `session_timespan` – продолжительность сессии (разница между максимальным и минимальным временем посещения сайтов в сессии, в секундах)\n",
    "- `#unique_sites` – число уникальных сайтов в сессии \n",
    "- `start_hour` – час начала сессии (то есть час в записи минимального timestamp среди десяти)\n",
    "- `day_of_week` – день недели (то есть день недели в записи минимального timestamp среди десяти)\n",
    "\n",
    "Функция должна возвращать новый DataFrame (как возвращала функция *prepare_train_set*), только признаков должно быть на 4 больше. Порядок, в котором добавляются признаки: *site1*, ... *site10*, *session_timespan*, *#unique_sites*, *start_hour*, *day_of_week* и *user_id* (это видно и чуть ниже по тому, как функция вызывается)."
   ]
  },
  {
   "cell_type": "code",
   "execution_count": 3,
   "metadata": {},
   "outputs": [],
   "source": [
    "def prepare_train_set_with_fe(path_to_csv_files, site_freq_path, feature_names,\n",
    "                                    session_length=10, window_size=10):\n",
    "    #загрузка частотного словаря сайтов\n",
    "    with open(site_freq_path, 'rb') as SFD_pkl:\n",
    "        SiteFreqDict = pickle.Unpickler(SFD_pkl).load()\n",
    "    #получение списка файлов формата csv из каталога\n",
    "    l = glob(path_to_csv_files+'/*.csv')\n",
    "    ListDataRes = []\n",
    "    #чтение файлов поочереди\n",
    "    for i, NameCsvFile in tqdm(enumerate(l)):\n",
    "        #чтение файла user<i> \n",
    "        user_x = pd.read_csv(NameCsvFile, sep = ',', header = 0)\n",
    "        #добаление колонки индекса сайта согласно общему частотному словарю\n",
    "        user_x['index'] = user_x['site'].map(lambda x: SiteFreqDict[x][0])\n",
    "        StackSites = user_x['index']\n",
    "        #создание списка с временем посещения сайта в формате datatime\n",
    "        user_x['timestamp'] = pd.to_datetime(user_x['timestamp'])\n",
    "        SessionTimespan = user_x['timestamp']\n",
    "        \n",
    "        k = 0\n",
    "        ListData = []\n",
    "\n",
    "        while (k*window_size) < len(StackSites):\n",
    "            ListData.append([])\n",
    "            #заполнение каждой сессии номерами сайтов\n",
    "            for j in range(session_length):\n",
    "                if (k*window_size+j) < len(StackSites):\n",
    "                    ListData[k].append(StackSites[k*window_size+j])\n",
    "                else:\n",
    "                    ListData[k].append(0)\n",
    "            #вычисления и добавление данных по сессии\n",
    "            if (k*window_size+session_length) <= len(SessionTimespan):\n",
    "                #вычисление продолжительности сессии и ее добавление после списка сайтов\n",
    "                ListData[k].append(pd.Timedelta(SessionTimespan[k*window_size+session_length-1]\n",
    "                                                -SessionTimespan[k*window_size]).seconds)\n",
    "                #добавление числа уникальных сайтов в сессии\n",
    "                ListData[k].append(StackSites[k*window_size:(k*window_size+session_length)].unique().size)\n",
    "                #добавление часа начала сессии\n",
    "                ListData[k].append(SessionTimespan[k*window_size].hour)\n",
    "                #добавление дня недели\n",
    "                ListData[k].append(SessionTimespan[k*window_size].weekday())\n",
    "            #аналогичное вышеуказанным данным заполнение сессий с не до конца заполненными строками при рассматриваемой\n",
    "            #длине сессии\n",
    "            else:\n",
    "                ListData[k].append(pd.Timedelta(SessionTimespan.iloc[-1]\n",
    "                                                -SessionTimespan[k*window_size]).seconds)\n",
    "                ListData[k].append(StackSites[k*window_size:len(StackSites)].unique().size)\n",
    "                ListData[k].append(SessionTimespan[k*window_size].hour)\n",
    "                ListData[k].append(SessionTimespan[k*window_size].weekday())                  \n",
    "            #записть индекса пользователя\n",
    "            ListData[k].append(int(NameCsvFile[-8:-4]))\n",
    "            k+=1\n",
    "        #добавление заполненного массива по пользователю в единый список по всем пользователям    \n",
    "        ListDataRes += ListData\n",
    "    #создание возвращаемого DataFrame    \n",
    "    DataRes = pd.DataFrame(ListDataRes, columns=feature_names)\n",
    "                    \n",
    "    return DataRes"
   ]
  },
  {
   "cell_type": "markdown",
   "metadata": {},
   "source": [
    "**Проверим функцию на игрушечном примере.**"
   ]
  },
  {
   "cell_type": "code",
   "execution_count": 4,
   "metadata": {
    "scrolled": false
   },
   "outputs": [
    {
     "name": "stderr",
     "output_type": "stream",
     "text": [
      "3it [00:00, 28.04it/s]\n"
     ]
    }
   ],
   "source": [
    "feature_names = ['site' + str(i) for i in range(1,11)] + \\\n",
    "                ['session_timespan', '#unique_sites', 'start_hour', \n",
    "                 'day_of_week', 'user_id']\n",
    "train_data_toy  = prepare_train_set_with_fe(os.path.join(PATH_TO_DATA, \n",
    "                                                         '3users'), \n",
    "                  site_freq_path=os.path.join(PATH_TO_DATA, \n",
    "                                              'site_freq_3users.pkl'),\n",
    "                  feature_names=feature_names, session_length=10)"
   ]
  },
  {
   "cell_type": "code",
   "execution_count": 5,
   "metadata": {},
   "outputs": [
    {
     "data": {
      "text/html": [
       "<div>\n",
       "<style scoped>\n",
       "    .dataframe tbody tr th:only-of-type {\n",
       "        vertical-align: middle;\n",
       "    }\n",
       "\n",
       "    .dataframe tbody tr th {\n",
       "        vertical-align: top;\n",
       "    }\n",
       "\n",
       "    .dataframe thead th {\n",
       "        text-align: right;\n",
       "    }\n",
       "</style>\n",
       "<table border=\"1\" class=\"dataframe\">\n",
       "  <thead>\n",
       "    <tr style=\"text-align: right;\">\n",
       "      <th></th>\n",
       "      <th>site1</th>\n",
       "      <th>site2</th>\n",
       "      <th>site3</th>\n",
       "      <th>site4</th>\n",
       "      <th>site5</th>\n",
       "      <th>site6</th>\n",
       "      <th>site7</th>\n",
       "      <th>site8</th>\n",
       "      <th>site9</th>\n",
       "      <th>site10</th>\n",
       "      <th>session_timespan</th>\n",
       "      <th>#unique_sites</th>\n",
       "      <th>start_hour</th>\n",
       "      <th>day_of_week</th>\n",
       "      <th>user_id</th>\n",
       "    </tr>\n",
       "  </thead>\n",
       "  <tbody>\n",
       "    <tr>\n",
       "      <th>0</th>\n",
       "      <td>4</td>\n",
       "      <td>2</td>\n",
       "      <td>2</td>\n",
       "      <td>9</td>\n",
       "      <td>2</td>\n",
       "      <td>1</td>\n",
       "      <td>11</td>\n",
       "      <td>6</td>\n",
       "      <td>10</td>\n",
       "      <td>8</td>\n",
       "      <td>7998</td>\n",
       "      <td>8</td>\n",
       "      <td>9</td>\n",
       "      <td>4</td>\n",
       "      <td>1</td>\n",
       "    </tr>\n",
       "    <tr>\n",
       "      <th>1</th>\n",
       "      <td>4</td>\n",
       "      <td>1</td>\n",
       "      <td>1</td>\n",
       "      <td>1</td>\n",
       "      <td>0</td>\n",
       "      <td>0</td>\n",
       "      <td>0</td>\n",
       "      <td>0</td>\n",
       "      <td>0</td>\n",
       "      <td>0</td>\n",
       "      <td>60</td>\n",
       "      <td>2</td>\n",
       "      <td>12</td>\n",
       "      <td>4</td>\n",
       "      <td>1</td>\n",
       "    </tr>\n",
       "    <tr>\n",
       "      <th>2</th>\n",
       "      <td>4</td>\n",
       "      <td>2</td>\n",
       "      <td>5</td>\n",
       "      <td>5</td>\n",
       "      <td>2</td>\n",
       "      <td>0</td>\n",
       "      <td>0</td>\n",
       "      <td>0</td>\n",
       "      <td>0</td>\n",
       "      <td>0</td>\n",
       "      <td>7935</td>\n",
       "      <td>3</td>\n",
       "      <td>9</td>\n",
       "      <td>4</td>\n",
       "      <td>2</td>\n",
       "    </tr>\n",
       "    <tr>\n",
       "      <th>3</th>\n",
       "      <td>3</td>\n",
       "      <td>1</td>\n",
       "      <td>2</td>\n",
       "      <td>1</td>\n",
       "      <td>2</td>\n",
       "      <td>1</td>\n",
       "      <td>1</td>\n",
       "      <td>6</td>\n",
       "      <td>7</td>\n",
       "      <td>3</td>\n",
       "      <td>7998</td>\n",
       "      <td>5</td>\n",
       "      <td>9</td>\n",
       "      <td>4</td>\n",
       "      <td>3</td>\n",
       "    </tr>\n",
       "    <tr>\n",
       "      <th>4</th>\n",
       "      <td>3</td>\n",
       "      <td>1</td>\n",
       "      <td>2</td>\n",
       "      <td>0</td>\n",
       "      <td>0</td>\n",
       "      <td>0</td>\n",
       "      <td>0</td>\n",
       "      <td>0</td>\n",
       "      <td>0</td>\n",
       "      <td>0</td>\n",
       "      <td>1471</td>\n",
       "      <td>3</td>\n",
       "      <td>12</td>\n",
       "      <td>4</td>\n",
       "      <td>3</td>\n",
       "    </tr>\n",
       "  </tbody>\n",
       "</table>\n",
       "</div>"
      ],
      "text/plain": [
       "   site1  site2  site3  site4  site5  site6  site7  site8  site9  site10  \\\n",
       "0      4      2      2      9      2      1     11      6     10       8   \n",
       "1      4      1      1      1      0      0      0      0      0       0   \n",
       "2      4      2      5      5      2      0      0      0      0       0   \n",
       "3      3      1      2      1      2      1      1      6      7       3   \n",
       "4      3      1      2      0      0      0      0      0      0       0   \n",
       "\n",
       "   session_timespan  #unique_sites  start_hour  day_of_week  user_id  \n",
       "0              7998              8           9            4        1  \n",
       "1                60              2          12            4        1  \n",
       "2              7935              3           9            4        2  \n",
       "3              7998              5           9            4        3  \n",
       "4              1471              3          12            4        3  "
      ]
     },
     "execution_count": 5,
     "metadata": {},
     "output_type": "execute_result"
    }
   ],
   "source": [
    "train_data_toy"
   ]
  },
  {
   "cell_type": "markdown",
   "metadata": {},
   "source": [
    "**Примените функцию *prepare_train_set_with_fe* к данным по 10 пользователям, укажите *session_length*=10.**"
   ]
  },
  {
   "cell_type": "code",
   "execution_count": 6,
   "metadata": {},
   "outputs": [
    {
     "name": "stderr",
     "output_type": "stream",
     "text": [
      "10it [00:36,  3.57s/it]\n"
     ]
    },
    {
     "name": "stdout",
     "output_type": "stream",
     "text": [
      "Wall time: 37.1 s\n"
     ]
    }
   ],
   "source": [
    "%%time\n",
    "train_data_10users = prepare_train_set_with_fe(os.path.join(PATH_TO_DATA, \n",
    "                                                         '10users'), \n",
    "                  site_freq_path=os.path.join(PATH_TO_DATA, \n",
    "                                              'site_freq_10users.pkl'),\n",
    "                  feature_names=feature_names, session_length=10)"
   ]
  },
  {
   "cell_type": "code",
   "execution_count": 7,
   "metadata": {},
   "outputs": [
    {
     "data": {
      "text/html": [
       "<div>\n",
       "<style scoped>\n",
       "    .dataframe tbody tr th:only-of-type {\n",
       "        vertical-align: middle;\n",
       "    }\n",
       "\n",
       "    .dataframe tbody tr th {\n",
       "        vertical-align: top;\n",
       "    }\n",
       "\n",
       "    .dataframe thead th {\n",
       "        text-align: right;\n",
       "    }\n",
       "</style>\n",
       "<table border=\"1\" class=\"dataframe\">\n",
       "  <thead>\n",
       "    <tr style=\"text-align: right;\">\n",
       "      <th></th>\n",
       "      <th>site1</th>\n",
       "      <th>site2</th>\n",
       "      <th>site3</th>\n",
       "      <th>site4</th>\n",
       "      <th>site5</th>\n",
       "      <th>site6</th>\n",
       "      <th>site7</th>\n",
       "      <th>site8</th>\n",
       "      <th>site9</th>\n",
       "      <th>site10</th>\n",
       "      <th>session_timespan</th>\n",
       "      <th>#unique_sites</th>\n",
       "      <th>start_hour</th>\n",
       "      <th>day_of_week</th>\n",
       "      <th>user_id</th>\n",
       "    </tr>\n",
       "  </thead>\n",
       "  <tbody>\n",
       "    <tr>\n",
       "      <th>0</th>\n",
       "      <td>193</td>\n",
       "      <td>575</td>\n",
       "      <td>134</td>\n",
       "      <td>3</td>\n",
       "      <td>134</td>\n",
       "      <td>134</td>\n",
       "      <td>3</td>\n",
       "      <td>134</td>\n",
       "      <td>203</td>\n",
       "      <td>134</td>\n",
       "      <td>33</td>\n",
       "      <td>5</td>\n",
       "      <td>8</td>\n",
       "      <td>4</td>\n",
       "      <td>31</td>\n",
       "    </tr>\n",
       "    <tr>\n",
       "      <th>1</th>\n",
       "      <td>417</td>\n",
       "      <td>192</td>\n",
       "      <td>698</td>\n",
       "      <td>254</td>\n",
       "      <td>134</td>\n",
       "      <td>31</td>\n",
       "      <td>396</td>\n",
       "      <td>3673</td>\n",
       "      <td>221</td>\n",
       "      <td>55</td>\n",
       "      <td>284</td>\n",
       "      <td>10</td>\n",
       "      <td>8</td>\n",
       "      <td>4</td>\n",
       "      <td>31</td>\n",
       "    </tr>\n",
       "    <tr>\n",
       "      <th>2</th>\n",
       "      <td>55</td>\n",
       "      <td>3</td>\n",
       "      <td>55</td>\n",
       "      <td>55</td>\n",
       "      <td>5</td>\n",
       "      <td>294</td>\n",
       "      <td>417</td>\n",
       "      <td>336</td>\n",
       "      <td>912</td>\n",
       "      <td>55</td>\n",
       "      <td>258</td>\n",
       "      <td>7</td>\n",
       "      <td>8</td>\n",
       "      <td>4</td>\n",
       "      <td>31</td>\n",
       "    </tr>\n",
       "    <tr>\n",
       "      <th>3</th>\n",
       "      <td>476</td>\n",
       "      <td>3875</td>\n",
       "      <td>476</td>\n",
       "      <td>55</td>\n",
       "      <td>55</td>\n",
       "      <td>55</td>\n",
       "      <td>55</td>\n",
       "      <td>965</td>\n",
       "      <td>202</td>\n",
       "      <td>124</td>\n",
       "      <td>30</td>\n",
       "      <td>6</td>\n",
       "      <td>8</td>\n",
       "      <td>4</td>\n",
       "      <td>31</td>\n",
       "    </tr>\n",
       "    <tr>\n",
       "      <th>4</th>\n",
       "      <td>344</td>\n",
       "      <td>55</td>\n",
       "      <td>5</td>\n",
       "      <td>3667</td>\n",
       "      <td>258</td>\n",
       "      <td>211</td>\n",
       "      <td>4046</td>\n",
       "      <td>2323</td>\n",
       "      <td>697</td>\n",
       "      <td>2323</td>\n",
       "      <td>6</td>\n",
       "      <td>9</td>\n",
       "      <td>8</td>\n",
       "      <td>4</td>\n",
       "      <td>31</td>\n",
       "    </tr>\n",
       "  </tbody>\n",
       "</table>\n",
       "</div>"
      ],
      "text/plain": [
       "   site1  site2  site3  site4  site5  site6  site7  site8  site9  site10  \\\n",
       "0    193    575    134      3    134    134      3    134    203     134   \n",
       "1    417    192    698    254    134     31    396   3673    221      55   \n",
       "2     55      3     55     55      5    294    417    336    912      55   \n",
       "3    476   3875    476     55     55     55     55    965    202     124   \n",
       "4    344     55      5   3667    258    211   4046   2323    697    2323   \n",
       "\n",
       "   session_timespan  #unique_sites  start_hour  day_of_week  user_id  \n",
       "0                33              5           8            4       31  \n",
       "1               284             10           8            4       31  \n",
       "2               258              7           8            4       31  \n",
       "3                30              6           8            4       31  \n",
       "4                 6              9           8            4       31  "
      ]
     },
     "execution_count": 7,
     "metadata": {},
     "output_type": "execute_result"
    }
   ],
   "source": [
    "train_data_10users.head()"
   ]
  },
  {
   "cell_type": "markdown",
   "metadata": {},
   "source": [
    "**Примените функцию *prepare_train_set_with_fe* к данным по 150 пользователям, укажите *session_length*=10.**"
   ]
  },
  {
   "cell_type": "code",
   "execution_count": 8,
   "metadata": {},
   "outputs": [
    {
     "name": "stderr",
     "output_type": "stream",
     "text": [
      "150it [05:30,  1.52s/it]\n"
     ]
    },
    {
     "name": "stdout",
     "output_type": "stream",
     "text": [
      "Wall time: 5min 32s\n"
     ]
    }
   ],
   "source": [
    "%%time\n",
    "train_data_150users = prepare_train_set_with_fe(os.path.join(PATH_TO_DATA, \n",
    "                                                         '150users'), \n",
    "                  site_freq_path=os.path.join(PATH_TO_DATA, \n",
    "                                              'site_freq_150users.pkl'),\n",
    "                  feature_names=feature_names, session_length=10)"
   ]
  },
  {
   "cell_type": "markdown",
   "metadata": {},
   "source": [
    "**Сохраните в pickle-файлы признаки *session_timespan*, *#unique_sites*, *start_hour* и *day_of_week* для 10 и 150 пользователей.**"
   ]
  },
  {
   "cell_type": "code",
   "execution_count": 9,
   "metadata": {},
   "outputs": [],
   "source": [
    "new_features_10users = train_data_10users.iloc[:,-5:-1].values\n",
    "new_features_150users = train_data_150users.iloc[:,-5:-1].values"
   ]
  },
  {
   "cell_type": "code",
   "execution_count": 10,
   "metadata": {},
   "outputs": [],
   "source": [
    "with open(os.path.join(PATH_TO_DATA, \n",
    "                       'new_features_10users.pkl'), 'wb') as new_features_10users_pkl:\n",
    "    pickle.dump(new_features_10users, new_features_10users_pkl)\n",
    "with open(os.path.join(PATH_TO_DATA, \n",
    "                       'new_features_150users.pkl'), 'wb') as new_features_150users_pkl:\n",
    "    pickle.dump(new_features_150users, new_features_150users_pkl)"
   ]
  },
  {
   "cell_type": "markdown",
   "metadata": {},
   "source": [
    "**<font color='red'>Вопрос 1. </font> Выведите медианную продолжительность сессии (*session_timespan*) для сессий 10 пользователей.**"
   ]
  },
  {
   "cell_type": "code",
   "execution_count": 11,
   "metadata": {},
   "outputs": [
    {
     "name": "stdout",
     "output_type": "stream",
     "text": [
      "Populating the interactive namespace from numpy and matplotlib\n"
     ]
    }
   ],
   "source": [
    "%pylab inline"
   ]
  },
  {
   "cell_type": "code",
   "execution_count": 12,
   "metadata": {},
   "outputs": [],
   "source": [
    "d = {}\n",
    "for user_x in train_data_10users['user_id'].unique():\n",
    "    d[user_x] =np.median(train_data_10users[train_data_10users['user_id'] == user_x]['session_timespan'])"
   ]
  },
  {
   "cell_type": "code",
   "execution_count": 13,
   "metadata": {
    "scrolled": false
   },
   "outputs": [
    {
     "data": {
      "text/plain": [
       "<BarContainer object of 10 artists>"
      ]
     },
     "execution_count": 13,
     "metadata": {},
     "output_type": "execute_result"
    },
    {
     "data": {
      "image/png": "[encoded data removed]",
      "text/plain": [
       "<Figure size 720x360 with 1 Axes>"
      ]
     },
     "metadata": {
      "needs_background": "light"
     },
     "output_type": "display_data"
    }
   ],
   "source": [
    "fig, axes = plt.subplots(figsize=(10, 5))\n",
    "plt.xlabel(u'User_ID')\n",
    "plt.ylabel(u'Медианная продолжительность сессии, сек.')\n",
    "plt.bar(map(str,d.keys()), d.values())"
   ]
  },
  {
   "cell_type": "markdown",
   "metadata": {},
   "source": [
    "**<font color='red'>Вопрос 2. </font> Выведите медианный день недели, в который началась сессия, для сессий 10 пользователей.**"
   ]
  },
  {
   "cell_type": "code",
   "execution_count": 14,
   "metadata": {},
   "outputs": [],
   "source": [
    "d = {}\n",
    "for user_x in train_data_10users['user_id'].unique():\n",
    "    d[user_x] =int(np.median(train_data_10users[train_data_10users['user_id'] == user_x]['day_of_week']))"
   ]
  },
  {
   "cell_type": "code",
   "execution_count": 15,
   "metadata": {},
   "outputs": [
    {
     "data": {
      "text/plain": [
       "<BarContainer object of 10 artists>"
      ]
     },
     "execution_count": 15,
     "metadata": {},
     "output_type": "execute_result"
    },
    {
     "data": {
      "image/png": "[encoded data removed]",
      "text/plain": [
       "<Figure size 720x360 with 1 Axes>"
      ]
     },
     "metadata": {
      "needs_background": "light"
     },
     "output_type": "display_data"
    }
   ],
   "source": [
    "fig, axes = plt.subplots(figsize=(10, 5))\n",
    "\n",
    "days_of_week = [u'Пн', u'Вт', u'Ср', u'Чт', u'Пт', u'Сб', u'Вс']\n",
    "axes.set_yticks(range(7))\n",
    "axes.set_yticklabels(days_of_week)\n",
    "plt.xlabel(u'User_ID')\n",
    "plt.ylabel(u'День недели')\n",
    "\n",
    "plt.bar(map(str,d.keys()), d.values())"
   ]
  },
  {
   "cell_type": "markdown",
   "metadata": {},
   "source": [
    "**<font color='red'>Вопрос 3. </font>Выведите медианный час начала сессии для сессий 150 пользователей.**"
   ]
  },
  {
   "cell_type": "code",
   "execution_count": 16,
   "metadata": {},
   "outputs": [],
   "source": [
    "d = {}\n",
    "for user_x in train_data_150users['user_id'].unique():\n",
    "    d[user_x] =int(np.median(train_data_150users[train_data_150users['user_id'] == user_x]['start_hour']))"
   ]
  },
  {
   "cell_type": "code",
   "execution_count": 17,
   "metadata": {
    "scrolled": false
   },
   "outputs": [
    {
     "data": {
      "text/plain": [
       "<BarContainer object of 150 artists>"
      ]
     },
     "execution_count": 17,
     "metadata": {},
     "output_type": "execute_result"
    },
    {
     "data": {
      "image/png": "[encoded data removed]",
      "text/plain": [
       "<Figure size 1440x504 with 1 Axes>"
      ]
     },
     "metadata": {
      "needs_background": "light"
     },
     "output_type": "display_data"
    }
   ],
   "source": [
    "fig, axes = plt.subplots(figsize=(20, 7))\n",
    "\n",
    "plt.ylabel(u'Медианная час начала сессии, ч.')\n",
    "plt.xlabel(u'User_ID')\n",
    "plt.xticks(fontsize=10, rotation=90)\n",
    "\n",
    "plt.bar(map(str,d.keys()), d.values(), width=0.8)"
   ]
  },
  {
   "cell_type": "markdown",
   "metadata": {},
   "source": [
    "**<font color='red'>Вопрос 4. </font>Выведите медианное значение числа уникальных сайтов в сессиях 150 пользователей.**"
   ]
  },
  {
   "cell_type": "code",
   "execution_count": 18,
   "metadata": {
    "scrolled": true
   },
   "outputs": [],
   "source": [
    "d = {}\n",
    "for user_x in train_data_150users['user_id'].unique():\n",
    "    d[user_x] =int(np.median(train_data_150users[train_data_150users['user_id'] == user_x]['#unique_sites']))"
   ]
  },
  {
   "cell_type": "code",
   "execution_count": 19,
   "metadata": {},
   "outputs": [
    {
     "data": {
      "text/plain": [
       "<BarContainer object of 150 artists>"
      ]
     },
     "execution_count": 19,
     "metadata": {},
     "output_type": "execute_result"
    },
    {
     "data": {
      "image/png": "[encoded data removed]",
      "text/plain": [
       "<Figure size 1440x504 with 1 Axes>"
      ]
     },
     "metadata": {
      "needs_background": "light"
     },
     "output_type": "display_data"
    }
   ],
   "source": [
    "fig, axes = plt.subplots(figsize=(20, 7))\n",
    "\n",
    "plt.ylabel(u'Число уникальных сайтов в сессиях, шт.')\n",
    "plt.xlabel(u'User_ID')\n",
    "plt.xticks(fontsize=10, rotation=90)\n",
    "\n",
    "plt.bar(map(str,d.keys()), d.values(), width=0.8)"
   ]
  },
  {
   "cell_type": "markdown",
   "metadata": {},
   "source": [
    "## Часть 2. Визуальный анализ данных"
   ]
  },
  {
   "cell_type": "markdown",
   "metadata": {},
   "source": [
    "**Забавы ради, потехи для дадим пользователям имена и ассоциируем с ними цвета.**"
   ]
  },
  {
   "cell_type": "code",
   "execution_count": 20,
   "metadata": {},
   "outputs": [],
   "source": [
    "id_name_dict = {128: 'Mary-Kate', 39: 'Ashley', 207: 'Lindsey', 127: 'Naomi', 237: 'Avril',\n",
    "               33: 'Bob', 50: 'Bill', 31: 'John', 100: 'Dick', 241: 'Ed'}\n",
    "train_data_10users['user_id'] = train_data_10users['user_id'].map(id_name_dict)"
   ]
  },
  {
   "cell_type": "code",
   "execution_count": 21,
   "metadata": {},
   "outputs": [],
   "source": [
    "color_dic = {'Mary-Kate': 'pink', 'Ashley': 'darkviolet', 'Lindsey':'blueviolet', \n",
    "             'Naomi': 'hotpink', 'Avril': 'orchid', \n",
    "             'Bob': 'firebrick', 'Bill': 'gold', 'John': 'forestgreen', \n",
    "             'Dick': 'slategrey', 'Ed':'brown'}"
   ]
  },
  {
   "cell_type": "markdown",
   "metadata": {},
   "source": [
    "**1. Постройте гистограмму распределения длины сессии в секундах (*session_timespan*). Ограничьте по *x* значением 200 (иначе слишком тяжелый хвост). Сделайте гистограмму цвета *darkviolet*, подпишите оси по-русски.**"
   ]
  },
  {
   "cell_type": "code",
   "execution_count": 22,
   "metadata": {},
   "outputs": [
    {
     "data": {
      "text/plain": [
       "<matplotlib.axes._subplots.AxesSubplot at 0xcd41e80>"
      ]
     },
     "execution_count": 22,
     "metadata": {},
     "output_type": "execute_result"
    },
    {
     "data": {
      "image/png": "[encoded data removed]",
      "text/plain": [
       "<Figure size 432x288 with 1 Axes>"
      ]
     },
     "metadata": {
      "needs_background": "light"
     },
     "output_type": "display_data"
    }
   ],
   "source": [
    "plt.xlabel(u'Длина сессии, с')\n",
    "plt.ylabel(u'Количество сессий, шт.')\n",
    "train_data_10users['session_timespan'].loc[train_data_10users['session_timespan'] <= 200].hist(color=\"darkviolet\")"
   ]
  },
  {
   "cell_type": "markdown",
   "metadata": {},
   "source": [
    "**2. Постройте гистограмму распределения числа уникальных сайтов в сессии (*#unique_sites*). Сделайте гистограмму цвета *aqua*, подпишите оси по-русски.**"
   ]
  },
  {
   "cell_type": "code",
   "execution_count": 23,
   "metadata": {},
   "outputs": [
    {
     "data": {
      "text/plain": [
       "<matplotlib.axes._subplots.AxesSubplot at 0x123b1d68>"
      ]
     },
     "execution_count": 23,
     "metadata": {},
     "output_type": "execute_result"
    },
    {
     "data": {
      "image/png": "[encoded data removed]",
      "text/plain": [
       "<Figure size 432x288 with 1 Axes>"
      ]
     },
     "metadata": {
      "needs_background": "light"
     },
     "output_type": "display_data"
    }
   ],
   "source": [
    "plt.xlabel(u'Число уникальных сайтов в сессии, шт.')\n",
    "plt.ylabel(u'Количество сессий, шт.')\n",
    "df = train_data_10users['#unique_sites']\n",
    "df.value_counts().sort_index()[1:].plot.bar(width=0.8, color=\"aqua\")"
   ]
  },
  {
   "cell_type": "markdown",
   "metadata": {},
   "source": [
    "**3. Постройте гистограммы распределения числа уникальных сайтов в сессии (*#unique_sites*) для каждого из 10 пользователей по отдельности. Используйте *subplots*, чтоб разместить все 10 картинок на одной большой. Пометьте легендой каждую картинку, на легенде должно быть написано имя пользователя. Для каждого пользователя раскрасьте гистограмму его/ее цветом (*color_dic*). Подпишите оси по-русски в каждой из 10 гистограмм.**"
   ]
  },
  {
   "cell_type": "code",
   "execution_count": 24,
   "metadata": {},
   "outputs": [
    {
     "data": {
      "image/png": "[encoded data removed]",
      "text/plain": [
       "<Figure size 1152x720 with 12 Axes>"
      ]
     },
     "metadata": {
      "needs_background": "light"
     },
     "output_type": "display_data"
    }
   ],
   "source": [
    "fig, axes = plt.subplots(nrows=3, ncols=4, figsize=(16, 10))\n",
    "\n",
    "for idx, (user, sub_df) in  enumerate(pd.DataFrame.groupby(train_data_10users, 'user_id')): \n",
    "    axes[idx // 4][idx % 4].bar(sub_df['#unique_sites'].value_counts().index, sub_df['#unique_sites'].value_counts(), \n",
    "                                color = color_dic[user], label = user)\n",
    "    axes[idx // 4][idx % 4].legend()\n",
    "    axes[idx // 4][idx % 4].set_xlabel(u'Число уникальных сайтов в сессии, шт.')\n",
    "    axes[idx // 4][idx % 4].set_ylabel(u'Количество сессий, шт.')\n",
    "    axes[idx // 4][idx % 4].set_xticks([i for i in range(11)])\n",
    "    axes[idx // 4][idx % 4].set_xticklabels([i for i in range(11)])"
   ]
  },
  {
   "cell_type": "markdown",
   "metadata": {},
   "source": [
    "**4. Постройте гистограмму распределения часа начала сессии (*start_hour*). Сделайте гистограмму цвета *darkgreen*, подпишите оси по-русски.**"
   ]
  },
  {
   "cell_type": "code",
   "execution_count": 25,
   "metadata": {},
   "outputs": [
    {
     "data": {
      "text/plain": [
       "<matplotlib.axes._subplots.AxesSubplot at 0x1248f630>"
      ]
     },
     "execution_count": 25,
     "metadata": {},
     "output_type": "execute_result"
    },
    {
     "data": {
      "image/png": "[encoded data removed]",
      "text/plain": [
       "<Figure size 432x288 with 1 Axes>"
      ]
     },
     "metadata": {
      "needs_background": "light"
     },
     "output_type": "display_data"
    }
   ],
   "source": [
    "plt.xlabel(u'Час начала сессии, час')\n",
    "plt.ylabel(u'Количество сессий, шт.')\n",
    "df = train_data_10users['start_hour']\n",
    "df.value_counts().sort_index().plot.bar(width=0.8, color=\"darkgreen\")"
   ]
  },
  {
   "cell_type": "markdown",
   "metadata": {},
   "source": [
    "**5. Постройте гистограммы распределения часа начала сессии (*start_hour*) для каждого из 10 пользователей по отдельности. Используйте *subplots*, чтоб разместить все 10 картинок на одной большой. Пометьте легендой каждую картинку, на легенде должно быть написано имя пользователя. Для каждого пользователя раскрасьте гистограмму его/ее цветом (*color_dic*). Подпишите оси по-русски в каждой из 10 гистограмм.**"
   ]
  },
  {
   "cell_type": "code",
   "execution_count": 26,
   "metadata": {
    "scrolled": false
   },
   "outputs": [
    {
     "data": {
      "image/png": "[encoded data removed]",
      "text/plain": [
       "<Figure size 1152x720 with 12 Axes>"
      ]
     },
     "metadata": {
      "needs_background": "light"
     },
     "output_type": "display_data"
    }
   ],
   "source": [
    "fig, axes = plt.subplots(nrows=3, ncols=4, figsize=(16, 10))\n",
    "\n",
    "for idx, (user, sub_df) in  enumerate(pd.DataFrame.groupby(train_data_10users, 'user_id')): \n",
    "    axes[idx // 4][idx % 4].bar(sub_df['start_hour'].value_counts().index, sub_df['start_hour'].value_counts(),\n",
    "                                color = color_dic[user], label = user)\n",
    "    axes[idx // 4][idx % 4].legend()\n",
    "    axes[idx // 4][idx % 4].set_xlabel(u'Час начала сессии')\n",
    "    axes[idx // 4][idx % 4].set_ylabel(u'Количество сессий, шт.')\n",
    "    axes[idx // 4][idx % 4].set_xticks([i for i in range(7,25)])\n",
    "    axes[idx // 4][idx % 4].set_xticklabels([i for i in range(7,25)], rotation=90)"
   ]
  },
  {
   "cell_type": "markdown",
   "metadata": {},
   "source": [
    "**6. Постройте гистограмму распределения дня недели, в который началась сессия (*day_of_week*). Сделайте гистограмму цвета *sienna*, подпишите оси по-русски.**"
   ]
  },
  {
   "cell_type": "code",
   "execution_count": 27,
   "metadata": {},
   "outputs": [
    {
     "data": {
      "image/png": "[encoded data removed]",
      "text/plain": [
       "<Figure size 432x288 with 1 Axes>"
      ]
     },
     "metadata": {
      "needs_background": "light"
     },
     "output_type": "display_data"
    }
   ],
   "source": [
    "plt.xlabel(u'День недели')\n",
    "plt.ylabel(u'Количество сессий, шт.')\n",
    "days_of_week = [u'Пн', u'Вт', u'Ср', u'Чт', u'Пт', u'Сб', u'Вс']\n",
    "\n",
    "train_data_10users['day_of_week'].value_counts().sort_index().plot.bar(color=\"sienna\", width=0.9)\n",
    "\n",
    "locs, labels = xticks(np.arange(7), days_of_week)"
   ]
  },
  {
   "cell_type": "markdown",
   "metadata": {},
   "source": [
    "**7. Постройте гистограммы распределения дня недели, в который началась сессия (*day_of_week*) для каждого из 10 пользователей по отдельности. Используйте *subplots*, чтоб разместить все 10 картинок на одной большой. Измените метки по оси *X* на ['Пн', 'Вт', 'Ср', 'Чт', 'Пт', 'Сб', 'Вс'] – метод *set_xticklabels*. Пометьте легендой каждую картинку, на легенде должно быть написано имя пользователя. Для каждого пользователя раскрасьте гистограмму его/ее цветом (*color_dic*). Подпишите по-русски название каждой из 10 гистограмм.**"
   ]
  },
  {
   "cell_type": "code",
   "execution_count": 28,
   "metadata": {
    "scrolled": false
   },
   "outputs": [
    {
     "data": {
      "image/png": "[encoded data removed]",
      "text/plain": [
       "<Figure size 1152x720 with 12 Axes>"
      ]
     },
     "metadata": {
      "needs_background": "light"
     },
     "output_type": "display_data"
    }
   ],
   "source": [
    "fig, axes = plt.subplots(nrows=3, ncols=4, figsize=(16, 10))\n",
    "days_of_week = [u'Пн', u'Вт', u'Ср', u'Чт', u'Пт', u'Сб', u'Вс']\n",
    "\n",
    "# как вариант, можно и по-другому\n",
    "for idx, (user, sub_df) in  enumerate(pd.DataFrame.groupby(train_data_10users, 'user_id')): \n",
    "    axes[idx // 4][idx % 4].bar(sub_df['day_of_week'].value_counts().index, sub_df['day_of_week'].value_counts(), \n",
    "                                color = color_dic[user], label = user)\n",
    "    axes[idx // 4][idx % 4].set_xlabel(u'День недели')\n",
    "    axes[idx // 4][idx % 4].set_ylabel(u'Количество сессий, шт.')\n",
    "    axes[idx // 4][idx % 4].set_xticks(range(7))\n",
    "    axes[idx // 4][idx % 4].set_xticklabels(days_of_week)\n",
    "    axes[idx // 4][idx % 4].legend()"
   ]
  },
  {
   "cell_type": "markdown",
   "metadata": {},
   "source": [
    "**8. Сделайте выводы про каждого пользователя по построенным графикам.**"
   ]
  },
  {
   "cell_type": "markdown",
   "metadata": {},
   "source": [
    "#### User № 39 Ashley\n",
    "\n",
    "Пользователь ID 39 за сессию преимущественно посещяет свыше 6 различных сайтов.<br>\n",
    "Количество уникальных сайтов в сессии: \n",
    "<ul> \n",
    "    <li>с наибольшей частотой – 7, 8 (в абс. величинах – порядка 400 сессий);\n",
    "    <li>с наименьший частотой – 2, 3 (в абс. величинах – менее 100 сессий).\n",
    "</ul>\n",
    "Интервал работы с интернетом с 8 до 17 ч. Наибольшая активность приурочена к интервалам с 8 до 11 ч. и с 14 до 16 ч. Максимальная актиность в 10 ч. (в абс. величинах – порядка 450 сессий), минимальная - в 17 ч. (в абс. величинах – менее 10 сессий).\n",
    "Наибольшая активность пользования интернетом в течении недели приходится на среду (в абс. величинах – более 1000 сессий), наименьшая – на пятницу (в абс. величинах – порядка 100 сессий). Суббота и воскресенье – дни с отсутствием активности.\n",
    "\n",
    "#### User №237 Avril\n",
    "\n",
    "Пользователь ID 237 за сессию преимущественно посещяет свыше 4 различных сайтов.<br>\n",
    "Количество уникальных сайтов в сессии: \n",
    "<ul> \n",
    "    <li>с наибольшей частотой – 6 (в абс. величинах – порядка 300 сессий);\n",
    "    <li>с наименьший частотой – 1 (в абс. величинах – менее 25 сессий).\n",
    "</ul>\n",
    "Интервал работы с интернетом с 9 до 23 ч. Наибольшая активность приурочена к интервалам с 13 до 14 ч. и с 16 до 19 ч. Максимальная актиность в 14 ч. (в абс. величинах – порядка 300 сессий), минимальная - в 21 ч. (в абс. величинах – порядка 20 сессий).\n",
    "На протяжении всей недели пользователь использует интернет. Наибольшая активность пользования интернетом в течении недели приходится на вторник (в абс. величинах – более 400 сессий), наименьшая – на пятницу (в абс. величинах – порядка 90 сессий). \n",
    "\n",
    "#### User № 50 Bill\n",
    "\n",
    "Пользователь ID 50 за сессию преимущественно посещяет свыше 5 различных сайтов.<br>\n",
    "Количество уникальных сайтов в сессии: \n",
    "<ul> \n",
    "    <li>с наибольшей частотой – 8 (в абс. величинах – порядка 150 сессий);\n",
    "    <li>с наименьший частотой – 2 (в абс. величинах – менее 15 сессий).\n",
    "</ul>\n",
    "Интервал работы с интернетом с 8 до 23 ч. Наибольшая активность приурочена к интервалам с 8 до 9 ч. и с 14 до 18 ч. Низкая активность приурочена к интервалам с 10 до 12 ч. и с 19 до 23 ч. Максимальная актиность в 15 ч. (в абс. величинах – порядка 220 сессий), минимальная - в 10, 12 и 20 ч (в абс. величинах – менее 10 сессий).\n",
    "На протяжении всей недели пользователь использует интернет. Наибольшая активность пользования интернетом в течении недели приходится на понедельник (в абс. величинах – порядка 300 сессий), наименьшая – на субботу (в абс. величинах – порядка 10 сессий).\n",
    "\n",
    "#### User № 33 Bob\n",
    "\n",
    "Пользователь ID 33 за сессию преимущественно посещяет свыше 4 различных сайтов.<br>\n",
    "Количество уникальных сайтов в сессии: \n",
    "<ul> \n",
    "    <li>с наибольшей частотой – 6 (в абс. величинах – порядка 170 сессий);\n",
    "    <li>с наименьший частотой – 1 (в абс. величинах – менее 25 сессий).\n",
    "</ul>\n",
    "Интервал работы с интернетом с 8 до 19 ч. Наибольшая активность приурочена к интервалам с 9 до 11 ч. и в 15 ч. Низкая активность приурочена к 13 ч. и с 16 до 19 ч. Максимальная актиность в 10 ч. (в абс. величинах – порядка 250 сессий), минимальная - в 19 ч. (в абс. величинах – менее 10 сессий).\n",
    "Наибольшая активность пользования интернетом в течении недели приходится на пятницу (в абс. величинах – порядка 320 сессий), наименьшая – на понедельник (в абс. величинах – порядка 50 сессий). Суббота и воскресенье – дни с отсутствием активности.\n",
    "\n",
    "#### User № 100 Dick\n",
    "\n",
    "Пользователь ID 100 за сессию преимущественно посещяет свыше 5 различных сайтов.<br>\n",
    "Количество уникальных сайтов в сессии: \n",
    "<ul> \n",
    "    <li>с наибольшей частотой – 2 (в абс. величинах – порядка 150 сессий);\n",
    "    <li>с наименьший частотой – 1 (в абс. величинах – менее 10 сессий).\n",
    "</ul>\n",
    "Интервал работы с интернетом с 8 до 23 ч. Наибольшая активность приурочена к интервалам с 8 до 12 ч., с 14 до 17 ч., с 20 до 22 ч. Низкая активность приурочена к 13 ч. и с 18 до 19 ч. Максимальная актиность в 16 ч. (в абс. величинах – порядка 90 сессий), минимальная - в 19 ч. (в абс. величинах – порядка 10 сессий).\n",
    "Наибольшая активность пользования интернетом в течении недели приходится на субботу (в абс. величинах – более 330 сессий), наименьшая – на четверг (в абс. величинах – менее 10 сессий). В понедельник отсутствует активность.\n",
    "\n",
    "#### User № 241 Ed\n",
    "\n",
    "Пользователь ID 241 за сессию преимущественно посещяет свыше 4 различных сайтов.<br>\n",
    "Количество уникальных сайтов в сессии: \n",
    "<ul> \n",
    "    <li>с наибольшей частотой – 7, 8 (в абс. величинах – порядка 100 сессий);\n",
    "    <li>с наименьший частотой – 1 (в абс. величинах – менее 10 сессий).\n",
    "</ul>\n",
    "Интервал работы с интернетом с 8 до 23 ч. Наибольшая активность приурочена к интервалу с 15 до 17 ч. Низкая активность приурочена с 8 до 9 ч. и с 22 до 23 ч. Максимальная актиность в 16 ч. (в абс. величинах – порядка 120 сессий), минимальная - в 22 ч. (в абс. величинах – менее 10 сессий).\n",
    "Наибольшая активность пользования интернетом в течении недели приходится на среду (в абс. величинах – более 220 сессий), наименьшая – на понедельник (в абс. величинах – менее 10 сессий). В пятницу отсутствует активность.\n",
    "\n",
    "#### User № 31 John\n",
    "\n",
    "Пользователь ID 31 за сессию преимущественно посещяет свыше 5 различных сайтов.<br>\n",
    "Количество уникальных сайтов в сессии: \n",
    "<ul> \n",
    "    <li>с наибольшей частотой – 7 (в абс. величинах – порядка 160 сессий);\n",
    "    <li>с наименьший частотой – 2 (в абс. величинах – порядка 10 сессий).\n",
    "</ul>\n",
    "Интервал работы с интернетом с 8 до 23 ч. Наибольшая активность приурочена к интервалу с 10 до 17 ч. Низкая активность приурочена к 8 ч. и с 18 до 23 ч. Максимальная актиность в 15 ч. (в абс. величинах – порядка 150 сессий), минимальная - в 19, 22 ч. (в абс. величинах – менее 10 сессий).\n",
    "Наибольшая активность пользования интернетом в течении недели приходится на пятницу (в абс. величинах – порядка 260 сессий), наименьшая – на субботу (в абс. величинах – менее 10 сессий). В воскресенье отсутствует активность.\n",
    "\n",
    "#### User № 207 Lindsey.\n",
    "\n",
    "Пользователь ID 207 за сессию преимущественно посещяет свыше 4 различных сайтов.<br>\n",
    "Количество уникальных сайтов в сессии: \n",
    "<ul> \n",
    "    <li>с наибольшей частотой – 7 (в абс. величинах – порядка 370 сессий);\n",
    "    <li>с наименьший частотой – 1 (в абс. величинах – менее 10 сессий).\n",
    "</ul>\n",
    "Интервал работы с интернетом с 8 до 22 ч. Наибольшая активность приурочена к интервалу с 8 до 18 ч. Низкая активность приурочена к интервалу с 19 до 22 ч. Максимальная актиность в 12 и 14 ч. (в абс. величинах – порядка 400 сессий), минимальная - в 19 ч. (в абс. величинах – 0 сессий).\n",
    "На протяжении всей недели пользователь использует интернет. Наибольшая активность пользования интернетом в течении недели приходится на вторник (в абс. величинах – порядка 700 сессий), наименьшая – на субботу (в абс. величинах – порядка 30 сессий).\n",
    "\n",
    "#### User № 128 Mary-Kate\n",
    "\n",
    "Пользователь ID 128 за сессию преимущественно посещяет менее 6 различных сайтов.<br>\n",
    "Количество уникальных сайтов в сессии: \n",
    "<ul> \n",
    "    <li>с наибольшей частотой – 2 (в абс. величинах – порядка 700 сессий);\n",
    "    <li>с наименьший частотой (исключая вариант 1) – 1 (в абс. величинах – менее 20 сессий).\n",
    "</ul>\n",
    "Интервал работы с интернетом с 8 до 23 ч. Наибольшая активность приурочена к интервалу с 9 до 22 ч. Максимальная актиность в 20 ч. (в абс. величинах – порядка 330 сессий), минимальная - в 23 ч. (в абс. величинах – порядка 10 сессий).\n",
    "На протяжении всей недели пользователь использует интернет. Наибольшая активность пользования интернетом в течении недели приходится на субботу (в абс. величинах – порядка 700 сессий), наименьшая – на понедельник (в абс. величинах – порядка 160 сессий).\n",
    "\n",
    "#### User № 127 Naomi\n",
    "\n",
    "Пользователь ID 127 за сессию преимущественно посещяет менее 4 различных сайтов.<br>\n",
    "Количество уникальных сайтов в сессии: \n",
    "<ul> \n",
    "    <li>с наибольшей частотой – 6 (в абс. величинах – порядка 300 сессий);\n",
    "    <li>с наименьший частотой – 1 (в абс. величинах – порядка 50 сессий).\n",
    "</ul>\n",
    "Интервал работы с интернетом с 7 до 23 ч. Наибольшая активность приурочена к интервалу с 12 до 17 ч. Низкая активность приурочена к интервалам с 7 до 8 ч. и с 18 до 19 ч. Максимальная актиность в 14 ч. (в абс. величинах – порядка 350 сессий), минимальная - в 7, 8 и 18 ч. (в абс. величинах – менее 10 сессий).\n",
    "На протяжении всей недели пользователь использует интернет. Наибольшая активность пользования интернетом в течении недели приходится на четверг (в абс. величинах – порядка 500 сессий), наименьшая – на воскресенье (в абс. величинах – порядка 80 сессий)."
   ]
  },
  {
   "cell_type": "markdown",
   "metadata": {},
   "source": [
    "**Загрузите сохраненный ранее в pickle-файл частотный словарь сайтов для 10 пользователей. **"
   ]
  },
  {
   "cell_type": "code",
   "execution_count": 29,
   "metadata": {},
   "outputs": [],
   "source": [
    "with open(os.path.join(PATH_TO_DATA,'site_freq_10users.pkl'), 'rb') as SFD_pkl:\n",
    "        dic_site_freq_10users = pickle.Unpickler(SFD_pkl).load()"
   ]
  },
  {
   "cell_type": "markdown",
   "metadata": {},
   "source": [
    "**Определите топ-10 самых посещаемых сайтов (*top10_sites*) и соответствующие кол-ва посещений (*top10_freqs*).**"
   ]
  },
  {
   "cell_type": "code",
   "execution_count": 30,
   "metadata": {},
   "outputs": [],
   "source": [
    "import operator"
   ]
  },
  {
   "cell_type": "code",
   "execution_count": 31,
   "metadata": {},
   "outputs": [],
   "source": [
    "sorted_x = sorted(dic_site_freq_10users.items(), key=lambda e: e[1][1], reverse=True)\n",
    "\n",
    "top10_freqs = [x[1][1] for x in sorted_x[:10]]\n",
    "top10_sites = [x[0] for x in sorted_x[:10]]"
   ]
  },
  {
   "cell_type": "markdown",
   "metadata": {},
   "source": [
    "**9. Нарисуйте *seaborn barplot*, показывающий частоты посещений топ-10 сайтов. Сделайте подписи сайтов вертикальными, иначе они сливаются (*xticks*).**"
   ]
  },
  {
   "cell_type": "code",
   "execution_count": 32,
   "metadata": {},
   "outputs": [
    {
     "data": {
      "image/png": "[encoded data removed]",
      "text/plain": [
       "<Figure size 432x288 with 1 Axes>"
      ]
     },
     "metadata": {
      "needs_background": "light"
     },
     "output_type": "display_data"
    }
   ],
   "source": [
    "ax = sns.barplot(x = top10_sites, y = top10_freqs)\n",
    "ax = ax.set_xticklabels(ax.get_xticklabels(), rotation=90)"
   ]
  },
  {
   "cell_type": "markdown",
   "metadata": {},
   "source": [
    "## Часть 3. Дальнейшее построение признаков"
   ]
  },
  {
   "cell_type": "markdown",
   "metadata": {},
   "source": [
    "Это задание творческое, тут надо придумать, как еще учесть время посещения веб-страниц и прочие признаки. \n",
    "\n",
    "На следующей неделе мы будем использовать \"мешок\" сайтов  для классификации сессий по принадлежности разным пользователям, а эти новые признаки, которые Вы сейчас создадите, потом добавим и посмотрим, улучшается ли модель. Поэтому можно их создать в виде отдельных матриц и сохранить их также отдельно.  \n",
    "\n",
    "В этой части задания Вы можете построить и визуально исследовать самые разные признаки (ничто фантазию не ограничивает):\n",
    "- год, месяц и день начала сессии\n",
    "- час начала сессии (с учетом года, месяца и дня)\n",
    "- время суток\n",
    "- среднее время пребывания на сайте, посчитать можно, скажем, для топ-30 популярных сайтов\n",
    "- индикаторы посещения популярных сайтов (скажем, тоже для топ-30 популярных сайтов)\n",
    "- частота посещения Facebook\n",
    "- ..."
   ]
  },
  {
   "cell_type": "markdown",
   "metadata": {},
   "source": [
    "**Напишите функцию для создания новых признаков и примените ее к исходным данным – каталогам с 10 и 150 файлами. Сделайте это только для набора данных, полученного с параметрами *session_length=10* и *window_size=10*. Сериализуйте полученные матрицы с помощью pickle. Функция может возвращать как только новые признаки, так и старые с новыми. При этом сигнатура функции может быть другой – тут уже свобода выбора.**"
   ]
  },
  {
   "cell_type": "code",
   "execution_count": 33,
   "metadata": {},
   "outputs": [],
   "source": [
    "with open(os.path.join(PATH_TO_DATA,'site_freq_3users.pkl'), 'rb') as SFD_pkl:\n",
    "        dic_site_freq_3users = pickle.Unpickler(SFD_pkl).load()"
   ]
  },
  {
   "cell_type": "code",
   "execution_count": 34,
   "metadata": {},
   "outputs": [],
   "source": [
    "#Функция для оценки времени суток\n",
    "def Part_of_Day(x):\n",
    "    if (x > 4) and (x <= 8):\n",
    "        #'Early Morning'\n",
    "        return 1\n",
    "    elif (x > 8) and (x <= 12 ):\n",
    "        #'Morning'\n",
    "        return 2\n",
    "    elif (x > 12) and (x <= 16):\n",
    "        #'Noon'\n",
    "        return 3\n",
    "    elif (x > 16) and (x <= 20) :\n",
    "        #'Eve'\n",
    "        return 4\n",
    "    elif (x > 20) and (x <= 24):\n",
    "        #'Night'\n",
    "        return 5\n",
    "    elif (x <= 4):\n",
    "        #'Late Night'\n",
    "        return 6"
   ]
  },
  {
   "cell_type": "code",
   "execution_count": 35,
   "metadata": {},
   "outputs": [],
   "source": [
    "def feature_engineering(path_to_csv_files, site_freq_path, features, session_length=10, window_size=10):\n",
    "    with open(site_freq_path, 'rb') as SFD_pkl:\n",
    "        Site_Freq_Dict = pickle.Unpickler(SFD_pkl).load()\n",
    "  \n",
    "    l = glob(path_to_csv_files+'/*.csv')\n",
    "    ListDataRes = []\n",
    "    \n",
    "    for i, NameCsvFile in tqdm(enumerate(l)):\n",
    "        user_x = pd.read_csv(NameCsvFile, header = 0, index_col = 0, parse_dates = True)\n",
    "        user_x['index_site'] = user_x['site'].map(lambda x: Site_Freq_Dict[x][0])\n",
    "        \n",
    "        k = 0\n",
    "        ListData = []\n",
    "\n",
    "        while (k*window_size) < len(user_x):\n",
    "            ListData.append([])\n",
    "            \n",
    "            #заполнение каждой сессии номерами сайтов из общего частотного словаря\n",
    "            for j in range(session_length):\n",
    "                if (k*window_size+j) < len(user_x):\n",
    "                    ListData[k].append(user_x['index_site'][k*window_size+j])\n",
    "                else:\n",
    "                    ListData[k].append(0)\n",
    "            \n",
    "            #Среднее время нахождения на сайте в пределах сессии\n",
    "            if (k*window_size+session_length) <= len(user_x):\n",
    "                ListData[k].append(pd.Timedelta(user_x.iloc[k*window_size+session_length-1].name\n",
    "                                                -user_x.iloc[k*window_size].name).seconds/session_length)\n",
    "            else: \n",
    "                ListData[k].append(pd.Timedelta(user_x.iloc[-1].name\n",
    "                                                -user_x.iloc[k*window_size].name).seconds/session_length)\n",
    "                        \n",
    "            #год, месяц, день неделиначала сессии            \n",
    "            ListData[k].append(user_x.iloc[k*window_size].name.year)\n",
    "            ListData[k].append(user_x.iloc[k*window_size].name.month)\n",
    "            ListData[k].append(user_x.iloc[k*window_size].name.weekday())\n",
    "            \n",
    "            #время суток начала сессии\n",
    "            ListData[k].append(Part_of_Day(user_x.iloc[k*window_size].name.hour))\n",
    "            \n",
    "            #расчет среднего времи пребывания на сайте из топ-30 за сессию\n",
    "            for q in range(1,31):\n",
    "                count = ListData[k][:session_length-1].count(q)\n",
    "                Sum_times_in_site = 0\n",
    "                for j in range(session_length):\n",
    "                    if q == ListData[k][j]:\n",
    "                        if (k*window_size+j+1) < len(user_x):\n",
    "                            Sum_times_in_site +=  pd.Timedelta(user_x.iloc[k*window_size+j+1].name-\n",
    "                                                        user_x.iloc[k*window_size+j].name).seconds\n",
    "                #среднее время пребывания на сайте за сессию\n",
    "                if count <> 0:\n",
    "                    ListData[k].append(Sum_times_in_site/count)\n",
    "                else:\n",
    "                    ListData[k].append(np.NaN)\n",
    "            #частота посещения сайта\n",
    "            for q in range(1,31):\n",
    "                ListData[k].append(ListData[k][:session_length-1].count(q)/session_length)\n",
    "            #частоты посещения сайтов фейсбука, ютуба, твиттера и гугла\n",
    "            Dop_Dic = ['www.facebook.com', 'www.youtube.com', 'www.twitter.com', 'www.google.com']\n",
    "                        \n",
    "            for q in Dop_Dic:\n",
    "                if (q in Site_Freq_Dict):        \n",
    "                    count += ListData[k][:session_length-1].count(Site_Freq_Dict[q][0])\n",
    "                elif (q[4:] in Site_Freq_Dict):#без префикса www \n",
    "                    count += ListData[k][:session_length-1].count(Site_Freq_Dict[q[4:]][0])\n",
    "                else:\n",
    "                    count = 0\n",
    "                ListData[k].append(count)\n",
    "                \n",
    "            #добавление номера юзера\n",
    "            ListData[k].append(int(NameCsvFile[-8:-4]))\n",
    "            k+=1\n",
    "            \n",
    "        ListDataRes += ListData\n",
    "        \n",
    "    DataRes = pd.DataFrame(ListDataRes, columns=features)\n",
    "                    \n",
    "    return DataRes"
   ]
  },
  {
   "cell_type": "code",
   "execution_count": 36,
   "metadata": {},
   "outputs": [],
   "source": [
    "features =  ['site_' + str(j) for j in range(1,11)] + \\\n",
    "            ['mean_time_diff','Start_Year', 'Start_Month', 'Start_Weekday', 'Part_of_Day'] + \\\n",
    "            ['aver_time_top_site_' + str(j) for j in range(1,31)] + \\\n",
    "            ['freq_top_site_' + str(j) for j in range(1,31)] + \\\n",
    "            ['count_facebook', 'count_youtube', 'count_twitter', 'count_google', 'user_id']"
   ]
  },
  {
   "cell_type": "code",
   "execution_count": 37,
   "metadata": {},
   "outputs": [
    {
     "name": "stderr",
     "output_type": "stream",
     "text": [
      "3it [00:00, 44.78it/s]\n"
     ]
    }
   ],
   "source": [
    "new_train_data_3users = feature_engineering(os.path.join(PATH_TO_DATA, \n",
    "                                                         '3users'), \n",
    "                  site_freq_path=os.path.join(PATH_TO_DATA, \n",
    "                                              'site_freq_3users.pkl'),\n",
    "                  features=features, session_length=10)"
   ]
  },
  {
   "cell_type": "code",
   "execution_count": 38,
   "metadata": {},
   "outputs": [
    {
     "data": {
      "text/html": [
       "<div>\n",
       "<style scoped>\n",
       "    .dataframe tbody tr th:only-of-type {\n",
       "        vertical-align: middle;\n",
       "    }\n",
       "\n",
       "    .dataframe tbody tr th {\n",
       "        vertical-align: top;\n",
       "    }\n",
       "\n",
       "    .dataframe thead th {\n",
       "        text-align: right;\n",
       "    }\n",
       "</style>\n",
       "<table border=\"1\" class=\"dataframe\">\n",
       "  <thead>\n",
       "    <tr style=\"text-align: right;\">\n",
       "      <th></th>\n",
       "      <th>site_1</th>\n",
       "      <th>site_2</th>\n",
       "      <th>site_3</th>\n",
       "      <th>site_4</th>\n",
       "      <th>site_5</th>\n",
       "      <th>site_6</th>\n",
       "      <th>site_7</th>\n",
       "      <th>site_8</th>\n",
       "      <th>site_9</th>\n",
       "      <th>site_10</th>\n",
       "      <th>mean_time_diff</th>\n",
       "      <th>Start_Year</th>\n",
       "      <th>...</th>\n",
       "      <th>freq_top_site_24</th>\n",
       "      <th>freq_top_site_25</th>\n",
       "      <th>freq_top_site_26</th>\n",
       "      <th>freq_top_site_27</th>\n",
       "      <th>freq_top_site_28</th>\n",
       "      <th>freq_top_site_29</th>\n",
       "      <th>freq_top_site_30</th>\n",
       "      <th>count_facebook</th>\n",
       "      <th>count_youtube</th>\n",
       "      <th>count_twitter</th>\n",
       "      <th>count_google</th>\n",
       "      <th>user_id</th>\n",
       "    </tr>\n",
       "  </thead>\n",
       "  <tbody>\n",
       "    <tr>\n",
       "      <th>0</th>\n",
       "      <td>4</td>\n",
       "      <td>2</td>\n",
       "      <td>2</td>\n",
       "      <td>9</td>\n",
       "      <td>2</td>\n",
       "      <td>1</td>\n",
       "      <td>11</td>\n",
       "      <td>6</td>\n",
       "      <td>10</td>\n",
       "      <td>8</td>\n",
       "      <td>799.8</td>\n",
       "      <td>2013</td>\n",
       "      <td>...</td>\n",
       "      <td>0.0</td>\n",
       "      <td>0.0</td>\n",
       "      <td>0.0</td>\n",
       "      <td>0.0</td>\n",
       "      <td>0.0</td>\n",
       "      <td>0.0</td>\n",
       "      <td>0.0</td>\n",
       "      <td>0</td>\n",
       "      <td>0</td>\n",
       "      <td>0</td>\n",
       "      <td>1</td>\n",
       "      <td>1</td>\n",
       "    </tr>\n",
       "    <tr>\n",
       "      <th>1</th>\n",
       "      <td>4</td>\n",
       "      <td>1</td>\n",
       "      <td>1</td>\n",
       "      <td>1</td>\n",
       "      <td>0</td>\n",
       "      <td>0</td>\n",
       "      <td>0</td>\n",
       "      <td>0</td>\n",
       "      <td>0</td>\n",
       "      <td>0</td>\n",
       "      <td>6.0</td>\n",
       "      <td>2013</td>\n",
       "      <td>...</td>\n",
       "      <td>0.0</td>\n",
       "      <td>0.0</td>\n",
       "      <td>0.0</td>\n",
       "      <td>0.0</td>\n",
       "      <td>0.0</td>\n",
       "      <td>0.0</td>\n",
       "      <td>0.0</td>\n",
       "      <td>0</td>\n",
       "      <td>0</td>\n",
       "      <td>0</td>\n",
       "      <td>3</td>\n",
       "      <td>1</td>\n",
       "    </tr>\n",
       "    <tr>\n",
       "      <th>2</th>\n",
       "      <td>4</td>\n",
       "      <td>2</td>\n",
       "      <td>5</td>\n",
       "      <td>5</td>\n",
       "      <td>2</td>\n",
       "      <td>0</td>\n",
       "      <td>0</td>\n",
       "      <td>0</td>\n",
       "      <td>0</td>\n",
       "      <td>0</td>\n",
       "      <td>793.5</td>\n",
       "      <td>2013</td>\n",
       "      <td>...</td>\n",
       "      <td>0.0</td>\n",
       "      <td>0.0</td>\n",
       "      <td>0.0</td>\n",
       "      <td>0.0</td>\n",
       "      <td>0.0</td>\n",
       "      <td>0.0</td>\n",
       "      <td>0.0</td>\n",
       "      <td>0</td>\n",
       "      <td>0</td>\n",
       "      <td>0</td>\n",
       "      <td>0</td>\n",
       "      <td>2</td>\n",
       "    </tr>\n",
       "    <tr>\n",
       "      <th>3</th>\n",
       "      <td>3</td>\n",
       "      <td>1</td>\n",
       "      <td>2</td>\n",
       "      <td>1</td>\n",
       "      <td>2</td>\n",
       "      <td>1</td>\n",
       "      <td>1</td>\n",
       "      <td>6</td>\n",
       "      <td>7</td>\n",
       "      <td>3</td>\n",
       "      <td>799.8</td>\n",
       "      <td>2013</td>\n",
       "      <td>...</td>\n",
       "      <td>0.0</td>\n",
       "      <td>0.0</td>\n",
       "      <td>0.0</td>\n",
       "      <td>0.0</td>\n",
       "      <td>0.0</td>\n",
       "      <td>0.0</td>\n",
       "      <td>0.0</td>\n",
       "      <td>0</td>\n",
       "      <td>0</td>\n",
       "      <td>0</td>\n",
       "      <td>4</td>\n",
       "      <td>3</td>\n",
       "    </tr>\n",
       "    <tr>\n",
       "      <th>4</th>\n",
       "      <td>3</td>\n",
       "      <td>1</td>\n",
       "      <td>2</td>\n",
       "      <td>0</td>\n",
       "      <td>0</td>\n",
       "      <td>0</td>\n",
       "      <td>0</td>\n",
       "      <td>0</td>\n",
       "      <td>0</td>\n",
       "      <td>0</td>\n",
       "      <td>147.1</td>\n",
       "      <td>2013</td>\n",
       "      <td>...</td>\n",
       "      <td>0.0</td>\n",
       "      <td>0.0</td>\n",
       "      <td>0.0</td>\n",
       "      <td>0.0</td>\n",
       "      <td>0.0</td>\n",
       "      <td>0.0</td>\n",
       "      <td>0.0</td>\n",
       "      <td>0</td>\n",
       "      <td>0</td>\n",
       "      <td>0</td>\n",
       "      <td>1</td>\n",
       "      <td>3</td>\n",
       "    </tr>\n",
       "  </tbody>\n",
       "</table>\n",
       "<p>5 rows × 80 columns</p>\n",
       "</div>"
      ],
      "text/plain": [
       "   site_1  site_2  site_3  site_4  site_5  site_6  site_7  site_8  site_9  \\\n",
       "0       4       2       2       9       2       1      11       6      10   \n",
       "1       4       1       1       1       0       0       0       0       0   \n",
       "2       4       2       5       5       2       0       0       0       0   \n",
       "3       3       1       2       1       2       1       1       6       7   \n",
       "4       3       1       2       0       0       0       0       0       0   \n",
       "\n",
       "   site_10  mean_time_diff  Start_Year  ...  freq_top_site_24  \\\n",
       "0        8           799.8        2013  ...               0.0   \n",
       "1        0             6.0        2013  ...               0.0   \n",
       "2        0           793.5        2013  ...               0.0   \n",
       "3        3           799.8        2013  ...               0.0   \n",
       "4        0           147.1        2013  ...               0.0   \n",
       "\n",
       "   freq_top_site_25  freq_top_site_26  freq_top_site_27  freq_top_site_28  \\\n",
       "0               0.0               0.0               0.0               0.0   \n",
       "1               0.0               0.0               0.0               0.0   \n",
       "2               0.0               0.0               0.0               0.0   \n",
       "3               0.0               0.0               0.0               0.0   \n",
       "4               0.0               0.0               0.0               0.0   \n",
       "\n",
       "   freq_top_site_29  freq_top_site_30  count_facebook  count_youtube  \\\n",
       "0               0.0               0.0               0              0   \n",
       "1               0.0               0.0               0              0   \n",
       "2               0.0               0.0               0              0   \n",
       "3               0.0               0.0               0              0   \n",
       "4               0.0               0.0               0              0   \n",
       "\n",
       "   count_twitter  count_google  user_id  \n",
       "0              0             1        1  \n",
       "1              0             3        1  \n",
       "2              0             0        2  \n",
       "3              0             4        3  \n",
       "4              0             1        3  \n",
       "\n",
       "[5 rows x 80 columns]"
      ]
     },
     "execution_count": 38,
     "metadata": {},
     "output_type": "execute_result"
    }
   ],
   "source": [
    "new_train_data_3users"
   ]
  },
  {
   "cell_type": "code",
   "execution_count": 39,
   "metadata": {},
   "outputs": [
    {
     "data": {
      "text/html": [
       "<div>\n",
       "<style scoped>\n",
       "    .dataframe tbody tr th:only-of-type {\n",
       "        vertical-align: middle;\n",
       "    }\n",
       "\n",
       "    .dataframe tbody tr th {\n",
       "        vertical-align: top;\n",
       "    }\n",
       "\n",
       "    .dataframe thead th {\n",
       "        text-align: right;\n",
       "    }\n",
       "</style>\n",
       "<table border=\"1\" class=\"dataframe\">\n",
       "  <thead>\n",
       "    <tr style=\"text-align: right;\">\n",
       "      <th></th>\n",
       "      <th>site_1</th>\n",
       "      <th>site_2</th>\n",
       "      <th>site_3</th>\n",
       "      <th>site_4</th>\n",
       "      <th>site_5</th>\n",
       "      <th>site_6</th>\n",
       "      <th>site_7</th>\n",
       "      <th>site_8</th>\n",
       "      <th>site_9</th>\n",
       "      <th>site_10</th>\n",
       "      <th>aver_time_top_site_1</th>\n",
       "      <th>aver_time_top_site_2</th>\n",
       "      <th>...</th>\n",
       "      <th>aver_time_top_site_19</th>\n",
       "      <th>aver_time_top_site_20</th>\n",
       "      <th>aver_time_top_site_21</th>\n",
       "      <th>aver_time_top_site_22</th>\n",
       "      <th>aver_time_top_site_23</th>\n",
       "      <th>aver_time_top_site_24</th>\n",
       "      <th>aver_time_top_site_25</th>\n",
       "      <th>aver_time_top_site_26</th>\n",
       "      <th>aver_time_top_site_27</th>\n",
       "      <th>aver_time_top_site_28</th>\n",
       "      <th>aver_time_top_site_29</th>\n",
       "      <th>aver_time_top_site_30</th>\n",
       "    </tr>\n",
       "  </thead>\n",
       "  <tbody>\n",
       "    <tr>\n",
       "      <th>0</th>\n",
       "      <td>4</td>\n",
       "      <td>2</td>\n",
       "      <td>2</td>\n",
       "      <td>9</td>\n",
       "      <td>2</td>\n",
       "      <td>1</td>\n",
       "      <td>11</td>\n",
       "      <td>6</td>\n",
       "      <td>10</td>\n",
       "      <td>8</td>\n",
       "      <td>1.000000</td>\n",
       "      <td>2488.0</td>\n",
       "      <td>...</td>\n",
       "      <td>NaN</td>\n",
       "      <td>NaN</td>\n",
       "      <td>NaN</td>\n",
       "      <td>NaN</td>\n",
       "      <td>NaN</td>\n",
       "      <td>NaN</td>\n",
       "      <td>NaN</td>\n",
       "      <td>NaN</td>\n",
       "      <td>NaN</td>\n",
       "      <td>NaN</td>\n",
       "      <td>NaN</td>\n",
       "      <td>NaN</td>\n",
       "    </tr>\n",
       "    <tr>\n",
       "      <th>1</th>\n",
       "      <td>4</td>\n",
       "      <td>1</td>\n",
       "      <td>1</td>\n",
       "      <td>1</td>\n",
       "      <td>0</td>\n",
       "      <td>0</td>\n",
       "      <td>0</td>\n",
       "      <td>0</td>\n",
       "      <td>0</td>\n",
       "      <td>0</td>\n",
       "      <td>19.333333</td>\n",
       "      <td>NaN</td>\n",
       "      <td>...</td>\n",
       "      <td>NaN</td>\n",
       "      <td>NaN</td>\n",
       "      <td>NaN</td>\n",
       "      <td>NaN</td>\n",
       "      <td>NaN</td>\n",
       "      <td>NaN</td>\n",
       "      <td>NaN</td>\n",
       "      <td>NaN</td>\n",
       "      <td>NaN</td>\n",
       "      <td>NaN</td>\n",
       "      <td>NaN</td>\n",
       "      <td>NaN</td>\n",
       "    </tr>\n",
       "    <tr>\n",
       "      <th>2</th>\n",
       "      <td>4</td>\n",
       "      <td>2</td>\n",
       "      <td>5</td>\n",
       "      <td>5</td>\n",
       "      <td>2</td>\n",
       "      <td>0</td>\n",
       "      <td>0</td>\n",
       "      <td>0</td>\n",
       "      <td>0</td>\n",
       "      <td>0</td>\n",
       "      <td>NaN</td>\n",
       "      <td>592.0</td>\n",
       "      <td>...</td>\n",
       "      <td>NaN</td>\n",
       "      <td>NaN</td>\n",
       "      <td>NaN</td>\n",
       "      <td>NaN</td>\n",
       "      <td>NaN</td>\n",
       "      <td>NaN</td>\n",
       "      <td>NaN</td>\n",
       "      <td>NaN</td>\n",
       "      <td>NaN</td>\n",
       "      <td>NaN</td>\n",
       "      <td>NaN</td>\n",
       "      <td>NaN</td>\n",
       "    </tr>\n",
       "    <tr>\n",
       "      <th>3</th>\n",
       "      <td>3</td>\n",
       "      <td>1</td>\n",
       "      <td>2</td>\n",
       "      <td>1</td>\n",
       "      <td>2</td>\n",
       "      <td>1</td>\n",
       "      <td>1</td>\n",
       "      <td>6</td>\n",
       "      <td>7</td>\n",
       "      <td>3</td>\n",
       "      <td>343.250000</td>\n",
       "      <td>3140.0</td>\n",
       "      <td>...</td>\n",
       "      <td>NaN</td>\n",
       "      <td>NaN</td>\n",
       "      <td>NaN</td>\n",
       "      <td>NaN</td>\n",
       "      <td>NaN</td>\n",
       "      <td>NaN</td>\n",
       "      <td>NaN</td>\n",
       "      <td>NaN</td>\n",
       "      <td>NaN</td>\n",
       "      <td>NaN</td>\n",
       "      <td>NaN</td>\n",
       "      <td>NaN</td>\n",
       "    </tr>\n",
       "    <tr>\n",
       "      <th>4</th>\n",
       "      <td>3</td>\n",
       "      <td>1</td>\n",
       "      <td>2</td>\n",
       "      <td>0</td>\n",
       "      <td>0</td>\n",
       "      <td>0</td>\n",
       "      <td>0</td>\n",
       "      <td>0</td>\n",
       "      <td>0</td>\n",
       "      <td>0</td>\n",
       "      <td>1184.000000</td>\n",
       "      <td>0.0</td>\n",
       "      <td>...</td>\n",
       "      <td>NaN</td>\n",
       "      <td>NaN</td>\n",
       "      <td>NaN</td>\n",
       "      <td>NaN</td>\n",
       "      <td>NaN</td>\n",
       "      <td>NaN</td>\n",
       "      <td>NaN</td>\n",
       "      <td>NaN</td>\n",
       "      <td>NaN</td>\n",
       "      <td>NaN</td>\n",
       "      <td>NaN</td>\n",
       "      <td>NaN</td>\n",
       "    </tr>\n",
       "  </tbody>\n",
       "</table>\n",
       "<p>5 rows × 40 columns</p>\n",
       "</div>"
      ],
      "text/plain": [
       "   site_1  site_2  site_3  site_4  site_5  site_6  site_7  site_8  site_9  \\\n",
       "0       4       2       2       9       2       1      11       6      10   \n",
       "1       4       1       1       1       0       0       0       0       0   \n",
       "2       4       2       5       5       2       0       0       0       0   \n",
       "3       3       1       2       1       2       1       1       6       7   \n",
       "4       3       1       2       0       0       0       0       0       0   \n",
       "\n",
       "   site_10  aver_time_top_site_1  aver_time_top_site_2  ...  \\\n",
       "0        8              1.000000                2488.0  ...   \n",
       "1        0             19.333333                   NaN  ...   \n",
       "2        0                   NaN                 592.0  ...   \n",
       "3        3            343.250000                3140.0  ...   \n",
       "4        0           1184.000000                   0.0  ...   \n",
       "\n",
       "   aver_time_top_site_19  aver_time_top_site_20  aver_time_top_site_21  \\\n",
       "0                    NaN                    NaN                    NaN   \n",
       "1                    NaN                    NaN                    NaN   \n",
       "2                    NaN                    NaN                    NaN   \n",
       "3                    NaN                    NaN                    NaN   \n",
       "4                    NaN                    NaN                    NaN   \n",
       "\n",
       "   aver_time_top_site_22  aver_time_top_site_23  aver_time_top_site_24  \\\n",
       "0                    NaN                    NaN                    NaN   \n",
       "1                    NaN                    NaN                    NaN   \n",
       "2                    NaN                    NaN                    NaN   \n",
       "3                    NaN                    NaN                    NaN   \n",
       "4                    NaN                    NaN                    NaN   \n",
       "\n",
       "   aver_time_top_site_25  aver_time_top_site_26  aver_time_top_site_27  \\\n",
       "0                    NaN                    NaN                    NaN   \n",
       "1                    NaN                    NaN                    NaN   \n",
       "2                    NaN                    NaN                    NaN   \n",
       "3                    NaN                    NaN                    NaN   \n",
       "4                    NaN                    NaN                    NaN   \n",
       "\n",
       "   aver_time_top_site_28  aver_time_top_site_29  aver_time_top_site_30  \n",
       "0                    NaN                    NaN                    NaN  \n",
       "1                    NaN                    NaN                    NaN  \n",
       "2                    NaN                    NaN                    NaN  \n",
       "3                    NaN                    NaN                    NaN  \n",
       "4                    NaN                    NaN                    NaN  \n",
       "\n",
       "[5 rows x 40 columns]"
      ]
     },
     "execution_count": 39,
     "metadata": {},
     "output_type": "execute_result"
    }
   ],
   "source": [
    "new_train_data_3users[['site_' + str(j) for j in range(1,11)] + \\\n",
    "                    ['aver_time_top_site_' + str(j) for j in range(1,31)]]"
   ]
  },
  {
   "cell_type": "code",
   "execution_count": 40,
   "metadata": {},
   "outputs": [
    {
     "data": {
      "text/html": [
       "<div>\n",
       "<style scoped>\n",
       "    .dataframe tbody tr th:only-of-type {\n",
       "        vertical-align: middle;\n",
       "    }\n",
       "\n",
       "    .dataframe tbody tr th {\n",
       "        vertical-align: top;\n",
       "    }\n",
       "\n",
       "    .dataframe thead th {\n",
       "        text-align: right;\n",
       "    }\n",
       "</style>\n",
       "<table border=\"1\" class=\"dataframe\">\n",
       "  <thead>\n",
       "    <tr style=\"text-align: right;\">\n",
       "      <th></th>\n",
       "      <th>site_1</th>\n",
       "      <th>site_2</th>\n",
       "      <th>site_3</th>\n",
       "      <th>site_4</th>\n",
       "      <th>site_5</th>\n",
       "      <th>site_6</th>\n",
       "      <th>site_7</th>\n",
       "      <th>site_8</th>\n",
       "      <th>site_9</th>\n",
       "      <th>site_10</th>\n",
       "      <th>Start_Year</th>\n",
       "      <th>Start_Month</th>\n",
       "      <th>Start_Weekday</th>\n",
       "      <th>Part_of_Day</th>\n",
       "    </tr>\n",
       "  </thead>\n",
       "  <tbody>\n",
       "    <tr>\n",
       "      <th>0</th>\n",
       "      <td>4</td>\n",
       "      <td>2</td>\n",
       "      <td>2</td>\n",
       "      <td>9</td>\n",
       "      <td>2</td>\n",
       "      <td>1</td>\n",
       "      <td>11</td>\n",
       "      <td>6</td>\n",
       "      <td>10</td>\n",
       "      <td>8</td>\n",
       "      <td>2013</td>\n",
       "      <td>11</td>\n",
       "      <td>4</td>\n",
       "      <td>2</td>\n",
       "    </tr>\n",
       "    <tr>\n",
       "      <th>1</th>\n",
       "      <td>4</td>\n",
       "      <td>1</td>\n",
       "      <td>1</td>\n",
       "      <td>1</td>\n",
       "      <td>0</td>\n",
       "      <td>0</td>\n",
       "      <td>0</td>\n",
       "      <td>0</td>\n",
       "      <td>0</td>\n",
       "      <td>0</td>\n",
       "      <td>2013</td>\n",
       "      <td>11</td>\n",
       "      <td>4</td>\n",
       "      <td>2</td>\n",
       "    </tr>\n",
       "    <tr>\n",
       "      <th>2</th>\n",
       "      <td>4</td>\n",
       "      <td>2</td>\n",
       "      <td>5</td>\n",
       "      <td>5</td>\n",
       "      <td>2</td>\n",
       "      <td>0</td>\n",
       "      <td>0</td>\n",
       "      <td>0</td>\n",
       "      <td>0</td>\n",
       "      <td>0</td>\n",
       "      <td>2013</td>\n",
       "      <td>11</td>\n",
       "      <td>4</td>\n",
       "      <td>2</td>\n",
       "    </tr>\n",
       "    <tr>\n",
       "      <th>3</th>\n",
       "      <td>3</td>\n",
       "      <td>1</td>\n",
       "      <td>2</td>\n",
       "      <td>1</td>\n",
       "      <td>2</td>\n",
       "      <td>1</td>\n",
       "      <td>1</td>\n",
       "      <td>6</td>\n",
       "      <td>7</td>\n",
       "      <td>3</td>\n",
       "      <td>2013</td>\n",
       "      <td>11</td>\n",
       "      <td>4</td>\n",
       "      <td>2</td>\n",
       "    </tr>\n",
       "    <tr>\n",
       "      <th>4</th>\n",
       "      <td>3</td>\n",
       "      <td>1</td>\n",
       "      <td>2</td>\n",
       "      <td>0</td>\n",
       "      <td>0</td>\n",
       "      <td>0</td>\n",
       "      <td>0</td>\n",
       "      <td>0</td>\n",
       "      <td>0</td>\n",
       "      <td>0</td>\n",
       "      <td>2013</td>\n",
       "      <td>11</td>\n",
       "      <td>4</td>\n",
       "      <td>2</td>\n",
       "    </tr>\n",
       "  </tbody>\n",
       "</table>\n",
       "</div>"
      ],
      "text/plain": [
       "   site_1  site_2  site_3  site_4  site_5  site_6  site_7  site_8  site_9  \\\n",
       "0       4       2       2       9       2       1      11       6      10   \n",
       "1       4       1       1       1       0       0       0       0       0   \n",
       "2       4       2       5       5       2       0       0       0       0   \n",
       "3       3       1       2       1       2       1       1       6       7   \n",
       "4       3       1       2       0       0       0       0       0       0   \n",
       "\n",
       "   site_10  Start_Year  Start_Month  Start_Weekday  Part_of_Day  \n",
       "0        8        2013           11              4            2  \n",
       "1        0        2013           11              4            2  \n",
       "2        0        2013           11              4            2  \n",
       "3        3        2013           11              4            2  \n",
       "4        0        2013           11              4            2  "
      ]
     },
     "execution_count": 40,
     "metadata": {},
     "output_type": "execute_result"
    }
   ],
   "source": [
    "new_train_data_3users[['site_' + str(j) for j in range(1,11)] + \\\n",
    "                    ['Start_Year', 'Start_Month', 'Start_Weekday', 'Part_of_Day']]"
   ]
  },
  {
   "cell_type": "code",
   "execution_count": 41,
   "metadata": {},
   "outputs": [
    {
     "name": "stderr",
     "output_type": "stream",
     "text": [
      "10it [01:04,  6.58s/it]\n"
     ]
    }
   ],
   "source": [
    "new_train_data_10users = feature_engineering(os.path.join(PATH_TO_DATA, \n",
    "                                                         '10users'), \n",
    "                  site_freq_path=os.path.join(PATH_TO_DATA, \n",
    "                                              'site_freq_10users.pkl'),\n",
    "                  features=features, session_length=10)"
   ]
  },
  {
   "cell_type": "code",
   "execution_count": 42,
   "metadata": {
    "scrolled": true
   },
   "outputs": [
    {
     "data": {
      "text/html": [
       "<div>\n",
       "<style scoped>\n",
       "    .dataframe tbody tr th:only-of-type {\n",
       "        vertical-align: middle;\n",
       "    }\n",
       "\n",
       "    .dataframe tbody tr th {\n",
       "        vertical-align: top;\n",
       "    }\n",
       "\n",
       "    .dataframe thead th {\n",
       "        text-align: right;\n",
       "    }\n",
       "</style>\n",
       "<table border=\"1\" class=\"dataframe\">\n",
       "  <thead>\n",
       "    <tr style=\"text-align: right;\">\n",
       "      <th></th>\n",
       "      <th>site_1</th>\n",
       "      <th>site_2</th>\n",
       "      <th>site_3</th>\n",
       "      <th>site_4</th>\n",
       "      <th>site_5</th>\n",
       "      <th>site_6</th>\n",
       "      <th>site_7</th>\n",
       "      <th>site_8</th>\n",
       "      <th>site_9</th>\n",
       "      <th>site_10</th>\n",
       "      <th>mean_time_diff</th>\n",
       "      <th>Start_Year</th>\n",
       "      <th>...</th>\n",
       "      <th>freq_top_site_24</th>\n",
       "      <th>freq_top_site_25</th>\n",
       "      <th>freq_top_site_26</th>\n",
       "      <th>freq_top_site_27</th>\n",
       "      <th>freq_top_site_28</th>\n",
       "      <th>freq_top_site_29</th>\n",
       "      <th>freq_top_site_30</th>\n",
       "      <th>count_facebook</th>\n",
       "      <th>count_youtube</th>\n",
       "      <th>count_twitter</th>\n",
       "      <th>count_google</th>\n",
       "      <th>user_id</th>\n",
       "    </tr>\n",
       "  </thead>\n",
       "  <tbody>\n",
       "    <tr>\n",
       "      <th>0</th>\n",
       "      <td>193</td>\n",
       "      <td>575</td>\n",
       "      <td>134</td>\n",
       "      <td>3</td>\n",
       "      <td>134</td>\n",
       "      <td>134</td>\n",
       "      <td>3</td>\n",
       "      <td>134</td>\n",
       "      <td>203</td>\n",
       "      <td>134</td>\n",
       "      <td>3.3</td>\n",
       "      <td>2013</td>\n",
       "      <td>...</td>\n",
       "      <td>0.0</td>\n",
       "      <td>0.0</td>\n",
       "      <td>0.0</td>\n",
       "      <td>0.0</td>\n",
       "      <td>0.0</td>\n",
       "      <td>0.0</td>\n",
       "      <td>0.0</td>\n",
       "      <td>0</td>\n",
       "      <td>0</td>\n",
       "      <td>0</td>\n",
       "      <td>2</td>\n",
       "      <td>31</td>\n",
       "    </tr>\n",
       "    <tr>\n",
       "      <th>1</th>\n",
       "      <td>417</td>\n",
       "      <td>192</td>\n",
       "      <td>698</td>\n",
       "      <td>254</td>\n",
       "      <td>134</td>\n",
       "      <td>31</td>\n",
       "      <td>396</td>\n",
       "      <td>3673</td>\n",
       "      <td>221</td>\n",
       "      <td>55</td>\n",
       "      <td>28.4</td>\n",
       "      <td>2013</td>\n",
       "      <td>...</td>\n",
       "      <td>0.0</td>\n",
       "      <td>0.0</td>\n",
       "      <td>0.0</td>\n",
       "      <td>0.0</td>\n",
       "      <td>0.0</td>\n",
       "      <td>0.0</td>\n",
       "      <td>0.0</td>\n",
       "      <td>0</td>\n",
       "      <td>0</td>\n",
       "      <td>0</td>\n",
       "      <td>0</td>\n",
       "      <td>31</td>\n",
       "    </tr>\n",
       "    <tr>\n",
       "      <th>2</th>\n",
       "      <td>55</td>\n",
       "      <td>3</td>\n",
       "      <td>55</td>\n",
       "      <td>55</td>\n",
       "      <td>5</td>\n",
       "      <td>294</td>\n",
       "      <td>417</td>\n",
       "      <td>336</td>\n",
       "      <td>912</td>\n",
       "      <td>55</td>\n",
       "      <td>25.8</td>\n",
       "      <td>2013</td>\n",
       "      <td>...</td>\n",
       "      <td>0.0</td>\n",
       "      <td>0.0</td>\n",
       "      <td>0.0</td>\n",
       "      <td>0.0</td>\n",
       "      <td>0.0</td>\n",
       "      <td>0.0</td>\n",
       "      <td>0.0</td>\n",
       "      <td>1</td>\n",
       "      <td>1</td>\n",
       "      <td>1</td>\n",
       "      <td>2</td>\n",
       "      <td>31</td>\n",
       "    </tr>\n",
       "    <tr>\n",
       "      <th>3</th>\n",
       "      <td>476</td>\n",
       "      <td>3875</td>\n",
       "      <td>476</td>\n",
       "      <td>55</td>\n",
       "      <td>55</td>\n",
       "      <td>55</td>\n",
       "      <td>55</td>\n",
       "      <td>965</td>\n",
       "      <td>202</td>\n",
       "      <td>124</td>\n",
       "      <td>3.0</td>\n",
       "      <td>2013</td>\n",
       "      <td>...</td>\n",
       "      <td>0.0</td>\n",
       "      <td>0.0</td>\n",
       "      <td>0.0</td>\n",
       "      <td>0.0</td>\n",
       "      <td>0.0</td>\n",
       "      <td>0.0</td>\n",
       "      <td>0.0</td>\n",
       "      <td>0</td>\n",
       "      <td>0</td>\n",
       "      <td>0</td>\n",
       "      <td>0</td>\n",
       "      <td>31</td>\n",
       "    </tr>\n",
       "    <tr>\n",
       "      <th>4</th>\n",
       "      <td>344</td>\n",
       "      <td>55</td>\n",
       "      <td>5</td>\n",
       "      <td>3667</td>\n",
       "      <td>258</td>\n",
       "      <td>211</td>\n",
       "      <td>4046</td>\n",
       "      <td>2323</td>\n",
       "      <td>697</td>\n",
       "      <td>2323</td>\n",
       "      <td>0.6</td>\n",
       "      <td>2013</td>\n",
       "      <td>...</td>\n",
       "      <td>0.0</td>\n",
       "      <td>0.0</td>\n",
       "      <td>0.0</td>\n",
       "      <td>0.0</td>\n",
       "      <td>0.0</td>\n",
       "      <td>0.0</td>\n",
       "      <td>0.0</td>\n",
       "      <td>1</td>\n",
       "      <td>1</td>\n",
       "      <td>1</td>\n",
       "      <td>1</td>\n",
       "      <td>31</td>\n",
       "    </tr>\n",
       "    <tr>\n",
       "      <th>5</th>\n",
       "      <td>231</td>\n",
       "      <td>697</td>\n",
       "      <td>211</td>\n",
       "      <td>211</td>\n",
       "      <td>55</td>\n",
       "      <td>55</td>\n",
       "      <td>128</td>\n",
       "      <td>174</td>\n",
       "      <td>3986</td>\n",
       "      <td>3779</td>\n",
       "      <td>109.8</td>\n",
       "      <td>2013</td>\n",
       "      <td>...</td>\n",
       "      <td>0.0</td>\n",
       "      <td>0.0</td>\n",
       "      <td>0.0</td>\n",
       "      <td>0.0</td>\n",
       "      <td>0.0</td>\n",
       "      <td>0.0</td>\n",
       "      <td>0.0</td>\n",
       "      <td>0</td>\n",
       "      <td>0</td>\n",
       "      <td>0</td>\n",
       "      <td>0</td>\n",
       "      <td>31</td>\n",
       "    </tr>\n",
       "    <tr>\n",
       "      <th>6</th>\n",
       "      <td>350</td>\n",
       "      <td>575</td>\n",
       "      <td>134</td>\n",
       "      <td>3</td>\n",
       "      <td>134</td>\n",
       "      <td>31</td>\n",
       "      <td>134</td>\n",
       "      <td>396</td>\n",
       "      <td>193</td>\n",
       "      <td>134</td>\n",
       "      <td>151.4</td>\n",
       "      <td>2013</td>\n",
       "      <td>...</td>\n",
       "      <td>0.0</td>\n",
       "      <td>0.0</td>\n",
       "      <td>0.0</td>\n",
       "      <td>0.0</td>\n",
       "      <td>0.0</td>\n",
       "      <td>0.0</td>\n",
       "      <td>0.0</td>\n",
       "      <td>0</td>\n",
       "      <td>0</td>\n",
       "      <td>0</td>\n",
       "      <td>1</td>\n",
       "      <td>31</td>\n",
       "    </tr>\n",
       "    <tr>\n",
       "      <th>7</th>\n",
       "      <td>262</td>\n",
       "      <td>3866</td>\n",
       "      <td>1638</td>\n",
       "      <td>396</td>\n",
       "      <td>55</td>\n",
       "      <td>3</td>\n",
       "      <td>55</td>\n",
       "      <td>3</td>\n",
       "      <td>202</td>\n",
       "      <td>124</td>\n",
       "      <td>2.8</td>\n",
       "      <td>2013</td>\n",
       "      <td>...</td>\n",
       "      <td>0.0</td>\n",
       "      <td>0.0</td>\n",
       "      <td>0.0</td>\n",
       "      <td>0.0</td>\n",
       "      <td>0.0</td>\n",
       "      <td>0.0</td>\n",
       "      <td>0.0</td>\n",
       "      <td>0</td>\n",
       "      <td>0</td>\n",
       "      <td>0</td>\n",
       "      <td>2</td>\n",
       "      <td>31</td>\n",
       "    </tr>\n",
       "    <tr>\n",
       "      <th>8</th>\n",
       "      <td>55</td>\n",
       "      <td>336</td>\n",
       "      <td>106</td>\n",
       "      <td>203</td>\n",
       "      <td>1370</td>\n",
       "      <td>523</td>\n",
       "      <td>55</td>\n",
       "      <td>819</td>\n",
       "      <td>106</td>\n",
       "      <td>5</td>\n",
       "      <td>0.2</td>\n",
       "      <td>2013</td>\n",
       "      <td>...</td>\n",
       "      <td>0.0</td>\n",
       "      <td>0.0</td>\n",
       "      <td>0.0</td>\n",
       "      <td>0.0</td>\n",
       "      <td>0.0</td>\n",
       "      <td>0.0</td>\n",
       "      <td>0.0</td>\n",
       "      <td>0</td>\n",
       "      <td>0</td>\n",
       "      <td>0</td>\n",
       "      <td>0</td>\n",
       "      <td>31</td>\n",
       "    </tr>\n",
       "    <tr>\n",
       "      <th>9</th>\n",
       "      <td>1011</td>\n",
       "      <td>350</td>\n",
       "      <td>3705</td>\n",
       "      <td>350</td>\n",
       "      <td>3750</td>\n",
       "      <td>537</td>\n",
       "      <td>609</td>\n",
       "      <td>609</td>\n",
       "      <td>537</td>\n",
       "      <td>611</td>\n",
       "      <td>0.9</td>\n",
       "      <td>2013</td>\n",
       "      <td>...</td>\n",
       "      <td>0.0</td>\n",
       "      <td>0.0</td>\n",
       "      <td>0.0</td>\n",
       "      <td>0.0</td>\n",
       "      <td>0.0</td>\n",
       "      <td>0.0</td>\n",
       "      <td>0.0</td>\n",
       "      <td>0</td>\n",
       "      <td>0</td>\n",
       "      <td>0</td>\n",
       "      <td>0</td>\n",
       "      <td>31</td>\n",
       "    </tr>\n",
       "    <tr>\n",
       "      <th>10</th>\n",
       "      <td>611</td>\n",
       "      <td>174</td>\n",
       "      <td>174</td>\n",
       "      <td>467</td>\n",
       "      <td>2</td>\n",
       "      <td>2</td>\n",
       "      <td>6</td>\n",
       "      <td>3</td>\n",
       "      <td>2</td>\n",
       "      <td>2800</td>\n",
       "      <td>1352.3</td>\n",
       "      <td>2013</td>\n",
       "      <td>...</td>\n",
       "      <td>0.0</td>\n",
       "      <td>0.0</td>\n",
       "      <td>0.0</td>\n",
       "      <td>0.0</td>\n",
       "      <td>0.0</td>\n",
       "      <td>0.0</td>\n",
       "      <td>0.0</td>\n",
       "      <td>0</td>\n",
       "      <td>0</td>\n",
       "      <td>0</td>\n",
       "      <td>1</td>\n",
       "      <td>31</td>\n",
       "    </tr>\n",
       "    <tr>\n",
       "      <th>11</th>\n",
       "      <td>2800</td>\n",
       "      <td>3359</td>\n",
       "      <td>3929</td>\n",
       "      <td>2505</td>\n",
       "      <td>161</td>\n",
       "      <td>161</td>\n",
       "      <td>118</td>\n",
       "      <td>90</td>\n",
       "      <td>2</td>\n",
       "      <td>90</td>\n",
       "      <td>3.1</td>\n",
       "      <td>2013</td>\n",
       "      <td>...</td>\n",
       "      <td>0.0</td>\n",
       "      <td>0.0</td>\n",
       "      <td>0.0</td>\n",
       "      <td>0.0</td>\n",
       "      <td>0.0</td>\n",
       "      <td>0.0</td>\n",
       "      <td>0.0</td>\n",
       "      <td>0</td>\n",
       "      <td>0</td>\n",
       "      <td>0</td>\n",
       "      <td>0</td>\n",
       "      <td>31</td>\n",
       "    </tr>\n",
       "    <tr>\n",
       "      <th>12</th>\n",
       "      <td>108</td>\n",
       "      <td>568</td>\n",
       "      <td>618</td>\n",
       "      <td>18</td>\n",
       "      <td>45</td>\n",
       "      <td>108</td>\n",
       "      <td>390</td>\n",
       "      <td>17</td>\n",
       "      <td>90</td>\n",
       "      <td>2453</td>\n",
       "      <td>0.2</td>\n",
       "      <td>2013</td>\n",
       "      <td>...</td>\n",
       "      <td>0.0</td>\n",
       "      <td>0.0</td>\n",
       "      <td>0.0</td>\n",
       "      <td>0.0</td>\n",
       "      <td>0.0</td>\n",
       "      <td>0.0</td>\n",
       "      <td>0.0</td>\n",
       "      <td>0</td>\n",
       "      <td>0</td>\n",
       "      <td>0</td>\n",
       "      <td>0</td>\n",
       "      <td>31</td>\n",
       "    </tr>\n",
       "    <tr>\n",
       "      <th>13</th>\n",
       "      <td>90</td>\n",
       "      <td>735</td>\n",
       "      <td>5</td>\n",
       "      <td>102</td>\n",
       "      <td>22</td>\n",
       "      <td>1309</td>\n",
       "      <td>1309</td>\n",
       "      <td>90</td>\n",
       "      <td>568</td>\n",
       "      <td>31</td>\n",
       "      <td>1.0</td>\n",
       "      <td>2013</td>\n",
       "      <td>...</td>\n",
       "      <td>0.0</td>\n",
       "      <td>0.0</td>\n",
       "      <td>0.0</td>\n",
       "      <td>0.0</td>\n",
       "      <td>0.0</td>\n",
       "      <td>0.0</td>\n",
       "      <td>0.0</td>\n",
       "      <td>1</td>\n",
       "      <td>1</td>\n",
       "      <td>1</td>\n",
       "      <td>1</td>\n",
       "      <td>31</td>\n",
       "    </tr>\n",
       "    <tr>\n",
       "      <th>14</th>\n",
       "      <td>20</td>\n",
       "      <td>31</td>\n",
       "      <td>20</td>\n",
       "      <td>90</td>\n",
       "      <td>5</td>\n",
       "      <td>118</td>\n",
       "      <td>6</td>\n",
       "      <td>3</td>\n",
       "      <td>2</td>\n",
       "      <td>2</td>\n",
       "      <td>20.7</td>\n",
       "      <td>2013</td>\n",
       "      <td>...</td>\n",
       "      <td>0.0</td>\n",
       "      <td>0.0</td>\n",
       "      <td>0.0</td>\n",
       "      <td>0.0</td>\n",
       "      <td>0.0</td>\n",
       "      <td>0.0</td>\n",
       "      <td>0.0</td>\n",
       "      <td>1</td>\n",
       "      <td>1</td>\n",
       "      <td>3</td>\n",
       "      <td>4</td>\n",
       "      <td>31</td>\n",
       "    </tr>\n",
       "    <tr>\n",
       "      <th>15</th>\n",
       "      <td>54</td>\n",
       "      <td>2</td>\n",
       "      <td>62</td>\n",
       "      <td>86</td>\n",
       "      <td>54</td>\n",
       "      <td>86</td>\n",
       "      <td>62</td>\n",
       "      <td>54</td>\n",
       "      <td>62</td>\n",
       "      <td>143</td>\n",
       "      <td>1.4</td>\n",
       "      <td>2013</td>\n",
       "      <td>...</td>\n",
       "      <td>0.0</td>\n",
       "      <td>0.0</td>\n",
       "      <td>0.0</td>\n",
       "      <td>0.0</td>\n",
       "      <td>0.0</td>\n",
       "      <td>0.0</td>\n",
       "      <td>0.0</td>\n",
       "      <td>0</td>\n",
       "      <td>0</td>\n",
       "      <td>0</td>\n",
       "      <td>0</td>\n",
       "      <td>31</td>\n",
       "    </tr>\n",
       "    <tr>\n",
       "      <th>16</th>\n",
       "      <td>54</td>\n",
       "      <td>62</td>\n",
       "      <td>54</td>\n",
       "      <td>143</td>\n",
       "      <td>61</td>\n",
       "      <td>61</td>\n",
       "      <td>61</td>\n",
       "      <td>61</td>\n",
       "      <td>372</td>\n",
       "      <td>317</td>\n",
       "      <td>1045.2</td>\n",
       "      <td>2013</td>\n",
       "      <td>...</td>\n",
       "      <td>0.0</td>\n",
       "      <td>0.0</td>\n",
       "      <td>0.0</td>\n",
       "      <td>0.0</td>\n",
       "      <td>0.0</td>\n",
       "      <td>0.0</td>\n",
       "      <td>0.0</td>\n",
       "      <td>0</td>\n",
       "      <td>0</td>\n",
       "      <td>0</td>\n",
       "      <td>0</td>\n",
       "      <td>31</td>\n",
       "    </tr>\n",
       "    <tr>\n",
       "      <th>17</th>\n",
       "      <td>317</td>\n",
       "      <td>372</td>\n",
       "      <td>317</td>\n",
       "      <td>1077</td>\n",
       "      <td>372</td>\n",
       "      <td>1392</td>\n",
       "      <td>1392</td>\n",
       "      <td>1077</td>\n",
       "      <td>317</td>\n",
       "      <td>372</td>\n",
       "      <td>0.3</td>\n",
       "      <td>2013</td>\n",
       "      <td>...</td>\n",
       "      <td>0.0</td>\n",
       "      <td>0.0</td>\n",
       "      <td>0.0</td>\n",
       "      <td>0.0</td>\n",
       "      <td>0.0</td>\n",
       "      <td>0.0</td>\n",
       "      <td>0.0</td>\n",
       "      <td>0</td>\n",
       "      <td>0</td>\n",
       "      <td>0</td>\n",
       "      <td>0</td>\n",
       "      <td>31</td>\n",
       "    </tr>\n",
       "    <tr>\n",
       "      <th>18</th>\n",
       "      <td>98</td>\n",
       "      <td>98</td>\n",
       "      <td>317</td>\n",
       "      <td>372</td>\n",
       "      <td>2785</td>\n",
       "      <td>317</td>\n",
       "      <td>1347</td>\n",
       "      <td>1173</td>\n",
       "      <td>1347</td>\n",
       "      <td>317</td>\n",
       "      <td>0.8</td>\n",
       "      <td>2013</td>\n",
       "      <td>...</td>\n",
       "      <td>0.0</td>\n",
       "      <td>0.0</td>\n",
       "      <td>0.0</td>\n",
       "      <td>0.0</td>\n",
       "      <td>0.0</td>\n",
       "      <td>0.0</td>\n",
       "      <td>0.0</td>\n",
       "      <td>0</td>\n",
       "      <td>0</td>\n",
       "      <td>0</td>\n",
       "      <td>0</td>\n",
       "      <td>31</td>\n",
       "    </tr>\n",
       "    <tr>\n",
       "      <th>19</th>\n",
       "      <td>2785</td>\n",
       "      <td>1173</td>\n",
       "      <td>1347</td>\n",
       "      <td>1347</td>\n",
       "      <td>317</td>\n",
       "      <td>372</td>\n",
       "      <td>317</td>\n",
       "      <td>372</td>\n",
       "      <td>1173</td>\n",
       "      <td>317</td>\n",
       "      <td>1.8</td>\n",
       "      <td>2013</td>\n",
       "      <td>...</td>\n",
       "      <td>0.0</td>\n",
       "      <td>0.0</td>\n",
       "      <td>0.0</td>\n",
       "      <td>0.0</td>\n",
       "      <td>0.0</td>\n",
       "      <td>0.0</td>\n",
       "      <td>0.0</td>\n",
       "      <td>0</td>\n",
       "      <td>0</td>\n",
       "      <td>0</td>\n",
       "      <td>0</td>\n",
       "      <td>31</td>\n",
       "    </tr>\n",
       "    <tr>\n",
       "      <th>20</th>\n",
       "      <td>372</td>\n",
       "      <td>372</td>\n",
       "      <td>1392</td>\n",
       "      <td>3</td>\n",
       "      <td>317</td>\n",
       "      <td>372</td>\n",
       "      <td>2</td>\n",
       "      <td>1392</td>\n",
       "      <td>464</td>\n",
       "      <td>2033</td>\n",
       "      <td>0.6</td>\n",
       "      <td>2013</td>\n",
       "      <td>...</td>\n",
       "      <td>0.0</td>\n",
       "      <td>0.0</td>\n",
       "      <td>0.0</td>\n",
       "      <td>0.0</td>\n",
       "      <td>0.0</td>\n",
       "      <td>0.0</td>\n",
       "      <td>0.0</td>\n",
       "      <td>0</td>\n",
       "      <td>0</td>\n",
       "      <td>0</td>\n",
       "      <td>1</td>\n",
       "      <td>31</td>\n",
       "    </tr>\n",
       "    <tr>\n",
       "      <th>21</th>\n",
       "      <td>372</td>\n",
       "      <td>317</td>\n",
       "      <td>3</td>\n",
       "      <td>862</td>\n",
       "      <td>317</td>\n",
       "      <td>2</td>\n",
       "      <td>464</td>\n",
       "      <td>574</td>\n",
       "      <td>862</td>\n",
       "      <td>372</td>\n",
       "      <td>0.2</td>\n",
       "      <td>2013</td>\n",
       "      <td>...</td>\n",
       "      <td>0.0</td>\n",
       "      <td>0.0</td>\n",
       "      <td>0.0</td>\n",
       "      <td>0.0</td>\n",
       "      <td>0.0</td>\n",
       "      <td>0.0</td>\n",
       "      <td>0.0</td>\n",
       "      <td>0</td>\n",
       "      <td>0</td>\n",
       "      <td>0</td>\n",
       "      <td>1</td>\n",
       "      <td>31</td>\n",
       "    </tr>\n",
       "    <tr>\n",
       "      <th>22</th>\n",
       "      <td>317</td>\n",
       "      <td>862</td>\n",
       "      <td>317</td>\n",
       "      <td>574</td>\n",
       "      <td>1077</td>\n",
       "      <td>372</td>\n",
       "      <td>862</td>\n",
       "      <td>317</td>\n",
       "      <td>574</td>\n",
       "      <td>2054</td>\n",
       "      <td>0.3</td>\n",
       "      <td>2013</td>\n",
       "      <td>...</td>\n",
       "      <td>0.0</td>\n",
       "      <td>0.0</td>\n",
       "      <td>0.0</td>\n",
       "      <td>0.0</td>\n",
       "      <td>0.0</td>\n",
       "      <td>0.0</td>\n",
       "      <td>0.0</td>\n",
       "      <td>0</td>\n",
       "      <td>0</td>\n",
       "      <td>0</td>\n",
       "      <td>0</td>\n",
       "      <td>31</td>\n",
       "    </tr>\n",
       "    <tr>\n",
       "      <th>23</th>\n",
       "      <td>2349</td>\n",
       "      <td>372</td>\n",
       "      <td>317</td>\n",
       "      <td>464</td>\n",
       "      <td>862</td>\n",
       "      <td>862</td>\n",
       "      <td>317</td>\n",
       "      <td>464</td>\n",
       "      <td>574</td>\n",
       "      <td>464</td>\n",
       "      <td>0.2</td>\n",
       "      <td>2013</td>\n",
       "      <td>...</td>\n",
       "      <td>0.0</td>\n",
       "      <td>0.0</td>\n",
       "      <td>0.0</td>\n",
       "      <td>0.0</td>\n",
       "      <td>0.0</td>\n",
       "      <td>0.0</td>\n",
       "      <td>0.0</td>\n",
       "      <td>0</td>\n",
       "      <td>0</td>\n",
       "      <td>0</td>\n",
       "      <td>0</td>\n",
       "      <td>31</td>\n",
       "    </tr>\n",
       "    <tr>\n",
       "      <th>24</th>\n",
       "      <td>574</td>\n",
       "      <td>317</td>\n",
       "      <td>574</td>\n",
       "      <td>2447</td>\n",
       "      <td>811</td>\n",
       "      <td>574</td>\n",
       "      <td>317</td>\n",
       "      <td>574</td>\n",
       "      <td>862</td>\n",
       "      <td>464</td>\n",
       "      <td>0.4</td>\n",
       "      <td>2013</td>\n",
       "      <td>...</td>\n",
       "      <td>0.0</td>\n",
       "      <td>0.0</td>\n",
       "      <td>0.0</td>\n",
       "      <td>0.0</td>\n",
       "      <td>0.0</td>\n",
       "      <td>0.0</td>\n",
       "      <td>0.0</td>\n",
       "      <td>0</td>\n",
       "      <td>0</td>\n",
       "      <td>0</td>\n",
       "      <td>0</td>\n",
       "      <td>31</td>\n",
       "    </tr>\n",
       "    <tr>\n",
       "      <th>25</th>\n",
       "      <td>574</td>\n",
       "      <td>372</td>\n",
       "      <td>317</td>\n",
       "      <td>464</td>\n",
       "      <td>574</td>\n",
       "      <td>464</td>\n",
       "      <td>317</td>\n",
       "      <td>464</td>\n",
       "      <td>574</td>\n",
       "      <td>574</td>\n",
       "      <td>3.8</td>\n",
       "      <td>2013</td>\n",
       "      <td>...</td>\n",
       "      <td>0.0</td>\n",
       "      <td>0.0</td>\n",
       "      <td>0.0</td>\n",
       "      <td>0.0</td>\n",
       "      <td>0.0</td>\n",
       "      <td>0.0</td>\n",
       "      <td>0.0</td>\n",
       "      <td>0</td>\n",
       "      <td>0</td>\n",
       "      <td>0</td>\n",
       "      <td>0</td>\n",
       "      <td>31</td>\n",
       "    </tr>\n",
       "    <tr>\n",
       "      <th>26</th>\n",
       "      <td>862</td>\n",
       "      <td>464</td>\n",
       "      <td>464</td>\n",
       "      <td>464</td>\n",
       "      <td>192</td>\n",
       "      <td>464</td>\n",
       "      <td>698</td>\n",
       "      <td>464</td>\n",
       "      <td>344</td>\n",
       "      <td>128</td>\n",
       "      <td>1.2</td>\n",
       "      <td>2013</td>\n",
       "      <td>...</td>\n",
       "      <td>0.0</td>\n",
       "      <td>0.0</td>\n",
       "      <td>0.0</td>\n",
       "      <td>0.0</td>\n",
       "      <td>0.0</td>\n",
       "      <td>0.0</td>\n",
       "      <td>0.0</td>\n",
       "      <td>0</td>\n",
       "      <td>0</td>\n",
       "      <td>0</td>\n",
       "      <td>0</td>\n",
       "      <td>31</td>\n",
       "    </tr>\n",
       "    <tr>\n",
       "      <th>27</th>\n",
       "      <td>464</td>\n",
       "      <td>464</td>\n",
       "      <td>464</td>\n",
       "      <td>574</td>\n",
       "      <td>464</td>\n",
       "      <td>294</td>\n",
       "      <td>574</td>\n",
       "      <td>1471</td>\n",
       "      <td>43</td>\n",
       "      <td>467</td>\n",
       "      <td>4.2</td>\n",
       "      <td>2013</td>\n",
       "      <td>...</td>\n",
       "      <td>0.0</td>\n",
       "      <td>0.0</td>\n",
       "      <td>0.0</td>\n",
       "      <td>0.0</td>\n",
       "      <td>0.0</td>\n",
       "      <td>0.0</td>\n",
       "      <td>0.0</td>\n",
       "      <td>0</td>\n",
       "      <td>0</td>\n",
       "      <td>0</td>\n",
       "      <td>0</td>\n",
       "      <td>31</td>\n",
       "    </tr>\n",
       "    <tr>\n",
       "      <th>28</th>\n",
       "      <td>2</td>\n",
       "      <td>2</td>\n",
       "      <td>3</td>\n",
       "      <td>6</td>\n",
       "      <td>2</td>\n",
       "      <td>1833</td>\n",
       "      <td>246</td>\n",
       "      <td>1833</td>\n",
       "      <td>592</td>\n",
       "      <td>2039</td>\n",
       "      <td>1.7</td>\n",
       "      <td>2013</td>\n",
       "      <td>...</td>\n",
       "      <td>0.0</td>\n",
       "      <td>0.0</td>\n",
       "      <td>0.0</td>\n",
       "      <td>0.0</td>\n",
       "      <td>0.0</td>\n",
       "      <td>0.0</td>\n",
       "      <td>0.0</td>\n",
       "      <td>0</td>\n",
       "      <td>0</td>\n",
       "      <td>0</td>\n",
       "      <td>1</td>\n",
       "      <td>31</td>\n",
       "    </tr>\n",
       "    <tr>\n",
       "      <th>29</th>\n",
       "      <td>128</td>\n",
       "      <td>203</td>\n",
       "      <td>1471</td>\n",
       "      <td>212</td>\n",
       "      <td>5</td>\n",
       "      <td>592</td>\n",
       "      <td>1833</td>\n",
       "      <td>523</td>\n",
       "      <td>1570</td>\n",
       "      <td>592</td>\n",
       "      <td>0.3</td>\n",
       "      <td>2013</td>\n",
       "      <td>...</td>\n",
       "      <td>0.0</td>\n",
       "      <td>0.0</td>\n",
       "      <td>0.0</td>\n",
       "      <td>0.0</td>\n",
       "      <td>0.0</td>\n",
       "      <td>0.0</td>\n",
       "      <td>0.0</td>\n",
       "      <td>1</td>\n",
       "      <td>1</td>\n",
       "      <td>1</td>\n",
       "      <td>1</td>\n",
       "      <td>31</td>\n",
       "    </tr>\n",
       "    <tr>\n",
       "      <th>...</th>\n",
       "      <td>...</td>\n",
       "      <td>...</td>\n",
       "      <td>...</td>\n",
       "      <td>...</td>\n",
       "      <td>...</td>\n",
       "      <td>...</td>\n",
       "      <td>...</td>\n",
       "      <td>...</td>\n",
       "      <td>...</td>\n",
       "      <td>...</td>\n",
       "      <td>...</td>\n",
       "      <td>...</td>\n",
       "      <td>...</td>\n",
       "      <td>...</td>\n",
       "      <td>...</td>\n",
       "      <td>...</td>\n",
       "      <td>...</td>\n",
       "      <td>...</td>\n",
       "      <td>...</td>\n",
       "      <td>...</td>\n",
       "      <td>...</td>\n",
       "      <td>...</td>\n",
       "      <td>...</td>\n",
       "      <td>...</td>\n",
       "      <td>...</td>\n",
       "    </tr>\n",
       "    <tr>\n",
       "      <th>14031</th>\n",
       "      <td>67</td>\n",
       "      <td>582</td>\n",
       "      <td>67</td>\n",
       "      <td>535</td>\n",
       "      <td>37</td>\n",
       "      <td>23</td>\n",
       "      <td>23</td>\n",
       "      <td>85</td>\n",
       "      <td>52</td>\n",
       "      <td>241</td>\n",
       "      <td>152.5</td>\n",
       "      <td>2014</td>\n",
       "      <td>...</td>\n",
       "      <td>0.0</td>\n",
       "      <td>0.0</td>\n",
       "      <td>0.0</td>\n",
       "      <td>0.0</td>\n",
       "      <td>0.0</td>\n",
       "      <td>0.0</td>\n",
       "      <td>0.0</td>\n",
       "      <td>0</td>\n",
       "      <td>0</td>\n",
       "      <td>0</td>\n",
       "      <td>0</td>\n",
       "      <td>241</td>\n",
       "    </tr>\n",
       "    <tr>\n",
       "      <th>14032</th>\n",
       "      <td>241</td>\n",
       "      <td>241</td>\n",
       "      <td>37</td>\n",
       "      <td>23</td>\n",
       "      <td>23</td>\n",
       "      <td>254</td>\n",
       "      <td>23</td>\n",
       "      <td>37</td>\n",
       "      <td>37</td>\n",
       "      <td>23</td>\n",
       "      <td>426.8</td>\n",
       "      <td>2014</td>\n",
       "      <td>...</td>\n",
       "      <td>0.0</td>\n",
       "      <td>0.0</td>\n",
       "      <td>0.0</td>\n",
       "      <td>0.0</td>\n",
       "      <td>0.0</td>\n",
       "      <td>0.0</td>\n",
       "      <td>0.0</td>\n",
       "      <td>0</td>\n",
       "      <td>0</td>\n",
       "      <td>0</td>\n",
       "      <td>0</td>\n",
       "      <td>241</td>\n",
       "    </tr>\n",
       "    <tr>\n",
       "      <th>14033</th>\n",
       "      <td>37</td>\n",
       "      <td>23</td>\n",
       "      <td>23</td>\n",
       "      <td>37</td>\n",
       "      <td>112</td>\n",
       "      <td>72</td>\n",
       "      <td>15</td>\n",
       "      <td>139</td>\n",
       "      <td>15</td>\n",
       "      <td>265</td>\n",
       "      <td>373.7</td>\n",
       "      <td>2014</td>\n",
       "      <td>...</td>\n",
       "      <td>0.0</td>\n",
       "      <td>0.0</td>\n",
       "      <td>0.0</td>\n",
       "      <td>0.0</td>\n",
       "      <td>0.0</td>\n",
       "      <td>0.0</td>\n",
       "      <td>0.0</td>\n",
       "      <td>0</td>\n",
       "      <td>0</td>\n",
       "      <td>0</td>\n",
       "      <td>0</td>\n",
       "      <td>241</td>\n",
       "    </tr>\n",
       "    <tr>\n",
       "      <th>14034</th>\n",
       "      <td>456</td>\n",
       "      <td>456</td>\n",
       "      <td>67</td>\n",
       "      <td>52</td>\n",
       "      <td>217</td>\n",
       "      <td>421</td>\n",
       "      <td>23</td>\n",
       "      <td>37</td>\n",
       "      <td>456</td>\n",
       "      <td>37</td>\n",
       "      <td>195.8</td>\n",
       "      <td>2014</td>\n",
       "      <td>...</td>\n",
       "      <td>0.0</td>\n",
       "      <td>0.0</td>\n",
       "      <td>0.0</td>\n",
       "      <td>0.0</td>\n",
       "      <td>0.0</td>\n",
       "      <td>0.0</td>\n",
       "      <td>0.0</td>\n",
       "      <td>0</td>\n",
       "      <td>0</td>\n",
       "      <td>0</td>\n",
       "      <td>0</td>\n",
       "      <td>241</td>\n",
       "    </tr>\n",
       "    <tr>\n",
       "      <th>14035</th>\n",
       "      <td>23</td>\n",
       "      <td>23</td>\n",
       "      <td>37</td>\n",
       "      <td>23</td>\n",
       "      <td>37</td>\n",
       "      <td>23</td>\n",
       "      <td>15</td>\n",
       "      <td>2</td>\n",
       "      <td>467</td>\n",
       "      <td>72</td>\n",
       "      <td>404.4</td>\n",
       "      <td>2014</td>\n",
       "      <td>...</td>\n",
       "      <td>0.0</td>\n",
       "      <td>0.0</td>\n",
       "      <td>0.0</td>\n",
       "      <td>0.0</td>\n",
       "      <td>0.0</td>\n",
       "      <td>0.0</td>\n",
       "      <td>0.0</td>\n",
       "      <td>0</td>\n",
       "      <td>0</td>\n",
       "      <td>0</td>\n",
       "      <td>0</td>\n",
       "      <td>241</td>\n",
       "    </tr>\n",
       "    <tr>\n",
       "      <th>14036</th>\n",
       "      <td>15</td>\n",
       "      <td>2</td>\n",
       "      <td>526</td>\n",
       "      <td>526</td>\n",
       "      <td>526</td>\n",
       "      <td>2</td>\n",
       "      <td>59</td>\n",
       "      <td>59</td>\n",
       "      <td>31</td>\n",
       "      <td>3</td>\n",
       "      <td>3.4</td>\n",
       "      <td>2014</td>\n",
       "      <td>...</td>\n",
       "      <td>0.0</td>\n",
       "      <td>0.0</td>\n",
       "      <td>0.0</td>\n",
       "      <td>0.0</td>\n",
       "      <td>0.0</td>\n",
       "      <td>0.0</td>\n",
       "      <td>0.0</td>\n",
       "      <td>0</td>\n",
       "      <td>0</td>\n",
       "      <td>0</td>\n",
       "      <td>0</td>\n",
       "      <td>241</td>\n",
       "    </tr>\n",
       "    <tr>\n",
       "      <th>14037</th>\n",
       "      <td>59</td>\n",
       "      <td>31</td>\n",
       "      <td>2</td>\n",
       "      <td>1412</td>\n",
       "      <td>3</td>\n",
       "      <td>59</td>\n",
       "      <td>136</td>\n",
       "      <td>3</td>\n",
       "      <td>1412</td>\n",
       "      <td>59</td>\n",
       "      <td>0.2</td>\n",
       "      <td>2014</td>\n",
       "      <td>...</td>\n",
       "      <td>0.0</td>\n",
       "      <td>0.0</td>\n",
       "      <td>0.0</td>\n",
       "      <td>0.0</td>\n",
       "      <td>0.0</td>\n",
       "      <td>0.0</td>\n",
       "      <td>0.0</td>\n",
       "      <td>0</td>\n",
       "      <td>0</td>\n",
       "      <td>0</td>\n",
       "      <td>2</td>\n",
       "      <td>241</td>\n",
       "    </tr>\n",
       "    <tr>\n",
       "      <th>14038</th>\n",
       "      <td>59</td>\n",
       "      <td>3</td>\n",
       "      <td>5</td>\n",
       "      <td>15</td>\n",
       "      <td>59</td>\n",
       "      <td>2</td>\n",
       "      <td>18</td>\n",
       "      <td>17</td>\n",
       "      <td>36</td>\n",
       "      <td>1412</td>\n",
       "      <td>0.2</td>\n",
       "      <td>2014</td>\n",
       "      <td>...</td>\n",
       "      <td>0.0</td>\n",
       "      <td>0.0</td>\n",
       "      <td>0.0</td>\n",
       "      <td>0.0</td>\n",
       "      <td>0.0</td>\n",
       "      <td>0.0</td>\n",
       "      <td>0.0</td>\n",
       "      <td>1</td>\n",
       "      <td>1</td>\n",
       "      <td>1</td>\n",
       "      <td>2</td>\n",
       "      <td>241</td>\n",
       "    </tr>\n",
       "    <tr>\n",
       "      <th>14039</th>\n",
       "      <td>22</td>\n",
       "      <td>45</td>\n",
       "      <td>5</td>\n",
       "      <td>15</td>\n",
       "      <td>3</td>\n",
       "      <td>36</td>\n",
       "      <td>107</td>\n",
       "      <td>92</td>\n",
       "      <td>36</td>\n",
       "      <td>3</td>\n",
       "      <td>0.2</td>\n",
       "      <td>2014</td>\n",
       "      <td>...</td>\n",
       "      <td>0.0</td>\n",
       "      <td>0.0</td>\n",
       "      <td>0.0</td>\n",
       "      <td>0.0</td>\n",
       "      <td>0.0</td>\n",
       "      <td>0.0</td>\n",
       "      <td>0.0</td>\n",
       "      <td>1</td>\n",
       "      <td>1</td>\n",
       "      <td>1</td>\n",
       "      <td>2</td>\n",
       "      <td>241</td>\n",
       "    </tr>\n",
       "    <tr>\n",
       "      <th>14040</th>\n",
       "      <td>36</td>\n",
       "      <td>107</td>\n",
       "      <td>73</td>\n",
       "      <td>15</td>\n",
       "      <td>36</td>\n",
       "      <td>157</td>\n",
       "      <td>36</td>\n",
       "      <td>247</td>\n",
       "      <td>36</td>\n",
       "      <td>36</td>\n",
       "      <td>0.5</td>\n",
       "      <td>2014</td>\n",
       "      <td>...</td>\n",
       "      <td>0.0</td>\n",
       "      <td>0.0</td>\n",
       "      <td>0.0</td>\n",
       "      <td>0.0</td>\n",
       "      <td>0.0</td>\n",
       "      <td>0.0</td>\n",
       "      <td>0.0</td>\n",
       "      <td>0</td>\n",
       "      <td>0</td>\n",
       "      <td>0</td>\n",
       "      <td>0</td>\n",
       "      <td>241</td>\n",
       "    </tr>\n",
       "    <tr>\n",
       "      <th>14041</th>\n",
       "      <td>261</td>\n",
       "      <td>5</td>\n",
       "      <td>212</td>\n",
       "      <td>646</td>\n",
       "      <td>2</td>\n",
       "      <td>757</td>\n",
       "      <td>460</td>\n",
       "      <td>484</td>\n",
       "      <td>175</td>\n",
       "      <td>31</td>\n",
       "      <td>0.2</td>\n",
       "      <td>2014</td>\n",
       "      <td>...</td>\n",
       "      <td>0.0</td>\n",
       "      <td>0.0</td>\n",
       "      <td>0.0</td>\n",
       "      <td>0.0</td>\n",
       "      <td>0.0</td>\n",
       "      <td>0.0</td>\n",
       "      <td>0.0</td>\n",
       "      <td>1</td>\n",
       "      <td>1</td>\n",
       "      <td>1</td>\n",
       "      <td>1</td>\n",
       "      <td>241</td>\n",
       "    </tr>\n",
       "    <tr>\n",
       "      <th>14042</th>\n",
       "      <td>251</td>\n",
       "      <td>524</td>\n",
       "      <td>283</td>\n",
       "      <td>175</td>\n",
       "      <td>247</td>\n",
       "      <td>80</td>\n",
       "      <td>283</td>\n",
       "      <td>52</td>\n",
       "      <td>296</td>\n",
       "      <td>283</td>\n",
       "      <td>0.3</td>\n",
       "      <td>2014</td>\n",
       "      <td>...</td>\n",
       "      <td>0.0</td>\n",
       "      <td>0.0</td>\n",
       "      <td>0.0</td>\n",
       "      <td>0.0</td>\n",
       "      <td>0.0</td>\n",
       "      <td>0.0</td>\n",
       "      <td>0.0</td>\n",
       "      <td>0</td>\n",
       "      <td>0</td>\n",
       "      <td>0</td>\n",
       "      <td>0</td>\n",
       "      <td>241</td>\n",
       "    </tr>\n",
       "    <tr>\n",
       "      <th>14043</th>\n",
       "      <td>174</td>\n",
       "      <td>369</td>\n",
       "      <td>20</td>\n",
       "      <td>119</td>\n",
       "      <td>3</td>\n",
       "      <td>2</td>\n",
       "      <td>6</td>\n",
       "      <td>10</td>\n",
       "      <td>105</td>\n",
       "      <td>3964</td>\n",
       "      <td>15.5</td>\n",
       "      <td>2014</td>\n",
       "      <td>...</td>\n",
       "      <td>0.0</td>\n",
       "      <td>0.0</td>\n",
       "      <td>0.0</td>\n",
       "      <td>0.0</td>\n",
       "      <td>0.0</td>\n",
       "      <td>0.0</td>\n",
       "      <td>0.0</td>\n",
       "      <td>0</td>\n",
       "      <td>0</td>\n",
       "      <td>1</td>\n",
       "      <td>2</td>\n",
       "      <td>241</td>\n",
       "    </tr>\n",
       "    <tr>\n",
       "      <th>14044</th>\n",
       "      <td>1624</td>\n",
       "      <td>1624</td>\n",
       "      <td>45</td>\n",
       "      <td>17</td>\n",
       "      <td>5</td>\n",
       "      <td>1624</td>\n",
       "      <td>18</td>\n",
       "      <td>1624</td>\n",
       "      <td>1028</td>\n",
       "      <td>1028</td>\n",
       "      <td>0.4</td>\n",
       "      <td>2014</td>\n",
       "      <td>...</td>\n",
       "      <td>0.0</td>\n",
       "      <td>0.0</td>\n",
       "      <td>0.0</td>\n",
       "      <td>0.0</td>\n",
       "      <td>0.0</td>\n",
       "      <td>0.0</td>\n",
       "      <td>0.0</td>\n",
       "      <td>1</td>\n",
       "      <td>1</td>\n",
       "      <td>1</td>\n",
       "      <td>1</td>\n",
       "      <td>241</td>\n",
       "    </tr>\n",
       "    <tr>\n",
       "      <th>14045</th>\n",
       "      <td>2255</td>\n",
       "      <td>19</td>\n",
       "      <td>85</td>\n",
       "      <td>497</td>\n",
       "      <td>287</td>\n",
       "      <td>287</td>\n",
       "      <td>23</td>\n",
       "      <td>37</td>\n",
       "      <td>37</td>\n",
       "      <td>23</td>\n",
       "      <td>280.7</td>\n",
       "      <td>2014</td>\n",
       "      <td>...</td>\n",
       "      <td>0.0</td>\n",
       "      <td>0.0</td>\n",
       "      <td>0.0</td>\n",
       "      <td>0.0</td>\n",
       "      <td>0.0</td>\n",
       "      <td>0.0</td>\n",
       "      <td>0.0</td>\n",
       "      <td>0</td>\n",
       "      <td>0</td>\n",
       "      <td>0</td>\n",
       "      <td>0</td>\n",
       "      <td>241</td>\n",
       "    </tr>\n",
       "    <tr>\n",
       "      <th>14046</th>\n",
       "      <td>69</td>\n",
       "      <td>69</td>\n",
       "      <td>163</td>\n",
       "      <td>23</td>\n",
       "      <td>37</td>\n",
       "      <td>72</td>\n",
       "      <td>15</td>\n",
       "      <td>2</td>\n",
       "      <td>2</td>\n",
       "      <td>15</td>\n",
       "      <td>328.9</td>\n",
       "      <td>2014</td>\n",
       "      <td>...</td>\n",
       "      <td>0.0</td>\n",
       "      <td>0.0</td>\n",
       "      <td>0.0</td>\n",
       "      <td>0.0</td>\n",
       "      <td>0.0</td>\n",
       "      <td>0.0</td>\n",
       "      <td>0.0</td>\n",
       "      <td>0</td>\n",
       "      <td>0</td>\n",
       "      <td>0</td>\n",
       "      <td>0</td>\n",
       "      <td>241</td>\n",
       "    </tr>\n",
       "    <tr>\n",
       "      <th>14047</th>\n",
       "      <td>15</td>\n",
       "      <td>15</td>\n",
       "      <td>15</td>\n",
       "      <td>15</td>\n",
       "      <td>139</td>\n",
       "      <td>112</td>\n",
       "      <td>265</td>\n",
       "      <td>456</td>\n",
       "      <td>67</td>\n",
       "      <td>217</td>\n",
       "      <td>16.6</td>\n",
       "      <td>2014</td>\n",
       "      <td>...</td>\n",
       "      <td>0.0</td>\n",
       "      <td>0.0</td>\n",
       "      <td>0.0</td>\n",
       "      <td>0.0</td>\n",
       "      <td>0.0</td>\n",
       "      <td>0.0</td>\n",
       "      <td>0.0</td>\n",
       "      <td>0</td>\n",
       "      <td>0</td>\n",
       "      <td>0</td>\n",
       "      <td>0</td>\n",
       "      <td>241</td>\n",
       "    </tr>\n",
       "    <tr>\n",
       "      <th>14048</th>\n",
       "      <td>421</td>\n",
       "      <td>217</td>\n",
       "      <td>2</td>\n",
       "      <td>65</td>\n",
       "      <td>21</td>\n",
       "      <td>27</td>\n",
       "      <td>6</td>\n",
       "      <td>10</td>\n",
       "      <td>3</td>\n",
       "      <td>30</td>\n",
       "      <td>7.4</td>\n",
       "      <td>2014</td>\n",
       "      <td>...</td>\n",
       "      <td>0.0</td>\n",
       "      <td>0.0</td>\n",
       "      <td>0.0</td>\n",
       "      <td>0.1</td>\n",
       "      <td>0.0</td>\n",
       "      <td>0.0</td>\n",
       "      <td>0.0</td>\n",
       "      <td>0</td>\n",
       "      <td>0</td>\n",
       "      <td>0</td>\n",
       "      <td>1</td>\n",
       "      <td>241</td>\n",
       "    </tr>\n",
       "    <tr>\n",
       "      <th>14049</th>\n",
       "      <td>9</td>\n",
       "      <td>33</td>\n",
       "      <td>37</td>\n",
       "      <td>23</td>\n",
       "      <td>51</td>\n",
       "      <td>9</td>\n",
       "      <td>6</td>\n",
       "      <td>24</td>\n",
       "      <td>4</td>\n",
       "      <td>88</td>\n",
       "      <td>184.4</td>\n",
       "      <td>2014</td>\n",
       "      <td>...</td>\n",
       "      <td>0.1</td>\n",
       "      <td>0.0</td>\n",
       "      <td>0.0</td>\n",
       "      <td>0.0</td>\n",
       "      <td>0.0</td>\n",
       "      <td>0.0</td>\n",
       "      <td>0.0</td>\n",
       "      <td>0</td>\n",
       "      <td>0</td>\n",
       "      <td>0</td>\n",
       "      <td>0</td>\n",
       "      <td>241</td>\n",
       "    </tr>\n",
       "    <tr>\n",
       "      <th>14050</th>\n",
       "      <td>9</td>\n",
       "      <td>2</td>\n",
       "      <td>37</td>\n",
       "      <td>23</td>\n",
       "      <td>2</td>\n",
       "      <td>2</td>\n",
       "      <td>64</td>\n",
       "      <td>64</td>\n",
       "      <td>64</td>\n",
       "      <td>64</td>\n",
       "      <td>47.5</td>\n",
       "      <td>2014</td>\n",
       "      <td>...</td>\n",
       "      <td>0.0</td>\n",
       "      <td>0.0</td>\n",
       "      <td>0.0</td>\n",
       "      <td>0.0</td>\n",
       "      <td>0.0</td>\n",
       "      <td>0.0</td>\n",
       "      <td>0.0</td>\n",
       "      <td>0</td>\n",
       "      <td>0</td>\n",
       "      <td>0</td>\n",
       "      <td>0</td>\n",
       "      <td>241</td>\n",
       "    </tr>\n",
       "    <tr>\n",
       "      <th>14051</th>\n",
       "      <td>64</td>\n",
       "      <td>64</td>\n",
       "      <td>64</td>\n",
       "      <td>64</td>\n",
       "      <td>64</td>\n",
       "      <td>64</td>\n",
       "      <td>64</td>\n",
       "      <td>64</td>\n",
       "      <td>64</td>\n",
       "      <td>64</td>\n",
       "      <td>2.7</td>\n",
       "      <td>2014</td>\n",
       "      <td>...</td>\n",
       "      <td>0.0</td>\n",
       "      <td>0.0</td>\n",
       "      <td>0.0</td>\n",
       "      <td>0.0</td>\n",
       "      <td>0.0</td>\n",
       "      <td>0.0</td>\n",
       "      <td>0.0</td>\n",
       "      <td>0</td>\n",
       "      <td>0</td>\n",
       "      <td>0</td>\n",
       "      <td>0</td>\n",
       "      <td>241</td>\n",
       "    </tr>\n",
       "    <tr>\n",
       "      <th>14052</th>\n",
       "      <td>64</td>\n",
       "      <td>64</td>\n",
       "      <td>2</td>\n",
       "      <td>9</td>\n",
       "      <td>9</td>\n",
       "      <td>23</td>\n",
       "      <td>37</td>\n",
       "      <td>9</td>\n",
       "      <td>9</td>\n",
       "      <td>9</td>\n",
       "      <td>251.2</td>\n",
       "      <td>2014</td>\n",
       "      <td>...</td>\n",
       "      <td>0.0</td>\n",
       "      <td>0.0</td>\n",
       "      <td>0.0</td>\n",
       "      <td>0.0</td>\n",
       "      <td>0.0</td>\n",
       "      <td>0.0</td>\n",
       "      <td>0.0</td>\n",
       "      <td>0</td>\n",
       "      <td>0</td>\n",
       "      <td>0</td>\n",
       "      <td>0</td>\n",
       "      <td>241</td>\n",
       "    </tr>\n",
       "    <tr>\n",
       "      <th>14053</th>\n",
       "      <td>23</td>\n",
       "      <td>37</td>\n",
       "      <td>9</td>\n",
       "      <td>9</td>\n",
       "      <td>9</td>\n",
       "      <td>9</td>\n",
       "      <td>23</td>\n",
       "      <td>37</td>\n",
       "      <td>9</td>\n",
       "      <td>9</td>\n",
       "      <td>309.6</td>\n",
       "      <td>2014</td>\n",
       "      <td>...</td>\n",
       "      <td>0.0</td>\n",
       "      <td>0.0</td>\n",
       "      <td>0.0</td>\n",
       "      <td>0.0</td>\n",
       "      <td>0.0</td>\n",
       "      <td>0.0</td>\n",
       "      <td>0.0</td>\n",
       "      <td>0</td>\n",
       "      <td>0</td>\n",
       "      <td>0</td>\n",
       "      <td>0</td>\n",
       "      <td>241</td>\n",
       "    </tr>\n",
       "    <tr>\n",
       "      <th>14054</th>\n",
       "      <td>23</td>\n",
       "      <td>37</td>\n",
       "      <td>9</td>\n",
       "      <td>9</td>\n",
       "      <td>60</td>\n",
       "      <td>60</td>\n",
       "      <td>60</td>\n",
       "      <td>60</td>\n",
       "      <td>39</td>\n",
       "      <td>39</td>\n",
       "      <td>5346.7</td>\n",
       "      <td>2014</td>\n",
       "      <td>...</td>\n",
       "      <td>0.0</td>\n",
       "      <td>0.0</td>\n",
       "      <td>0.0</td>\n",
       "      <td>0.0</td>\n",
       "      <td>0.0</td>\n",
       "      <td>0.0</td>\n",
       "      <td>0.0</td>\n",
       "      <td>0</td>\n",
       "      <td>0</td>\n",
       "      <td>0</td>\n",
       "      <td>0</td>\n",
       "      <td>241</td>\n",
       "    </tr>\n",
       "    <tr>\n",
       "      <th>14055</th>\n",
       "      <td>93</td>\n",
       "      <td>2</td>\n",
       "      <td>467</td>\n",
       "      <td>2</td>\n",
       "      <td>93</td>\n",
       "      <td>93</td>\n",
       "      <td>93</td>\n",
       "      <td>2</td>\n",
       "      <td>2</td>\n",
       "      <td>2</td>\n",
       "      <td>4.7</td>\n",
       "      <td>2014</td>\n",
       "      <td>...</td>\n",
       "      <td>0.0</td>\n",
       "      <td>0.0</td>\n",
       "      <td>0.0</td>\n",
       "      <td>0.0</td>\n",
       "      <td>0.0</td>\n",
       "      <td>0.0</td>\n",
       "      <td>0.0</td>\n",
       "      <td>0</td>\n",
       "      <td>0</td>\n",
       "      <td>0</td>\n",
       "      <td>0</td>\n",
       "      <td>241</td>\n",
       "    </tr>\n",
       "    <tr>\n",
       "      <th>14056</th>\n",
       "      <td>3</td>\n",
       "      <td>4</td>\n",
       "      <td>6</td>\n",
       "      <td>10</td>\n",
       "      <td>2</td>\n",
       "      <td>21</td>\n",
       "      <td>3</td>\n",
       "      <td>6</td>\n",
       "      <td>27</td>\n",
       "      <td>65</td>\n",
       "      <td>2.7</td>\n",
       "      <td>2014</td>\n",
       "      <td>...</td>\n",
       "      <td>0.0</td>\n",
       "      <td>0.0</td>\n",
       "      <td>0.0</td>\n",
       "      <td>0.1</td>\n",
       "      <td>0.0</td>\n",
       "      <td>0.0</td>\n",
       "      <td>0.0</td>\n",
       "      <td>0</td>\n",
       "      <td>0</td>\n",
       "      <td>0</td>\n",
       "      <td>2</td>\n",
       "      <td>241</td>\n",
       "    </tr>\n",
       "    <tr>\n",
       "      <th>14057</th>\n",
       "      <td>10</td>\n",
       "      <td>21</td>\n",
       "      <td>65</td>\n",
       "      <td>27</td>\n",
       "      <td>30</td>\n",
       "      <td>3</td>\n",
       "      <td>4</td>\n",
       "      <td>9</td>\n",
       "      <td>4</td>\n",
       "      <td>30</td>\n",
       "      <td>1.1</td>\n",
       "      <td>2014</td>\n",
       "      <td>...</td>\n",
       "      <td>0.0</td>\n",
       "      <td>0.0</td>\n",
       "      <td>0.0</td>\n",
       "      <td>0.1</td>\n",
       "      <td>0.0</td>\n",
       "      <td>0.0</td>\n",
       "      <td>0.1</td>\n",
       "      <td>1</td>\n",
       "      <td>1</td>\n",
       "      <td>1</td>\n",
       "      <td>2</td>\n",
       "      <td>241</td>\n",
       "    </tr>\n",
       "    <tr>\n",
       "      <th>14058</th>\n",
       "      <td>33</td>\n",
       "      <td>4</td>\n",
       "      <td>9</td>\n",
       "      <td>6</td>\n",
       "      <td>10</td>\n",
       "      <td>51</td>\n",
       "      <td>9</td>\n",
       "      <td>33</td>\n",
       "      <td>4</td>\n",
       "      <td>4</td>\n",
       "      <td>1.6</td>\n",
       "      <td>2014</td>\n",
       "      <td>...</td>\n",
       "      <td>0.0</td>\n",
       "      <td>0.0</td>\n",
       "      <td>0.0</td>\n",
       "      <td>0.0</td>\n",
       "      <td>0.0</td>\n",
       "      <td>0.0</td>\n",
       "      <td>0.0</td>\n",
       "      <td>0</td>\n",
       "      <td>0</td>\n",
       "      <td>0</td>\n",
       "      <td>0</td>\n",
       "      <td>241</td>\n",
       "    </tr>\n",
       "    <tr>\n",
       "      <th>14059</th>\n",
       "      <td>4</td>\n",
       "      <td>4</td>\n",
       "      <td>4</td>\n",
       "      <td>43</td>\n",
       "      <td>51</td>\n",
       "      <td>4</td>\n",
       "      <td>3</td>\n",
       "      <td>3</td>\n",
       "      <td>9</td>\n",
       "      <td>4</td>\n",
       "      <td>24.2</td>\n",
       "      <td>2014</td>\n",
       "      <td>...</td>\n",
       "      <td>0.0</td>\n",
       "      <td>0.0</td>\n",
       "      <td>0.0</td>\n",
       "      <td>0.0</td>\n",
       "      <td>0.0</td>\n",
       "      <td>0.0</td>\n",
       "      <td>0.0</td>\n",
       "      <td>0</td>\n",
       "      <td>0</td>\n",
       "      <td>0</td>\n",
       "      <td>2</td>\n",
       "      <td>241</td>\n",
       "    </tr>\n",
       "    <tr>\n",
       "      <th>14060</th>\n",
       "      <td>10</td>\n",
       "      <td>21</td>\n",
       "      <td>0</td>\n",
       "      <td>0</td>\n",
       "      <td>0</td>\n",
       "      <td>0</td>\n",
       "      <td>0</td>\n",
       "      <td>0</td>\n",
       "      <td>0</td>\n",
       "      <td>0</td>\n",
       "      <td>0.0</td>\n",
       "      <td>2014</td>\n",
       "      <td>...</td>\n",
       "      <td>0.0</td>\n",
       "      <td>0.0</td>\n",
       "      <td>0.0</td>\n",
       "      <td>0.0</td>\n",
       "      <td>0.0</td>\n",
       "      <td>0.0</td>\n",
       "      <td>0.0</td>\n",
       "      <td>0</td>\n",
       "      <td>0</td>\n",
       "      <td>0</td>\n",
       "      <td>0</td>\n",
       "      <td>241</td>\n",
       "    </tr>\n",
       "  </tbody>\n",
       "</table>\n",
       "<p>14061 rows × 80 columns</p>\n",
       "</div>"
      ],
      "text/plain": [
       "       site_1  site_2  site_3  site_4  site_5  site_6  site_7  site_8  site_9  \\\n",
       "0         193     575     134       3     134     134       3     134     203   \n",
       "1         417     192     698     254     134      31     396    3673     221   \n",
       "2          55       3      55      55       5     294     417     336     912   \n",
       "3         476    3875     476      55      55      55      55     965     202   \n",
       "4         344      55       5    3667     258     211    4046    2323     697   \n",
       "5         231     697     211     211      55      55     128     174    3986   \n",
       "6         350     575     134       3     134      31     134     396     193   \n",
       "7         262    3866    1638     396      55       3      55       3     202   \n",
       "8          55     336     106     203    1370     523      55     819     106   \n",
       "9        1011     350    3705     350    3750     537     609     609     537   \n",
       "10        611     174     174     467       2       2       6       3       2   \n",
       "11       2800    3359    3929    2505     161     161     118      90       2   \n",
       "12        108     568     618      18      45     108     390      17      90   \n",
       "13         90     735       5     102      22    1309    1309      90     568   \n",
       "14         20      31      20      90       5     118       6       3       2   \n",
       "15         54       2      62      86      54      86      62      54      62   \n",
       "16         54      62      54     143      61      61      61      61     372   \n",
       "17        317     372     317    1077     372    1392    1392    1077     317   \n",
       "18         98      98     317     372    2785     317    1347    1173    1347   \n",
       "19       2785    1173    1347    1347     317     372     317     372    1173   \n",
       "20        372     372    1392       3     317     372       2    1392     464   \n",
       "21        372     317       3     862     317       2     464     574     862   \n",
       "22        317     862     317     574    1077     372     862     317     574   \n",
       "23       2349     372     317     464     862     862     317     464     574   \n",
       "24        574     317     574    2447     811     574     317     574     862   \n",
       "25        574     372     317     464     574     464     317     464     574   \n",
       "26        862     464     464     464     192     464     698     464     344   \n",
       "27        464     464     464     574     464     294     574    1471      43   \n",
       "28          2       2       3       6       2    1833     246    1833     592   \n",
       "29        128     203    1471     212       5     592    1833     523    1570   \n",
       "...       ...     ...     ...     ...     ...     ...     ...     ...     ...   \n",
       "14031      67     582      67     535      37      23      23      85      52   \n",
       "14032     241     241      37      23      23     254      23      37      37   \n",
       "14033      37      23      23      37     112      72      15     139      15   \n",
       "14034     456     456      67      52     217     421      23      37     456   \n",
       "14035      23      23      37      23      37      23      15       2     467   \n",
       "14036      15       2     526     526     526       2      59      59      31   \n",
       "14037      59      31       2    1412       3      59     136       3    1412   \n",
       "14038      59       3       5      15      59       2      18      17      36   \n",
       "14039      22      45       5      15       3      36     107      92      36   \n",
       "14040      36     107      73      15      36     157      36     247      36   \n",
       "14041     261       5     212     646       2     757     460     484     175   \n",
       "14042     251     524     283     175     247      80     283      52     296   \n",
       "14043     174     369      20     119       3       2       6      10     105   \n",
       "14044    1624    1624      45      17       5    1624      18    1624    1028   \n",
       "14045    2255      19      85     497     287     287      23      37      37   \n",
       "14046      69      69     163      23      37      72      15       2       2   \n",
       "14047      15      15      15      15     139     112     265     456      67   \n",
       "14048     421     217       2      65      21      27       6      10       3   \n",
       "14049       9      33      37      23      51       9       6      24       4   \n",
       "14050       9       2      37      23       2       2      64      64      64   \n",
       "14051      64      64      64      64      64      64      64      64      64   \n",
       "14052      64      64       2       9       9      23      37       9       9   \n",
       "14053      23      37       9       9       9       9      23      37       9   \n",
       "14054      23      37       9       9      60      60      60      60      39   \n",
       "14055      93       2     467       2      93      93      93       2       2   \n",
       "14056       3       4       6      10       2      21       3       6      27   \n",
       "14057      10      21      65      27      30       3       4       9       4   \n",
       "14058      33       4       9       6      10      51       9      33       4   \n",
       "14059       4       4       4      43      51       4       3       3       9   \n",
       "14060      10      21       0       0       0       0       0       0       0   \n",
       "\n",
       "       site_10  mean_time_diff  Start_Year  ...  freq_top_site_24  \\\n",
       "0          134             3.3        2013  ...               0.0   \n",
       "1           55            28.4        2013  ...               0.0   \n",
       "2           55            25.8        2013  ...               0.0   \n",
       "3          124             3.0        2013  ...               0.0   \n",
       "4         2323             0.6        2013  ...               0.0   \n",
       "5         3779           109.8        2013  ...               0.0   \n",
       "6          134           151.4        2013  ...               0.0   \n",
       "7          124             2.8        2013  ...               0.0   \n",
       "8            5             0.2        2013  ...               0.0   \n",
       "9          611             0.9        2013  ...               0.0   \n",
       "10        2800          1352.3        2013  ...               0.0   \n",
       "11          90             3.1        2013  ...               0.0   \n",
       "12        2453             0.2        2013  ...               0.0   \n",
       "13          31             1.0        2013  ...               0.0   \n",
       "14           2            20.7        2013  ...               0.0   \n",
       "15         143             1.4        2013  ...               0.0   \n",
       "16         317          1045.2        2013  ...               0.0   \n",
       "17         372             0.3        2013  ...               0.0   \n",
       "18         317             0.8        2013  ...               0.0   \n",
       "19         317             1.8        2013  ...               0.0   \n",
       "20        2033             0.6        2013  ...               0.0   \n",
       "21         372             0.2        2013  ...               0.0   \n",
       "22        2054             0.3        2013  ...               0.0   \n",
       "23         464             0.2        2013  ...               0.0   \n",
       "24         464             0.4        2013  ...               0.0   \n",
       "25         574             3.8        2013  ...               0.0   \n",
       "26         128             1.2        2013  ...               0.0   \n",
       "27         467             4.2        2013  ...               0.0   \n",
       "28        2039             1.7        2013  ...               0.0   \n",
       "29         592             0.3        2013  ...               0.0   \n",
       "...        ...             ...         ...  ...               ...   \n",
       "14031      241           152.5        2014  ...               0.0   \n",
       "14032       23           426.8        2014  ...               0.0   \n",
       "14033      265           373.7        2014  ...               0.0   \n",
       "14034       37           195.8        2014  ...               0.0   \n",
       "14035       72           404.4        2014  ...               0.0   \n",
       "14036        3             3.4        2014  ...               0.0   \n",
       "14037       59             0.2        2014  ...               0.0   \n",
       "14038     1412             0.2        2014  ...               0.0   \n",
       "14039        3             0.2        2014  ...               0.0   \n",
       "14040       36             0.5        2014  ...               0.0   \n",
       "14041       31             0.2        2014  ...               0.0   \n",
       "14042      283             0.3        2014  ...               0.0   \n",
       "14043     3964            15.5        2014  ...               0.0   \n",
       "14044     1028             0.4        2014  ...               0.0   \n",
       "14045       23           280.7        2014  ...               0.0   \n",
       "14046       15           328.9        2014  ...               0.0   \n",
       "14047      217            16.6        2014  ...               0.0   \n",
       "14048       30             7.4        2014  ...               0.0   \n",
       "14049       88           184.4        2014  ...               0.1   \n",
       "14050       64            47.5        2014  ...               0.0   \n",
       "14051       64             2.7        2014  ...               0.0   \n",
       "14052        9           251.2        2014  ...               0.0   \n",
       "14053        9           309.6        2014  ...               0.0   \n",
       "14054       39          5346.7        2014  ...               0.0   \n",
       "14055        2             4.7        2014  ...               0.0   \n",
       "14056       65             2.7        2014  ...               0.0   \n",
       "14057       30             1.1        2014  ...               0.0   \n",
       "14058        4             1.6        2014  ...               0.0   \n",
       "14059        4            24.2        2014  ...               0.0   \n",
       "14060        0             0.0        2014  ...               0.0   \n",
       "\n",
       "       freq_top_site_25  freq_top_site_26  freq_top_site_27  freq_top_site_28  \\\n",
       "0                   0.0               0.0               0.0               0.0   \n",
       "1                   0.0               0.0               0.0               0.0   \n",
       "2                   0.0               0.0               0.0               0.0   \n",
       "3                   0.0               0.0               0.0               0.0   \n",
       "4                   0.0               0.0               0.0               0.0   \n",
       "5                   0.0               0.0               0.0               0.0   \n",
       "6                   0.0               0.0               0.0               0.0   \n",
       "7                   0.0               0.0               0.0               0.0   \n",
       "8                   0.0               0.0               0.0               0.0   \n",
       "9                   0.0               0.0               0.0               0.0   \n",
       "10                  0.0               0.0               0.0               0.0   \n",
       "11                  0.0               0.0               0.0               0.0   \n",
       "12                  0.0               0.0               0.0               0.0   \n",
       "13                  0.0               0.0               0.0               0.0   \n",
       "14                  0.0               0.0               0.0               0.0   \n",
       "15                  0.0               0.0               0.0               0.0   \n",
       "16                  0.0               0.0               0.0               0.0   \n",
       "17                  0.0               0.0               0.0               0.0   \n",
       "18                  0.0               0.0               0.0               0.0   \n",
       "19                  0.0               0.0               0.0               0.0   \n",
       "20                  0.0               0.0               0.0               0.0   \n",
       "21                  0.0               0.0               0.0               0.0   \n",
       "22                  0.0               0.0               0.0               0.0   \n",
       "23                  0.0               0.0               0.0               0.0   \n",
       "24                  0.0               0.0               0.0               0.0   \n",
       "25                  0.0               0.0               0.0               0.0   \n",
       "26                  0.0               0.0               0.0               0.0   \n",
       "27                  0.0               0.0               0.0               0.0   \n",
       "28                  0.0               0.0               0.0               0.0   \n",
       "29                  0.0               0.0               0.0               0.0   \n",
       "...                 ...               ...               ...               ...   \n",
       "14031               0.0               0.0               0.0               0.0   \n",
       "14032               0.0               0.0               0.0               0.0   \n",
       "14033               0.0               0.0               0.0               0.0   \n",
       "14034               0.0               0.0               0.0               0.0   \n",
       "14035               0.0               0.0               0.0               0.0   \n",
       "14036               0.0               0.0               0.0               0.0   \n",
       "14037               0.0               0.0               0.0               0.0   \n",
       "14038               0.0               0.0               0.0               0.0   \n",
       "14039               0.0               0.0               0.0               0.0   \n",
       "14040               0.0               0.0               0.0               0.0   \n",
       "14041               0.0               0.0               0.0               0.0   \n",
       "14042               0.0               0.0               0.0               0.0   \n",
       "14043               0.0               0.0               0.0               0.0   \n",
       "14044               0.0               0.0               0.0               0.0   \n",
       "14045               0.0               0.0               0.0               0.0   \n",
       "14046               0.0               0.0               0.0               0.0   \n",
       "14047               0.0               0.0               0.0               0.0   \n",
       "14048               0.0               0.0               0.1               0.0   \n",
       "14049               0.0               0.0               0.0               0.0   \n",
       "14050               0.0               0.0               0.0               0.0   \n",
       "14051               0.0               0.0               0.0               0.0   \n",
       "14052               0.0               0.0               0.0               0.0   \n",
       "14053               0.0               0.0               0.0               0.0   \n",
       "14054               0.0               0.0               0.0               0.0   \n",
       "14055               0.0               0.0               0.0               0.0   \n",
       "14056               0.0               0.0               0.1               0.0   \n",
       "14057               0.0               0.0               0.1               0.0   \n",
       "14058               0.0               0.0               0.0               0.0   \n",
       "14059               0.0               0.0               0.0               0.0   \n",
       "14060               0.0               0.0               0.0               0.0   \n",
       "\n",
       "       freq_top_site_29  freq_top_site_30  count_facebook  count_youtube  \\\n",
       "0                   0.0               0.0               0              0   \n",
       "1                   0.0               0.0               0              0   \n",
       "2                   0.0               0.0               1              1   \n",
       "3                   0.0               0.0               0              0   \n",
       "4                   0.0               0.0               1              1   \n",
       "5                   0.0               0.0               0              0   \n",
       "6                   0.0               0.0               0              0   \n",
       "7                   0.0               0.0               0              0   \n",
       "8                   0.0               0.0               0              0   \n",
       "9                   0.0               0.0               0              0   \n",
       "10                  0.0               0.0               0              0   \n",
       "11                  0.0               0.0               0              0   \n",
       "12                  0.0               0.0               0              0   \n",
       "13                  0.0               0.0               1              1   \n",
       "14                  0.0               0.0               1              1   \n",
       "15                  0.0               0.0               0              0   \n",
       "16                  0.0               0.0               0              0   \n",
       "17                  0.0               0.0               0              0   \n",
       "18                  0.0               0.0               0              0   \n",
       "19                  0.0               0.0               0              0   \n",
       "20                  0.0               0.0               0              0   \n",
       "21                  0.0               0.0               0              0   \n",
       "22                  0.0               0.0               0              0   \n",
       "23                  0.0               0.0               0              0   \n",
       "24                  0.0               0.0               0              0   \n",
       "25                  0.0               0.0               0              0   \n",
       "26                  0.0               0.0               0              0   \n",
       "27                  0.0               0.0               0              0   \n",
       "28                  0.0               0.0               0              0   \n",
       "29                  0.0               0.0               1              1   \n",
       "...                 ...               ...             ...            ...   \n",
       "14031               0.0               0.0               0              0   \n",
       "14032               0.0               0.0               0              0   \n",
       "14033               0.0               0.0               0              0   \n",
       "14034               0.0               0.0               0              0   \n",
       "14035               0.0               0.0               0              0   \n",
       "14036               0.0               0.0               0              0   \n",
       "14037               0.0               0.0               0              0   \n",
       "14038               0.0               0.0               1              1   \n",
       "14039               0.0               0.0               1              1   \n",
       "14040               0.0               0.0               0              0   \n",
       "14041               0.0               0.0               1              1   \n",
       "14042               0.0               0.0               0              0   \n",
       "14043               0.0               0.0               0              0   \n",
       "14044               0.0               0.0               1              1   \n",
       "14045               0.0               0.0               0              0   \n",
       "14046               0.0               0.0               0              0   \n",
       "14047               0.0               0.0               0              0   \n",
       "14048               0.0               0.0               0              0   \n",
       "14049               0.0               0.0               0              0   \n",
       "14050               0.0               0.0               0              0   \n",
       "14051               0.0               0.0               0              0   \n",
       "14052               0.0               0.0               0              0   \n",
       "14053               0.0               0.0               0              0   \n",
       "14054               0.0               0.0               0              0   \n",
       "14055               0.0               0.0               0              0   \n",
       "14056               0.0               0.0               0              0   \n",
       "14057               0.0               0.1               1              1   \n",
       "14058               0.0               0.0               0              0   \n",
       "14059               0.0               0.0               0              0   \n",
       "14060               0.0               0.0               0              0   \n",
       "\n",
       "       count_twitter  count_google  user_id  \n",
       "0                  0             2       31  \n",
       "1                  0             0       31  \n",
       "2                  1             2       31  \n",
       "3                  0             0       31  \n",
       "4                  1             1       31  \n",
       "5                  0             0       31  \n",
       "6                  0             1       31  \n",
       "7                  0             2       31  \n",
       "8                  0             0       31  \n",
       "9                  0             0       31  \n",
       "10                 0             1       31  \n",
       "11                 0             0       31  \n",
       "12                 0             0       31  \n",
       "13                 1             1       31  \n",
       "14                 3             4       31  \n",
       "15                 0             0       31  \n",
       "16                 0             0       31  \n",
       "17                 0             0       31  \n",
       "18                 0             0       31  \n",
       "19                 0             0       31  \n",
       "20                 0             1       31  \n",
       "21                 0             1       31  \n",
       "22                 0             0       31  \n",
       "23                 0             0       31  \n",
       "24                 0             0       31  \n",
       "25                 0             0       31  \n",
       "26                 0             0       31  \n",
       "27                 0             0       31  \n",
       "28                 0             1       31  \n",
       "29                 1             1       31  \n",
       "...              ...           ...      ...  \n",
       "14031              0             0      241  \n",
       "14032              0             0      241  \n",
       "14033              0             0      241  \n",
       "14034              0             0      241  \n",
       "14035              0             0      241  \n",
       "14036              0             0      241  \n",
       "14037              0             2      241  \n",
       "14038              1             2      241  \n",
       "14039              1             2      241  \n",
       "14040              0             0      241  \n",
       "14041              1             1      241  \n",
       "14042              0             0      241  \n",
       "14043              1             2      241  \n",
       "14044              1             1      241  \n",
       "14045              0             0      241  \n",
       "14046              0             0      241  \n",
       "14047              0             0      241  \n",
       "14048              0             1      241  \n",
       "14049              0             0      241  \n",
       "14050              0             0      241  \n",
       "14051              0             0      241  \n",
       "14052              0             0      241  \n",
       "14053              0             0      241  \n",
       "14054              0             0      241  \n",
       "14055              0             0      241  \n",
       "14056              0             2      241  \n",
       "14057              1             2      241  \n",
       "14058              0             0      241  \n",
       "14059              0             2      241  \n",
       "14060              0             0      241  \n",
       "\n",
       "[14061 rows x 80 columns]"
      ]
     },
     "execution_count": 42,
     "metadata": {},
     "output_type": "execute_result"
    }
   ],
   "source": [
    "new_train_data_10users"
   ]
  },
  {
   "cell_type": "code",
   "execution_count": 43,
   "metadata": {},
   "outputs": [
    {
     "name": "stderr",
     "output_type": "stream",
     "text": [
      "150it [08:20,  2.27s/it]\n"
     ]
    }
   ],
   "source": [
    "#функция долго обрабатывается (наиболее узкие места связаны с вызовом функции pd.Timedelta)\n",
    "new_train_data_150users = feature_engineering(os.path.join(PATH_TO_DATA, \n",
    "                                                         '150users'), \n",
    "                  site_freq_path=os.path.join(PATH_TO_DATA, \n",
    "                                              'site_freq_150users.pkl'),\n",
    "                  features=features, session_length=10)"
   ]
  },
  {
   "cell_type": "code",
   "execution_count": 44,
   "metadata": {
    "scrolled": true
   },
   "outputs": [
    {
     "data": {
      "text/html": [
       "<div>\n",
       "<style scoped>\n",
       "    .dataframe tbody tr th:only-of-type {\n",
       "        vertical-align: middle;\n",
       "    }\n",
       "\n",
       "    .dataframe tbody tr th {\n",
       "        vertical-align: top;\n",
       "    }\n",
       "\n",
       "    .dataframe thead th {\n",
       "        text-align: right;\n",
       "    }\n",
       "</style>\n",
       "<table border=\"1\" class=\"dataframe\">\n",
       "  <thead>\n",
       "    <tr style=\"text-align: right;\">\n",
       "      <th></th>\n",
       "      <th>site_1</th>\n",
       "      <th>site_2</th>\n",
       "      <th>site_3</th>\n",
       "      <th>site_4</th>\n",
       "      <th>site_5</th>\n",
       "      <th>site_6</th>\n",
       "      <th>site_7</th>\n",
       "      <th>site_8</th>\n",
       "      <th>site_9</th>\n",
       "      <th>site_10</th>\n",
       "      <th>mean_time_diff</th>\n",
       "      <th>Start_Year</th>\n",
       "      <th>...</th>\n",
       "      <th>freq_top_site_24</th>\n",
       "      <th>freq_top_site_25</th>\n",
       "      <th>freq_top_site_26</th>\n",
       "      <th>freq_top_site_27</th>\n",
       "      <th>freq_top_site_28</th>\n",
       "      <th>freq_top_site_29</th>\n",
       "      <th>freq_top_site_30</th>\n",
       "      <th>count_facebook</th>\n",
       "      <th>count_youtube</th>\n",
       "      <th>count_twitter</th>\n",
       "      <th>count_google</th>\n",
       "      <th>user_id</th>\n",
       "    </tr>\n",
       "  </thead>\n",
       "  <tbody>\n",
       "    <tr>\n",
       "      <th>0</th>\n",
       "      <td>1</td>\n",
       "      <td>1</td>\n",
       "      <td>4</td>\n",
       "      <td>2</td>\n",
       "      <td>1</td>\n",
       "      <td>4</td>\n",
       "      <td>1</td>\n",
       "      <td>2</td>\n",
       "      <td>1295</td>\n",
       "      <td>321</td>\n",
       "      <td>5.7</td>\n",
       "      <td>2013</td>\n",
       "      <td>...</td>\n",
       "      <td>0.0</td>\n",
       "      <td>0.0</td>\n",
       "      <td>0.0</td>\n",
       "      <td>0.0</td>\n",
       "      <td>0.0</td>\n",
       "      <td>0.0</td>\n",
       "      <td>0.0</td>\n",
       "      <td>0</td>\n",
       "      <td>0</td>\n",
       "      <td>0</td>\n",
       "      <td>2</td>\n",
       "      <td>6</td>\n",
       "    </tr>\n",
       "    <tr>\n",
       "      <th>1</th>\n",
       "      <td>2</td>\n",
       "      <td>23</td>\n",
       "      <td>1506</td>\n",
       "      <td>1295</td>\n",
       "      <td>321</td>\n",
       "      <td>321</td>\n",
       "      <td>113</td>\n",
       "      <td>73</td>\n",
       "      <td>49</td>\n",
       "      <td>49</td>\n",
       "      <td>161.8</td>\n",
       "      <td>2013</td>\n",
       "      <td>...</td>\n",
       "      <td>0.0</td>\n",
       "      <td>0.0</td>\n",
       "      <td>0.0</td>\n",
       "      <td>0.0</td>\n",
       "      <td>0.0</td>\n",
       "      <td>0.0</td>\n",
       "      <td>0.0</td>\n",
       "      <td>0</td>\n",
       "      <td>0</td>\n",
       "      <td>0</td>\n",
       "      <td>1</td>\n",
       "      <td>6</td>\n",
       "    </tr>\n",
       "    <tr>\n",
       "      <th>2</th>\n",
       "      <td>321</td>\n",
       "      <td>205</td>\n",
       "      <td>1</td>\n",
       "      <td>1</td>\n",
       "      <td>1</td>\n",
       "      <td>1</td>\n",
       "      <td>73</td>\n",
       "      <td>321</td>\n",
       "      <td>2</td>\n",
       "      <td>1</td>\n",
       "      <td>201.0</td>\n",
       "      <td>2013</td>\n",
       "      <td>...</td>\n",
       "      <td>0.0</td>\n",
       "      <td>0.0</td>\n",
       "      <td>0.0</td>\n",
       "      <td>0.0</td>\n",
       "      <td>0.0</td>\n",
       "      <td>0.0</td>\n",
       "      <td>0.0</td>\n",
       "      <td>0</td>\n",
       "      <td>0</td>\n",
       "      <td>0</td>\n",
       "      <td>1</td>\n",
       "      <td>6</td>\n",
       "    </tr>\n",
       "    <tr>\n",
       "      <th>3</th>\n",
       "      <td>1</td>\n",
       "      <td>1</td>\n",
       "      <td>7145</td>\n",
       "      <td>7145</td>\n",
       "      <td>5696</td>\n",
       "      <td>7145</td>\n",
       "      <td>7145</td>\n",
       "      <td>1</td>\n",
       "      <td>35</td>\n",
       "      <td>1</td>\n",
       "      <td>200.6</td>\n",
       "      <td>2013</td>\n",
       "      <td>...</td>\n",
       "      <td>0.0</td>\n",
       "      <td>0.0</td>\n",
       "      <td>0.0</td>\n",
       "      <td>0.0</td>\n",
       "      <td>0.0</td>\n",
       "      <td>0.0</td>\n",
       "      <td>0.0</td>\n",
       "      <td>0</td>\n",
       "      <td>0</td>\n",
       "      <td>0</td>\n",
       "      <td>0</td>\n",
       "      <td>6</td>\n",
       "    </tr>\n",
       "    <tr>\n",
       "      <th>4</th>\n",
       "      <td>1</td>\n",
       "      <td>1</td>\n",
       "      <td>76</td>\n",
       "      <td>1</td>\n",
       "      <td>58</td>\n",
       "      <td>50</td>\n",
       "      <td>58</td>\n",
       "      <td>50</td>\n",
       "      <td>83</td>\n",
       "      <td>76</td>\n",
       "      <td>1.0</td>\n",
       "      <td>2013</td>\n",
       "      <td>...</td>\n",
       "      <td>0.0</td>\n",
       "      <td>0.0</td>\n",
       "      <td>0.0</td>\n",
       "      <td>0.0</td>\n",
       "      <td>0.0</td>\n",
       "      <td>0.0</td>\n",
       "      <td>0.0</td>\n",
       "      <td>0</td>\n",
       "      <td>0</td>\n",
       "      <td>0</td>\n",
       "      <td>0</td>\n",
       "      <td>6</td>\n",
       "    </tr>\n",
       "    <tr>\n",
       "      <th>5</th>\n",
       "      <td>50</td>\n",
       "      <td>58</td>\n",
       "      <td>94</td>\n",
       "      <td>92</td>\n",
       "      <td>50</td>\n",
       "      <td>76</td>\n",
       "      <td>76</td>\n",
       "      <td>83</td>\n",
       "      <td>92</td>\n",
       "      <td>50</td>\n",
       "      <td>0.2</td>\n",
       "      <td>2013</td>\n",
       "      <td>...</td>\n",
       "      <td>0.0</td>\n",
       "      <td>0.0</td>\n",
       "      <td>0.0</td>\n",
       "      <td>0.0</td>\n",
       "      <td>0.0</td>\n",
       "      <td>0.0</td>\n",
       "      <td>0.0</td>\n",
       "      <td>0</td>\n",
       "      <td>0</td>\n",
       "      <td>0</td>\n",
       "      <td>0</td>\n",
       "      <td>6</td>\n",
       "    </tr>\n",
       "    <tr>\n",
       "      <th>6</th>\n",
       "      <td>58</td>\n",
       "      <td>94</td>\n",
       "      <td>58</td>\n",
       "      <td>92</td>\n",
       "      <td>76</td>\n",
       "      <td>83</td>\n",
       "      <td>50</td>\n",
       "      <td>94</td>\n",
       "      <td>94</td>\n",
       "      <td>76</td>\n",
       "      <td>0.7</td>\n",
       "      <td>2013</td>\n",
       "      <td>...</td>\n",
       "      <td>0.0</td>\n",
       "      <td>0.0</td>\n",
       "      <td>0.0</td>\n",
       "      <td>0.0</td>\n",
       "      <td>0.0</td>\n",
       "      <td>0.0</td>\n",
       "      <td>0.0</td>\n",
       "      <td>0</td>\n",
       "      <td>0</td>\n",
       "      <td>0</td>\n",
       "      <td>0</td>\n",
       "      <td>6</td>\n",
       "    </tr>\n",
       "    <tr>\n",
       "      <th>7</th>\n",
       "      <td>83</td>\n",
       "      <td>50</td>\n",
       "      <td>58</td>\n",
       "      <td>92</td>\n",
       "      <td>58</td>\n",
       "      <td>94</td>\n",
       "      <td>50</td>\n",
       "      <td>50</td>\n",
       "      <td>76</td>\n",
       "      <td>58</td>\n",
       "      <td>0.9</td>\n",
       "      <td>2013</td>\n",
       "      <td>...</td>\n",
       "      <td>0.0</td>\n",
       "      <td>0.0</td>\n",
       "      <td>0.0</td>\n",
       "      <td>0.0</td>\n",
       "      <td>0.0</td>\n",
       "      <td>0.0</td>\n",
       "      <td>0.0</td>\n",
       "      <td>0</td>\n",
       "      <td>0</td>\n",
       "      <td>0</td>\n",
       "      <td>0</td>\n",
       "      <td>6</td>\n",
       "    </tr>\n",
       "    <tr>\n",
       "      <th>8</th>\n",
       "      <td>94</td>\n",
       "      <td>76</td>\n",
       "      <td>83</td>\n",
       "      <td>50</td>\n",
       "      <td>92</td>\n",
       "      <td>58</td>\n",
       "      <td>7145</td>\n",
       "      <td>76</td>\n",
       "      <td>50</td>\n",
       "      <td>58</td>\n",
       "      <td>83.5</td>\n",
       "      <td>2013</td>\n",
       "      <td>...</td>\n",
       "      <td>0.0</td>\n",
       "      <td>0.0</td>\n",
       "      <td>0.0</td>\n",
       "      <td>0.0</td>\n",
       "      <td>0.0</td>\n",
       "      <td>0.0</td>\n",
       "      <td>0.0</td>\n",
       "      <td>0</td>\n",
       "      <td>0</td>\n",
       "      <td>0</td>\n",
       "      <td>0</td>\n",
       "      <td>6</td>\n",
       "    </tr>\n",
       "    <tr>\n",
       "      <th>9</th>\n",
       "      <td>94</td>\n",
       "      <td>92</td>\n",
       "      <td>76</td>\n",
       "      <td>58</td>\n",
       "      <td>50</td>\n",
       "      <td>92</td>\n",
       "      <td>94</td>\n",
       "      <td>50</td>\n",
       "      <td>58</td>\n",
       "      <td>83</td>\n",
       "      <td>0.1</td>\n",
       "      <td>2013</td>\n",
       "      <td>...</td>\n",
       "      <td>0.0</td>\n",
       "      <td>0.0</td>\n",
       "      <td>0.0</td>\n",
       "      <td>0.0</td>\n",
       "      <td>0.0</td>\n",
       "      <td>0.0</td>\n",
       "      <td>0.0</td>\n",
       "      <td>0</td>\n",
       "      <td>0</td>\n",
       "      <td>0</td>\n",
       "      <td>0</td>\n",
       "      <td>6</td>\n",
       "    </tr>\n",
       "    <tr>\n",
       "      <th>10</th>\n",
       "      <td>94</td>\n",
       "      <td>76</td>\n",
       "      <td>50</td>\n",
       "      <td>83</td>\n",
       "      <td>58</td>\n",
       "      <td>92</td>\n",
       "      <td>50</td>\n",
       "      <td>94</td>\n",
       "      <td>58</td>\n",
       "      <td>92</td>\n",
       "      <td>0.1</td>\n",
       "      <td>2013</td>\n",
       "      <td>...</td>\n",
       "      <td>0.0</td>\n",
       "      <td>0.0</td>\n",
       "      <td>0.0</td>\n",
       "      <td>0.0</td>\n",
       "      <td>0.0</td>\n",
       "      <td>0.0</td>\n",
       "      <td>0.0</td>\n",
       "      <td>0</td>\n",
       "      <td>0</td>\n",
       "      <td>0</td>\n",
       "      <td>0</td>\n",
       "      <td>6</td>\n",
       "    </tr>\n",
       "    <tr>\n",
       "      <th>11</th>\n",
       "      <td>94</td>\n",
       "      <td>83</td>\n",
       "      <td>92</td>\n",
       "      <td>58</td>\n",
       "      <td>50</td>\n",
       "      <td>220</td>\n",
       "      <td>92</td>\n",
       "      <td>94</td>\n",
       "      <td>58</td>\n",
       "      <td>83</td>\n",
       "      <td>0.8</td>\n",
       "      <td>2013</td>\n",
       "      <td>...</td>\n",
       "      <td>0.0</td>\n",
       "      <td>0.0</td>\n",
       "      <td>0.0</td>\n",
       "      <td>0.0</td>\n",
       "      <td>0.0</td>\n",
       "      <td>0.0</td>\n",
       "      <td>0.0</td>\n",
       "      <td>0</td>\n",
       "      <td>0</td>\n",
       "      <td>0</td>\n",
       "      <td>0</td>\n",
       "      <td>6</td>\n",
       "    </tr>\n",
       "    <tr>\n",
       "      <th>12</th>\n",
       "      <td>76</td>\n",
       "      <td>233</td>\n",
       "      <td>233</td>\n",
       "      <td>50</td>\n",
       "      <td>220</td>\n",
       "      <td>58</td>\n",
       "      <td>233</td>\n",
       "      <td>58</td>\n",
       "      <td>233</td>\n",
       "      <td>50</td>\n",
       "      <td>0.5</td>\n",
       "      <td>2013</td>\n",
       "      <td>...</td>\n",
       "      <td>0.0</td>\n",
       "      <td>0.0</td>\n",
       "      <td>0.0</td>\n",
       "      <td>0.0</td>\n",
       "      <td>0.0</td>\n",
       "      <td>0.0</td>\n",
       "      <td>0.0</td>\n",
       "      <td>0</td>\n",
       "      <td>0</td>\n",
       "      <td>0</td>\n",
       "      <td>0</td>\n",
       "      <td>6</td>\n",
       "    </tr>\n",
       "    <tr>\n",
       "      <th>13</th>\n",
       "      <td>220</td>\n",
       "      <td>83</td>\n",
       "      <td>76</td>\n",
       "      <td>50</td>\n",
       "      <td>92</td>\n",
       "      <td>94</td>\n",
       "      <td>92</td>\n",
       "      <td>76</td>\n",
       "      <td>58</td>\n",
       "      <td>50</td>\n",
       "      <td>0.4</td>\n",
       "      <td>2013</td>\n",
       "      <td>...</td>\n",
       "      <td>0.0</td>\n",
       "      <td>0.0</td>\n",
       "      <td>0.0</td>\n",
       "      <td>0.0</td>\n",
       "      <td>0.0</td>\n",
       "      <td>0.0</td>\n",
       "      <td>0.0</td>\n",
       "      <td>0</td>\n",
       "      <td>0</td>\n",
       "      <td>0</td>\n",
       "      <td>0</td>\n",
       "      <td>6</td>\n",
       "    </tr>\n",
       "    <tr>\n",
       "      <th>14</th>\n",
       "      <td>94</td>\n",
       "      <td>83</td>\n",
       "      <td>94</td>\n",
       "      <td>92</td>\n",
       "      <td>92</td>\n",
       "      <td>92</td>\n",
       "      <td>58</td>\n",
       "      <td>92</td>\n",
       "      <td>58</td>\n",
       "      <td>50</td>\n",
       "      <td>12.0</td>\n",
       "      <td>2013</td>\n",
       "      <td>...</td>\n",
       "      <td>0.0</td>\n",
       "      <td>0.0</td>\n",
       "      <td>0.0</td>\n",
       "      <td>0.0</td>\n",
       "      <td>0.0</td>\n",
       "      <td>0.0</td>\n",
       "      <td>0.0</td>\n",
       "      <td>0</td>\n",
       "      <td>0</td>\n",
       "      <td>0</td>\n",
       "      <td>0</td>\n",
       "      <td>6</td>\n",
       "    </tr>\n",
       "    <tr>\n",
       "      <th>15</th>\n",
       "      <td>94</td>\n",
       "      <td>76</td>\n",
       "      <td>92</td>\n",
       "      <td>83</td>\n",
       "      <td>50</td>\n",
       "      <td>353</td>\n",
       "      <td>1</td>\n",
       "      <td>4</td>\n",
       "      <td>2</td>\n",
       "      <td>1</td>\n",
       "      <td>7948.6</td>\n",
       "      <td>2013</td>\n",
       "      <td>...</td>\n",
       "      <td>0.0</td>\n",
       "      <td>0.0</td>\n",
       "      <td>0.0</td>\n",
       "      <td>0.0</td>\n",
       "      <td>0.0</td>\n",
       "      <td>0.0</td>\n",
       "      <td>0.0</td>\n",
       "      <td>0</td>\n",
       "      <td>0</td>\n",
       "      <td>0</td>\n",
       "      <td>1</td>\n",
       "      <td>6</td>\n",
       "    </tr>\n",
       "    <tr>\n",
       "      <th>16</th>\n",
       "      <td>4</td>\n",
       "      <td>2</td>\n",
       "      <td>1</td>\n",
       "      <td>1</td>\n",
       "      <td>2</td>\n",
       "      <td>4</td>\n",
       "      <td>1</td>\n",
       "      <td>2</td>\n",
       "      <td>4</td>\n",
       "      <td>1</td>\n",
       "      <td>83.3</td>\n",
       "      <td>2013</td>\n",
       "      <td>...</td>\n",
       "      <td>0.0</td>\n",
       "      <td>0.0</td>\n",
       "      <td>0.0</td>\n",
       "      <td>0.0</td>\n",
       "      <td>0.0</td>\n",
       "      <td>0.0</td>\n",
       "      <td>0.0</td>\n",
       "      <td>0</td>\n",
       "      <td>0</td>\n",
       "      <td>0</td>\n",
       "      <td>3</td>\n",
       "      <td>6</td>\n",
       "    </tr>\n",
       "    <tr>\n",
       "      <th>17</th>\n",
       "      <td>1</td>\n",
       "      <td>4</td>\n",
       "      <td>2</td>\n",
       "      <td>1</td>\n",
       "      <td>2</td>\n",
       "      <td>1</td>\n",
       "      <td>4</td>\n",
       "      <td>14</td>\n",
       "      <td>46</td>\n",
       "      <td>14</td>\n",
       "      <td>101.1</td>\n",
       "      <td>2013</td>\n",
       "      <td>...</td>\n",
       "      <td>0.0</td>\n",
       "      <td>0.0</td>\n",
       "      <td>0.0</td>\n",
       "      <td>0.0</td>\n",
       "      <td>0.0</td>\n",
       "      <td>0.0</td>\n",
       "      <td>0.0</td>\n",
       "      <td>0</td>\n",
       "      <td>0</td>\n",
       "      <td>0</td>\n",
       "      <td>2</td>\n",
       "      <td>6</td>\n",
       "    </tr>\n",
       "    <tr>\n",
       "      <th>18</th>\n",
       "      <td>51</td>\n",
       "      <td>2</td>\n",
       "      <td>14</td>\n",
       "      <td>1</td>\n",
       "      <td>8</td>\n",
       "      <td>4</td>\n",
       "      <td>14</td>\n",
       "      <td>46</td>\n",
       "      <td>51</td>\n",
       "      <td>1</td>\n",
       "      <td>15.7</td>\n",
       "      <td>2013</td>\n",
       "      <td>...</td>\n",
       "      <td>0.0</td>\n",
       "      <td>0.0</td>\n",
       "      <td>0.0</td>\n",
       "      <td>0.0</td>\n",
       "      <td>0.0</td>\n",
       "      <td>0.0</td>\n",
       "      <td>0.0</td>\n",
       "      <td>0</td>\n",
       "      <td>0</td>\n",
       "      <td>0</td>\n",
       "      <td>1</td>\n",
       "      <td>6</td>\n",
       "    </tr>\n",
       "    <tr>\n",
       "      <th>19</th>\n",
       "      <td>4</td>\n",
       "      <td>8</td>\n",
       "      <td>7</td>\n",
       "      <td>7</td>\n",
       "      <td>42</td>\n",
       "      <td>2</td>\n",
       "      <td>8</td>\n",
       "      <td>14</td>\n",
       "      <td>7</td>\n",
       "      <td>56</td>\n",
       "      <td>28.2</td>\n",
       "      <td>2013</td>\n",
       "      <td>...</td>\n",
       "      <td>0.0</td>\n",
       "      <td>0.0</td>\n",
       "      <td>0.0</td>\n",
       "      <td>0.0</td>\n",
       "      <td>0.0</td>\n",
       "      <td>0.0</td>\n",
       "      <td>0.0</td>\n",
       "      <td>0</td>\n",
       "      <td>0</td>\n",
       "      <td>0</td>\n",
       "      <td>1</td>\n",
       "      <td>6</td>\n",
       "    </tr>\n",
       "    <tr>\n",
       "      <th>20</th>\n",
       "      <td>42</td>\n",
       "      <td>8</td>\n",
       "      <td>192</td>\n",
       "      <td>8</td>\n",
       "      <td>4</td>\n",
       "      <td>7</td>\n",
       "      <td>14</td>\n",
       "      <td>8</td>\n",
       "      <td>56</td>\n",
       "      <td>7</td>\n",
       "      <td>4.3</td>\n",
       "      <td>2013</td>\n",
       "      <td>...</td>\n",
       "      <td>0.0</td>\n",
       "      <td>0.0</td>\n",
       "      <td>0.0</td>\n",
       "      <td>0.0</td>\n",
       "      <td>0.0</td>\n",
       "      <td>0.0</td>\n",
       "      <td>0.0</td>\n",
       "      <td>0</td>\n",
       "      <td>0</td>\n",
       "      <td>0</td>\n",
       "      <td>0</td>\n",
       "      <td>6</td>\n",
       "    </tr>\n",
       "    <tr>\n",
       "      <th>21</th>\n",
       "      <td>8</td>\n",
       "      <td>192</td>\n",
       "      <td>7</td>\n",
       "      <td>1</td>\n",
       "      <td>2</td>\n",
       "      <td>4</td>\n",
       "      <td>1</td>\n",
       "      <td>2</td>\n",
       "      <td>1</td>\n",
       "      <td>4</td>\n",
       "      <td>505.6</td>\n",
       "      <td>2013</td>\n",
       "      <td>...</td>\n",
       "      <td>0.0</td>\n",
       "      <td>0.0</td>\n",
       "      <td>0.0</td>\n",
       "      <td>0.0</td>\n",
       "      <td>0.0</td>\n",
       "      <td>0.0</td>\n",
       "      <td>0.0</td>\n",
       "      <td>0</td>\n",
       "      <td>0</td>\n",
       "      <td>0</td>\n",
       "      <td>2</td>\n",
       "      <td>6</td>\n",
       "    </tr>\n",
       "    <tr>\n",
       "      <th>22</th>\n",
       "      <td>1</td>\n",
       "      <td>1</td>\n",
       "      <td>1</td>\n",
       "      <td>4</td>\n",
       "      <td>1</td>\n",
       "      <td>2</td>\n",
       "      <td>1</td>\n",
       "      <td>1</td>\n",
       "      <td>605</td>\n",
       "      <td>4</td>\n",
       "      <td>7787.1</td>\n",
       "      <td>2013</td>\n",
       "      <td>...</td>\n",
       "      <td>0.0</td>\n",
       "      <td>0.0</td>\n",
       "      <td>0.0</td>\n",
       "      <td>0.0</td>\n",
       "      <td>0.0</td>\n",
       "      <td>0.0</td>\n",
       "      <td>0.0</td>\n",
       "      <td>0</td>\n",
       "      <td>0</td>\n",
       "      <td>0</td>\n",
       "      <td>1</td>\n",
       "      <td>6</td>\n",
       "    </tr>\n",
       "    <tr>\n",
       "      <th>23</th>\n",
       "      <td>2</td>\n",
       "      <td>605</td>\n",
       "      <td>605</td>\n",
       "      <td>1</td>\n",
       "      <td>1</td>\n",
       "      <td>1</td>\n",
       "      <td>2</td>\n",
       "      <td>4</td>\n",
       "      <td>1</td>\n",
       "      <td>1</td>\n",
       "      <td>14.0</td>\n",
       "      <td>2013</td>\n",
       "      <td>...</td>\n",
       "      <td>0.0</td>\n",
       "      <td>0.0</td>\n",
       "      <td>0.0</td>\n",
       "      <td>0.0</td>\n",
       "      <td>0.0</td>\n",
       "      <td>0.0</td>\n",
       "      <td>0.0</td>\n",
       "      <td>0</td>\n",
       "      <td>0</td>\n",
       "      <td>0</td>\n",
       "      <td>2</td>\n",
       "      <td>6</td>\n",
       "    </tr>\n",
       "    <tr>\n",
       "      <th>24</th>\n",
       "      <td>1</td>\n",
       "      <td>4</td>\n",
       "      <td>2</td>\n",
       "      <td>1</td>\n",
       "      <td>1</td>\n",
       "      <td>2</td>\n",
       "      <td>4</td>\n",
       "      <td>1</td>\n",
       "      <td>1</td>\n",
       "      <td>1</td>\n",
       "      <td>67.7</td>\n",
       "      <td>2013</td>\n",
       "      <td>...</td>\n",
       "      <td>0.0</td>\n",
       "      <td>0.0</td>\n",
       "      <td>0.0</td>\n",
       "      <td>0.0</td>\n",
       "      <td>0.0</td>\n",
       "      <td>0.0</td>\n",
       "      <td>0.0</td>\n",
       "      <td>0</td>\n",
       "      <td>0</td>\n",
       "      <td>0</td>\n",
       "      <td>2</td>\n",
       "      <td>6</td>\n",
       "    </tr>\n",
       "    <tr>\n",
       "      <th>25</th>\n",
       "      <td>2</td>\n",
       "      <td>4</td>\n",
       "      <td>605</td>\n",
       "      <td>1</td>\n",
       "      <td>1</td>\n",
       "      <td>2</td>\n",
       "      <td>4</td>\n",
       "      <td>1</td>\n",
       "      <td>4</td>\n",
       "      <td>2</td>\n",
       "      <td>34.3</td>\n",
       "      <td>2013</td>\n",
       "      <td>...</td>\n",
       "      <td>0.0</td>\n",
       "      <td>0.0</td>\n",
       "      <td>0.0</td>\n",
       "      <td>0.0</td>\n",
       "      <td>0.0</td>\n",
       "      <td>0.0</td>\n",
       "      <td>0.0</td>\n",
       "      <td>0</td>\n",
       "      <td>0</td>\n",
       "      <td>0</td>\n",
       "      <td>2</td>\n",
       "      <td>6</td>\n",
       "    </tr>\n",
       "    <tr>\n",
       "      <th>26</th>\n",
       "      <td>1</td>\n",
       "      <td>1</td>\n",
       "      <td>605</td>\n",
       "      <td>605</td>\n",
       "      <td>1</td>\n",
       "      <td>1</td>\n",
       "      <td>1</td>\n",
       "      <td>485</td>\n",
       "      <td>1</td>\n",
       "      <td>2947</td>\n",
       "      <td>20.7</td>\n",
       "      <td>2013</td>\n",
       "      <td>...</td>\n",
       "      <td>0.0</td>\n",
       "      <td>0.0</td>\n",
       "      <td>0.0</td>\n",
       "      <td>0.0</td>\n",
       "      <td>0.0</td>\n",
       "      <td>0.0</td>\n",
       "      <td>0.0</td>\n",
       "      <td>0</td>\n",
       "      <td>0</td>\n",
       "      <td>0</td>\n",
       "      <td>0</td>\n",
       "      <td>6</td>\n",
       "    </tr>\n",
       "    <tr>\n",
       "      <th>27</th>\n",
       "      <td>856</td>\n",
       "      <td>2947</td>\n",
       "      <td>1</td>\n",
       "      <td>2</td>\n",
       "      <td>4</td>\n",
       "      <td>1</td>\n",
       "      <td>1295</td>\n",
       "      <td>1</td>\n",
       "      <td>23</td>\n",
       "      <td>1506</td>\n",
       "      <td>27.9</td>\n",
       "      <td>2013</td>\n",
       "      <td>...</td>\n",
       "      <td>0.0</td>\n",
       "      <td>0.0</td>\n",
       "      <td>0.0</td>\n",
       "      <td>0.0</td>\n",
       "      <td>0.0</td>\n",
       "      <td>0.0</td>\n",
       "      <td>0.0</td>\n",
       "      <td>0</td>\n",
       "      <td>0</td>\n",
       "      <td>0</td>\n",
       "      <td>1</td>\n",
       "      <td>6</td>\n",
       "    </tr>\n",
       "    <tr>\n",
       "      <th>28</th>\n",
       "      <td>2</td>\n",
       "      <td>321</td>\n",
       "      <td>1</td>\n",
       "      <td>23</td>\n",
       "      <td>1</td>\n",
       "      <td>1</td>\n",
       "      <td>2</td>\n",
       "      <td>4</td>\n",
       "      <td>4</td>\n",
       "      <td>2</td>\n",
       "      <td>0.4</td>\n",
       "      <td>2013</td>\n",
       "      <td>...</td>\n",
       "      <td>0.0</td>\n",
       "      <td>0.0</td>\n",
       "      <td>0.0</td>\n",
       "      <td>0.0</td>\n",
       "      <td>0.0</td>\n",
       "      <td>0.0</td>\n",
       "      <td>0.0</td>\n",
       "      <td>0</td>\n",
       "      <td>0</td>\n",
       "      <td>0</td>\n",
       "      <td>2</td>\n",
       "      <td>6</td>\n",
       "    </tr>\n",
       "    <tr>\n",
       "      <th>29</th>\n",
       "      <td>2</td>\n",
       "      <td>1</td>\n",
       "      <td>1</td>\n",
       "      <td>1</td>\n",
       "      <td>3169</td>\n",
       "      <td>12</td>\n",
       "      <td>982</td>\n",
       "      <td>33</td>\n",
       "      <td>881</td>\n",
       "      <td>1</td>\n",
       "      <td>12.8</td>\n",
       "      <td>2013</td>\n",
       "      <td>...</td>\n",
       "      <td>0.0</td>\n",
       "      <td>0.0</td>\n",
       "      <td>0.0</td>\n",
       "      <td>0.0</td>\n",
       "      <td>0.0</td>\n",
       "      <td>0.0</td>\n",
       "      <td>0.0</td>\n",
       "      <td>0</td>\n",
       "      <td>0</td>\n",
       "      <td>0</td>\n",
       "      <td>1</td>\n",
       "      <td>6</td>\n",
       "    </tr>\n",
       "    <tr>\n",
       "      <th>...</th>\n",
       "      <td>...</td>\n",
       "      <td>...</td>\n",
       "      <td>...</td>\n",
       "      <td>...</td>\n",
       "      <td>...</td>\n",
       "      <td>...</td>\n",
       "      <td>...</td>\n",
       "      <td>...</td>\n",
       "      <td>...</td>\n",
       "      <td>...</td>\n",
       "      <td>...</td>\n",
       "      <td>...</td>\n",
       "      <td>...</td>\n",
       "      <td>...</td>\n",
       "      <td>...</td>\n",
       "      <td>...</td>\n",
       "      <td>...</td>\n",
       "      <td>...</td>\n",
       "      <td>...</td>\n",
       "      <td>...</td>\n",
       "      <td>...</td>\n",
       "      <td>...</td>\n",
       "      <td>...</td>\n",
       "      <td>...</td>\n",
       "      <td>...</td>\n",
       "    </tr>\n",
       "    <tr>\n",
       "      <th>136989</th>\n",
       "      <td>306</td>\n",
       "      <td>66</td>\n",
       "      <td>154</td>\n",
       "      <td>333</td>\n",
       "      <td>66</td>\n",
       "      <td>3</td>\n",
       "      <td>66</td>\n",
       "      <td>17</td>\n",
       "      <td>13</td>\n",
       "      <td>333</td>\n",
       "      <td>0.6</td>\n",
       "      <td>2014</td>\n",
       "      <td>...</td>\n",
       "      <td>0.0</td>\n",
       "      <td>0.0</td>\n",
       "      <td>0.0</td>\n",
       "      <td>0.0</td>\n",
       "      <td>0.0</td>\n",
       "      <td>0.0</td>\n",
       "      <td>0.0</td>\n",
       "      <td>1</td>\n",
       "      <td>1</td>\n",
       "      <td>1</td>\n",
       "      <td>1</td>\n",
       "      <td>2902</td>\n",
       "    </tr>\n",
       "    <tr>\n",
       "      <th>136990</th>\n",
       "      <td>341</td>\n",
       "      <td>1161</td>\n",
       "      <td>341</td>\n",
       "      <td>84</td>\n",
       "      <td>11</td>\n",
       "      <td>12</td>\n",
       "      <td>341</td>\n",
       "      <td>2795</td>\n",
       "      <td>333</td>\n",
       "      <td>333</td>\n",
       "      <td>8.8</td>\n",
       "      <td>2014</td>\n",
       "      <td>...</td>\n",
       "      <td>0.0</td>\n",
       "      <td>0.0</td>\n",
       "      <td>0.0</td>\n",
       "      <td>0.0</td>\n",
       "      <td>0.0</td>\n",
       "      <td>0.0</td>\n",
       "      <td>0.0</td>\n",
       "      <td>0</td>\n",
       "      <td>0</td>\n",
       "      <td>0</td>\n",
       "      <td>0</td>\n",
       "      <td>2902</td>\n",
       "    </tr>\n",
       "    <tr>\n",
       "      <th>136991</th>\n",
       "      <td>333</td>\n",
       "      <td>341</td>\n",
       "      <td>1424</td>\n",
       "      <td>341</td>\n",
       "      <td>306</td>\n",
       "      <td>1231</td>\n",
       "      <td>333</td>\n",
       "      <td>1231</td>\n",
       "      <td>306</td>\n",
       "      <td>760</td>\n",
       "      <td>0.5</td>\n",
       "      <td>2014</td>\n",
       "      <td>...</td>\n",
       "      <td>0.0</td>\n",
       "      <td>0.0</td>\n",
       "      <td>0.0</td>\n",
       "      <td>0.0</td>\n",
       "      <td>0.0</td>\n",
       "      <td>0.0</td>\n",
       "      <td>0.0</td>\n",
       "      <td>0</td>\n",
       "      <td>0</td>\n",
       "      <td>0</td>\n",
       "      <td>0</td>\n",
       "      <td>2902</td>\n",
       "    </tr>\n",
       "    <tr>\n",
       "      <th>136992</th>\n",
       "      <td>130</td>\n",
       "      <td>12</td>\n",
       "      <td>62</td>\n",
       "      <td>66</td>\n",
       "      <td>760</td>\n",
       "      <td>306</td>\n",
       "      <td>827</td>\n",
       "      <td>341</td>\n",
       "      <td>306</td>\n",
       "      <td>1424</td>\n",
       "      <td>0.3</td>\n",
       "      <td>2014</td>\n",
       "      <td>...</td>\n",
       "      <td>0.0</td>\n",
       "      <td>0.0</td>\n",
       "      <td>0.0</td>\n",
       "      <td>0.0</td>\n",
       "      <td>0.0</td>\n",
       "      <td>0.0</td>\n",
       "      <td>0.0</td>\n",
       "      <td>0</td>\n",
       "      <td>0</td>\n",
       "      <td>0</td>\n",
       "      <td>0</td>\n",
       "      <td>2902</td>\n",
       "    </tr>\n",
       "    <tr>\n",
       "      <th>136993</th>\n",
       "      <td>66</td>\n",
       "      <td>66</td>\n",
       "      <td>306</td>\n",
       "      <td>66</td>\n",
       "      <td>341</td>\n",
       "      <td>306</td>\n",
       "      <td>306</td>\n",
       "      <td>341</td>\n",
       "      <td>66</td>\n",
       "      <td>154</td>\n",
       "      <td>0.3</td>\n",
       "      <td>2014</td>\n",
       "      <td>...</td>\n",
       "      <td>0.0</td>\n",
       "      <td>0.0</td>\n",
       "      <td>0.0</td>\n",
       "      <td>0.0</td>\n",
       "      <td>0.0</td>\n",
       "      <td>0.0</td>\n",
       "      <td>0.0</td>\n",
       "      <td>0</td>\n",
       "      <td>0</td>\n",
       "      <td>0</td>\n",
       "      <td>0</td>\n",
       "      <td>2902</td>\n",
       "    </tr>\n",
       "    <tr>\n",
       "      <th>136994</th>\n",
       "      <td>12</td>\n",
       "      <td>333</td>\n",
       "      <td>3</td>\n",
       "      <td>17</td>\n",
       "      <td>13</td>\n",
       "      <td>341</td>\n",
       "      <td>1231</td>\n",
       "      <td>333</td>\n",
       "      <td>306</td>\n",
       "      <td>760</td>\n",
       "      <td>0.5</td>\n",
       "      <td>2014</td>\n",
       "      <td>...</td>\n",
       "      <td>0.0</td>\n",
       "      <td>0.0</td>\n",
       "      <td>0.0</td>\n",
       "      <td>0.0</td>\n",
       "      <td>0.0</td>\n",
       "      <td>0.0</td>\n",
       "      <td>0.0</td>\n",
       "      <td>1</td>\n",
       "      <td>1</td>\n",
       "      <td>1</td>\n",
       "      <td>1</td>\n",
       "      <td>2902</td>\n",
       "    </tr>\n",
       "    <tr>\n",
       "      <th>136995</th>\n",
       "      <td>306</td>\n",
       "      <td>12</td>\n",
       "      <td>130</td>\n",
       "      <td>66</td>\n",
       "      <td>306</td>\n",
       "      <td>760</td>\n",
       "      <td>341</td>\n",
       "      <td>306</td>\n",
       "      <td>333</td>\n",
       "      <td>66</td>\n",
       "      <td>0.3</td>\n",
       "      <td>2014</td>\n",
       "      <td>...</td>\n",
       "      <td>0.0</td>\n",
       "      <td>0.0</td>\n",
       "      <td>0.0</td>\n",
       "      <td>0.0</td>\n",
       "      <td>0.0</td>\n",
       "      <td>0.0</td>\n",
       "      <td>0.0</td>\n",
       "      <td>0</td>\n",
       "      <td>0</td>\n",
       "      <td>0</td>\n",
       "      <td>0</td>\n",
       "      <td>2902</td>\n",
       "    </tr>\n",
       "    <tr>\n",
       "      <th>136996</th>\n",
       "      <td>306</td>\n",
       "      <td>66</td>\n",
       "      <td>333</td>\n",
       "      <td>2</td>\n",
       "      <td>306</td>\n",
       "      <td>66</td>\n",
       "      <td>1424</td>\n",
       "      <td>341</td>\n",
       "      <td>1</td>\n",
       "      <td>306</td>\n",
       "      <td>0.4</td>\n",
       "      <td>2014</td>\n",
       "      <td>...</td>\n",
       "      <td>0.0</td>\n",
       "      <td>0.0</td>\n",
       "      <td>0.0</td>\n",
       "      <td>0.0</td>\n",
       "      <td>0.0</td>\n",
       "      <td>0.0</td>\n",
       "      <td>0.0</td>\n",
       "      <td>0</td>\n",
       "      <td>0</td>\n",
       "      <td>0</td>\n",
       "      <td>1</td>\n",
       "      <td>2902</td>\n",
       "    </tr>\n",
       "    <tr>\n",
       "      <th>136997</th>\n",
       "      <td>62</td>\n",
       "      <td>66</td>\n",
       "      <td>341</td>\n",
       "      <td>31</td>\n",
       "      <td>341</td>\n",
       "      <td>333</td>\n",
       "      <td>306</td>\n",
       "      <td>6759</td>\n",
       "      <td>12</td>\n",
       "      <td>66</td>\n",
       "      <td>0.2</td>\n",
       "      <td>2014</td>\n",
       "      <td>...</td>\n",
       "      <td>0.0</td>\n",
       "      <td>0.0</td>\n",
       "      <td>0.0</td>\n",
       "      <td>0.0</td>\n",
       "      <td>0.0</td>\n",
       "      <td>0.0</td>\n",
       "      <td>0.0</td>\n",
       "      <td>0</td>\n",
       "      <td>0</td>\n",
       "      <td>0</td>\n",
       "      <td>0</td>\n",
       "      <td>2902</td>\n",
       "    </tr>\n",
       "    <tr>\n",
       "      <th>136998</th>\n",
       "      <td>6759</td>\n",
       "      <td>8</td>\n",
       "      <td>13</td>\n",
       "      <td>17</td>\n",
       "      <td>3</td>\n",
       "      <td>341</td>\n",
       "      <td>1424</td>\n",
       "      <td>341</td>\n",
       "      <td>1231</td>\n",
       "      <td>14</td>\n",
       "      <td>0.2</td>\n",
       "      <td>2014</td>\n",
       "      <td>...</td>\n",
       "      <td>0.0</td>\n",
       "      <td>0.0</td>\n",
       "      <td>0.0</td>\n",
       "      <td>0.0</td>\n",
       "      <td>0.0</td>\n",
       "      <td>0.0</td>\n",
       "      <td>0.0</td>\n",
       "      <td>1</td>\n",
       "      <td>1</td>\n",
       "      <td>1</td>\n",
       "      <td>1</td>\n",
       "      <td>2902</td>\n",
       "    </tr>\n",
       "    <tr>\n",
       "      <th>136999</th>\n",
       "      <td>12</td>\n",
       "      <td>1231</td>\n",
       "      <td>1424</td>\n",
       "      <td>341</td>\n",
       "      <td>306</td>\n",
       "      <td>760</td>\n",
       "      <td>12</td>\n",
       "      <td>84</td>\n",
       "      <td>130</td>\n",
       "      <td>66</td>\n",
       "      <td>0.2</td>\n",
       "      <td>2014</td>\n",
       "      <td>...</td>\n",
       "      <td>0.0</td>\n",
       "      <td>0.0</td>\n",
       "      <td>0.0</td>\n",
       "      <td>0.0</td>\n",
       "      <td>0.0</td>\n",
       "      <td>0.0</td>\n",
       "      <td>0.0</td>\n",
       "      <td>0</td>\n",
       "      <td>0</td>\n",
       "      <td>0</td>\n",
       "      <td>0</td>\n",
       "      <td>2902</td>\n",
       "    </tr>\n",
       "    <tr>\n",
       "      <th>137000</th>\n",
       "      <td>341</td>\n",
       "      <td>760</td>\n",
       "      <td>306</td>\n",
       "      <td>1231</td>\n",
       "      <td>306</td>\n",
       "      <td>1231</td>\n",
       "      <td>62</td>\n",
       "      <td>341</td>\n",
       "      <td>760</td>\n",
       "      <td>306</td>\n",
       "      <td>0.2</td>\n",
       "      <td>2014</td>\n",
       "      <td>...</td>\n",
       "      <td>0.0</td>\n",
       "      <td>0.0</td>\n",
       "      <td>0.0</td>\n",
       "      <td>0.0</td>\n",
       "      <td>0.0</td>\n",
       "      <td>0.0</td>\n",
       "      <td>0.0</td>\n",
       "      <td>0</td>\n",
       "      <td>0</td>\n",
       "      <td>0</td>\n",
       "      <td>0</td>\n",
       "      <td>2902</td>\n",
       "    </tr>\n",
       "    <tr>\n",
       "      <th>137001</th>\n",
       "      <td>12</td>\n",
       "      <td>66</td>\n",
       "      <td>306</td>\n",
       "      <td>760</td>\n",
       "      <td>341</td>\n",
       "      <td>306</td>\n",
       "      <td>66</td>\n",
       "      <td>130</td>\n",
       "      <td>62</td>\n",
       "      <td>84</td>\n",
       "      <td>0.2</td>\n",
       "      <td>2014</td>\n",
       "      <td>...</td>\n",
       "      <td>0.0</td>\n",
       "      <td>0.0</td>\n",
       "      <td>0.0</td>\n",
       "      <td>0.0</td>\n",
       "      <td>0.0</td>\n",
       "      <td>0.0</td>\n",
       "      <td>0.0</td>\n",
       "      <td>0</td>\n",
       "      <td>0</td>\n",
       "      <td>0</td>\n",
       "      <td>0</td>\n",
       "      <td>2902</td>\n",
       "    </tr>\n",
       "    <tr>\n",
       "      <th>137002</th>\n",
       "      <td>430</td>\n",
       "      <td>66</td>\n",
       "      <td>10</td>\n",
       "      <td>28</td>\n",
       "      <td>4135</td>\n",
       "      <td>2998</td>\n",
       "      <td>3</td>\n",
       "      <td>12</td>\n",
       "      <td>4135</td>\n",
       "      <td>2886</td>\n",
       "      <td>0.2</td>\n",
       "      <td>2014</td>\n",
       "      <td>...</td>\n",
       "      <td>0.0</td>\n",
       "      <td>0.0</td>\n",
       "      <td>0.0</td>\n",
       "      <td>0.0</td>\n",
       "      <td>0.1</td>\n",
       "      <td>0.0</td>\n",
       "      <td>0.0</td>\n",
       "      <td>1</td>\n",
       "      <td>2</td>\n",
       "      <td>2</td>\n",
       "      <td>2</td>\n",
       "      <td>2902</td>\n",
       "    </tr>\n",
       "    <tr>\n",
       "      <th>137003</th>\n",
       "      <td>10</td>\n",
       "      <td>66</td>\n",
       "      <td>28</td>\n",
       "      <td>66</td>\n",
       "      <td>3999</td>\n",
       "      <td>3</td>\n",
       "      <td>66</td>\n",
       "      <td>306</td>\n",
       "      <td>306</td>\n",
       "      <td>2</td>\n",
       "      <td>0.3</td>\n",
       "      <td>2014</td>\n",
       "      <td>...</td>\n",
       "      <td>0.0</td>\n",
       "      <td>0.0</td>\n",
       "      <td>0.0</td>\n",
       "      <td>0.0</td>\n",
       "      <td>0.1</td>\n",
       "      <td>0.0</td>\n",
       "      <td>0.0</td>\n",
       "      <td>1</td>\n",
       "      <td>2</td>\n",
       "      <td>2</td>\n",
       "      <td>2</td>\n",
       "      <td>2902</td>\n",
       "    </tr>\n",
       "    <tr>\n",
       "      <th>137004</th>\n",
       "      <td>28</td>\n",
       "      <td>341</td>\n",
       "      <td>306</td>\n",
       "      <td>66</td>\n",
       "      <td>154</td>\n",
       "      <td>333</td>\n",
       "      <td>28</td>\n",
       "      <td>16</td>\n",
       "      <td>306</td>\n",
       "      <td>341</td>\n",
       "      <td>0.2</td>\n",
       "      <td>2014</td>\n",
       "      <td>...</td>\n",
       "      <td>0.0</td>\n",
       "      <td>0.0</td>\n",
       "      <td>0.0</td>\n",
       "      <td>0.0</td>\n",
       "      <td>0.2</td>\n",
       "      <td>0.0</td>\n",
       "      <td>0.0</td>\n",
       "      <td>0</td>\n",
       "      <td>0</td>\n",
       "      <td>0</td>\n",
       "      <td>0</td>\n",
       "      <td>2902</td>\n",
       "    </tr>\n",
       "    <tr>\n",
       "      <th>137005</th>\n",
       "      <td>10</td>\n",
       "      <td>306</td>\n",
       "      <td>13</td>\n",
       "      <td>17</td>\n",
       "      <td>306</td>\n",
       "      <td>3</td>\n",
       "      <td>66</td>\n",
       "      <td>66</td>\n",
       "      <td>322</td>\n",
       "      <td>306</td>\n",
       "      <td>0.5</td>\n",
       "      <td>2014</td>\n",
       "      <td>...</td>\n",
       "      <td>0.0</td>\n",
       "      <td>0.0</td>\n",
       "      <td>0.0</td>\n",
       "      <td>0.0</td>\n",
       "      <td>0.0</td>\n",
       "      <td>0.0</td>\n",
       "      <td>0.0</td>\n",
       "      <td>1</td>\n",
       "      <td>2</td>\n",
       "      <td>2</td>\n",
       "      <td>2</td>\n",
       "      <td>2902</td>\n",
       "    </tr>\n",
       "    <tr>\n",
       "      <th>137006</th>\n",
       "      <td>66</td>\n",
       "      <td>66</td>\n",
       "      <td>341</td>\n",
       "      <td>154</td>\n",
       "      <td>306</td>\n",
       "      <td>66</td>\n",
       "      <td>2</td>\n",
       "      <td>17</td>\n",
       "      <td>3</td>\n",
       "      <td>13</td>\n",
       "      <td>0.4</td>\n",
       "      <td>2014</td>\n",
       "      <td>...</td>\n",
       "      <td>0.0</td>\n",
       "      <td>0.0</td>\n",
       "      <td>0.0</td>\n",
       "      <td>0.0</td>\n",
       "      <td>0.0</td>\n",
       "      <td>0.0</td>\n",
       "      <td>0.0</td>\n",
       "      <td>1</td>\n",
       "      <td>1</td>\n",
       "      <td>1</td>\n",
       "      <td>2</td>\n",
       "      <td>2902</td>\n",
       "    </tr>\n",
       "    <tr>\n",
       "      <th>137007</th>\n",
       "      <td>3</td>\n",
       "      <td>11</td>\n",
       "      <td>62</td>\n",
       "      <td>55</td>\n",
       "      <td>333</td>\n",
       "      <td>333</td>\n",
       "      <td>333</td>\n",
       "      <td>341</td>\n",
       "      <td>306</td>\n",
       "      <td>333</td>\n",
       "      <td>2.8</td>\n",
       "      <td>2014</td>\n",
       "      <td>...</td>\n",
       "      <td>0.0</td>\n",
       "      <td>0.0</td>\n",
       "      <td>0.0</td>\n",
       "      <td>0.0</td>\n",
       "      <td>0.0</td>\n",
       "      <td>0.0</td>\n",
       "      <td>0.0</td>\n",
       "      <td>1</td>\n",
       "      <td>1</td>\n",
       "      <td>1</td>\n",
       "      <td>1</td>\n",
       "      <td>2902</td>\n",
       "    </tr>\n",
       "    <tr>\n",
       "      <th>137008</th>\n",
       "      <td>341</td>\n",
       "      <td>84</td>\n",
       "      <td>333</td>\n",
       "      <td>341</td>\n",
       "      <td>11</td>\n",
       "      <td>341</td>\n",
       "      <td>341</td>\n",
       "      <td>62</td>\n",
       "      <td>757</td>\n",
       "      <td>333</td>\n",
       "      <td>2.2</td>\n",
       "      <td>2014</td>\n",
       "      <td>...</td>\n",
       "      <td>0.0</td>\n",
       "      <td>0.0</td>\n",
       "      <td>0.0</td>\n",
       "      <td>0.0</td>\n",
       "      <td>0.0</td>\n",
       "      <td>0.0</td>\n",
       "      <td>0.0</td>\n",
       "      <td>0</td>\n",
       "      <td>0</td>\n",
       "      <td>0</td>\n",
       "      <td>0</td>\n",
       "      <td>2902</td>\n",
       "    </tr>\n",
       "    <tr>\n",
       "      <th>137009</th>\n",
       "      <td>333</td>\n",
       "      <td>333</td>\n",
       "      <td>20</td>\n",
       "      <td>9</td>\n",
       "      <td>9</td>\n",
       "      <td>9</td>\n",
       "      <td>2795</td>\n",
       "      <td>5238</td>\n",
       "      <td>2998</td>\n",
       "      <td>12</td>\n",
       "      <td>2.2</td>\n",
       "      <td>2014</td>\n",
       "      <td>...</td>\n",
       "      <td>0.0</td>\n",
       "      <td>0.0</td>\n",
       "      <td>0.0</td>\n",
       "      <td>0.0</td>\n",
       "      <td>0.0</td>\n",
       "      <td>0.0</td>\n",
       "      <td>0.0</td>\n",
       "      <td>0</td>\n",
       "      <td>0</td>\n",
       "      <td>0</td>\n",
       "      <td>0</td>\n",
       "      <td>2902</td>\n",
       "    </tr>\n",
       "    <tr>\n",
       "      <th>137010</th>\n",
       "      <td>79</td>\n",
       "      <td>757</td>\n",
       "      <td>57</td>\n",
       "      <td>333</td>\n",
       "      <td>341</td>\n",
       "      <td>333</td>\n",
       "      <td>62</td>\n",
       "      <td>4</td>\n",
       "      <td>1540</td>\n",
       "      <td>1540</td>\n",
       "      <td>8.0</td>\n",
       "      <td>2014</td>\n",
       "      <td>...</td>\n",
       "      <td>0.0</td>\n",
       "      <td>0.0</td>\n",
       "      <td>0.0</td>\n",
       "      <td>0.0</td>\n",
       "      <td>0.0</td>\n",
       "      <td>0.0</td>\n",
       "      <td>0.0</td>\n",
       "      <td>0</td>\n",
       "      <td>0</td>\n",
       "      <td>0</td>\n",
       "      <td>0</td>\n",
       "      <td>2902</td>\n",
       "    </tr>\n",
       "    <tr>\n",
       "      <th>137011</th>\n",
       "      <td>15680</td>\n",
       "      <td>15680</td>\n",
       "      <td>19489</td>\n",
       "      <td>54</td>\n",
       "      <td>93</td>\n",
       "      <td>2102</td>\n",
       "      <td>62</td>\n",
       "      <td>2</td>\n",
       "      <td>201</td>\n",
       "      <td>54</td>\n",
       "      <td>6.6</td>\n",
       "      <td>2014</td>\n",
       "      <td>...</td>\n",
       "      <td>0.0</td>\n",
       "      <td>0.0</td>\n",
       "      <td>0.0</td>\n",
       "      <td>0.0</td>\n",
       "      <td>0.0</td>\n",
       "      <td>0.0</td>\n",
       "      <td>0.0</td>\n",
       "      <td>0</td>\n",
       "      <td>0</td>\n",
       "      <td>0</td>\n",
       "      <td>1</td>\n",
       "      <td>2902</td>\n",
       "    </tr>\n",
       "    <tr>\n",
       "      <th>137012</th>\n",
       "      <td>1051</td>\n",
       "      <td>1</td>\n",
       "      <td>2524</td>\n",
       "      <td>871</td>\n",
       "      <td>2450</td>\n",
       "      <td>871</td>\n",
       "      <td>535</td>\n",
       "      <td>66</td>\n",
       "      <td>6502</td>\n",
       "      <td>3281</td>\n",
       "      <td>0.1</td>\n",
       "      <td>2014</td>\n",
       "      <td>...</td>\n",
       "      <td>0.0</td>\n",
       "      <td>0.0</td>\n",
       "      <td>0.0</td>\n",
       "      <td>0.0</td>\n",
       "      <td>0.0</td>\n",
       "      <td>0.0</td>\n",
       "      <td>0.0</td>\n",
       "      <td>0</td>\n",
       "      <td>0</td>\n",
       "      <td>0</td>\n",
       "      <td>0</td>\n",
       "      <td>2902</td>\n",
       "    </tr>\n",
       "    <tr>\n",
       "      <th>137013</th>\n",
       "      <td>304</td>\n",
       "      <td>23</td>\n",
       "      <td>120</td>\n",
       "      <td>485</td>\n",
       "      <td>3631</td>\n",
       "      <td>2213</td>\n",
       "      <td>120</td>\n",
       "      <td>3631</td>\n",
       "      <td>2213</td>\n",
       "      <td>6607</td>\n",
       "      <td>0.1</td>\n",
       "      <td>2014</td>\n",
       "      <td>...</td>\n",
       "      <td>0.0</td>\n",
       "      <td>0.0</td>\n",
       "      <td>0.0</td>\n",
       "      <td>0.0</td>\n",
       "      <td>0.0</td>\n",
       "      <td>0.0</td>\n",
       "      <td>0.0</td>\n",
       "      <td>0</td>\n",
       "      <td>0</td>\n",
       "      <td>0</td>\n",
       "      <td>0</td>\n",
       "      <td>2902</td>\n",
       "    </tr>\n",
       "    <tr>\n",
       "      <th>137014</th>\n",
       "      <td>66</td>\n",
       "      <td>871</td>\n",
       "      <td>340</td>\n",
       "      <td>2270</td>\n",
       "      <td>66</td>\n",
       "      <td>1051</td>\n",
       "      <td>871</td>\n",
       "      <td>1051</td>\n",
       "      <td>66</td>\n",
       "      <td>485</td>\n",
       "      <td>0.2</td>\n",
       "      <td>2014</td>\n",
       "      <td>...</td>\n",
       "      <td>0.0</td>\n",
       "      <td>0.0</td>\n",
       "      <td>0.0</td>\n",
       "      <td>0.0</td>\n",
       "      <td>0.0</td>\n",
       "      <td>0.0</td>\n",
       "      <td>0.0</td>\n",
       "      <td>0</td>\n",
       "      <td>0</td>\n",
       "      <td>0</td>\n",
       "      <td>0</td>\n",
       "      <td>2902</td>\n",
       "    </tr>\n",
       "    <tr>\n",
       "      <th>137015</th>\n",
       "      <td>23</td>\n",
       "      <td>871</td>\n",
       "      <td>485</td>\n",
       "      <td>120</td>\n",
       "      <td>4978</td>\n",
       "      <td>2270</td>\n",
       "      <td>31</td>\n",
       "      <td>2</td>\n",
       "      <td>1</td>\n",
       "      <td>1051</td>\n",
       "      <td>21.0</td>\n",
       "      <td>2014</td>\n",
       "      <td>...</td>\n",
       "      <td>0.0</td>\n",
       "      <td>0.0</td>\n",
       "      <td>0.0</td>\n",
       "      <td>0.0</td>\n",
       "      <td>0.0</td>\n",
       "      <td>0.0</td>\n",
       "      <td>0.0</td>\n",
       "      <td>0</td>\n",
       "      <td>0</td>\n",
       "      <td>0</td>\n",
       "      <td>1</td>\n",
       "      <td>2902</td>\n",
       "    </tr>\n",
       "    <tr>\n",
       "      <th>137016</th>\n",
       "      <td>1051</td>\n",
       "      <td>2524</td>\n",
       "      <td>1051</td>\n",
       "      <td>858</td>\n",
       "      <td>66</td>\n",
       "      <td>725</td>\n",
       "      <td>329</td>\n",
       "      <td>304</td>\n",
       "      <td>2213</td>\n",
       "      <td>84</td>\n",
       "      <td>0.6</td>\n",
       "      <td>2014</td>\n",
       "      <td>...</td>\n",
       "      <td>0.0</td>\n",
       "      <td>0.0</td>\n",
       "      <td>0.0</td>\n",
       "      <td>0.0</td>\n",
       "      <td>0.0</td>\n",
       "      <td>0.0</td>\n",
       "      <td>0.0</td>\n",
       "      <td>0</td>\n",
       "      <td>0</td>\n",
       "      <td>0</td>\n",
       "      <td>0</td>\n",
       "      <td>2902</td>\n",
       "    </tr>\n",
       "    <tr>\n",
       "      <th>137017</th>\n",
       "      <td>3</td>\n",
       "      <td>66</td>\n",
       "      <td>1110</td>\n",
       "      <td>340</td>\n",
       "      <td>66</td>\n",
       "      <td>3483</td>\n",
       "      <td>3058</td>\n",
       "      <td>31</td>\n",
       "      <td>1051</td>\n",
       "      <td>871</td>\n",
       "      <td>0.4</td>\n",
       "      <td>2014</td>\n",
       "      <td>...</td>\n",
       "      <td>0.0</td>\n",
       "      <td>0.0</td>\n",
       "      <td>0.0</td>\n",
       "      <td>0.0</td>\n",
       "      <td>0.0</td>\n",
       "      <td>0.0</td>\n",
       "      <td>0.0</td>\n",
       "      <td>1</td>\n",
       "      <td>1</td>\n",
       "      <td>1</td>\n",
       "      <td>1</td>\n",
       "      <td>2902</td>\n",
       "    </tr>\n",
       "    <tr>\n",
       "      <th>137018</th>\n",
       "      <td>66</td>\n",
       "      <td>22238</td>\n",
       "      <td>0</td>\n",
       "      <td>0</td>\n",
       "      <td>0</td>\n",
       "      <td>0</td>\n",
       "      <td>0</td>\n",
       "      <td>0</td>\n",
       "      <td>0</td>\n",
       "      <td>0</td>\n",
       "      <td>8083.2</td>\n",
       "      <td>2014</td>\n",
       "      <td>...</td>\n",
       "      <td>0.0</td>\n",
       "      <td>0.0</td>\n",
       "      <td>0.0</td>\n",
       "      <td>0.0</td>\n",
       "      <td>0.0</td>\n",
       "      <td>0.0</td>\n",
       "      <td>0.0</td>\n",
       "      <td>0</td>\n",
       "      <td>0</td>\n",
       "      <td>0</td>\n",
       "      <td>0</td>\n",
       "      <td>2902</td>\n",
       "    </tr>\n",
       "  </tbody>\n",
       "</table>\n",
       "<p>137019 rows × 80 columns</p>\n",
       "</div>"
      ],
      "text/plain": [
       "        site_1  site_2  site_3  site_4  site_5  site_6  site_7  site_8  \\\n",
       "0            1       1       4       2       1       4       1       2   \n",
       "1            2      23    1506    1295     321     321     113      73   \n",
       "2          321     205       1       1       1       1      73     321   \n",
       "3            1       1    7145    7145    5696    7145    7145       1   \n",
       "4            1       1      76       1      58      50      58      50   \n",
       "5           50      58      94      92      50      76      76      83   \n",
       "6           58      94      58      92      76      83      50      94   \n",
       "7           83      50      58      92      58      94      50      50   \n",
       "8           94      76      83      50      92      58    7145      76   \n",
       "9           94      92      76      58      50      92      94      50   \n",
       "10          94      76      50      83      58      92      50      94   \n",
       "11          94      83      92      58      50     220      92      94   \n",
       "12          76     233     233      50     220      58     233      58   \n",
       "13         220      83      76      50      92      94      92      76   \n",
       "14          94      83      94      92      92      92      58      92   \n",
       "15          94      76      92      83      50     353       1       4   \n",
       "16           4       2       1       1       2       4       1       2   \n",
       "17           1       4       2       1       2       1       4      14   \n",
       "18          51       2      14       1       8       4      14      46   \n",
       "19           4       8       7       7      42       2       8      14   \n",
       "20          42       8     192       8       4       7      14       8   \n",
       "21           8     192       7       1       2       4       1       2   \n",
       "22           1       1       1       4       1       2       1       1   \n",
       "23           2     605     605       1       1       1       2       4   \n",
       "24           1       4       2       1       1       2       4       1   \n",
       "25           2       4     605       1       1       2       4       1   \n",
       "26           1       1     605     605       1       1       1     485   \n",
       "27         856    2947       1       2       4       1    1295       1   \n",
       "28           2     321       1      23       1       1       2       4   \n",
       "29           2       1       1       1    3169      12     982      33   \n",
       "...        ...     ...     ...     ...     ...     ...     ...     ...   \n",
       "136989     306      66     154     333      66       3      66      17   \n",
       "136990     341    1161     341      84      11      12     341    2795   \n",
       "136991     333     341    1424     341     306    1231     333    1231   \n",
       "136992     130      12      62      66     760     306     827     341   \n",
       "136993      66      66     306      66     341     306     306     341   \n",
       "136994      12     333       3      17      13     341    1231     333   \n",
       "136995     306      12     130      66     306     760     341     306   \n",
       "136996     306      66     333       2     306      66    1424     341   \n",
       "136997      62      66     341      31     341     333     306    6759   \n",
       "136998    6759       8      13      17       3     341    1424     341   \n",
       "136999      12    1231    1424     341     306     760      12      84   \n",
       "137000     341     760     306    1231     306    1231      62     341   \n",
       "137001      12      66     306     760     341     306      66     130   \n",
       "137002     430      66      10      28    4135    2998       3      12   \n",
       "137003      10      66      28      66    3999       3      66     306   \n",
       "137004      28     341     306      66     154     333      28      16   \n",
       "137005      10     306      13      17     306       3      66      66   \n",
       "137006      66      66     341     154     306      66       2      17   \n",
       "137007       3      11      62      55     333     333     333     341   \n",
       "137008     341      84     333     341      11     341     341      62   \n",
       "137009     333     333      20       9       9       9    2795    5238   \n",
       "137010      79     757      57     333     341     333      62       4   \n",
       "137011   15680   15680   19489      54      93    2102      62       2   \n",
       "137012    1051       1    2524     871    2450     871     535      66   \n",
       "137013     304      23     120     485    3631    2213     120    3631   \n",
       "137014      66     871     340    2270      66    1051     871    1051   \n",
       "137015      23     871     485     120    4978    2270      31       2   \n",
       "137016    1051    2524    1051     858      66     725     329     304   \n",
       "137017       3      66    1110     340      66    3483    3058      31   \n",
       "137018      66   22238       0       0       0       0       0       0   \n",
       "\n",
       "        site_9  site_10  mean_time_diff  Start_Year  ...  freq_top_site_24  \\\n",
       "0         1295      321             5.7        2013  ...               0.0   \n",
       "1           49       49           161.8        2013  ...               0.0   \n",
       "2            2        1           201.0        2013  ...               0.0   \n",
       "3           35        1           200.6        2013  ...               0.0   \n",
       "4           83       76             1.0        2013  ...               0.0   \n",
       "5           92       50             0.2        2013  ...               0.0   \n",
       "6           94       76             0.7        2013  ...               0.0   \n",
       "7           76       58             0.9        2013  ...               0.0   \n",
       "8           50       58            83.5        2013  ...               0.0   \n",
       "9           58       83             0.1        2013  ...               0.0   \n",
       "10          58       92             0.1        2013  ...               0.0   \n",
       "11          58       83             0.8        2013  ...               0.0   \n",
       "12         233       50             0.5        2013  ...               0.0   \n",
       "13          58       50             0.4        2013  ...               0.0   \n",
       "14          58       50            12.0        2013  ...               0.0   \n",
       "15           2        1          7948.6        2013  ...               0.0   \n",
       "16           4        1            83.3        2013  ...               0.0   \n",
       "17          46       14           101.1        2013  ...               0.0   \n",
       "18          51        1            15.7        2013  ...               0.0   \n",
       "19           7       56            28.2        2013  ...               0.0   \n",
       "20          56        7             4.3        2013  ...               0.0   \n",
       "21           1        4           505.6        2013  ...               0.0   \n",
       "22         605        4          7787.1        2013  ...               0.0   \n",
       "23           1        1            14.0        2013  ...               0.0   \n",
       "24           1        1            67.7        2013  ...               0.0   \n",
       "25           4        2            34.3        2013  ...               0.0   \n",
       "26           1     2947            20.7        2013  ...               0.0   \n",
       "27          23     1506            27.9        2013  ...               0.0   \n",
       "28           4        2             0.4        2013  ...               0.0   \n",
       "29         881        1            12.8        2013  ...               0.0   \n",
       "...        ...      ...             ...         ...  ...               ...   \n",
       "136989      13      333             0.6        2014  ...               0.0   \n",
       "136990     333      333             8.8        2014  ...               0.0   \n",
       "136991     306      760             0.5        2014  ...               0.0   \n",
       "136992     306     1424             0.3        2014  ...               0.0   \n",
       "136993      66      154             0.3        2014  ...               0.0   \n",
       "136994     306      760             0.5        2014  ...               0.0   \n",
       "136995     333       66             0.3        2014  ...               0.0   \n",
       "136996       1      306             0.4        2014  ...               0.0   \n",
       "136997      12       66             0.2        2014  ...               0.0   \n",
       "136998    1231       14             0.2        2014  ...               0.0   \n",
       "136999     130       66             0.2        2014  ...               0.0   \n",
       "137000     760      306             0.2        2014  ...               0.0   \n",
       "137001      62       84             0.2        2014  ...               0.0   \n",
       "137002    4135     2886             0.2        2014  ...               0.0   \n",
       "137003     306        2             0.3        2014  ...               0.0   \n",
       "137004     306      341             0.2        2014  ...               0.0   \n",
       "137005     322      306             0.5        2014  ...               0.0   \n",
       "137006       3       13             0.4        2014  ...               0.0   \n",
       "137007     306      333             2.8        2014  ...               0.0   \n",
       "137008     757      333             2.2        2014  ...               0.0   \n",
       "137009    2998       12             2.2        2014  ...               0.0   \n",
       "137010    1540     1540             8.0        2014  ...               0.0   \n",
       "137011     201       54             6.6        2014  ...               0.0   \n",
       "137012    6502     3281             0.1        2014  ...               0.0   \n",
       "137013    2213     6607             0.1        2014  ...               0.0   \n",
       "137014      66      485             0.2        2014  ...               0.0   \n",
       "137015       1     1051            21.0        2014  ...               0.0   \n",
       "137016    2213       84             0.6        2014  ...               0.0   \n",
       "137017    1051      871             0.4        2014  ...               0.0   \n",
       "137018       0        0          8083.2        2014  ...               0.0   \n",
       "\n",
       "        freq_top_site_25  freq_top_site_26  freq_top_site_27  \\\n",
       "0                    0.0               0.0               0.0   \n",
       "1                    0.0               0.0               0.0   \n",
       "2                    0.0               0.0               0.0   \n",
       "3                    0.0               0.0               0.0   \n",
       "4                    0.0               0.0               0.0   \n",
       "5                    0.0               0.0               0.0   \n",
       "6                    0.0               0.0               0.0   \n",
       "7                    0.0               0.0               0.0   \n",
       "8                    0.0               0.0               0.0   \n",
       "9                    0.0               0.0               0.0   \n",
       "10                   0.0               0.0               0.0   \n",
       "11                   0.0               0.0               0.0   \n",
       "12                   0.0               0.0               0.0   \n",
       "13                   0.0               0.0               0.0   \n",
       "14                   0.0               0.0               0.0   \n",
       "15                   0.0               0.0               0.0   \n",
       "16                   0.0               0.0               0.0   \n",
       "17                   0.0               0.0               0.0   \n",
       "18                   0.0               0.0               0.0   \n",
       "19                   0.0               0.0               0.0   \n",
       "20                   0.0               0.0               0.0   \n",
       "21                   0.0               0.0               0.0   \n",
       "22                   0.0               0.0               0.0   \n",
       "23                   0.0               0.0               0.0   \n",
       "24                   0.0               0.0               0.0   \n",
       "25                   0.0               0.0               0.0   \n",
       "26                   0.0               0.0               0.0   \n",
       "27                   0.0               0.0               0.0   \n",
       "28                   0.0               0.0               0.0   \n",
       "29                   0.0               0.0               0.0   \n",
       "...                  ...               ...               ...   \n",
       "136989               0.0               0.0               0.0   \n",
       "136990               0.0               0.0               0.0   \n",
       "136991               0.0               0.0               0.0   \n",
       "136992               0.0               0.0               0.0   \n",
       "136993               0.0               0.0               0.0   \n",
       "136994               0.0               0.0               0.0   \n",
       "136995               0.0               0.0               0.0   \n",
       "136996               0.0               0.0               0.0   \n",
       "136997               0.0               0.0               0.0   \n",
       "136998               0.0               0.0               0.0   \n",
       "136999               0.0               0.0               0.0   \n",
       "137000               0.0               0.0               0.0   \n",
       "137001               0.0               0.0               0.0   \n",
       "137002               0.0               0.0               0.0   \n",
       "137003               0.0               0.0               0.0   \n",
       "137004               0.0               0.0               0.0   \n",
       "137005               0.0               0.0               0.0   \n",
       "137006               0.0               0.0               0.0   \n",
       "137007               0.0               0.0               0.0   \n",
       "137008               0.0               0.0               0.0   \n",
       "137009               0.0               0.0               0.0   \n",
       "137010               0.0               0.0               0.0   \n",
       "137011               0.0               0.0               0.0   \n",
       "137012               0.0               0.0               0.0   \n",
       "137013               0.0               0.0               0.0   \n",
       "137014               0.0               0.0               0.0   \n",
       "137015               0.0               0.0               0.0   \n",
       "137016               0.0               0.0               0.0   \n",
       "137017               0.0               0.0               0.0   \n",
       "137018               0.0               0.0               0.0   \n",
       "\n",
       "        freq_top_site_28  freq_top_site_29  freq_top_site_30  count_facebook  \\\n",
       "0                    0.0               0.0               0.0               0   \n",
       "1                    0.0               0.0               0.0               0   \n",
       "2                    0.0               0.0               0.0               0   \n",
       "3                    0.0               0.0               0.0               0   \n",
       "4                    0.0               0.0               0.0               0   \n",
       "5                    0.0               0.0               0.0               0   \n",
       "6                    0.0               0.0               0.0               0   \n",
       "7                    0.0               0.0               0.0               0   \n",
       "8                    0.0               0.0               0.0               0   \n",
       "9                    0.0               0.0               0.0               0   \n",
       "10                   0.0               0.0               0.0               0   \n",
       "11                   0.0               0.0               0.0               0   \n",
       "12                   0.0               0.0               0.0               0   \n",
       "13                   0.0               0.0               0.0               0   \n",
       "14                   0.0               0.0               0.0               0   \n",
       "15                   0.0               0.0               0.0               0   \n",
       "16                   0.0               0.0               0.0               0   \n",
       "17                   0.0               0.0               0.0               0   \n",
       "18                   0.0               0.0               0.0               0   \n",
       "19                   0.0               0.0               0.0               0   \n",
       "20                   0.0               0.0               0.0               0   \n",
       "21                   0.0               0.0               0.0               0   \n",
       "22                   0.0               0.0               0.0               0   \n",
       "23                   0.0               0.0               0.0               0   \n",
       "24                   0.0               0.0               0.0               0   \n",
       "25                   0.0               0.0               0.0               0   \n",
       "26                   0.0               0.0               0.0               0   \n",
       "27                   0.0               0.0               0.0               0   \n",
       "28                   0.0               0.0               0.0               0   \n",
       "29                   0.0               0.0               0.0               0   \n",
       "...                  ...               ...               ...             ...   \n",
       "136989               0.0               0.0               0.0               1   \n",
       "136990               0.0               0.0               0.0               0   \n",
       "136991               0.0               0.0               0.0               0   \n",
       "136992               0.0               0.0               0.0               0   \n",
       "136993               0.0               0.0               0.0               0   \n",
       "136994               0.0               0.0               0.0               1   \n",
       "136995               0.0               0.0               0.0               0   \n",
       "136996               0.0               0.0               0.0               0   \n",
       "136997               0.0               0.0               0.0               0   \n",
       "136998               0.0               0.0               0.0               1   \n",
       "136999               0.0               0.0               0.0               0   \n",
       "137000               0.0               0.0               0.0               0   \n",
       "137001               0.0               0.0               0.0               0   \n",
       "137002               0.1               0.0               0.0               1   \n",
       "137003               0.1               0.0               0.0               1   \n",
       "137004               0.2               0.0               0.0               0   \n",
       "137005               0.0               0.0               0.0               1   \n",
       "137006               0.0               0.0               0.0               1   \n",
       "137007               0.0               0.0               0.0               1   \n",
       "137008               0.0               0.0               0.0               0   \n",
       "137009               0.0               0.0               0.0               0   \n",
       "137010               0.0               0.0               0.0               0   \n",
       "137011               0.0               0.0               0.0               0   \n",
       "137012               0.0               0.0               0.0               0   \n",
       "137013               0.0               0.0               0.0               0   \n",
       "137014               0.0               0.0               0.0               0   \n",
       "137015               0.0               0.0               0.0               0   \n",
       "137016               0.0               0.0               0.0               0   \n",
       "137017               0.0               0.0               0.0               1   \n",
       "137018               0.0               0.0               0.0               0   \n",
       "\n",
       "        count_youtube  count_twitter  count_google  user_id  \n",
       "0                   0              0             2        6  \n",
       "1                   0              0             1        6  \n",
       "2                   0              0             1        6  \n",
       "3                   0              0             0        6  \n",
       "4                   0              0             0        6  \n",
       "5                   0              0             0        6  \n",
       "6                   0              0             0        6  \n",
       "7                   0              0             0        6  \n",
       "8                   0              0             0        6  \n",
       "9                   0              0             0        6  \n",
       "10                  0              0             0        6  \n",
       "11                  0              0             0        6  \n",
       "12                  0              0             0        6  \n",
       "13                  0              0             0        6  \n",
       "14                  0              0             0        6  \n",
       "15                  0              0             1        6  \n",
       "16                  0              0             3        6  \n",
       "17                  0              0             2        6  \n",
       "18                  0              0             1        6  \n",
       "19                  0              0             1        6  \n",
       "20                  0              0             0        6  \n",
       "21                  0              0             2        6  \n",
       "22                  0              0             1        6  \n",
       "23                  0              0             2        6  \n",
       "24                  0              0             2        6  \n",
       "25                  0              0             2        6  \n",
       "26                  0              0             0        6  \n",
       "27                  0              0             1        6  \n",
       "28                  0              0             2        6  \n",
       "29                  0              0             1        6  \n",
       "...               ...            ...           ...      ...  \n",
       "136989              1              1             1     2902  \n",
       "136990              0              0             0     2902  \n",
       "136991              0              0             0     2902  \n",
       "136992              0              0             0     2902  \n",
       "136993              0              0             0     2902  \n",
       "136994              1              1             1     2902  \n",
       "136995              0              0             0     2902  \n",
       "136996              0              0             1     2902  \n",
       "136997              0              0             0     2902  \n",
       "136998              1              1             1     2902  \n",
       "136999              0              0             0     2902  \n",
       "137000              0              0             0     2902  \n",
       "137001              0              0             0     2902  \n",
       "137002              2              2             2     2902  \n",
       "137003              2              2             2     2902  \n",
       "137004              0              0             0     2902  \n",
       "137005              2              2             2     2902  \n",
       "137006              1              1             2     2902  \n",
       "137007              1              1             1     2902  \n",
       "137008              0              0             0     2902  \n",
       "137009              0              0             0     2902  \n",
       "137010              0              0             0     2902  \n",
       "137011              0              0             1     2902  \n",
       "137012              0              0             0     2902  \n",
       "137013              0              0             0     2902  \n",
       "137014              0              0             0     2902  \n",
       "137015              0              0             1     2902  \n",
       "137016              0              0             0     2902  \n",
       "137017              1              1             1     2902  \n",
       "137018              0              0             0     2902  \n",
       "\n",
       "[137019 rows x 80 columns]"
      ]
     },
     "execution_count": 44,
     "metadata": {},
     "output_type": "execute_result"
    }
   ],
   "source": [
    "new_train_data_150users"
   ]
  },
  {
   "cell_type": "markdown",
   "metadata": {},
   "source": [
    "**10. Постройте картинки для новых признаков, поисследуйте их, прокомментируйте результаты.**"
   ]
  },
  {
   "cell_type": "markdown",
   "metadata": {},
   "source": [
    "Перечень новых признаков:\n",
    "- `mean_time_diff` - среднее время нахождения на сайте в течении сессии\n",
    "- `Start_Year` - год начала сессии\n",
    "- `Start_Month` - месяц начала сессии\n",
    "- `Start_Weekday` - неделя начала сессии\n",
    "- `Part_of_Day` - время суток\n",
    "- `aver_time_top_site` от 1 до 30 - среднее время пребывания на сайте для топ-30 популярных сайтов\n",
    "- `freq_top_site` от 1 до 30 - частота посещения для топ-30 популярных сайтов\n",
    "- `count_facebook` - количество посещения сайта facebook\n",
    "- `count_youtube` - количество посещения сайта youtube\n",
    "- `count_twitter` - количество посещения сайта twitter\n",
    "- `count_google` - количество посещения сайта google\n",
    "\n",
    "Визуальный анализ проведем по данным для 150 пользователей"
   ]
  },
  {
   "cell_type": "markdown",
   "metadata": {},
   "source": [
    "Выведем медианные значения среднего времени нахождения на сайте в течении сессии (mean_time_diff)"
   ]
  },
  {
   "cell_type": "code",
   "execution_count": 45,
   "metadata": {},
   "outputs": [
    {
     "data": {
      "text/html": [
       "        <script type=\"text/javascript\">\n",
       "        window.PlotlyConfig = {MathJaxConfig: 'local'};\n",
       "        if (window.MathJax) {MathJax.Hub.Config({SVG: {font: \"STIX-Web\"}});}\n",
       "        if (typeof require !== 'undefined') {\n",
       "        require.undef(\"plotly\");\n",
       "        requirejs.config({\n",
       "            paths: {\n",
       "                'plotly': ['https://cdn.plot.ly/plotly-latest.min']\n",
       "            }\n",
       "        });\n",
       "        require(['plotly'], function(Plotly) {\n",
       "            window._Plotly = Plotly;\n",
       "        });\n",
       "        }\n",
       "        </script>\n",
       "        "
      ]
     },
     "metadata": {},
     "output_type": "display_data"
    }
   ],
   "source": [
    "from plotly.offline import download_plotlyjs, init_notebook_mode, plot, iplot\n",
    "import plotly.graph_objs as go\n",
    "\n",
    "init_notebook_mode(connected=True)"
   ]
  },
  {
   "cell_type": "code",
   "execution_count": 46,
   "metadata": {},
   "outputs": [
    {
     "data": {
      "application/vnd.plotly.v1+json": {
       "config": {
        "linkText": "Export to plot.ly",
        "plotlyServerURL": "https://plot.ly",
        "showLink": false
       },
       "data": [
        {
         "type": "bar",
         "x": [
          "user515",
          "user2902",
          "user6",
          "user13",
          "user15",
          "user16",
          "user533",
          "user28",
          "user1054",
          "user31",
          "user33",
          "user1371",
          "user39",
          "user46",
          "user49",
          "user50",
          "user563",
          "user564",
          "user53",
          "user568",
          "user569",
          "user570",
          "user573",
          "user575",
          "user576",
          "user65",
          "user66",
          "user580",
          "user2118",
          "user583",
          "user584",
          "user82",
          "user85",
          "user600",
          "user89",
          "user603",
          "user92",
          "user605",
          "user1040",
          "user100",
          "user102",
          "user103",
          "user105",
          "user106",
          "user118",
          "user119",
          "user120",
          "user126",
          "user127",
          "user128",
          "user875",
          "user647",
          "user138",
          "user653",
          "user2191",
          "user664",
          "user665",
          "user158",
          "user160",
          "user165",
          "user172",
          "user177",
          "user692",
          "user1993",
          "user697",
          "user705",
          "user785",
          "user2250",
          "user203",
          "user207",
          "user722",
          "user1797",
          "user223",
          "user1248",
          "user740",
          "user741",
          "user233",
          "user235",
          "user236",
          "user237",
          "user238",
          "user240",
          "user241",
          "user242",
          "user1267",
          "user756",
          "user245",
          "user246",
          "user249",
          "user252",
          "user254",
          "user256",
          "user640",
          "user258",
          "user259",
          "user260",
          "user261",
          "user1798",
          "user263",
          "user264",
          "user780",
          "user269",
          "user270",
          "user784",
          "user273",
          "user1299",
          "user797",
          "user287",
          "user294",
          "user561",
          "user298",
          "user812",
          "user301",
          "user2355",
          "user308",
          "user315",
          "user318",
          "user2174",
          "user327",
          "user332",
          "user333",
          "user339",
          "user340",
          "user342",
          "user344",
          "user859",
          "user351",
          "user356",
          "user2408",
          "user361",
          "user363",
          "user2625",
          "user411",
          "user417",
          "user932",
          "user425",
          "user430",
          "user435",
          "user436",
          "user440",
          "user444",
          "user2493",
          "user844",
          "user868",
          "user475",
          "user476",
          "user677",
          "user996",
          "user486",
          "user1014"
         ],
         "y": [
          2.4,
          0.8,
          2.5,
          1.9,
          3.6,
          1.1,
          2.7,
          2.1,
          2.05,
          2,
          2.3,
          0.3,
          3.3,
          4.55,
          3.4,
          4.5,
          2.4,
          1.7,
          1.7,
          8.95,
          4.6,
          5.3,
          2.8,
          3.2,
          14.8,
          13.8,
          8.350000000000001,
          3.8,
          2.4,
          1.9,
          1.6,
          5,
          5.7,
          3.3,
          4.25,
          2.1,
          2.7,
          1.6,
          3.9,
          5.9,
          1.8,
          1.1,
          1.7,
          0.8,
          3,
          2.9,
          1.5,
          3.2,
          3.4,
          4.6,
          0.6499999999999999,
          3.1,
          6.8,
          3.5,
          2.4,
          1.6,
          6,
          4.9,
          6.550000000000001,
          4.65,
          5,
          1.4,
          4.3,
          1.5,
          2.1,
          4.9,
          0.6,
          4.3,
          3.6,
          1.65,
          3.8499999999999996,
          3.6,
          6.9,
          1.3,
          0.8,
          1.7,
          8.5,
          10.5,
          3.2,
          4.5,
          4.2,
          3.55,
          4.7,
          6.85,
          0.9,
          3.1,
          4.1,
          7.05,
          5.9,
          10.9,
          2.3499999999999996,
          6.7,
          2.1,
          4.15,
          10.55,
          2.8,
          6.1,
          2.1,
          2.7,
          9.05,
          1.7,
          2.7,
          1.8,
          2.3,
          6.4,
          3.8499999999999996,
          1.2,
          4.1,
          12.399999999999999,
          1.5,
          1.6,
          0.4,
          1.3,
          0.8,
          10.8,
          4.55,
          5.25,
          0.5,
          4.3,
          16.9,
          6.4,
          1.3,
          5.5,
          2.7,
          5.4,
          1.6,
          4.4,
          2.1500000000000004,
          1.4,
          9.2,
          1.6,
          1,
          2.1,
          5.75,
          1.7,
          6.15,
          1.3,
          11.55,
          2.8,
          10.9,
          6.7,
          1.6,
          1.6,
          3.2,
          3.9,
          1.2,
          7.8,
          1.6,
          2.3,
          1.3
         ]
        }
       ],
       "layout": {
        "template": {
         "data": {
          "bar": [
           {
            "error_x": {
             "color": "#2a3f5f"
            },
            "error_y": {
             "color": "#2a3f5f"
            },
            "marker": {
             "line": {
              "color": "#E5ECF6",
              "width": 0.5
             }
            },
            "type": "bar"
           }
          ],
          "barpolar": [
           {
            "marker": {
             "line": {
              "color": "#E5ECF6",
              "width": 0.5
             }
            },
            "type": "barpolar"
           }
          ],
          "carpet": [
           {
            "aaxis": {
             "endlinecolor": "#2a3f5f",
             "gridcolor": "white",
             "linecolor": "white",
             "minorgridcolor": "white",
             "startlinecolor": "#2a3f5f"
            },
            "baxis": {
             "endlinecolor": "#2a3f5f",
             "gridcolor": "white",
             "linecolor": "white",
             "minorgridcolor": "white",
             "startlinecolor": "#2a3f5f"
            },
            "type": "carpet"
           }
          ],
          "choropleth": [
           {
            "colorbar": {
             "outlinewidth": 0,
             "ticks": ""
            },
            "type": "choropleth"
           }
          ],
          "contour": [
           {
            "colorbar": {
             "outlinewidth": 0,
             "ticks": ""
            },
            "colorscale": [
             [
              0,
              "#0d0887"
             ],
             [
              0.1111111111111111,
              "#46039f"
             ],
             [
              0.2222222222222222,
              "#7201a8"
             ],
             [
              0.3333333333333333,
              "#9c179e"
             ],
             [
              0.4444444444444444,
              "#bd3786"
             ],
             [
              0.5555555555555556,
              "#d8576b"
             ],
             [
              0.6666666666666666,
              "#ed7953"
             ],
             [
              0.7777777777777778,
              "#fb9f3a"
             ],
             [
              0.8888888888888888,
              "#fdca26"
             ],
             [
              1,
              "#f0f921"
             ]
            ],
            "type": "contour"
           }
          ],
          "contourcarpet": [
           {
            "colorbar": {
             "outlinewidth": 0,
             "ticks": ""
            },
            "type": "contourcarpet"
           }
          ],
          "heatmap": [
           {
            "colorbar": {
             "outlinewidth": 0,
             "ticks": ""
            },
            "colorscale": [
             [
              0,
              "#0d0887"
             ],
             [
              0.1111111111111111,
              "#46039f"
             ],
             [
              0.2222222222222222,
              "#7201a8"
             ],
             [
              0.3333333333333333,
              "#9c179e"
             ],
             [
              0.4444444444444444,
              "#bd3786"
             ],
             [
              0.5555555555555556,
              "#d8576b"
             ],
             [
              0.6666666666666666,
              "#ed7953"
             ],
             [
              0.7777777777777778,
              "#fb9f3a"
             ],
             [
              0.8888888888888888,
              "#fdca26"
             ],
             [
              1,
              "#f0f921"
             ]
            ],
            "type": "heatmap"
           }
          ],
          "heatmapgl": [
           {
            "colorbar": {
             "outlinewidth": 0,
             "ticks": ""
            },
            "colorscale": [
             [
              0,
              "#0d0887"
             ],
             [
              0.1111111111111111,
              "#46039f"
             ],
             [
              0.2222222222222222,
              "#7201a8"
             ],
             [
              0.3333333333333333,
              "#9c179e"
             ],
             [
              0.4444444444444444,
              "#bd3786"
             ],
             [
              0.5555555555555556,
              "#d8576b"
             ],
             [
              0.6666666666666666,
              "#ed7953"
             ],
             [
              0.7777777777777778,
              "#fb9f3a"
             ],
             [
              0.8888888888888888,
              "#fdca26"
             ],
             [
              1,
              "#f0f921"
             ]
            ],
            "type": "heatmapgl"
           }
          ],
          "histogram": [
           {
            "marker": {
             "colorbar": {
              "outlinewidth": 0,
              "ticks": ""
             }
            },
            "type": "histogram"
           }
          ],
          "histogram2d": [
           {
            "colorbar": {
             "outlinewidth": 0,
             "ticks": ""
            },
            "colorscale": [
             [
              0,
              "#0d0887"
             ],
             [
              0.1111111111111111,
              "#46039f"
             ],
             [
              0.2222222222222222,
              "#7201a8"
             ],
             [
              0.3333333333333333,
              "#9c179e"
             ],
             [
              0.4444444444444444,
              "#bd3786"
             ],
             [
              0.5555555555555556,
              "#d8576b"
             ],
             [
              0.6666666666666666,
              "#ed7953"
             ],
             [
              0.7777777777777778,
              "#fb9f3a"
             ],
             [
              0.8888888888888888,
              "#fdca26"
             ],
             [
              1,
              "#f0f921"
             ]
            ],
            "type": "histogram2d"
           }
          ],
          "histogram2dcontour": [
           {
            "colorbar": {
             "outlinewidth": 0,
             "ticks": ""
            },
            "colorscale": [
             [
              0,
              "#0d0887"
             ],
             [
              0.1111111111111111,
              "#46039f"
             ],
             [
              0.2222222222222222,
              "#7201a8"
             ],
             [
              0.3333333333333333,
              "#9c179e"
             ],
             [
              0.4444444444444444,
              "#bd3786"
             ],
             [
              0.5555555555555556,
              "#d8576b"
             ],
             [
              0.6666666666666666,
              "#ed7953"
             ],
             [
              0.7777777777777778,
              "#fb9f3a"
             ],
             [
              0.8888888888888888,
              "#fdca26"
             ],
             [
              1,
              "#f0f921"
             ]
            ],
            "type": "histogram2dcontour"
           }
          ],
          "mesh3d": [
           {
            "colorbar": {
             "outlinewidth": 0,
             "ticks": ""
            },
            "type": "mesh3d"
           }
          ],
          "parcoords": [
           {
            "line": {
             "colorbar": {
              "outlinewidth": 0,
              "ticks": ""
             }
            },
            "type": "parcoords"
           }
          ],
          "pie": [
           {
            "automargin": true,
            "type": "pie"
           }
          ],
          "scatter": [
           {
            "marker": {
             "colorbar": {
              "outlinewidth": 0,
              "ticks": ""
             }
            },
            "type": "scatter"
           }
          ],
          "scatter3d": [
           {
            "line": {
             "colorbar": {
              "outlinewidth": 0,
              "ticks": ""
             }
            },
            "marker": {
             "colorbar": {
              "outlinewidth": 0,
              "ticks": ""
             }
            },
            "type": "scatter3d"
           }
          ],
          "scattercarpet": [
           {
            "marker": {
             "colorbar": {
              "outlinewidth": 0,
              "ticks": ""
             }
            },
            "type": "scattercarpet"
           }
          ],
          "scattergeo": [
           {
            "marker": {
             "colorbar": {
              "outlinewidth": 0,
              "ticks": ""
             }
            },
            "type": "scattergeo"
           }
          ],
          "scattergl": [
           {
            "marker": {
             "colorbar": {
              "outlinewidth": 0,
              "ticks": ""
             }
            },
            "type": "scattergl"
           }
          ],
          "scattermapbox": [
           {
            "marker": {
             "colorbar": {
              "outlinewidth": 0,
              "ticks": ""
             }
            },
            "type": "scattermapbox"
           }
          ],
          "scatterpolar": [
           {
            "marker": {
             "colorbar": {
              "outlinewidth": 0,
              "ticks": ""
             }
            },
            "type": "scatterpolar"
           }
          ],
          "scatterpolargl": [
           {
            "marker": {
             "colorbar": {
              "outlinewidth": 0,
              "ticks": ""
             }
            },
            "type": "scatterpolargl"
           }
          ],
          "scatterternary": [
           {
            "marker": {
             "colorbar": {
              "outlinewidth": 0,
              "ticks": ""
             }
            },
            "type": "scatterternary"
           }
          ],
          "surface": [
           {
            "colorbar": {
             "outlinewidth": 0,
             "ticks": ""
            },
            "colorscale": [
             [
              0,
              "#0d0887"
             ],
             [
              0.1111111111111111,
              "#46039f"
             ],
             [
              0.2222222222222222,
              "#7201a8"
             ],
             [
              0.3333333333333333,
              "#9c179e"
             ],
             [
              0.4444444444444444,
              "#bd3786"
             ],
             [
              0.5555555555555556,
              "#d8576b"
             ],
             [
              0.6666666666666666,
              "#ed7953"
             ],
             [
              0.7777777777777778,
              "#fb9f3a"
             ],
             [
              0.8888888888888888,
              "#fdca26"
             ],
             [
              1,
              "#f0f921"
             ]
            ],
            "type": "surface"
           }
          ],
          "table": [
           {
            "cells": {
             "fill": {
              "color": "#EBF0F8"
             },
             "line": {
              "color": "white"
             }
            },
            "header": {
             "fill": {
              "color": "#C8D4E3"
             },
             "line": {
              "color": "white"
             }
            },
            "type": "table"
           }
          ]
         },
         "layout": {
          "annotationdefaults": {
           "arrowcolor": "#2a3f5f",
           "arrowhead": 0,
           "arrowwidth": 1
          },
          "coloraxis": {
           "colorbar": {
            "outlinewidth": 0,
            "ticks": ""
           }
          },
          "colorscale": {
           "diverging": [
            [
             0,
             "#8e0152"
            ],
            [
             0.1,
             "#c51b7d"
            ],
            [
             0.2,
             "#de77ae"
            ],
            [
             0.3,
             "#f1b6da"
            ],
            [
             0.4,
             "#fde0ef"
            ],
            [
             0.5,
             "#f7f7f7"
            ],
            [
             0.6,
             "#e6f5d0"
            ],
            [
             0.7,
             "#b8e186"
            ],
            [
             0.8,
             "#7fbc41"
            ],
            [
             0.9,
             "#4d9221"
            ],
            [
             1,
             "#276419"
            ]
           ],
           "sequential": [
            [
             0,
             "#0d0887"
            ],
            [
             0.1111111111111111,
             "#46039f"
            ],
            [
             0.2222222222222222,
             "#7201a8"
            ],
            [
             0.3333333333333333,
             "#9c179e"
            ],
            [
             0.4444444444444444,
             "#bd3786"
            ],
            [
             0.5555555555555556,
             "#d8576b"
            ],
            [
             0.6666666666666666,
             "#ed7953"
            ],
            [
             0.7777777777777778,
             "#fb9f3a"
            ],
            [
             0.8888888888888888,
             "#fdca26"
            ],
            [
             1,
             "#f0f921"
            ]
           ],
           "sequentialminus": [
            [
             0,
             "#0d0887"
            ],
            [
             0.1111111111111111,
             "#46039f"
            ],
            [
             0.2222222222222222,
             "#7201a8"
            ],
            [
             0.3333333333333333,
             "#9c179e"
            ],
            [
             0.4444444444444444,
             "#bd3786"
            ],
            [
             0.5555555555555556,
             "#d8576b"
            ],
            [
             0.6666666666666666,
             "#ed7953"
            ],
            [
             0.7777777777777778,
             "#fb9f3a"
            ],
            [
             0.8888888888888888,
             "#fdca26"
            ],
            [
             1,
             "#f0f921"
            ]
           ]
          },
          "colorway": [
           "#636efa",
           "#EF553B",
           "#00cc96",
           "#ab63fa",
           "#FFA15A",
           "#19d3f3",
           "#FF6692",
           "#B6E880",
           "#FF97FF",
           "#FECB52"
          ],
          "font": {
           "color": "#2a3f5f"
          },
          "geo": {
           "bgcolor": "white",
           "lakecolor": "white",
           "landcolor": "#E5ECF6",
           "showlakes": true,
           "showland": true,
           "subunitcolor": "white"
          },
          "hoverlabel": {
           "align": "left"
          },
          "hovermode": "closest",
          "mapbox": {
           "style": "light"
          },
          "paper_bgcolor": "white",
          "plot_bgcolor": "#E5ECF6",
          "polar": {
           "angularaxis": {
            "gridcolor": "white",
            "linecolor": "white",
            "ticks": ""
           },
           "bgcolor": "#E5ECF6",
           "radialaxis": {
            "gridcolor": "white",
            "linecolor": "white",
            "ticks": ""
           }
          },
          "scene": {
           "xaxis": {
            "backgroundcolor": "#E5ECF6",
            "gridcolor": "white",
            "gridwidth": 2,
            "linecolor": "white",
            "showbackground": true,
            "ticks": "",
            "zerolinecolor": "white"
           },
           "yaxis": {
            "backgroundcolor": "#E5ECF6",
            "gridcolor": "white",
            "gridwidth": 2,
            "linecolor": "white",
            "showbackground": true,
            "ticks": "",
            "zerolinecolor": "white"
           },
           "zaxis": {
            "backgroundcolor": "#E5ECF6",
            "gridcolor": "white",
            "gridwidth": 2,
            "linecolor": "white",
            "showbackground": true,
            "ticks": "",
            "zerolinecolor": "white"
           }
          },
          "shapedefaults": {
           "line": {
            "color": "#2a3f5f"
           }
          },
          "ternary": {
           "aaxis": {
            "gridcolor": "white",
            "linecolor": "white",
            "ticks": ""
           },
           "baxis": {
            "gridcolor": "white",
            "linecolor": "white",
            "ticks": ""
           },
           "bgcolor": "#E5ECF6",
           "caxis": {
            "gridcolor": "white",
            "linecolor": "white",
            "ticks": ""
           }
          },
          "title": {
           "x": 0.05
          },
          "xaxis": {
           "automargin": true,
           "gridcolor": "white",
           "linecolor": "white",
           "ticks": "",
           "title": {
            "standoff": 15
           },
           "zerolinecolor": "white",
           "zerolinewidth": 2
          },
          "yaxis": {
           "automargin": true,
           "gridcolor": "white",
           "linecolor": "white",
           "ticks": "",
           "title": {
            "standoff": 15
           },
           "zerolinecolor": "white",
           "zerolinewidth": 2
          }
         }
        },
        "xaxis": {
         "tickangle": -90,
         "title": {
          "text": "User_ID"
         }
        },
        "yaxis": {
         "title": {
          "text": "Cреднее время нахождения на сайте в течении сессии, c"
         }
        }
       }
      },
      "text/html": [
       "<div>\n",
       "        \n",
       "        \n",
       "            <div id=\"27bf84ab-9ddf-4701-bf18-5843c21384cf\" class=\"plotly-graph-div\" style=\"height:525px; width:100%;\"></div>\n",
       "            <script type=\"text/javascript\">\n",
       "                require([\"plotly\"], function(Plotly) {\n",
       "                    window.PLOTLYENV=window.PLOTLYENV || {};\n",
       "                    \n",
       "                if (document.getElementById(\"27bf84ab-9ddf-4701-bf18-5843c21384cf\")) {\n",
       "                    Plotly.newPlot(\n",
       "                        '27bf84ab-9ddf-4701-bf18-5843c21384cf',\n",
       "                        [{\"type\": \"bar\", \"x\": [\"user515\", \"user2902\", \"user6\", \"user13\", \"user15\", \"user16\", \"user533\", \"user28\", \"user1054\", \"user31\", \"user33\", \"user1371\", \"user39\", \"user46\", \"user49\", \"user50\", \"user563\", \"user564\", \"user53\", \"user568\", \"user569\", \"user570\", \"user573\", \"user575\", \"user576\", \"user65\", \"user66\", \"user580\", \"user2118\", \"user583\", \"user584\", \"user82\", \"user85\", \"user600\", \"user89\", \"user603\", \"user92\", \"user605\", \"user1040\", \"user100\", \"user102\", \"user103\", \"user105\", \"user106\", \"user118\", \"user119\", \"user120\", \"user126\", \"user127\", \"user128\", \"user875\", \"user647\", \"user138\", \"user653\", \"user2191\", \"user664\", \"user665\", \"user158\", \"user160\", \"user165\", \"user172\", \"user177\", \"user692\", \"user1993\", \"user697\", \"user705\", \"user785\", \"user2250\", \"user203\", \"user207\", \"user722\", \"user1797\", \"user223\", \"user1248\", \"user740\", \"user741\", \"user233\", \"user235\", \"user236\", \"user237\", \"user238\", \"user240\", \"user241\", \"user242\", \"user1267\", \"user756\", \"user245\", \"user246\", \"user249\", \"user252\", \"user254\", \"user256\", \"user640\", \"user258\", \"user259\", \"user260\", \"user261\", \"user1798\", \"user263\", \"user264\", \"user780\", \"user269\", \"user270\", \"user784\", \"user273\", \"user1299\", \"user797\", \"user287\", \"user294\", \"user561\", \"user298\", \"user812\", \"user301\", \"user2355\", \"user308\", \"user315\", \"user318\", \"user2174\", \"user327\", \"user332\", \"user333\", \"user339\", \"user340\", \"user342\", \"user344\", \"user859\", \"user351\", \"user356\", \"user2408\", \"user361\", \"user363\", \"user2625\", \"user411\", \"user417\", \"user932\", \"user425\", \"user430\", \"user435\", \"user436\", \"user440\", \"user444\", \"user2493\", \"user844\", \"user868\", \"user475\", \"user476\", \"user677\", \"user996\", \"user486\", \"user1014\"], \"y\": [2.4, 0.8, 2.5, 1.9, 3.6, 1.1, 2.7, 2.1, 2.05, 2.0, 2.3, 0.3, 3.3, 4.55, 3.4, 4.5, 2.4, 1.7, 1.7, 8.95, 4.6, 5.3, 2.8, 3.2, 14.8, 13.8, 8.350000000000001, 3.8, 2.4, 1.9, 1.6, 5.0, 5.7, 3.3, 4.25, 2.1, 2.7, 1.6, 3.9, 5.9, 1.8, 1.1, 1.7, 0.8, 3.0, 2.9, 1.5, 3.2, 3.4, 4.6, 0.6499999999999999, 3.1, 6.8, 3.5, 2.4, 1.6, 6.0, 4.9, 6.550000000000001, 4.65, 5.0, 1.4, 4.3, 1.5, 2.1, 4.9, 0.6, 4.3, 3.6, 1.65, 3.8499999999999996, 3.6, 6.9, 1.3, 0.8, 1.7, 8.5, 10.5, 3.2, 4.5, 4.2, 3.55, 4.7, 6.85, 0.9, 3.1, 4.1, 7.05, 5.9, 10.9, 2.3499999999999996, 6.7, 2.1, 4.15, 10.55, 2.8, 6.1, 2.1, 2.7, 9.05, 1.7, 2.7, 1.8, 2.3, 6.4, 3.8499999999999996, 1.2, 4.1, 12.399999999999999, 1.5, 1.6, 0.4, 1.3, 0.8, 10.8, 4.55, 5.25, 0.5, 4.3, 16.9, 6.4, 1.3, 5.5, 2.7, 5.4, 1.6, 4.4, 2.1500000000000004, 1.4, 9.2, 1.6, 1.0, 2.1, 5.75, 1.7, 6.15, 1.3, 11.55, 2.8, 10.9, 6.7, 1.6, 1.6, 3.2, 3.9, 1.2, 7.8, 1.6, 2.3, 1.3]}],\n",
       "                        {\"template\": {\"data\": {\"bar\": [{\"error_x\": {\"color\": \"#2a3f5f\"}, \"error_y\": {\"color\": \"#2a3f5f\"}, \"marker\": {\"line\": {\"color\": \"#E5ECF6\", \"width\": 0.5}}, \"type\": \"bar\"}], \"barpolar\": [{\"marker\": {\"line\": {\"color\": \"#E5ECF6\", \"width\": 0.5}}, \"type\": \"barpolar\"}], \"carpet\": [{\"aaxis\": {\"endlinecolor\": \"#2a3f5f\", \"gridcolor\": \"white\", \"linecolor\": \"white\", \"minorgridcolor\": \"white\", \"startlinecolor\": \"#2a3f5f\"}, \"baxis\": {\"endlinecolor\": \"#2a3f5f\", \"gridcolor\": \"white\", \"linecolor\": \"white\", \"minorgridcolor\": \"white\", \"startlinecolor\": \"#2a3f5f\"}, \"type\": \"carpet\"}], \"choropleth\": [{\"colorbar\": {\"outlinewidth\": 0, \"ticks\": \"\"}, \"type\": \"choropleth\"}], \"contour\": [{\"colorbar\": {\"outlinewidth\": 0, \"ticks\": \"\"}, \"colorscale\": [[0.0, \"#0d0887\"], [0.1111111111111111, \"#46039f\"], [0.2222222222222222, \"#7201a8\"], [0.3333333333333333, \"#9c179e\"], [0.4444444444444444, \"#bd3786\"], [0.5555555555555556, \"#d8576b\"], [0.6666666666666666, \"#ed7953\"], [0.7777777777777778, \"#fb9f3a\"], [0.8888888888888888, \"#fdca26\"], [1.0, \"#f0f921\"]], \"type\": \"contour\"}], \"contourcarpet\": [{\"colorbar\": {\"outlinewidth\": 0, \"ticks\": \"\"}, \"type\": \"contourcarpet\"}], \"heatmap\": [{\"colorbar\": {\"outlinewidth\": 0, \"ticks\": \"\"}, \"colorscale\": [[0.0, \"#0d0887\"], [0.1111111111111111, \"#46039f\"], [0.2222222222222222, \"#7201a8\"], [0.3333333333333333, \"#9c179e\"], [0.4444444444444444, \"#bd3786\"], [0.5555555555555556, \"#d8576b\"], [0.6666666666666666, \"#ed7953\"], [0.7777777777777778, \"#fb9f3a\"], [0.8888888888888888, \"#fdca26\"], [1.0, \"#f0f921\"]], \"type\": \"heatmap\"}], \"heatmapgl\": [{\"colorbar\": {\"outlinewidth\": 0, \"ticks\": \"\"}, \"colorscale\": [[0.0, \"#0d0887\"], [0.1111111111111111, \"#46039f\"], [0.2222222222222222, \"#7201a8\"], [0.3333333333333333, \"#9c179e\"], [0.4444444444444444, \"#bd3786\"], [0.5555555555555556, \"#d8576b\"], [0.6666666666666666, \"#ed7953\"], [0.7777777777777778, \"#fb9f3a\"], [0.8888888888888888, \"#fdca26\"], [1.0, \"#f0f921\"]], \"type\": \"heatmapgl\"}], \"histogram\": [{\"marker\": {\"colorbar\": {\"outlinewidth\": 0, \"ticks\": \"\"}}, \"type\": \"histogram\"}], \"histogram2d\": [{\"colorbar\": {\"outlinewidth\": 0, \"ticks\": \"\"}, \"colorscale\": [[0.0, \"#0d0887\"], [0.1111111111111111, \"#46039f\"], [0.2222222222222222, \"#7201a8\"], [0.3333333333333333, \"#9c179e\"], [0.4444444444444444, \"#bd3786\"], [0.5555555555555556, \"#d8576b\"], [0.6666666666666666, \"#ed7953\"], [0.7777777777777778, \"#fb9f3a\"], [0.8888888888888888, \"#fdca26\"], [1.0, \"#f0f921\"]], \"type\": \"histogram2d\"}], \"histogram2dcontour\": [{\"colorbar\": {\"outlinewidth\": 0, \"ticks\": \"\"}, \"colorscale\": [[0.0, \"#0d0887\"], [0.1111111111111111, \"#46039f\"], [0.2222222222222222, \"#7201a8\"], [0.3333333333333333, \"#9c179e\"], [0.4444444444444444, \"#bd3786\"], [0.5555555555555556, \"#d8576b\"], [0.6666666666666666, \"#ed7953\"], [0.7777777777777778, \"#fb9f3a\"], [0.8888888888888888, \"#fdca26\"], [1.0, \"#f0f921\"]], \"type\": \"histogram2dcontour\"}], \"mesh3d\": [{\"colorbar\": {\"outlinewidth\": 0, \"ticks\": \"\"}, \"type\": \"mesh3d\"}], \"parcoords\": [{\"line\": {\"colorbar\": {\"outlinewidth\": 0, \"ticks\": \"\"}}, \"type\": \"parcoords\"}], \"pie\": [{\"automargin\": true, \"type\": \"pie\"}], \"scatter\": [{\"marker\": {\"colorbar\": {\"outlinewidth\": 0, \"ticks\": \"\"}}, \"type\": \"scatter\"}], \"scatter3d\": [{\"line\": {\"colorbar\": {\"outlinewidth\": 0, \"ticks\": \"\"}}, \"marker\": {\"colorbar\": {\"outlinewidth\": 0, \"ticks\": \"\"}}, \"type\": \"scatter3d\"}], \"scattercarpet\": [{\"marker\": {\"colorbar\": {\"outlinewidth\": 0, \"ticks\": \"\"}}, \"type\": \"scattercarpet\"}], \"scattergeo\": [{\"marker\": {\"colorbar\": {\"outlinewidth\": 0, \"ticks\": \"\"}}, \"type\": \"scattergeo\"}], \"scattergl\": [{\"marker\": {\"colorbar\": {\"outlinewidth\": 0, \"ticks\": \"\"}}, \"type\": \"scattergl\"}], \"scattermapbox\": [{\"marker\": {\"colorbar\": {\"outlinewidth\": 0, \"ticks\": \"\"}}, \"type\": \"scattermapbox\"}], \"scatterpolar\": [{\"marker\": {\"colorbar\": {\"outlinewidth\": 0, \"ticks\": \"\"}}, \"type\": \"scatterpolar\"}], \"scatterpolargl\": [{\"marker\": {\"colorbar\": {\"outlinewidth\": 0, \"ticks\": \"\"}}, \"type\": \"scatterpolargl\"}], \"scatterternary\": [{\"marker\": {\"colorbar\": {\"outlinewidth\": 0, \"ticks\": \"\"}}, \"type\": \"scatterternary\"}], \"surface\": [{\"colorbar\": {\"outlinewidth\": 0, \"ticks\": \"\"}, \"colorscale\": [[0.0, \"#0d0887\"], [0.1111111111111111, \"#46039f\"], [0.2222222222222222, \"#7201a8\"], [0.3333333333333333, \"#9c179e\"], [0.4444444444444444, \"#bd3786\"], [0.5555555555555556, \"#d8576b\"], [0.6666666666666666, \"#ed7953\"], [0.7777777777777778, \"#fb9f3a\"], [0.8888888888888888, \"#fdca26\"], [1.0, \"#f0f921\"]], \"type\": \"surface\"}], \"table\": [{\"cells\": {\"fill\": {\"color\": \"#EBF0F8\"}, \"line\": {\"color\": \"white\"}}, \"header\": {\"fill\": {\"color\": \"#C8D4E3\"}, \"line\": {\"color\": \"white\"}}, \"type\": \"table\"}]}, \"layout\": {\"annotationdefaults\": {\"arrowcolor\": \"#2a3f5f\", \"arrowhead\": 0, \"arrowwidth\": 1}, \"coloraxis\": {\"colorbar\": {\"outlinewidth\": 0, \"ticks\": \"\"}}, \"colorscale\": {\"diverging\": [[0, \"#8e0152\"], [0.1, \"#c51b7d\"], [0.2, \"#de77ae\"], [0.3, \"#f1b6da\"], [0.4, \"#fde0ef\"], [0.5, \"#f7f7f7\"], [0.6, \"#e6f5d0\"], [0.7, \"#b8e186\"], [0.8, \"#7fbc41\"], [0.9, \"#4d9221\"], [1, \"#276419\"]], \"sequential\": [[0.0, \"#0d0887\"], [0.1111111111111111, \"#46039f\"], [0.2222222222222222, \"#7201a8\"], [0.3333333333333333, \"#9c179e\"], [0.4444444444444444, \"#bd3786\"], [0.5555555555555556, \"#d8576b\"], [0.6666666666666666, \"#ed7953\"], [0.7777777777777778, \"#fb9f3a\"], [0.8888888888888888, \"#fdca26\"], [1.0, \"#f0f921\"]], \"sequentialminus\": [[0.0, \"#0d0887\"], [0.1111111111111111, \"#46039f\"], [0.2222222222222222, \"#7201a8\"], [0.3333333333333333, \"#9c179e\"], [0.4444444444444444, \"#bd3786\"], [0.5555555555555556, \"#d8576b\"], [0.6666666666666666, \"#ed7953\"], [0.7777777777777778, \"#fb9f3a\"], [0.8888888888888888, \"#fdca26\"], [1.0, \"#f0f921\"]]}, \"colorway\": [\"#636efa\", \"#EF553B\", \"#00cc96\", \"#ab63fa\", \"#FFA15A\", \"#19d3f3\", \"#FF6692\", \"#B6E880\", \"#FF97FF\", \"#FECB52\"], \"font\": {\"color\": \"#2a3f5f\"}, \"geo\": {\"bgcolor\": \"white\", \"lakecolor\": \"white\", \"landcolor\": \"#E5ECF6\", \"showlakes\": true, \"showland\": true, \"subunitcolor\": \"white\"}, \"hoverlabel\": {\"align\": \"left\"}, \"hovermode\": \"closest\", \"mapbox\": {\"style\": \"light\"}, \"paper_bgcolor\": \"white\", \"plot_bgcolor\": \"#E5ECF6\", \"polar\": {\"angularaxis\": {\"gridcolor\": \"white\", \"linecolor\": \"white\", \"ticks\": \"\"}, \"bgcolor\": \"#E5ECF6\", \"radialaxis\": {\"gridcolor\": \"white\", \"linecolor\": \"white\", \"ticks\": \"\"}}, \"scene\": {\"xaxis\": {\"backgroundcolor\": \"#E5ECF6\", \"gridcolor\": \"white\", \"gridwidth\": 2, \"linecolor\": \"white\", \"showbackground\": true, \"ticks\": \"\", \"zerolinecolor\": \"white\"}, \"yaxis\": {\"backgroundcolor\": \"#E5ECF6\", \"gridcolor\": \"white\", \"gridwidth\": 2, \"linecolor\": \"white\", \"showbackground\": true, \"ticks\": \"\", \"zerolinecolor\": \"white\"}, \"zaxis\": {\"backgroundcolor\": \"#E5ECF6\", \"gridcolor\": \"white\", \"gridwidth\": 2, \"linecolor\": \"white\", \"showbackground\": true, \"ticks\": \"\", \"zerolinecolor\": \"white\"}}, \"shapedefaults\": {\"line\": {\"color\": \"#2a3f5f\"}}, \"ternary\": {\"aaxis\": {\"gridcolor\": \"white\", \"linecolor\": \"white\", \"ticks\": \"\"}, \"baxis\": {\"gridcolor\": \"white\", \"linecolor\": \"white\", \"ticks\": \"\"}, \"bgcolor\": \"#E5ECF6\", \"caxis\": {\"gridcolor\": \"white\", \"linecolor\": \"white\", \"ticks\": \"\"}}, \"title\": {\"x\": 0.05}, \"xaxis\": {\"automargin\": true, \"gridcolor\": \"white\", \"linecolor\": \"white\", \"ticks\": \"\", \"title\": {\"standoff\": 15}, \"zerolinecolor\": \"white\", \"zerolinewidth\": 2}, \"yaxis\": {\"automargin\": true, \"gridcolor\": \"white\", \"linecolor\": \"white\", \"ticks\": \"\", \"title\": {\"standoff\": 15}, \"zerolinecolor\": \"white\", \"zerolinewidth\": 2}}}, \"xaxis\": {\"tickangle\": -90, \"title\": {\"text\": \"User_ID\"}}, \"yaxis\": {\"title\": {\"text\": \"C\\u0440\\u0435\\u0434\\u043d\\u0435\\u0435 \\u0432\\u0440\\u0435\\u043c\\u044f \\u043d\\u0430\\u0445\\u043e\\u0436\\u0434\\u0435\\u043d\\u0438\\u044f \\u043d\\u0430 \\u0441\\u0430\\u0439\\u0442\\u0435 \\u0432 \\u0442\\u0435\\u0447\\u0435\\u043d\\u0438\\u0438 \\u0441\\u0435\\u0441\\u0441\\u0438\\u0438, c\"}}},\n",
       "                        {\"responsive\": true}\n",
       "                    ).then(function(){\n",
       "                            \n",
       "var gd = document.getElementById('27bf84ab-9ddf-4701-bf18-5843c21384cf');\n",
       "var x = new MutationObserver(function (mutations, observer) {{\n",
       "        var display = window.getComputedStyle(gd).display;\n",
       "        if (!display || display === 'none') {{\n",
       "            console.log([gd, 'removed!']);\n",
       "            Plotly.purge(gd);\n",
       "            observer.disconnect();\n",
       "        }}\n",
       "}});\n",
       "\n",
       "// Listen for the removal of the full notebook cells\n",
       "var notebookContainer = gd.closest('#notebook-container');\n",
       "if (notebookContainer) {{\n",
       "    x.observe(notebookContainer, {childList: true});\n",
       "}}\n",
       "\n",
       "// Listen for the clearing of the current output cell\n",
       "var outputEl = gd.closest('.output');\n",
       "if (outputEl) {{\n",
       "    x.observe(outputEl, {childList: true});\n",
       "}}\n",
       "\n",
       "                        })\n",
       "                };\n",
       "                });\n",
       "            </script>\n",
       "        </div>"
      ]
     },
     "metadata": {},
     "output_type": "display_data"
    }
   ],
   "source": [
    "d = {}\n",
    "for user_x in new_train_data_150users['user_id'].unique():\n",
    "    d[user_x] =np.median(new_train_data_150users[train_data_150users['user_id'] == user_x]['mean_time_diff'])\n",
    "    \n",
    "data_viz =  go.Bar(\n",
    "    x = map(lambda x: 'user'+x, map(str,d.keys())),\n",
    "    y = d.values()\n",
    ")\n",
    "\n",
    "fig = go.Figure(data = [data_viz])\n",
    "fig.update_xaxes(tickangle=-90)\n",
    "fig.update_layout(xaxis_title='User_ID', yaxis_title=u'Cреднее время нахождения на сайте в течении сессии, c')\n",
    "iplot(fig)"
   ]
  },
  {
   "cell_type": "markdown",
   "metadata": {},
   "source": [
    "Выведите медианный год начала сессии для сессий 150 пользователей"
   ]
  },
  {
   "cell_type": "code",
   "execution_count": 47,
   "metadata": {},
   "outputs": [
    {
     "data": {
      "application/vnd.plotly.v1+json": {
       "config": {
        "linkText": "Export to plot.ly",
        "plotlyServerURL": "https://plot.ly",
        "showLink": false
       },
       "data": [
        {
         "type": "bar",
         "x": [
          "user515",
          "user2902",
          "user6",
          "user13",
          "user15",
          "user16",
          "user533",
          "user28",
          "user1054",
          "user31",
          "user33",
          "user1371",
          "user39",
          "user46",
          "user49",
          "user50",
          "user563",
          "user564",
          "user53",
          "user568",
          "user569",
          "user570",
          "user573",
          "user575",
          "user576",
          "user65",
          "user66",
          "user580",
          "user2118",
          "user583",
          "user584",
          "user82",
          "user85",
          "user600",
          "user89",
          "user603",
          "user92",
          "user605",
          "user1040",
          "user100",
          "user102",
          "user103",
          "user105",
          "user106",
          "user118",
          "user119",
          "user120",
          "user126",
          "user127",
          "user128",
          "user875",
          "user647",
          "user138",
          "user653",
          "user2191",
          "user664",
          "user665",
          "user158",
          "user160",
          "user165",
          "user172",
          "user177",
          "user692",
          "user1993",
          "user697",
          "user705",
          "user785",
          "user2250",
          "user203",
          "user207",
          "user722",
          "user1797",
          "user223",
          "user1248",
          "user740",
          "user741",
          "user233",
          "user235",
          "user236",
          "user237",
          "user238",
          "user240",
          "user241",
          "user242",
          "user1267",
          "user756",
          "user245",
          "user246",
          "user249",
          "user252",
          "user254",
          "user256",
          "user640",
          "user258",
          "user259",
          "user260",
          "user261",
          "user1798",
          "user263",
          "user264",
          "user780",
          "user269",
          "user270",
          "user784",
          "user273",
          "user1299",
          "user797",
          "user287",
          "user294",
          "user561",
          "user298",
          "user812",
          "user301",
          "user2355",
          "user308",
          "user315",
          "user318",
          "user2174",
          "user327",
          "user332",
          "user333",
          "user339",
          "user340",
          "user342",
          "user344",
          "user859",
          "user351",
          "user356",
          "user2408",
          "user361",
          "user363",
          "user2625",
          "user411",
          "user417",
          "user932",
          "user425",
          "user430",
          "user435",
          "user436",
          "user440",
          "user444",
          "user2493",
          "user844",
          "user868",
          "user475",
          "user476",
          "user677",
          "user996",
          "user486",
          "user1014"
         ],
         "y": [
          2014,
          2014,
          2014,
          2013,
          2013,
          2014,
          2014,
          2013,
          2014,
          2014,
          2014,
          2014,
          2014,
          2014,
          2014,
          2013,
          2014,
          2014,
          2014,
          2014,
          2014,
          2014,
          2014,
          2014,
          2014,
          2013,
          2014,
          2014,
          2014,
          2014,
          2014,
          2014,
          2014,
          2014,
          2013,
          2013,
          2014,
          2014,
          2014,
          2014,
          2013,
          2014,
          2013,
          2013,
          2014,
          2014,
          2014,
          2014,
          2014,
          2014,
          2014,
          2014,
          2013,
          2013,
          2014,
          2014,
          2014,
          2014,
          2013,
          2013,
          2013,
          2014,
          2014,
          2014,
          2014,
          2014,
          2014,
          2014,
          2014,
          2014,
          2014,
          2014,
          2013,
          2014,
          2013,
          2014,
          2013,
          2014,
          2014,
          2014,
          2013,
          2013,
          2014,
          2013,
          2014,
          2014,
          2014,
          2013,
          2014,
          2014,
          2014,
          2013,
          2014,
          2013,
          2013,
          2013,
          2013,
          2014,
          2014,
          2013,
          2014,
          2014,
          2014,
          2014,
          2014,
          2014,
          2014,
          2014,
          2014,
          2014,
          2014,
          2014,
          2014,
          2014,
          2014,
          2014,
          2013,
          2014,
          2013,
          2013,
          2014,
          2014,
          2014,
          2014,
          2013,
          2014,
          2013,
          2013,
          2014,
          2014,
          2014,
          2014,
          2014,
          2013,
          2014,
          2014,
          2013,
          2014,
          2013,
          2014,
          2014,
          2014,
          2013,
          2014,
          2014,
          2013,
          2014,
          2014,
          2013,
          2014
         ]
        }
       ],
       "layout": {
        "template": {
         "data": {
          "bar": [
           {
            "error_x": {
             "color": "#2a3f5f"
            },
            "error_y": {
             "color": "#2a3f5f"
            },
            "marker": {
             "line": {
              "color": "#E5ECF6",
              "width": 0.5
             }
            },
            "type": "bar"
           }
          ],
          "barpolar": [
           {
            "marker": {
             "line": {
              "color": "#E5ECF6",
              "width": 0.5
             }
            },
            "type": "barpolar"
           }
          ],
          "carpet": [
           {
            "aaxis": {
             "endlinecolor": "#2a3f5f",
             "gridcolor": "white",
             "linecolor": "white",
             "minorgridcolor": "white",
             "startlinecolor": "#2a3f5f"
            },
            "baxis": {
             "endlinecolor": "#2a3f5f",
             "gridcolor": "white",
             "linecolor": "white",
             "minorgridcolor": "white",
             "startlinecolor": "#2a3f5f"
            },
            "type": "carpet"
           }
          ],
          "choropleth": [
           {
            "colorbar": {
             "outlinewidth": 0,
             "ticks": ""
            },
            "type": "choropleth"
           }
          ],
          "contour": [
           {
            "colorbar": {
             "outlinewidth": 0,
             "ticks": ""
            },
            "colorscale": [
             [
              0,
              "#0d0887"
             ],
             [
              0.1111111111111111,
              "#46039f"
             ],
             [
              0.2222222222222222,
              "#7201a8"
             ],
             [
              0.3333333333333333,
              "#9c179e"
             ],
             [
              0.4444444444444444,
              "#bd3786"
             ],
             [
              0.5555555555555556,
              "#d8576b"
             ],
             [
              0.6666666666666666,
              "#ed7953"
             ],
             [
              0.7777777777777778,
              "#fb9f3a"
             ],
             [
              0.8888888888888888,
              "#fdca26"
             ],
             [
              1,
              "#f0f921"
             ]
            ],
            "type": "contour"
           }
          ],
          "contourcarpet": [
           {
            "colorbar": {
             "outlinewidth": 0,
             "ticks": ""
            },
            "type": "contourcarpet"
           }
          ],
          "heatmap": [
           {
            "colorbar": {
             "outlinewidth": 0,
             "ticks": ""
            },
            "colorscale": [
             [
              0,
              "#0d0887"
             ],
             [
              0.1111111111111111,
              "#46039f"
             ],
             [
              0.2222222222222222,
              "#7201a8"
             ],
             [
              0.3333333333333333,
              "#9c179e"
             ],
             [
              0.4444444444444444,
              "#bd3786"
             ],
             [
              0.5555555555555556,
              "#d8576b"
             ],
             [
              0.6666666666666666,
              "#ed7953"
             ],
             [
              0.7777777777777778,
              "#fb9f3a"
             ],
             [
              0.8888888888888888,
              "#fdca26"
             ],
             [
              1,
              "#f0f921"
             ]
            ],
            "type": "heatmap"
           }
          ],
          "heatmapgl": [
           {
            "colorbar": {
             "outlinewidth": 0,
             "ticks": ""
            },
            "colorscale": [
             [
              0,
              "#0d0887"
             ],
             [
              0.1111111111111111,
              "#46039f"
             ],
             [
              0.2222222222222222,
              "#7201a8"
             ],
             [
              0.3333333333333333,
              "#9c179e"
             ],
             [
              0.4444444444444444,
              "#bd3786"
             ],
             [
              0.5555555555555556,
              "#d8576b"
             ],
             [
              0.6666666666666666,
              "#ed7953"
             ],
             [
              0.7777777777777778,
              "#fb9f3a"
             ],
             [
              0.8888888888888888,
              "#fdca26"
             ],
             [
              1,
              "#f0f921"
             ]
            ],
            "type": "heatmapgl"
           }
          ],
          "histogram": [
           {
            "marker": {
             "colorbar": {
              "outlinewidth": 0,
              "ticks": ""
             }
            },
            "type": "histogram"
           }
          ],
          "histogram2d": [
           {
            "colorbar": {
             "outlinewidth": 0,
             "ticks": ""
            },
            "colorscale": [
             [
              0,
              "#0d0887"
             ],
             [
              0.1111111111111111,
              "#46039f"
             ],
             [
              0.2222222222222222,
              "#7201a8"
             ],
             [
              0.3333333333333333,
              "#9c179e"
             ],
             [
              0.4444444444444444,
              "#bd3786"
             ],
             [
              0.5555555555555556,
              "#d8576b"
             ],
             [
              0.6666666666666666,
              "#ed7953"
             ],
             [
              0.7777777777777778,
              "#fb9f3a"
             ],
             [
              0.8888888888888888,
              "#fdca26"
             ],
             [
              1,
              "#f0f921"
             ]
            ],
            "type": "histogram2d"
           }
          ],
          "histogram2dcontour": [
           {
            "colorbar": {
             "outlinewidth": 0,
             "ticks": ""
            },
            "colorscale": [
             [
              0,
              "#0d0887"
             ],
             [
              0.1111111111111111,
              "#46039f"
             ],
             [
              0.2222222222222222,
              "#7201a8"
             ],
             [
              0.3333333333333333,
              "#9c179e"
             ],
             [
              0.4444444444444444,
              "#bd3786"
             ],
             [
              0.5555555555555556,
              "#d8576b"
             ],
             [
              0.6666666666666666,
              "#ed7953"
             ],
             [
              0.7777777777777778,
              "#fb9f3a"
             ],
             [
              0.8888888888888888,
              "#fdca26"
             ],
             [
              1,
              "#f0f921"
             ]
            ],
            "type": "histogram2dcontour"
           }
          ],
          "mesh3d": [
           {
            "colorbar": {
             "outlinewidth": 0,
             "ticks": ""
            },
            "type": "mesh3d"
           }
          ],
          "parcoords": [
           {
            "line": {
             "colorbar": {
              "outlinewidth": 0,
              "ticks": ""
             }
            },
            "type": "parcoords"
           }
          ],
          "pie": [
           {
            "automargin": true,
            "type": "pie"
           }
          ],
          "scatter": [
           {
            "marker": {
             "colorbar": {
              "outlinewidth": 0,
              "ticks": ""
             }
            },
            "type": "scatter"
           }
          ],
          "scatter3d": [
           {
            "line": {
             "colorbar": {
              "outlinewidth": 0,
              "ticks": ""
             }
            },
            "marker": {
             "colorbar": {
              "outlinewidth": 0,
              "ticks": ""
             }
            },
            "type": "scatter3d"
           }
          ],
          "scattercarpet": [
           {
            "marker": {
             "colorbar": {
              "outlinewidth": 0,
              "ticks": ""
             }
            },
            "type": "scattercarpet"
           }
          ],
          "scattergeo": [
           {
            "marker": {
             "colorbar": {
              "outlinewidth": 0,
              "ticks": ""
             }
            },
            "type": "scattergeo"
           }
          ],
          "scattergl": [
           {
            "marker": {
             "colorbar": {
              "outlinewidth": 0,
              "ticks": ""
             }
            },
            "type": "scattergl"
           }
          ],
          "scattermapbox": [
           {
            "marker": {
             "colorbar": {
              "outlinewidth": 0,
              "ticks": ""
             }
            },
            "type": "scattermapbox"
           }
          ],
          "scatterpolar": [
           {
            "marker": {
             "colorbar": {
              "outlinewidth": 0,
              "ticks": ""
             }
            },
            "type": "scatterpolar"
           }
          ],
          "scatterpolargl": [
           {
            "marker": {
             "colorbar": {
              "outlinewidth": 0,
              "ticks": ""
             }
            },
            "type": "scatterpolargl"
           }
          ],
          "scatterternary": [
           {
            "marker": {
             "colorbar": {
              "outlinewidth": 0,
              "ticks": ""
             }
            },
            "type": "scatterternary"
           }
          ],
          "surface": [
           {
            "colorbar": {
             "outlinewidth": 0,
             "ticks": ""
            },
            "colorscale": [
             [
              0,
              "#0d0887"
             ],
             [
              0.1111111111111111,
              "#46039f"
             ],
             [
              0.2222222222222222,
              "#7201a8"
             ],
             [
              0.3333333333333333,
              "#9c179e"
             ],
             [
              0.4444444444444444,
              "#bd3786"
             ],
             [
              0.5555555555555556,
              "#d8576b"
             ],
             [
              0.6666666666666666,
              "#ed7953"
             ],
             [
              0.7777777777777778,
              "#fb9f3a"
             ],
             [
              0.8888888888888888,
              "#fdca26"
             ],
             [
              1,
              "#f0f921"
             ]
            ],
            "type": "surface"
           }
          ],
          "table": [
           {
            "cells": {
             "fill": {
              "color": "#EBF0F8"
             },
             "line": {
              "color": "white"
             }
            },
            "header": {
             "fill": {
              "color": "#C8D4E3"
             },
             "line": {
              "color": "white"
             }
            },
            "type": "table"
           }
          ]
         },
         "layout": {
          "annotationdefaults": {
           "arrowcolor": "#2a3f5f",
           "arrowhead": 0,
           "arrowwidth": 1
          },
          "coloraxis": {
           "colorbar": {
            "outlinewidth": 0,
            "ticks": ""
           }
          },
          "colorscale": {
           "diverging": [
            [
             0,
             "#8e0152"
            ],
            [
             0.1,
             "#c51b7d"
            ],
            [
             0.2,
             "#de77ae"
            ],
            [
             0.3,
             "#f1b6da"
            ],
            [
             0.4,
             "#fde0ef"
            ],
            [
             0.5,
             "#f7f7f7"
            ],
            [
             0.6,
             "#e6f5d0"
            ],
            [
             0.7,
             "#b8e186"
            ],
            [
             0.8,
             "#7fbc41"
            ],
            [
             0.9,
             "#4d9221"
            ],
            [
             1,
             "#276419"
            ]
           ],
           "sequential": [
            [
             0,
             "#0d0887"
            ],
            [
             0.1111111111111111,
             "#46039f"
            ],
            [
             0.2222222222222222,
             "#7201a8"
            ],
            [
             0.3333333333333333,
             "#9c179e"
            ],
            [
             0.4444444444444444,
             "#bd3786"
            ],
            [
             0.5555555555555556,
             "#d8576b"
            ],
            [
             0.6666666666666666,
             "#ed7953"
            ],
            [
             0.7777777777777778,
             "#fb9f3a"
            ],
            [
             0.8888888888888888,
             "#fdca26"
            ],
            [
             1,
             "#f0f921"
            ]
           ],
           "sequentialminus": [
            [
             0,
             "#0d0887"
            ],
            [
             0.1111111111111111,
             "#46039f"
            ],
            [
             0.2222222222222222,
             "#7201a8"
            ],
            [
             0.3333333333333333,
             "#9c179e"
            ],
            [
             0.4444444444444444,
             "#bd3786"
            ],
            [
             0.5555555555555556,
             "#d8576b"
            ],
            [
             0.6666666666666666,
             "#ed7953"
            ],
            [
             0.7777777777777778,
             "#fb9f3a"
            ],
            [
             0.8888888888888888,
             "#fdca26"
            ],
            [
             1,
             "#f0f921"
            ]
           ]
          },
          "colorway": [
           "#636efa",
           "#EF553B",
           "#00cc96",
           "#ab63fa",
           "#FFA15A",
           "#19d3f3",
           "#FF6692",
           "#B6E880",
           "#FF97FF",
           "#FECB52"
          ],
          "font": {
           "color": "#2a3f5f"
          },
          "geo": {
           "bgcolor": "white",
           "lakecolor": "white",
           "landcolor": "#E5ECF6",
           "showlakes": true,
           "showland": true,
           "subunitcolor": "white"
          },
          "hoverlabel": {
           "align": "left"
          },
          "hovermode": "closest",
          "mapbox": {
           "style": "light"
          },
          "paper_bgcolor": "white",
          "plot_bgcolor": "#E5ECF6",
          "polar": {
           "angularaxis": {
            "gridcolor": "white",
            "linecolor": "white",
            "ticks": ""
           },
           "bgcolor": "#E5ECF6",
           "radialaxis": {
            "gridcolor": "white",
            "linecolor": "white",
            "ticks": ""
           }
          },
          "scene": {
           "xaxis": {
            "backgroundcolor": "#E5ECF6",
            "gridcolor": "white",
            "gridwidth": 2,
            "linecolor": "white",
            "showbackground": true,
            "ticks": "",
            "zerolinecolor": "white"
           },
           "yaxis": {
            "backgroundcolor": "#E5ECF6",
            "gridcolor": "white",
            "gridwidth": 2,
            "linecolor": "white",
            "showbackground": true,
            "ticks": "",
            "zerolinecolor": "white"
           },
           "zaxis": {
            "backgroundcolor": "#E5ECF6",
            "gridcolor": "white",
            "gridwidth": 2,
            "linecolor": "white",
            "showbackground": true,
            "ticks": "",
            "zerolinecolor": "white"
           }
          },
          "shapedefaults": {
           "line": {
            "color": "#2a3f5f"
           }
          },
          "ternary": {
           "aaxis": {
            "gridcolor": "white",
            "linecolor": "white",
            "ticks": ""
           },
           "baxis": {
            "gridcolor": "white",
            "linecolor": "white",
            "ticks": ""
           },
           "bgcolor": "#E5ECF6",
           "caxis": {
            "gridcolor": "white",
            "linecolor": "white",
            "ticks": ""
           }
          },
          "title": {
           "x": 0.05
          },
          "xaxis": {
           "automargin": true,
           "gridcolor": "white",
           "linecolor": "white",
           "ticks": "",
           "title": {
            "standoff": 15
           },
           "zerolinecolor": "white",
           "zerolinewidth": 2
          },
          "yaxis": {
           "automargin": true,
           "gridcolor": "white",
           "linecolor": "white",
           "ticks": "",
           "title": {
            "standoff": 15
           },
           "zerolinecolor": "white",
           "zerolinewidth": 2
          }
         }
        },
        "xaxis": {
         "tickangle": -90,
         "title": {
          "text": "User_ID"
         }
        },
        "yaxis": {
         "range": [
          2011,
          2016
         ],
         "title": {
          "text": "Год начала сессии"
         }
        }
       }
      },
      "text/html": [
       "<div>\n",
       "        \n",
       "        \n",
       "            <div id=\"37f4c4bc-367e-4c38-a903-ec9527c4304c\" class=\"plotly-graph-div\" style=\"height:525px; width:100%;\"></div>\n",
       "            <script type=\"text/javascript\">\n",
       "                require([\"plotly\"], function(Plotly) {\n",
       "                    window.PLOTLYENV=window.PLOTLYENV || {};\n",
       "                    \n",
       "                if (document.getElementById(\"37f4c4bc-367e-4c38-a903-ec9527c4304c\")) {\n",
       "                    Plotly.newPlot(\n",
       "                        '37f4c4bc-367e-4c38-a903-ec9527c4304c',\n",
       "                        [{\"type\": \"bar\", \"x\": [\"user515\", \"user2902\", \"user6\", \"user13\", \"user15\", \"user16\", \"user533\", \"user28\", \"user1054\", \"user31\", \"user33\", \"user1371\", \"user39\", \"user46\", \"user49\", \"user50\", \"user563\", \"user564\", \"user53\", \"user568\", \"user569\", \"user570\", \"user573\", \"user575\", \"user576\", \"user65\", \"user66\", \"user580\", \"user2118\", \"user583\", \"user584\", \"user82\", \"user85\", \"user600\", \"user89\", \"user603\", \"user92\", \"user605\", \"user1040\", \"user100\", \"user102\", \"user103\", \"user105\", \"user106\", \"user118\", \"user119\", \"user120\", \"user126\", \"user127\", \"user128\", \"user875\", \"user647\", \"user138\", \"user653\", \"user2191\", \"user664\", \"user665\", \"user158\", \"user160\", \"user165\", \"user172\", \"user177\", \"user692\", \"user1993\", \"user697\", \"user705\", \"user785\", \"user2250\", \"user203\", \"user207\", \"user722\", \"user1797\", \"user223\", \"user1248\", \"user740\", \"user741\", \"user233\", \"user235\", \"user236\", \"user237\", \"user238\", \"user240\", \"user241\", \"user242\", \"user1267\", \"user756\", \"user245\", \"user246\", \"user249\", \"user252\", \"user254\", \"user256\", \"user640\", \"user258\", \"user259\", \"user260\", \"user261\", \"user1798\", \"user263\", \"user264\", \"user780\", \"user269\", \"user270\", \"user784\", \"user273\", \"user1299\", \"user797\", \"user287\", \"user294\", \"user561\", \"user298\", \"user812\", \"user301\", \"user2355\", \"user308\", \"user315\", \"user318\", \"user2174\", \"user327\", \"user332\", \"user333\", \"user339\", \"user340\", \"user342\", \"user344\", \"user859\", \"user351\", \"user356\", \"user2408\", \"user361\", \"user363\", \"user2625\", \"user411\", \"user417\", \"user932\", \"user425\", \"user430\", \"user435\", \"user436\", \"user440\", \"user444\", \"user2493\", \"user844\", \"user868\", \"user475\", \"user476\", \"user677\", \"user996\", \"user486\", \"user1014\"], \"y\": [2014, 2014, 2014, 2013, 2013, 2014, 2014, 2013, 2014, 2014, 2014, 2014, 2014, 2014, 2014, 2013, 2014, 2014, 2014, 2014, 2014, 2014, 2014, 2014, 2014, 2013, 2014, 2014, 2014, 2014, 2014, 2014, 2014, 2014, 2013, 2013, 2014, 2014, 2014, 2014, 2013, 2014, 2013, 2013, 2014, 2014, 2014, 2014, 2014, 2014, 2014, 2014, 2013, 2013, 2014, 2014, 2014, 2014, 2013, 2013, 2013, 2014, 2014, 2014, 2014, 2014, 2014, 2014, 2014, 2014, 2014, 2014, 2013, 2014, 2013, 2014, 2013, 2014, 2014, 2014, 2013, 2013, 2014, 2013, 2014, 2014, 2014, 2013, 2014, 2014, 2014, 2013, 2014, 2013, 2013, 2013, 2013, 2014, 2014, 2013, 2014, 2014, 2014, 2014, 2014, 2014, 2014, 2014, 2014, 2014, 2014, 2014, 2014, 2014, 2014, 2014, 2013, 2014, 2013, 2013, 2014, 2014, 2014, 2014, 2013, 2014, 2013, 2013, 2014, 2014, 2014, 2014, 2014, 2013, 2014, 2014, 2013, 2014, 2013, 2014, 2014, 2014, 2013, 2014, 2014, 2013, 2014, 2014, 2013, 2014]}],\n",
       "                        {\"template\": {\"data\": {\"bar\": [{\"error_x\": {\"color\": \"#2a3f5f\"}, \"error_y\": {\"color\": \"#2a3f5f\"}, \"marker\": {\"line\": {\"color\": \"#E5ECF6\", \"width\": 0.5}}, \"type\": \"bar\"}], \"barpolar\": [{\"marker\": {\"line\": {\"color\": \"#E5ECF6\", \"width\": 0.5}}, \"type\": \"barpolar\"}], \"carpet\": [{\"aaxis\": {\"endlinecolor\": \"#2a3f5f\", \"gridcolor\": \"white\", \"linecolor\": \"white\", \"minorgridcolor\": \"white\", \"startlinecolor\": \"#2a3f5f\"}, \"baxis\": {\"endlinecolor\": \"#2a3f5f\", \"gridcolor\": \"white\", \"linecolor\": \"white\", \"minorgridcolor\": \"white\", \"startlinecolor\": \"#2a3f5f\"}, \"type\": \"carpet\"}], \"choropleth\": [{\"colorbar\": {\"outlinewidth\": 0, \"ticks\": \"\"}, \"type\": \"choropleth\"}], \"contour\": [{\"colorbar\": {\"outlinewidth\": 0, \"ticks\": \"\"}, \"colorscale\": [[0.0, \"#0d0887\"], [0.1111111111111111, \"#46039f\"], [0.2222222222222222, \"#7201a8\"], [0.3333333333333333, \"#9c179e\"], [0.4444444444444444, \"#bd3786\"], [0.5555555555555556, \"#d8576b\"], [0.6666666666666666, \"#ed7953\"], [0.7777777777777778, \"#fb9f3a\"], [0.8888888888888888, \"#fdca26\"], [1.0, \"#f0f921\"]], \"type\": \"contour\"}], \"contourcarpet\": [{\"colorbar\": {\"outlinewidth\": 0, \"ticks\": \"\"}, \"type\": \"contourcarpet\"}], \"heatmap\": [{\"colorbar\": {\"outlinewidth\": 0, \"ticks\": \"\"}, \"colorscale\": [[0.0, \"#0d0887\"], [0.1111111111111111, \"#46039f\"], [0.2222222222222222, \"#7201a8\"], [0.3333333333333333, \"#9c179e\"], [0.4444444444444444, \"#bd3786\"], [0.5555555555555556, \"#d8576b\"], [0.6666666666666666, \"#ed7953\"], [0.7777777777777778, \"#fb9f3a\"], [0.8888888888888888, \"#fdca26\"], [1.0, \"#f0f921\"]], \"type\": \"heatmap\"}], \"heatmapgl\": [{\"colorbar\": {\"outlinewidth\": 0, \"ticks\": \"\"}, \"colorscale\": [[0.0, \"#0d0887\"], [0.1111111111111111, \"#46039f\"], [0.2222222222222222, \"#7201a8\"], [0.3333333333333333, \"#9c179e\"], [0.4444444444444444, \"#bd3786\"], [0.5555555555555556, \"#d8576b\"], [0.6666666666666666, \"#ed7953\"], [0.7777777777777778, \"#fb9f3a\"], [0.8888888888888888, \"#fdca26\"], [1.0, \"#f0f921\"]], \"type\": \"heatmapgl\"}], \"histogram\": [{\"marker\": {\"colorbar\": {\"outlinewidth\": 0, \"ticks\": \"\"}}, \"type\": \"histogram\"}], \"histogram2d\": [{\"colorbar\": {\"outlinewidth\": 0, \"ticks\": \"\"}, \"colorscale\": [[0.0, \"#0d0887\"], [0.1111111111111111, \"#46039f\"], [0.2222222222222222, \"#7201a8\"], [0.3333333333333333, \"#9c179e\"], [0.4444444444444444, \"#bd3786\"], [0.5555555555555556, \"#d8576b\"], [0.6666666666666666, \"#ed7953\"], [0.7777777777777778, \"#fb9f3a\"], [0.8888888888888888, \"#fdca26\"], [1.0, \"#f0f921\"]], \"type\": \"histogram2d\"}], \"histogram2dcontour\": [{\"colorbar\": {\"outlinewidth\": 0, \"ticks\": \"\"}, \"colorscale\": [[0.0, \"#0d0887\"], [0.1111111111111111, \"#46039f\"], [0.2222222222222222, \"#7201a8\"], [0.3333333333333333, \"#9c179e\"], [0.4444444444444444, \"#bd3786\"], [0.5555555555555556, \"#d8576b\"], [0.6666666666666666, \"#ed7953\"], [0.7777777777777778, \"#fb9f3a\"], [0.8888888888888888, \"#fdca26\"], [1.0, \"#f0f921\"]], \"type\": \"histogram2dcontour\"}], \"mesh3d\": [{\"colorbar\": {\"outlinewidth\": 0, \"ticks\": \"\"}, \"type\": \"mesh3d\"}], \"parcoords\": [{\"line\": {\"colorbar\": {\"outlinewidth\": 0, \"ticks\": \"\"}}, \"type\": \"parcoords\"}], \"pie\": [{\"automargin\": true, \"type\": \"pie\"}], \"scatter\": [{\"marker\": {\"colorbar\": {\"outlinewidth\": 0, \"ticks\": \"\"}}, \"type\": \"scatter\"}], \"scatter3d\": [{\"line\": {\"colorbar\": {\"outlinewidth\": 0, \"ticks\": \"\"}}, \"marker\": {\"colorbar\": {\"outlinewidth\": 0, \"ticks\": \"\"}}, \"type\": \"scatter3d\"}], \"scattercarpet\": [{\"marker\": {\"colorbar\": {\"outlinewidth\": 0, \"ticks\": \"\"}}, \"type\": \"scattercarpet\"}], \"scattergeo\": [{\"marker\": {\"colorbar\": {\"outlinewidth\": 0, \"ticks\": \"\"}}, \"type\": \"scattergeo\"}], \"scattergl\": [{\"marker\": {\"colorbar\": {\"outlinewidth\": 0, \"ticks\": \"\"}}, \"type\": \"scattergl\"}], \"scattermapbox\": [{\"marker\": {\"colorbar\": {\"outlinewidth\": 0, \"ticks\": \"\"}}, \"type\": \"scattermapbox\"}], \"scatterpolar\": [{\"marker\": {\"colorbar\": {\"outlinewidth\": 0, \"ticks\": \"\"}}, \"type\": \"scatterpolar\"}], \"scatterpolargl\": [{\"marker\": {\"colorbar\": {\"outlinewidth\": 0, \"ticks\": \"\"}}, \"type\": \"scatterpolargl\"}], \"scatterternary\": [{\"marker\": {\"colorbar\": {\"outlinewidth\": 0, \"ticks\": \"\"}}, \"type\": \"scatterternary\"}], \"surface\": [{\"colorbar\": {\"outlinewidth\": 0, \"ticks\": \"\"}, \"colorscale\": [[0.0, \"#0d0887\"], [0.1111111111111111, \"#46039f\"], [0.2222222222222222, \"#7201a8\"], [0.3333333333333333, \"#9c179e\"], [0.4444444444444444, \"#bd3786\"], [0.5555555555555556, \"#d8576b\"], [0.6666666666666666, \"#ed7953\"], [0.7777777777777778, \"#fb9f3a\"], [0.8888888888888888, \"#fdca26\"], [1.0, \"#f0f921\"]], \"type\": \"surface\"}], \"table\": [{\"cells\": {\"fill\": {\"color\": \"#EBF0F8\"}, \"line\": {\"color\": \"white\"}}, \"header\": {\"fill\": {\"color\": \"#C8D4E3\"}, \"line\": {\"color\": \"white\"}}, \"type\": \"table\"}]}, \"layout\": {\"annotationdefaults\": {\"arrowcolor\": \"#2a3f5f\", \"arrowhead\": 0, \"arrowwidth\": 1}, \"coloraxis\": {\"colorbar\": {\"outlinewidth\": 0, \"ticks\": \"\"}}, \"colorscale\": {\"diverging\": [[0, \"#8e0152\"], [0.1, \"#c51b7d\"], [0.2, \"#de77ae\"], [0.3, \"#f1b6da\"], [0.4, \"#fde0ef\"], [0.5, \"#f7f7f7\"], [0.6, \"#e6f5d0\"], [0.7, \"#b8e186\"], [0.8, \"#7fbc41\"], [0.9, \"#4d9221\"], [1, \"#276419\"]], \"sequential\": [[0.0, \"#0d0887\"], [0.1111111111111111, \"#46039f\"], [0.2222222222222222, \"#7201a8\"], [0.3333333333333333, \"#9c179e\"], [0.4444444444444444, \"#bd3786\"], [0.5555555555555556, \"#d8576b\"], [0.6666666666666666, \"#ed7953\"], [0.7777777777777778, \"#fb9f3a\"], [0.8888888888888888, \"#fdca26\"], [1.0, \"#f0f921\"]], \"sequentialminus\": [[0.0, \"#0d0887\"], [0.1111111111111111, \"#46039f\"], [0.2222222222222222, \"#7201a8\"], [0.3333333333333333, \"#9c179e\"], [0.4444444444444444, \"#bd3786\"], [0.5555555555555556, \"#d8576b\"], [0.6666666666666666, \"#ed7953\"], [0.7777777777777778, \"#fb9f3a\"], [0.8888888888888888, \"#fdca26\"], [1.0, \"#f0f921\"]]}, \"colorway\": [\"#636efa\", \"#EF553B\", \"#00cc96\", \"#ab63fa\", \"#FFA15A\", \"#19d3f3\", \"#FF6692\", \"#B6E880\", \"#FF97FF\", \"#FECB52\"], \"font\": {\"color\": \"#2a3f5f\"}, \"geo\": {\"bgcolor\": \"white\", \"lakecolor\": \"white\", \"landcolor\": \"#E5ECF6\", \"showlakes\": true, \"showland\": true, \"subunitcolor\": \"white\"}, \"hoverlabel\": {\"align\": \"left\"}, \"hovermode\": \"closest\", \"mapbox\": {\"style\": \"light\"}, \"paper_bgcolor\": \"white\", \"plot_bgcolor\": \"#E5ECF6\", \"polar\": {\"angularaxis\": {\"gridcolor\": \"white\", \"linecolor\": \"white\", \"ticks\": \"\"}, \"bgcolor\": \"#E5ECF6\", \"radialaxis\": {\"gridcolor\": \"white\", \"linecolor\": \"white\", \"ticks\": \"\"}}, \"scene\": {\"xaxis\": {\"backgroundcolor\": \"#E5ECF6\", \"gridcolor\": \"white\", \"gridwidth\": 2, \"linecolor\": \"white\", \"showbackground\": true, \"ticks\": \"\", \"zerolinecolor\": \"white\"}, \"yaxis\": {\"backgroundcolor\": \"#E5ECF6\", \"gridcolor\": \"white\", \"gridwidth\": 2, \"linecolor\": \"white\", \"showbackground\": true, \"ticks\": \"\", \"zerolinecolor\": \"white\"}, \"zaxis\": {\"backgroundcolor\": \"#E5ECF6\", \"gridcolor\": \"white\", \"gridwidth\": 2, \"linecolor\": \"white\", \"showbackground\": true, \"ticks\": \"\", \"zerolinecolor\": \"white\"}}, \"shapedefaults\": {\"line\": {\"color\": \"#2a3f5f\"}}, \"ternary\": {\"aaxis\": {\"gridcolor\": \"white\", \"linecolor\": \"white\", \"ticks\": \"\"}, \"baxis\": {\"gridcolor\": \"white\", \"linecolor\": \"white\", \"ticks\": \"\"}, \"bgcolor\": \"#E5ECF6\", \"caxis\": {\"gridcolor\": \"white\", \"linecolor\": \"white\", \"ticks\": \"\"}}, \"title\": {\"x\": 0.05}, \"xaxis\": {\"automargin\": true, \"gridcolor\": \"white\", \"linecolor\": \"white\", \"ticks\": \"\", \"title\": {\"standoff\": 15}, \"zerolinecolor\": \"white\", \"zerolinewidth\": 2}, \"yaxis\": {\"automargin\": true, \"gridcolor\": \"white\", \"linecolor\": \"white\", \"ticks\": \"\", \"title\": {\"standoff\": 15}, \"zerolinecolor\": \"white\", \"zerolinewidth\": 2}}}, \"xaxis\": {\"tickangle\": -90, \"title\": {\"text\": \"User_ID\"}}, \"yaxis\": {\"range\": [2011, 2016], \"title\": {\"text\": \"\\u0413\\u043e\\u0434 \\u043d\\u0430\\u0447\\u0430\\u043b\\u0430 \\u0441\\u0435\\u0441\\u0441\\u0438\\u0438\"}}},\n",
       "                        {\"responsive\": true}\n",
       "                    ).then(function(){\n",
       "                            \n",
       "var gd = document.getElementById('37f4c4bc-367e-4c38-a903-ec9527c4304c');\n",
       "var x = new MutationObserver(function (mutations, observer) {{\n",
       "        var display = window.getComputedStyle(gd).display;\n",
       "        if (!display || display === 'none') {{\n",
       "            console.log([gd, 'removed!']);\n",
       "            Plotly.purge(gd);\n",
       "            observer.disconnect();\n",
       "        }}\n",
       "}});\n",
       "\n",
       "// Listen for the removal of the full notebook cells\n",
       "var notebookContainer = gd.closest('#notebook-container');\n",
       "if (notebookContainer) {{\n",
       "    x.observe(notebookContainer, {childList: true});\n",
       "}}\n",
       "\n",
       "// Listen for the clearing of the current output cell\n",
       "var outputEl = gd.closest('.output');\n",
       "if (outputEl) {{\n",
       "    x.observe(outputEl, {childList: true});\n",
       "}}\n",
       "\n",
       "                        })\n",
       "                };\n",
       "                });\n",
       "            </script>\n",
       "        </div>"
      ]
     },
     "metadata": {},
     "output_type": "display_data"
    }
   ],
   "source": [
    "d = {}\n",
    "for user_x in new_train_data_150users['user_id'].unique():\n",
    "    d[user_x] =int(np.median(new_train_data_150users[new_train_data_150users['user_id'] == user_x]['Start_Year']))\n",
    "\n",
    "data_viz =  go.Bar(\n",
    "    x = map(lambda x: 'user'+x, map(str,d.keys())),\n",
    "    y = d.values()\n",
    ")\n",
    "\n",
    "fig = go.Figure(data = [data_viz])\n",
    "fig.update_xaxes(tickangle=-90)\n",
    "fig.update_yaxes(range=[2011, 2016])\n",
    "fig.update_layout(xaxis_title='User_ID', yaxis_title=u'Год начала сессии')\n",
    "iplot(fig)"
   ]
  },
  {
   "cell_type": "markdown",
   "metadata": {},
   "source": [
    "Выведите медианный месяц начала сессии для сессий 150 пользователей"
   ]
  },
  {
   "cell_type": "code",
   "execution_count": 48,
   "metadata": {},
   "outputs": [
    {
     "data": {
      "application/vnd.plotly.v1+json": {
       "config": {
        "linkText": "Export to plot.ly",
        "plotlyServerURL": "https://plot.ly",
        "showLink": false
       },
       "data": [
        {
         "type": "bar",
         "x": [
          "user515",
          "user2902",
          "user6",
          "user13",
          "user15",
          "user16",
          "user533",
          "user28",
          "user1054",
          "user31",
          "user33",
          "user1371",
          "user39",
          "user46",
          "user49",
          "user50",
          "user563",
          "user564",
          "user53",
          "user568",
          "user569",
          "user570",
          "user573",
          "user575",
          "user576",
          "user65",
          "user66",
          "user580",
          "user2118",
          "user583",
          "user584",
          "user82",
          "user85",
          "user600",
          "user89",
          "user603",
          "user92",
          "user605",
          "user1040",
          "user100",
          "user102",
          "user103",
          "user105",
          "user106",
          "user118",
          "user119",
          "user120",
          "user126",
          "user127",
          "user128",
          "user875",
          "user647",
          "user138",
          "user653",
          "user2191",
          "user664",
          "user665",
          "user158",
          "user160",
          "user165",
          "user172",
          "user177",
          "user692",
          "user1993",
          "user697",
          "user705",
          "user785",
          "user2250",
          "user203",
          "user207",
          "user722",
          "user1797",
          "user223",
          "user1248",
          "user740",
          "user741",
          "user233",
          "user235",
          "user236",
          "user237",
          "user238",
          "user240",
          "user241",
          "user242",
          "user1267",
          "user756",
          "user245",
          "user246",
          "user249",
          "user252",
          "user254",
          "user256",
          "user640",
          "user258",
          "user259",
          "user260",
          "user261",
          "user1798",
          "user263",
          "user264",
          "user780",
          "user269",
          "user270",
          "user784",
          "user273",
          "user1299",
          "user797",
          "user287",
          "user294",
          "user561",
          "user298",
          "user812",
          "user301",
          "user2355",
          "user308",
          "user315",
          "user318",
          "user2174",
          "user327",
          "user332",
          "user333",
          "user339",
          "user340",
          "user342",
          "user344",
          "user859",
          "user351",
          "user356",
          "user2408",
          "user361",
          "user363",
          "user2625",
          "user411",
          "user417",
          "user932",
          "user425",
          "user430",
          "user435",
          "user436",
          "user440",
          "user444",
          "user2493",
          "user844",
          "user868",
          "user475",
          "user476",
          "user677",
          "user996",
          "user486",
          "user1014"
         ],
         "y": [
          3,
          4,
          5,
          12,
          11,
          3,
          3,
          11,
          5,
          3,
          5,
          1,
          2,
          2,
          2,
          12,
          4,
          3,
          4,
          3,
          2,
          1,
          2,
          2,
          3,
          11,
          4,
          2,
          2,
          3,
          2,
          3,
          3,
          2,
          11,
          11,
          4,
          2,
          3,
          2,
          11,
          4,
          11,
          11,
          3,
          3,
          2,
          3,
          2,
          4,
          4,
          3,
          11,
          11,
          3,
          5,
          4,
          4,
          11,
          11,
          12,
          3,
          4,
          3,
          3,
          3,
          4,
          4,
          3,
          2,
          5,
          1,
          11,
          2,
          11,
          4,
          7,
          3,
          2,
          3,
          11,
          11,
          2,
          11,
          4,
          3,
          4,
          11,
          4,
          4,
          2,
          11,
          2,
          11,
          11,
          12,
          12,
          3,
          3,
          11,
          3,
          2,
          4,
          4,
          3,
          3,
          2,
          2,
          4,
          3,
          3,
          4,
          4,
          3,
          2,
          3,
          12,
          2,
          11,
          11,
          5,
          5,
          3,
          4,
          12,
          3,
          11,
          11,
          3,
          3,
          4,
          3,
          3,
          11,
          4,
          4,
          11,
          2,
          12,
          4,
          3,
          3,
          11,
          4,
          4,
          12,
          4,
          2,
          12,
          5
         ]
        }
       ],
       "layout": {
        "template": {
         "data": {
          "bar": [
           {
            "error_x": {
             "color": "#2a3f5f"
            },
            "error_y": {
             "color": "#2a3f5f"
            },
            "marker": {
             "line": {
              "color": "#E5ECF6",
              "width": 0.5
             }
            },
            "type": "bar"
           }
          ],
          "barpolar": [
           {
            "marker": {
             "line": {
              "color": "#E5ECF6",
              "width": 0.5
             }
            },
            "type": "barpolar"
           }
          ],
          "carpet": [
           {
            "aaxis": {
             "endlinecolor": "#2a3f5f",
             "gridcolor": "white",
             "linecolor": "white",
             "minorgridcolor": "white",
             "startlinecolor": "#2a3f5f"
            },
            "baxis": {
             "endlinecolor": "#2a3f5f",
             "gridcolor": "white",
             "linecolor": "white",
             "minorgridcolor": "white",
             "startlinecolor": "#2a3f5f"
            },
            "type": "carpet"
           }
          ],
          "choropleth": [
           {
            "colorbar": {
             "outlinewidth": 0,
             "ticks": ""
            },
            "type": "choropleth"
           }
          ],
          "contour": [
           {
            "colorbar": {
             "outlinewidth": 0,
             "ticks": ""
            },
            "colorscale": [
             [
              0,
              "#0d0887"
             ],
             [
              0.1111111111111111,
              "#46039f"
             ],
             [
              0.2222222222222222,
              "#7201a8"
             ],
             [
              0.3333333333333333,
              "#9c179e"
             ],
             [
              0.4444444444444444,
              "#bd3786"
             ],
             [
              0.5555555555555556,
              "#d8576b"
             ],
             [
              0.6666666666666666,
              "#ed7953"
             ],
             [
              0.7777777777777778,
              "#fb9f3a"
             ],
             [
              0.8888888888888888,
              "#fdca26"
             ],
             [
              1,
              "#f0f921"
             ]
            ],
            "type": "contour"
           }
          ],
          "contourcarpet": [
           {
            "colorbar": {
             "outlinewidth": 0,
             "ticks": ""
            },
            "type": "contourcarpet"
           }
          ],
          "heatmap": [
           {
            "colorbar": {
             "outlinewidth": 0,
             "ticks": ""
            },
            "colorscale": [
             [
              0,
              "#0d0887"
             ],
             [
              0.1111111111111111,
              "#46039f"
             ],
             [
              0.2222222222222222,
              "#7201a8"
             ],
             [
              0.3333333333333333,
              "#9c179e"
             ],
             [
              0.4444444444444444,
              "#bd3786"
             ],
             [
              0.5555555555555556,
              "#d8576b"
             ],
             [
              0.6666666666666666,
              "#ed7953"
             ],
             [
              0.7777777777777778,
              "#fb9f3a"
             ],
             [
              0.8888888888888888,
              "#fdca26"
             ],
             [
              1,
              "#f0f921"
             ]
            ],
            "type": "heatmap"
           }
          ],
          "heatmapgl": [
           {
            "colorbar": {
             "outlinewidth": 0,
             "ticks": ""
            },
            "colorscale": [
             [
              0,
              "#0d0887"
             ],
             [
              0.1111111111111111,
              "#46039f"
             ],
             [
              0.2222222222222222,
              "#7201a8"
             ],
             [
              0.3333333333333333,
              "#9c179e"
             ],
             [
              0.4444444444444444,
              "#bd3786"
             ],
             [
              0.5555555555555556,
              "#d8576b"
             ],
             [
              0.6666666666666666,
              "#ed7953"
             ],
             [
              0.7777777777777778,
              "#fb9f3a"
             ],
             [
              0.8888888888888888,
              "#fdca26"
             ],
             [
              1,
              "#f0f921"
             ]
            ],
            "type": "heatmapgl"
           }
          ],
          "histogram": [
           {
            "marker": {
             "colorbar": {
              "outlinewidth": 0,
              "ticks": ""
             }
            },
            "type": "histogram"
           }
          ],
          "histogram2d": [
           {
            "colorbar": {
             "outlinewidth": 0,
             "ticks": ""
            },
            "colorscale": [
             [
              0,
              "#0d0887"
             ],
             [
              0.1111111111111111,
              "#46039f"
             ],
             [
              0.2222222222222222,
              "#7201a8"
             ],
             [
              0.3333333333333333,
              "#9c179e"
             ],
             [
              0.4444444444444444,
              "#bd3786"
             ],
             [
              0.5555555555555556,
              "#d8576b"
             ],
             [
              0.6666666666666666,
              "#ed7953"
             ],
             [
              0.7777777777777778,
              "#fb9f3a"
             ],
             [
              0.8888888888888888,
              "#fdca26"
             ],
             [
              1,
              "#f0f921"
             ]
            ],
            "type": "histogram2d"
           }
          ],
          "histogram2dcontour": [
           {
            "colorbar": {
             "outlinewidth": 0,
             "ticks": ""
            },
            "colorscale": [
             [
              0,
              "#0d0887"
             ],
             [
              0.1111111111111111,
              "#46039f"
             ],
             [
              0.2222222222222222,
              "#7201a8"
             ],
             [
              0.3333333333333333,
              "#9c179e"
             ],
             [
              0.4444444444444444,
              "#bd3786"
             ],
             [
              0.5555555555555556,
              "#d8576b"
             ],
             [
              0.6666666666666666,
              "#ed7953"
             ],
             [
              0.7777777777777778,
              "#fb9f3a"
             ],
             [
              0.8888888888888888,
              "#fdca26"
             ],
             [
              1,
              "#f0f921"
             ]
            ],
            "type": "histogram2dcontour"
           }
          ],
          "mesh3d": [
           {
            "colorbar": {
             "outlinewidth": 0,
             "ticks": ""
            },
            "type": "mesh3d"
           }
          ],
          "parcoords": [
           {
            "line": {
             "colorbar": {
              "outlinewidth": 0,
              "ticks": ""
             }
            },
            "type": "parcoords"
           }
          ],
          "pie": [
           {
            "automargin": true,
            "type": "pie"
           }
          ],
          "scatter": [
           {
            "marker": {
             "colorbar": {
              "outlinewidth": 0,
              "ticks": ""
             }
            },
            "type": "scatter"
           }
          ],
          "scatter3d": [
           {
            "line": {
             "colorbar": {
              "outlinewidth": 0,
              "ticks": ""
             }
            },
            "marker": {
             "colorbar": {
              "outlinewidth": 0,
              "ticks": ""
             }
            },
            "type": "scatter3d"
           }
          ],
          "scattercarpet": [
           {
            "marker": {
             "colorbar": {
              "outlinewidth": 0,
              "ticks": ""
             }
            },
            "type": "scattercarpet"
           }
          ],
          "scattergeo": [
           {
            "marker": {
             "colorbar": {
              "outlinewidth": 0,
              "ticks": ""
             }
            },
            "type": "scattergeo"
           }
          ],
          "scattergl": [
           {
            "marker": {
             "colorbar": {
              "outlinewidth": 0,
              "ticks": ""
             }
            },
            "type": "scattergl"
           }
          ],
          "scattermapbox": [
           {
            "marker": {
             "colorbar": {
              "outlinewidth": 0,
              "ticks": ""
             }
            },
            "type": "scattermapbox"
           }
          ],
          "scatterpolar": [
           {
            "marker": {
             "colorbar": {
              "outlinewidth": 0,
              "ticks": ""
             }
            },
            "type": "scatterpolar"
           }
          ],
          "scatterpolargl": [
           {
            "marker": {
             "colorbar": {
              "outlinewidth": 0,
              "ticks": ""
             }
            },
            "type": "scatterpolargl"
           }
          ],
          "scatterternary": [
           {
            "marker": {
             "colorbar": {
              "outlinewidth": 0,
              "ticks": ""
             }
            },
            "type": "scatterternary"
           }
          ],
          "surface": [
           {
            "colorbar": {
             "outlinewidth": 0,
             "ticks": ""
            },
            "colorscale": [
             [
              0,
              "#0d0887"
             ],
             [
              0.1111111111111111,
              "#46039f"
             ],
             [
              0.2222222222222222,
              "#7201a8"
             ],
             [
              0.3333333333333333,
              "#9c179e"
             ],
             [
              0.4444444444444444,
              "#bd3786"
             ],
             [
              0.5555555555555556,
              "#d8576b"
             ],
             [
              0.6666666666666666,
              "#ed7953"
             ],
             [
              0.7777777777777778,
              "#fb9f3a"
             ],
             [
              0.8888888888888888,
              "#fdca26"
             ],
             [
              1,
              "#f0f921"
             ]
            ],
            "type": "surface"
           }
          ],
          "table": [
           {
            "cells": {
             "fill": {
              "color": "#EBF0F8"
             },
             "line": {
              "color": "white"
             }
            },
            "header": {
             "fill": {
              "color": "#C8D4E3"
             },
             "line": {
              "color": "white"
             }
            },
            "type": "table"
           }
          ]
         },
         "layout": {
          "annotationdefaults": {
           "arrowcolor": "#2a3f5f",
           "arrowhead": 0,
           "arrowwidth": 1
          },
          "coloraxis": {
           "colorbar": {
            "outlinewidth": 0,
            "ticks": ""
           }
          },
          "colorscale": {
           "diverging": [
            [
             0,
             "#8e0152"
            ],
            [
             0.1,
             "#c51b7d"
            ],
            [
             0.2,
             "#de77ae"
            ],
            [
             0.3,
             "#f1b6da"
            ],
            [
             0.4,
             "#fde0ef"
            ],
            [
             0.5,
             "#f7f7f7"
            ],
            [
             0.6,
             "#e6f5d0"
            ],
            [
             0.7,
             "#b8e186"
            ],
            [
             0.8,
             "#7fbc41"
            ],
            [
             0.9,
             "#4d9221"
            ],
            [
             1,
             "#276419"
            ]
           ],
           "sequential": [
            [
             0,
             "#0d0887"
            ],
            [
             0.1111111111111111,
             "#46039f"
            ],
            [
             0.2222222222222222,
             "#7201a8"
            ],
            [
             0.3333333333333333,
             "#9c179e"
            ],
            [
             0.4444444444444444,
             "#bd3786"
            ],
            [
             0.5555555555555556,
             "#d8576b"
            ],
            [
             0.6666666666666666,
             "#ed7953"
            ],
            [
             0.7777777777777778,
             "#fb9f3a"
            ],
            [
             0.8888888888888888,
             "#fdca26"
            ],
            [
             1,
             "#f0f921"
            ]
           ],
           "sequentialminus": [
            [
             0,
             "#0d0887"
            ],
            [
             0.1111111111111111,
             "#46039f"
            ],
            [
             0.2222222222222222,
             "#7201a8"
            ],
            [
             0.3333333333333333,
             "#9c179e"
            ],
            [
             0.4444444444444444,
             "#bd3786"
            ],
            [
             0.5555555555555556,
             "#d8576b"
            ],
            [
             0.6666666666666666,
             "#ed7953"
            ],
            [
             0.7777777777777778,
             "#fb9f3a"
            ],
            [
             0.8888888888888888,
             "#fdca26"
            ],
            [
             1,
             "#f0f921"
            ]
           ]
          },
          "colorway": [
           "#636efa",
           "#EF553B",
           "#00cc96",
           "#ab63fa",
           "#FFA15A",
           "#19d3f3",
           "#FF6692",
           "#B6E880",
           "#FF97FF",
           "#FECB52"
          ],
          "font": {
           "color": "#2a3f5f"
          },
          "geo": {
           "bgcolor": "white",
           "lakecolor": "white",
           "landcolor": "#E5ECF6",
           "showlakes": true,
           "showland": true,
           "subunitcolor": "white"
          },
          "hoverlabel": {
           "align": "left"
          },
          "hovermode": "closest",
          "mapbox": {
           "style": "light"
          },
          "paper_bgcolor": "white",
          "plot_bgcolor": "#E5ECF6",
          "polar": {
           "angularaxis": {
            "gridcolor": "white",
            "linecolor": "white",
            "ticks": ""
           },
           "bgcolor": "#E5ECF6",
           "radialaxis": {
            "gridcolor": "white",
            "linecolor": "white",
            "ticks": ""
           }
          },
          "scene": {
           "xaxis": {
            "backgroundcolor": "#E5ECF6",
            "gridcolor": "white",
            "gridwidth": 2,
            "linecolor": "white",
            "showbackground": true,
            "ticks": "",
            "zerolinecolor": "white"
           },
           "yaxis": {
            "backgroundcolor": "#E5ECF6",
            "gridcolor": "white",
            "gridwidth": 2,
            "linecolor": "white",
            "showbackground": true,
            "ticks": "",
            "zerolinecolor": "white"
           },
           "zaxis": {
            "backgroundcolor": "#E5ECF6",
            "gridcolor": "white",
            "gridwidth": 2,
            "linecolor": "white",
            "showbackground": true,
            "ticks": "",
            "zerolinecolor": "white"
           }
          },
          "shapedefaults": {
           "line": {
            "color": "#2a3f5f"
           }
          },
          "ternary": {
           "aaxis": {
            "gridcolor": "white",
            "linecolor": "white",
            "ticks": ""
           },
           "baxis": {
            "gridcolor": "white",
            "linecolor": "white",
            "ticks": ""
           },
           "bgcolor": "#E5ECF6",
           "caxis": {
            "gridcolor": "white",
            "linecolor": "white",
            "ticks": ""
           }
          },
          "title": {
           "x": 0.05
          },
          "xaxis": {
           "automargin": true,
           "gridcolor": "white",
           "linecolor": "white",
           "ticks": "",
           "title": {
            "standoff": 15
           },
           "zerolinecolor": "white",
           "zerolinewidth": 2
          },
          "yaxis": {
           "automargin": true,
           "gridcolor": "white",
           "linecolor": "white",
           "ticks": "",
           "title": {
            "standoff": 15
           },
           "zerolinecolor": "white",
           "zerolinewidth": 2
          }
         }
        },
        "xaxis": {
         "tickangle": -90,
         "title": {
          "text": "User_ID"
         }
        },
        "yaxis": {
         "tickmode": "array",
         "ticktext": [
          "Ян",
          "Фев",
          "Мар",
          "Апр",
          "Май",
          "Июнь",
          "Июль",
          "Авг",
          "Сен",
          "Окт",
          "Нояб",
          "Дек"
         ],
         "tickvals": [
          1,
          2,
          3,
          4,
          5,
          6,
          7,
          8,
          9,
          10,
          11,
          12
         ],
         "title": {
          "text": "Месяц начала сессии"
         }
        }
       }
      },
      "text/html": [
       "<div>\n",
       "        \n",
       "        \n",
       "            <div id=\"a709cfc5-27b3-4565-abda-5f808548975b\" class=\"plotly-graph-div\" style=\"height:525px; width:100%;\"></div>\n",
       "            <script type=\"text/javascript\">\n",
       "                require([\"plotly\"], function(Plotly) {\n",
       "                    window.PLOTLYENV=window.PLOTLYENV || {};\n",
       "                    \n",
       "                if (document.getElementById(\"a709cfc5-27b3-4565-abda-5f808548975b\")) {\n",
       "                    Plotly.newPlot(\n",
       "                        'a709cfc5-27b3-4565-abda-5f808548975b',\n",
       "                        [{\"type\": \"bar\", \"x\": [\"user515\", \"user2902\", \"user6\", \"user13\", \"user15\", \"user16\", \"user533\", \"user28\", \"user1054\", \"user31\", \"user33\", \"user1371\", \"user39\", \"user46\", \"user49\", \"user50\", \"user563\", \"user564\", \"user53\", \"user568\", \"user569\", \"user570\", \"user573\", \"user575\", \"user576\", \"user65\", \"user66\", \"user580\", \"user2118\", \"user583\", \"user584\", \"user82\", \"user85\", \"user600\", \"user89\", \"user603\", \"user92\", \"user605\", \"user1040\", \"user100\", \"user102\", \"user103\", \"user105\", \"user106\", \"user118\", \"user119\", \"user120\", \"user126\", \"user127\", \"user128\", \"user875\", \"user647\", \"user138\", \"user653\", \"user2191\", \"user664\", \"user665\", \"user158\", \"user160\", \"user165\", \"user172\", \"user177\", \"user692\", \"user1993\", \"user697\", \"user705\", \"user785\", \"user2250\", \"user203\", \"user207\", \"user722\", \"user1797\", \"user223\", \"user1248\", \"user740\", \"user741\", \"user233\", \"user235\", \"user236\", \"user237\", \"user238\", \"user240\", \"user241\", \"user242\", \"user1267\", \"user756\", \"user245\", \"user246\", \"user249\", \"user252\", \"user254\", \"user256\", \"user640\", \"user258\", \"user259\", \"user260\", \"user261\", \"user1798\", \"user263\", \"user264\", \"user780\", \"user269\", \"user270\", \"user784\", \"user273\", \"user1299\", \"user797\", \"user287\", \"user294\", \"user561\", \"user298\", \"user812\", \"user301\", \"user2355\", \"user308\", \"user315\", \"user318\", \"user2174\", \"user327\", \"user332\", \"user333\", \"user339\", \"user340\", \"user342\", \"user344\", \"user859\", \"user351\", \"user356\", \"user2408\", \"user361\", \"user363\", \"user2625\", \"user411\", \"user417\", \"user932\", \"user425\", \"user430\", \"user435\", \"user436\", \"user440\", \"user444\", \"user2493\", \"user844\", \"user868\", \"user475\", \"user476\", \"user677\", \"user996\", \"user486\", \"user1014\"], \"y\": [3, 4, 5, 12, 11, 3, 3, 11, 5, 3, 5, 1, 2, 2, 2, 12, 4, 3, 4, 3, 2, 1, 2, 2, 3, 11, 4, 2, 2, 3, 2, 3, 3, 2, 11, 11, 4, 2, 3, 2, 11, 4, 11, 11, 3, 3, 2, 3, 2, 4, 4, 3, 11, 11, 3, 5, 4, 4, 11, 11, 12, 3, 4, 3, 3, 3, 4, 4, 3, 2, 5, 1, 11, 2, 11, 4, 7, 3, 2, 3, 11, 11, 2, 11, 4, 3, 4, 11, 4, 4, 2, 11, 2, 11, 11, 12, 12, 3, 3, 11, 3, 2, 4, 4, 3, 3, 2, 2, 4, 3, 3, 4, 4, 3, 2, 3, 12, 2, 11, 11, 5, 5, 3, 4, 12, 3, 11, 11, 3, 3, 4, 3, 3, 11, 4, 4, 11, 2, 12, 4, 3, 3, 11, 4, 4, 12, 4, 2, 12, 5]}],\n",
       "                        {\"template\": {\"data\": {\"bar\": [{\"error_x\": {\"color\": \"#2a3f5f\"}, \"error_y\": {\"color\": \"#2a3f5f\"}, \"marker\": {\"line\": {\"color\": \"#E5ECF6\", \"width\": 0.5}}, \"type\": \"bar\"}], \"barpolar\": [{\"marker\": {\"line\": {\"color\": \"#E5ECF6\", \"width\": 0.5}}, \"type\": \"barpolar\"}], \"carpet\": [{\"aaxis\": {\"endlinecolor\": \"#2a3f5f\", \"gridcolor\": \"white\", \"linecolor\": \"white\", \"minorgridcolor\": \"white\", \"startlinecolor\": \"#2a3f5f\"}, \"baxis\": {\"endlinecolor\": \"#2a3f5f\", \"gridcolor\": \"white\", \"linecolor\": \"white\", \"minorgridcolor\": \"white\", \"startlinecolor\": \"#2a3f5f\"}, \"type\": \"carpet\"}], \"choropleth\": [{\"colorbar\": {\"outlinewidth\": 0, \"ticks\": \"\"}, \"type\": \"choropleth\"}], \"contour\": [{\"colorbar\": {\"outlinewidth\": 0, \"ticks\": \"\"}, \"colorscale\": [[0.0, \"#0d0887\"], [0.1111111111111111, \"#46039f\"], [0.2222222222222222, \"#7201a8\"], [0.3333333333333333, \"#9c179e\"], [0.4444444444444444, \"#bd3786\"], [0.5555555555555556, \"#d8576b\"], [0.6666666666666666, \"#ed7953\"], [0.7777777777777778, \"#fb9f3a\"], [0.8888888888888888, \"#fdca26\"], [1.0, \"#f0f921\"]], \"type\": \"contour\"}], \"contourcarpet\": [{\"colorbar\": {\"outlinewidth\": 0, \"ticks\": \"\"}, \"type\": \"contourcarpet\"}], \"heatmap\": [{\"colorbar\": {\"outlinewidth\": 0, \"ticks\": \"\"}, \"colorscale\": [[0.0, \"#0d0887\"], [0.1111111111111111, \"#46039f\"], [0.2222222222222222, \"#7201a8\"], [0.3333333333333333, \"#9c179e\"], [0.4444444444444444, \"#bd3786\"], [0.5555555555555556, \"#d8576b\"], [0.6666666666666666, \"#ed7953\"], [0.7777777777777778, \"#fb9f3a\"], [0.8888888888888888, \"#fdca26\"], [1.0, \"#f0f921\"]], \"type\": \"heatmap\"}], \"heatmapgl\": [{\"colorbar\": {\"outlinewidth\": 0, \"ticks\": \"\"}, \"colorscale\": [[0.0, \"#0d0887\"], [0.1111111111111111, \"#46039f\"], [0.2222222222222222, \"#7201a8\"], [0.3333333333333333, \"#9c179e\"], [0.4444444444444444, \"#bd3786\"], [0.5555555555555556, \"#d8576b\"], [0.6666666666666666, \"#ed7953\"], [0.7777777777777778, \"#fb9f3a\"], [0.8888888888888888, \"#fdca26\"], [1.0, \"#f0f921\"]], \"type\": \"heatmapgl\"}], \"histogram\": [{\"marker\": {\"colorbar\": {\"outlinewidth\": 0, \"ticks\": \"\"}}, \"type\": \"histogram\"}], \"histogram2d\": [{\"colorbar\": {\"outlinewidth\": 0, \"ticks\": \"\"}, \"colorscale\": [[0.0, \"#0d0887\"], [0.1111111111111111, \"#46039f\"], [0.2222222222222222, \"#7201a8\"], [0.3333333333333333, \"#9c179e\"], [0.4444444444444444, \"#bd3786\"], [0.5555555555555556, \"#d8576b\"], [0.6666666666666666, \"#ed7953\"], [0.7777777777777778, \"#fb9f3a\"], [0.8888888888888888, \"#fdca26\"], [1.0, \"#f0f921\"]], \"type\": \"histogram2d\"}], \"histogram2dcontour\": [{\"colorbar\": {\"outlinewidth\": 0, \"ticks\": \"\"}, \"colorscale\": [[0.0, \"#0d0887\"], [0.1111111111111111, \"#46039f\"], [0.2222222222222222, \"#7201a8\"], [0.3333333333333333, \"#9c179e\"], [0.4444444444444444, \"#bd3786\"], [0.5555555555555556, \"#d8576b\"], [0.6666666666666666, \"#ed7953\"], [0.7777777777777778, \"#fb9f3a\"], [0.8888888888888888, \"#fdca26\"], [1.0, \"#f0f921\"]], \"type\": \"histogram2dcontour\"}], \"mesh3d\": [{\"colorbar\": {\"outlinewidth\": 0, \"ticks\": \"\"}, \"type\": \"mesh3d\"}], \"parcoords\": [{\"line\": {\"colorbar\": {\"outlinewidth\": 0, \"ticks\": \"\"}}, \"type\": \"parcoords\"}], \"pie\": [{\"automargin\": true, \"type\": \"pie\"}], \"scatter\": [{\"marker\": {\"colorbar\": {\"outlinewidth\": 0, \"ticks\": \"\"}}, \"type\": \"scatter\"}], \"scatter3d\": [{\"line\": {\"colorbar\": {\"outlinewidth\": 0, \"ticks\": \"\"}}, \"marker\": {\"colorbar\": {\"outlinewidth\": 0, \"ticks\": \"\"}}, \"type\": \"scatter3d\"}], \"scattercarpet\": [{\"marker\": {\"colorbar\": {\"outlinewidth\": 0, \"ticks\": \"\"}}, \"type\": \"scattercarpet\"}], \"scattergeo\": [{\"marker\": {\"colorbar\": {\"outlinewidth\": 0, \"ticks\": \"\"}}, \"type\": \"scattergeo\"}], \"scattergl\": [{\"marker\": {\"colorbar\": {\"outlinewidth\": 0, \"ticks\": \"\"}}, \"type\": \"scattergl\"}], \"scattermapbox\": [{\"marker\": {\"colorbar\": {\"outlinewidth\": 0, \"ticks\": \"\"}}, \"type\": \"scattermapbox\"}], \"scatterpolar\": [{\"marker\": {\"colorbar\": {\"outlinewidth\": 0, \"ticks\": \"\"}}, \"type\": \"scatterpolar\"}], \"scatterpolargl\": [{\"marker\": {\"colorbar\": {\"outlinewidth\": 0, \"ticks\": \"\"}}, \"type\": \"scatterpolargl\"}], \"scatterternary\": [{\"marker\": {\"colorbar\": {\"outlinewidth\": 0, \"ticks\": \"\"}}, \"type\": \"scatterternary\"}], \"surface\": [{\"colorbar\": {\"outlinewidth\": 0, \"ticks\": \"\"}, \"colorscale\": [[0.0, \"#0d0887\"], [0.1111111111111111, \"#46039f\"], [0.2222222222222222, \"#7201a8\"], [0.3333333333333333, \"#9c179e\"], [0.4444444444444444, \"#bd3786\"], [0.5555555555555556, \"#d8576b\"], [0.6666666666666666, \"#ed7953\"], [0.7777777777777778, \"#fb9f3a\"], [0.8888888888888888, \"#fdca26\"], [1.0, \"#f0f921\"]], \"type\": \"surface\"}], \"table\": [{\"cells\": {\"fill\": {\"color\": \"#EBF0F8\"}, \"line\": {\"color\": \"white\"}}, \"header\": {\"fill\": {\"color\": \"#C8D4E3\"}, \"line\": {\"color\": \"white\"}}, \"type\": \"table\"}]}, \"layout\": {\"annotationdefaults\": {\"arrowcolor\": \"#2a3f5f\", \"arrowhead\": 0, \"arrowwidth\": 1}, \"coloraxis\": {\"colorbar\": {\"outlinewidth\": 0, \"ticks\": \"\"}}, \"colorscale\": {\"diverging\": [[0, \"#8e0152\"], [0.1, \"#c51b7d\"], [0.2, \"#de77ae\"], [0.3, \"#f1b6da\"], [0.4, \"#fde0ef\"], [0.5, \"#f7f7f7\"], [0.6, \"#e6f5d0\"], [0.7, \"#b8e186\"], [0.8, \"#7fbc41\"], [0.9, \"#4d9221\"], [1, \"#276419\"]], \"sequential\": [[0.0, \"#0d0887\"], [0.1111111111111111, \"#46039f\"], [0.2222222222222222, \"#7201a8\"], [0.3333333333333333, \"#9c179e\"], [0.4444444444444444, \"#bd3786\"], [0.5555555555555556, \"#d8576b\"], [0.6666666666666666, \"#ed7953\"], [0.7777777777777778, \"#fb9f3a\"], [0.8888888888888888, \"#fdca26\"], [1.0, \"#f0f921\"]], \"sequentialminus\": [[0.0, \"#0d0887\"], [0.1111111111111111, \"#46039f\"], [0.2222222222222222, \"#7201a8\"], [0.3333333333333333, \"#9c179e\"], [0.4444444444444444, \"#bd3786\"], [0.5555555555555556, \"#d8576b\"], [0.6666666666666666, \"#ed7953\"], [0.7777777777777778, \"#fb9f3a\"], [0.8888888888888888, \"#fdca26\"], [1.0, \"#f0f921\"]]}, \"colorway\": [\"#636efa\", \"#EF553B\", \"#00cc96\", \"#ab63fa\", \"#FFA15A\", \"#19d3f3\", \"#FF6692\", \"#B6E880\", \"#FF97FF\", \"#FECB52\"], \"font\": {\"color\": \"#2a3f5f\"}, \"geo\": {\"bgcolor\": \"white\", \"lakecolor\": \"white\", \"landcolor\": \"#E5ECF6\", \"showlakes\": true, \"showland\": true, \"subunitcolor\": \"white\"}, \"hoverlabel\": {\"align\": \"left\"}, \"hovermode\": \"closest\", \"mapbox\": {\"style\": \"light\"}, \"paper_bgcolor\": \"white\", \"plot_bgcolor\": \"#E5ECF6\", \"polar\": {\"angularaxis\": {\"gridcolor\": \"white\", \"linecolor\": \"white\", \"ticks\": \"\"}, \"bgcolor\": \"#E5ECF6\", \"radialaxis\": {\"gridcolor\": \"white\", \"linecolor\": \"white\", \"ticks\": \"\"}}, \"scene\": {\"xaxis\": {\"backgroundcolor\": \"#E5ECF6\", \"gridcolor\": \"white\", \"gridwidth\": 2, \"linecolor\": \"white\", \"showbackground\": true, \"ticks\": \"\", \"zerolinecolor\": \"white\"}, \"yaxis\": {\"backgroundcolor\": \"#E5ECF6\", \"gridcolor\": \"white\", \"gridwidth\": 2, \"linecolor\": \"white\", \"showbackground\": true, \"ticks\": \"\", \"zerolinecolor\": \"white\"}, \"zaxis\": {\"backgroundcolor\": \"#E5ECF6\", \"gridcolor\": \"white\", \"gridwidth\": 2, \"linecolor\": \"white\", \"showbackground\": true, \"ticks\": \"\", \"zerolinecolor\": \"white\"}}, \"shapedefaults\": {\"line\": {\"color\": \"#2a3f5f\"}}, \"ternary\": {\"aaxis\": {\"gridcolor\": \"white\", \"linecolor\": \"white\", \"ticks\": \"\"}, \"baxis\": {\"gridcolor\": \"white\", \"linecolor\": \"white\", \"ticks\": \"\"}, \"bgcolor\": \"#E5ECF6\", \"caxis\": {\"gridcolor\": \"white\", \"linecolor\": \"white\", \"ticks\": \"\"}}, \"title\": {\"x\": 0.05}, \"xaxis\": {\"automargin\": true, \"gridcolor\": \"white\", \"linecolor\": \"white\", \"ticks\": \"\", \"title\": {\"standoff\": 15}, \"zerolinecolor\": \"white\", \"zerolinewidth\": 2}, \"yaxis\": {\"automargin\": true, \"gridcolor\": \"white\", \"linecolor\": \"white\", \"ticks\": \"\", \"title\": {\"standoff\": 15}, \"zerolinecolor\": \"white\", \"zerolinewidth\": 2}}}, \"xaxis\": {\"tickangle\": -90, \"title\": {\"text\": \"User_ID\"}}, \"yaxis\": {\"tickmode\": \"array\", \"ticktext\": [\"\\u042f\\u043d\", \"\\u0424\\u0435\\u0432\", \"\\u041c\\u0430\\u0440\", \"\\u0410\\u043f\\u0440\", \"\\u041c\\u0430\\u0439\", \"\\u0418\\u044e\\u043d\\u044c\", \"\\u0418\\u044e\\u043b\\u044c\", \"\\u0410\\u0432\\u0433\", \"\\u0421\\u0435\\u043d\", \"\\u041e\\u043a\\u0442\", \"\\u041d\\u043e\\u044f\\u0431\", \"\\u0414\\u0435\\u043a\"], \"tickvals\": [1, 2, 3, 4, 5, 6, 7, 8, 9, 10, 11, 12], \"title\": {\"text\": \"\\u041c\\u0435\\u0441\\u044f\\u0446 \\u043d\\u0430\\u0447\\u0430\\u043b\\u0430 \\u0441\\u0435\\u0441\\u0441\\u0438\\u0438\"}}},\n",
       "                        {\"responsive\": true}\n",
       "                    ).then(function(){\n",
       "                            \n",
       "var gd = document.getElementById('a709cfc5-27b3-4565-abda-5f808548975b');\n",
       "var x = new MutationObserver(function (mutations, observer) {{\n",
       "        var display = window.getComputedStyle(gd).display;\n",
       "        if (!display || display === 'none') {{\n",
       "            console.log([gd, 'removed!']);\n",
       "            Plotly.purge(gd);\n",
       "            observer.disconnect();\n",
       "        }}\n",
       "}});\n",
       "\n",
       "// Listen for the removal of the full notebook cells\n",
       "var notebookContainer = gd.closest('#notebook-container');\n",
       "if (notebookContainer) {{\n",
       "    x.observe(notebookContainer, {childList: true});\n",
       "}}\n",
       "\n",
       "// Listen for the clearing of the current output cell\n",
       "var outputEl = gd.closest('.output');\n",
       "if (outputEl) {{\n",
       "    x.observe(outputEl, {childList: true});\n",
       "}}\n",
       "\n",
       "                        })\n",
       "                };\n",
       "                });\n",
       "            </script>\n",
       "        </div>"
      ]
     },
     "metadata": {},
     "output_type": "display_data"
    }
   ],
   "source": [
    "d = {}\n",
    "for user_x in new_train_data_150users['user_id'].unique():\n",
    "    d[user_x] =int(np.median(new_train_data_150users[new_train_data_150users['user_id'] == user_x]['Start_Month']))\n",
    "    \n",
    "month = [u'Ян', u'Фев', u'Мар', u'Апр', u'Май', u'Июнь', u'Июль', u'Авг', u'Сен', u'Окт', u'Нояб', u'Дек']\n",
    "\n",
    "data_viz =  go.Bar(\n",
    "    x = map(lambda x: 'user'+x, map(str,d.keys())),\n",
    "    y = d.values()\n",
    ")\n",
    "\n",
    "fig = go.Figure(data = [data_viz])\n",
    "fig.update_xaxes(tickangle=-90)\n",
    "fig.update_layout(xaxis_title='User_ID', yaxis_title=u'Месяц начала сессии', \n",
    "                  yaxis=dict(\n",
    "                      tickmode = 'array',\n",
    "                      tickvals = range(1,13),\n",
    "                      ticktext=month)\n",
    "                 )\n",
    "iplot(fig)"
   ]
  },
  {
   "cell_type": "markdown",
   "metadata": {},
   "source": [
    "Выведите медианный день недели, в который началась сессия, для сессий 150 пользователей"
   ]
  },
  {
   "cell_type": "code",
   "execution_count": 49,
   "metadata": {},
   "outputs": [
    {
     "data": {
      "application/vnd.plotly.v1+json": {
       "config": {
        "linkText": "Export to plot.ly",
        "plotlyServerURL": "https://plot.ly",
        "showLink": false
       },
       "data": [
        {
         "type": "bar",
         "x": [
          "user515",
          "user2902",
          "user6",
          "user13",
          "user15",
          "user16",
          "user533",
          "user28",
          "user1054",
          "user31",
          "user33",
          "user1371",
          "user39",
          "user46",
          "user49",
          "user50",
          "user563",
          "user564",
          "user53",
          "user568",
          "user569",
          "user570",
          "user573",
          "user575",
          "user576",
          "user65",
          "user66",
          "user580",
          "user2118",
          "user583",
          "user584",
          "user82",
          "user85",
          "user600",
          "user89",
          "user603",
          "user92",
          "user605",
          "user1040",
          "user100",
          "user102",
          "user103",
          "user105",
          "user106",
          "user118",
          "user119",
          "user120",
          "user126",
          "user127",
          "user128",
          "user875",
          "user647",
          "user138",
          "user653",
          "user2191",
          "user664",
          "user665",
          "user158",
          "user160",
          "user165",
          "user172",
          "user177",
          "user692",
          "user1993",
          "user697",
          "user705",
          "user785",
          "user2250",
          "user203",
          "user207",
          "user722",
          "user1797",
          "user223",
          "user1248",
          "user740",
          "user741",
          "user233",
          "user235",
          "user236",
          "user237",
          "user238",
          "user240",
          "user241",
          "user242",
          "user1267",
          "user756",
          "user245",
          "user246",
          "user249",
          "user252",
          "user254",
          "user256",
          "user640",
          "user258",
          "user259",
          "user260",
          "user261",
          "user1798",
          "user263",
          "user264",
          "user780",
          "user269",
          "user270",
          "user784",
          "user273",
          "user1299",
          "user797",
          "user287",
          "user294",
          "user561",
          "user298",
          "user812",
          "user301",
          "user2355",
          "user308",
          "user315",
          "user318",
          "user2174",
          "user327",
          "user332",
          "user333",
          "user339",
          "user340",
          "user342",
          "user344",
          "user859",
          "user351",
          "user356",
          "user2408",
          "user361",
          "user363",
          "user2625",
          "user411",
          "user417",
          "user932",
          "user425",
          "user430",
          "user435",
          "user436",
          "user440",
          "user444",
          "user2493",
          "user844",
          "user868",
          "user475",
          "user476",
          "user677",
          "user996",
          "user486",
          "user1014"
         ],
         "y": [
          1,
          1,
          2,
          3,
          1,
          2,
          3,
          3,
          2,
          3,
          3,
          2,
          2,
          3,
          2,
          1,
          3,
          1,
          2,
          2,
          2,
          2,
          2,
          2,
          2,
          3,
          2,
          2,
          2,
          1,
          2,
          1,
          1,
          1,
          2,
          3,
          3,
          2,
          3,
          5,
          2,
          0,
          4,
          2,
          3,
          3,
          1,
          2,
          2,
          4,
          2,
          3,
          2,
          2,
          4,
          2,
          2,
          2,
          2,
          2,
          2,
          3,
          3,
          2,
          2,
          2,
          3,
          3,
          0,
          2,
          1,
          1,
          3,
          2,
          2,
          4,
          1,
          1,
          2,
          2,
          1,
          0,
          2,
          2,
          4,
          2,
          2,
          1,
          2,
          1,
          2,
          5,
          1,
          2,
          4,
          0,
          1,
          3,
          2,
          4,
          2,
          2,
          1,
          1,
          2,
          3,
          2,
          2,
          1,
          2,
          2,
          3,
          2,
          1,
          1,
          1,
          2,
          4,
          1,
          2,
          2,
          3,
          1,
          1,
          2,
          2,
          2,
          2,
          1,
          1,
          2,
          0,
          2,
          1,
          2,
          2,
          2,
          2,
          2,
          2,
          2,
          3,
          2,
          4,
          3,
          1,
          3,
          2,
          1,
          2
         ]
        }
       ],
       "layout": {
        "template": {
         "data": {
          "bar": [
           {
            "error_x": {
             "color": "#2a3f5f"
            },
            "error_y": {
             "color": "#2a3f5f"
            },
            "marker": {
             "line": {
              "color": "#E5ECF6",
              "width": 0.5
             }
            },
            "type": "bar"
           }
          ],
          "barpolar": [
           {
            "marker": {
             "line": {
              "color": "#E5ECF6",
              "width": 0.5
             }
            },
            "type": "barpolar"
           }
          ],
          "carpet": [
           {
            "aaxis": {
             "endlinecolor": "#2a3f5f",
             "gridcolor": "white",
             "linecolor": "white",
             "minorgridcolor": "white",
             "startlinecolor": "#2a3f5f"
            },
            "baxis": {
             "endlinecolor": "#2a3f5f",
             "gridcolor": "white",
             "linecolor": "white",
             "minorgridcolor": "white",
             "startlinecolor": "#2a3f5f"
            },
            "type": "carpet"
           }
          ],
          "choropleth": [
           {
            "colorbar": {
             "outlinewidth": 0,
             "ticks": ""
            },
            "type": "choropleth"
           }
          ],
          "contour": [
           {
            "colorbar": {
             "outlinewidth": 0,
             "ticks": ""
            },
            "colorscale": [
             [
              0,
              "#0d0887"
             ],
             [
              0.1111111111111111,
              "#46039f"
             ],
             [
              0.2222222222222222,
              "#7201a8"
             ],
             [
              0.3333333333333333,
              "#9c179e"
             ],
             [
              0.4444444444444444,
              "#bd3786"
             ],
             [
              0.5555555555555556,
              "#d8576b"
             ],
             [
              0.6666666666666666,
              "#ed7953"
             ],
             [
              0.7777777777777778,
              "#fb9f3a"
             ],
             [
              0.8888888888888888,
              "#fdca26"
             ],
             [
              1,
              "#f0f921"
             ]
            ],
            "type": "contour"
           }
          ],
          "contourcarpet": [
           {
            "colorbar": {
             "outlinewidth": 0,
             "ticks": ""
            },
            "type": "contourcarpet"
           }
          ],
          "heatmap": [
           {
            "colorbar": {
             "outlinewidth": 0,
             "ticks": ""
            },
            "colorscale": [
             [
              0,
              "#0d0887"
             ],
             [
              0.1111111111111111,
              "#46039f"
             ],
             [
              0.2222222222222222,
              "#7201a8"
             ],
             [
              0.3333333333333333,
              "#9c179e"
             ],
             [
              0.4444444444444444,
              "#bd3786"
             ],
             [
              0.5555555555555556,
              "#d8576b"
             ],
             [
              0.6666666666666666,
              "#ed7953"
             ],
             [
              0.7777777777777778,
              "#fb9f3a"
             ],
             [
              0.8888888888888888,
              "#fdca26"
             ],
             [
              1,
              "#f0f921"
             ]
            ],
            "type": "heatmap"
           }
          ],
          "heatmapgl": [
           {
            "colorbar": {
             "outlinewidth": 0,
             "ticks": ""
            },
            "colorscale": [
             [
              0,
              "#0d0887"
             ],
             [
              0.1111111111111111,
              "#46039f"
             ],
             [
              0.2222222222222222,
              "#7201a8"
             ],
             [
              0.3333333333333333,
              "#9c179e"
             ],
             [
              0.4444444444444444,
              "#bd3786"
             ],
             [
              0.5555555555555556,
              "#d8576b"
             ],
             [
              0.6666666666666666,
              "#ed7953"
             ],
             [
              0.7777777777777778,
              "#fb9f3a"
             ],
             [
              0.8888888888888888,
              "#fdca26"
             ],
             [
              1,
              "#f0f921"
             ]
            ],
            "type": "heatmapgl"
           }
          ],
          "histogram": [
           {
            "marker": {
             "colorbar": {
              "outlinewidth": 0,
              "ticks": ""
             }
            },
            "type": "histogram"
           }
          ],
          "histogram2d": [
           {
            "colorbar": {
             "outlinewidth": 0,
             "ticks": ""
            },
            "colorscale": [
             [
              0,
              "#0d0887"
             ],
             [
              0.1111111111111111,
              "#46039f"
             ],
             [
              0.2222222222222222,
              "#7201a8"
             ],
             [
              0.3333333333333333,
              "#9c179e"
             ],
             [
              0.4444444444444444,
              "#bd3786"
             ],
             [
              0.5555555555555556,
              "#d8576b"
             ],
             [
              0.6666666666666666,
              "#ed7953"
             ],
             [
              0.7777777777777778,
              "#fb9f3a"
             ],
             [
              0.8888888888888888,
              "#fdca26"
             ],
             [
              1,
              "#f0f921"
             ]
            ],
            "type": "histogram2d"
           }
          ],
          "histogram2dcontour": [
           {
            "colorbar": {
             "outlinewidth": 0,
             "ticks": ""
            },
            "colorscale": [
             [
              0,
              "#0d0887"
             ],
             [
              0.1111111111111111,
              "#46039f"
             ],
             [
              0.2222222222222222,
              "#7201a8"
             ],
             [
              0.3333333333333333,
              "#9c179e"
             ],
             [
              0.4444444444444444,
              "#bd3786"
             ],
             [
              0.5555555555555556,
              "#d8576b"
             ],
             [
              0.6666666666666666,
              "#ed7953"
             ],
             [
              0.7777777777777778,
              "#fb9f3a"
             ],
             [
              0.8888888888888888,
              "#fdca26"
             ],
             [
              1,
              "#f0f921"
             ]
            ],
            "type": "histogram2dcontour"
           }
          ],
          "mesh3d": [
           {
            "colorbar": {
             "outlinewidth": 0,
             "ticks": ""
            },
            "type": "mesh3d"
           }
          ],
          "parcoords": [
           {
            "line": {
             "colorbar": {
              "outlinewidth": 0,
              "ticks": ""
             }
            },
            "type": "parcoords"
           }
          ],
          "pie": [
           {
            "automargin": true,
            "type": "pie"
           }
          ],
          "scatter": [
           {
            "marker": {
             "colorbar": {
              "outlinewidth": 0,
              "ticks": ""
             }
            },
            "type": "scatter"
           }
          ],
          "scatter3d": [
           {
            "line": {
             "colorbar": {
              "outlinewidth": 0,
              "ticks": ""
             }
            },
            "marker": {
             "colorbar": {
              "outlinewidth": 0,
              "ticks": ""
             }
            },
            "type": "scatter3d"
           }
          ],
          "scattercarpet": [
           {
            "marker": {
             "colorbar": {
              "outlinewidth": 0,
              "ticks": ""
             }
            },
            "type": "scattercarpet"
           }
          ],
          "scattergeo": [
           {
            "marker": {
             "colorbar": {
              "outlinewidth": 0,
              "ticks": ""
             }
            },
            "type": "scattergeo"
           }
          ],
          "scattergl": [
           {
            "marker": {
             "colorbar": {
              "outlinewidth": 0,
              "ticks": ""
             }
            },
            "type": "scattergl"
           }
          ],
          "scattermapbox": [
           {
            "marker": {
             "colorbar": {
              "outlinewidth": 0,
              "ticks": ""
             }
            },
            "type": "scattermapbox"
           }
          ],
          "scatterpolar": [
           {
            "marker": {
             "colorbar": {
              "outlinewidth": 0,
              "ticks": ""
             }
            },
            "type": "scatterpolar"
           }
          ],
          "scatterpolargl": [
           {
            "marker": {
             "colorbar": {
              "outlinewidth": 0,
              "ticks": ""
             }
            },
            "type": "scatterpolargl"
           }
          ],
          "scatterternary": [
           {
            "marker": {
             "colorbar": {
              "outlinewidth": 0,
              "ticks": ""
             }
            },
            "type": "scatterternary"
           }
          ],
          "surface": [
           {
            "colorbar": {
             "outlinewidth": 0,
             "ticks": ""
            },
            "colorscale": [
             [
              0,
              "#0d0887"
             ],
             [
              0.1111111111111111,
              "#46039f"
             ],
             [
              0.2222222222222222,
              "#7201a8"
             ],
             [
              0.3333333333333333,
              "#9c179e"
             ],
             [
              0.4444444444444444,
              "#bd3786"
             ],
             [
              0.5555555555555556,
              "#d8576b"
             ],
             [
              0.6666666666666666,
              "#ed7953"
             ],
             [
              0.7777777777777778,
              "#fb9f3a"
             ],
             [
              0.8888888888888888,
              "#fdca26"
             ],
             [
              1,
              "#f0f921"
             ]
            ],
            "type": "surface"
           }
          ],
          "table": [
           {
            "cells": {
             "fill": {
              "color": "#EBF0F8"
             },
             "line": {
              "color": "white"
             }
            },
            "header": {
             "fill": {
              "color": "#C8D4E3"
             },
             "line": {
              "color": "white"
             }
            },
            "type": "table"
           }
          ]
         },
         "layout": {
          "annotationdefaults": {
           "arrowcolor": "#2a3f5f",
           "arrowhead": 0,
           "arrowwidth": 1
          },
          "coloraxis": {
           "colorbar": {
            "outlinewidth": 0,
            "ticks": ""
           }
          },
          "colorscale": {
           "diverging": [
            [
             0,
             "#8e0152"
            ],
            [
             0.1,
             "#c51b7d"
            ],
            [
             0.2,
             "#de77ae"
            ],
            [
             0.3,
             "#f1b6da"
            ],
            [
             0.4,
             "#fde0ef"
            ],
            [
             0.5,
             "#f7f7f7"
            ],
            [
             0.6,
             "#e6f5d0"
            ],
            [
             0.7,
             "#b8e186"
            ],
            [
             0.8,
             "#7fbc41"
            ],
            [
             0.9,
             "#4d9221"
            ],
            [
             1,
             "#276419"
            ]
           ],
           "sequential": [
            [
             0,
             "#0d0887"
            ],
            [
             0.1111111111111111,
             "#46039f"
            ],
            [
             0.2222222222222222,
             "#7201a8"
            ],
            [
             0.3333333333333333,
             "#9c179e"
            ],
            [
             0.4444444444444444,
             "#bd3786"
            ],
            [
             0.5555555555555556,
             "#d8576b"
            ],
            [
             0.6666666666666666,
             "#ed7953"
            ],
            [
             0.7777777777777778,
             "#fb9f3a"
            ],
            [
             0.8888888888888888,
             "#fdca26"
            ],
            [
             1,
             "#f0f921"
            ]
           ],
           "sequentialminus": [
            [
             0,
             "#0d0887"
            ],
            [
             0.1111111111111111,
             "#46039f"
            ],
            [
             0.2222222222222222,
             "#7201a8"
            ],
            [
             0.3333333333333333,
             "#9c179e"
            ],
            [
             0.4444444444444444,
             "#bd3786"
            ],
            [
             0.5555555555555556,
             "#d8576b"
            ],
            [
             0.6666666666666666,
             "#ed7953"
            ],
            [
             0.7777777777777778,
             "#fb9f3a"
            ],
            [
             0.8888888888888888,
             "#fdca26"
            ],
            [
             1,
             "#f0f921"
            ]
           ]
          },
          "colorway": [
           "#636efa",
           "#EF553B",
           "#00cc96",
           "#ab63fa",
           "#FFA15A",
           "#19d3f3",
           "#FF6692",
           "#B6E880",
           "#FF97FF",
           "#FECB52"
          ],
          "font": {
           "color": "#2a3f5f"
          },
          "geo": {
           "bgcolor": "white",
           "lakecolor": "white",
           "landcolor": "#E5ECF6",
           "showlakes": true,
           "showland": true,
           "subunitcolor": "white"
          },
          "hoverlabel": {
           "align": "left"
          },
          "hovermode": "closest",
          "mapbox": {
           "style": "light"
          },
          "paper_bgcolor": "white",
          "plot_bgcolor": "#E5ECF6",
          "polar": {
           "angularaxis": {
            "gridcolor": "white",
            "linecolor": "white",
            "ticks": ""
           },
           "bgcolor": "#E5ECF6",
           "radialaxis": {
            "gridcolor": "white",
            "linecolor": "white",
            "ticks": ""
           }
          },
          "scene": {
           "xaxis": {
            "backgroundcolor": "#E5ECF6",
            "gridcolor": "white",
            "gridwidth": 2,
            "linecolor": "white",
            "showbackground": true,
            "ticks": "",
            "zerolinecolor": "white"
           },
           "yaxis": {
            "backgroundcolor": "#E5ECF6",
            "gridcolor": "white",
            "gridwidth": 2,
            "linecolor": "white",
            "showbackground": true,
            "ticks": "",
            "zerolinecolor": "white"
           },
           "zaxis": {
            "backgroundcolor": "#E5ECF6",
            "gridcolor": "white",
            "gridwidth": 2,
            "linecolor": "white",
            "showbackground": true,
            "ticks": "",
            "zerolinecolor": "white"
           }
          },
          "shapedefaults": {
           "line": {
            "color": "#2a3f5f"
           }
          },
          "ternary": {
           "aaxis": {
            "gridcolor": "white",
            "linecolor": "white",
            "ticks": ""
           },
           "baxis": {
            "gridcolor": "white",
            "linecolor": "white",
            "ticks": ""
           },
           "bgcolor": "#E5ECF6",
           "caxis": {
            "gridcolor": "white",
            "linecolor": "white",
            "ticks": ""
           }
          },
          "title": {
           "x": 0.05
          },
          "xaxis": {
           "automargin": true,
           "gridcolor": "white",
           "linecolor": "white",
           "ticks": "",
           "title": {
            "standoff": 15
           },
           "zerolinecolor": "white",
           "zerolinewidth": 2
          },
          "yaxis": {
           "automargin": true,
           "gridcolor": "white",
           "linecolor": "white",
           "ticks": "",
           "title": {
            "standoff": 15
           },
           "zerolinecolor": "white",
           "zerolinewidth": 2
          }
         }
        },
        "xaxis": {
         "tickangle": -90,
         "title": {
          "text": "User_ID"
         }
        },
        "yaxis": {
         "tickmode": "array",
         "ticktext": [
          "Пн",
          "Вт",
          "Ср",
          "Чт",
          "Пт",
          "Сб",
          "Вс"
         ],
         "tickvals": [
          0,
          1,
          2,
          3,
          4,
          5,
          6
         ],
         "title": {
          "text": "День недели"
         }
        }
       }
      },
      "text/html": [
       "<div>\n",
       "        \n",
       "        \n",
       "            <div id=\"46f51803-1be4-4111-9be3-576d82abdbd8\" class=\"plotly-graph-div\" style=\"height:525px; width:100%;\"></div>\n",
       "            <script type=\"text/javascript\">\n",
       "                require([\"plotly\"], function(Plotly) {\n",
       "                    window.PLOTLYENV=window.PLOTLYENV || {};\n",
       "                    \n",
       "                if (document.getElementById(\"46f51803-1be4-4111-9be3-576d82abdbd8\")) {\n",
       "                    Plotly.newPlot(\n",
       "                        '46f51803-1be4-4111-9be3-576d82abdbd8',\n",
       "                        [{\"type\": \"bar\", \"x\": [\"user515\", \"user2902\", \"user6\", \"user13\", \"user15\", \"user16\", \"user533\", \"user28\", \"user1054\", \"user31\", \"user33\", \"user1371\", \"user39\", \"user46\", \"user49\", \"user50\", \"user563\", \"user564\", \"user53\", \"user568\", \"user569\", \"user570\", \"user573\", \"user575\", \"user576\", \"user65\", \"user66\", \"user580\", \"user2118\", \"user583\", \"user584\", \"user82\", \"user85\", \"user600\", \"user89\", \"user603\", \"user92\", \"user605\", \"user1040\", \"user100\", \"user102\", \"user103\", \"user105\", \"user106\", \"user118\", \"user119\", \"user120\", \"user126\", \"user127\", \"user128\", \"user875\", \"user647\", \"user138\", \"user653\", \"user2191\", \"user664\", \"user665\", \"user158\", \"user160\", \"user165\", \"user172\", \"user177\", \"user692\", \"user1993\", \"user697\", \"user705\", \"user785\", \"user2250\", \"user203\", \"user207\", \"user722\", \"user1797\", \"user223\", \"user1248\", \"user740\", \"user741\", \"user233\", \"user235\", \"user236\", \"user237\", \"user238\", \"user240\", \"user241\", \"user242\", \"user1267\", \"user756\", \"user245\", \"user246\", \"user249\", \"user252\", \"user254\", \"user256\", \"user640\", \"user258\", \"user259\", \"user260\", \"user261\", \"user1798\", \"user263\", \"user264\", \"user780\", \"user269\", \"user270\", \"user784\", \"user273\", \"user1299\", \"user797\", \"user287\", \"user294\", \"user561\", \"user298\", \"user812\", \"user301\", \"user2355\", \"user308\", \"user315\", \"user318\", \"user2174\", \"user327\", \"user332\", \"user333\", \"user339\", \"user340\", \"user342\", \"user344\", \"user859\", \"user351\", \"user356\", \"user2408\", \"user361\", \"user363\", \"user2625\", \"user411\", \"user417\", \"user932\", \"user425\", \"user430\", \"user435\", \"user436\", \"user440\", \"user444\", \"user2493\", \"user844\", \"user868\", \"user475\", \"user476\", \"user677\", \"user996\", \"user486\", \"user1014\"], \"y\": [1, 1, 2, 3, 1, 2, 3, 3, 2, 3, 3, 2, 2, 3, 2, 1, 3, 1, 2, 2, 2, 2, 2, 2, 2, 3, 2, 2, 2, 1, 2, 1, 1, 1, 2, 3, 3, 2, 3, 5, 2, 0, 4, 2, 3, 3, 1, 2, 2, 4, 2, 3, 2, 2, 4, 2, 2, 2, 2, 2, 2, 3, 3, 2, 2, 2, 3, 3, 0, 2, 1, 1, 3, 2, 2, 4, 1, 1, 2, 2, 1, 0, 2, 2, 4, 2, 2, 1, 2, 1, 2, 5, 1, 2, 4, 0, 1, 3, 2, 4, 2, 2, 1, 1, 2, 3, 2, 2, 1, 2, 2, 3, 2, 1, 1, 1, 2, 4, 1, 2, 2, 3, 1, 1, 2, 2, 2, 2, 1, 1, 2, 0, 2, 1, 2, 2, 2, 2, 2, 2, 2, 3, 2, 4, 3, 1, 3, 2, 1, 2]}],\n",
       "                        {\"template\": {\"data\": {\"bar\": [{\"error_x\": {\"color\": \"#2a3f5f\"}, \"error_y\": {\"color\": \"#2a3f5f\"}, \"marker\": {\"line\": {\"color\": \"#E5ECF6\", \"width\": 0.5}}, \"type\": \"bar\"}], \"barpolar\": [{\"marker\": {\"line\": {\"color\": \"#E5ECF6\", \"width\": 0.5}}, \"type\": \"barpolar\"}], \"carpet\": [{\"aaxis\": {\"endlinecolor\": \"#2a3f5f\", \"gridcolor\": \"white\", \"linecolor\": \"white\", \"minorgridcolor\": \"white\", \"startlinecolor\": \"#2a3f5f\"}, \"baxis\": {\"endlinecolor\": \"#2a3f5f\", \"gridcolor\": \"white\", \"linecolor\": \"white\", \"minorgridcolor\": \"white\", \"startlinecolor\": \"#2a3f5f\"}, \"type\": \"carpet\"}], \"choropleth\": [{\"colorbar\": {\"outlinewidth\": 0, \"ticks\": \"\"}, \"type\": \"choropleth\"}], \"contour\": [{\"colorbar\": {\"outlinewidth\": 0, \"ticks\": \"\"}, \"colorscale\": [[0.0, \"#0d0887\"], [0.1111111111111111, \"#46039f\"], [0.2222222222222222, \"#7201a8\"], [0.3333333333333333, \"#9c179e\"], [0.4444444444444444, \"#bd3786\"], [0.5555555555555556, \"#d8576b\"], [0.6666666666666666, \"#ed7953\"], [0.7777777777777778, \"#fb9f3a\"], [0.8888888888888888, \"#fdca26\"], [1.0, \"#f0f921\"]], \"type\": \"contour\"}], \"contourcarpet\": [{\"colorbar\": {\"outlinewidth\": 0, \"ticks\": \"\"}, \"type\": \"contourcarpet\"}], \"heatmap\": [{\"colorbar\": {\"outlinewidth\": 0, \"ticks\": \"\"}, \"colorscale\": [[0.0, \"#0d0887\"], [0.1111111111111111, \"#46039f\"], [0.2222222222222222, \"#7201a8\"], [0.3333333333333333, \"#9c179e\"], [0.4444444444444444, \"#bd3786\"], [0.5555555555555556, \"#d8576b\"], [0.6666666666666666, \"#ed7953\"], [0.7777777777777778, \"#fb9f3a\"], [0.8888888888888888, \"#fdca26\"], [1.0, \"#f0f921\"]], \"type\": \"heatmap\"}], \"heatmapgl\": [{\"colorbar\": {\"outlinewidth\": 0, \"ticks\": \"\"}, \"colorscale\": [[0.0, \"#0d0887\"], [0.1111111111111111, \"#46039f\"], [0.2222222222222222, \"#7201a8\"], [0.3333333333333333, \"#9c179e\"], [0.4444444444444444, \"#bd3786\"], [0.5555555555555556, \"#d8576b\"], [0.6666666666666666, \"#ed7953\"], [0.7777777777777778, \"#fb9f3a\"], [0.8888888888888888, \"#fdca26\"], [1.0, \"#f0f921\"]], \"type\": \"heatmapgl\"}], \"histogram\": [{\"marker\": {\"colorbar\": {\"outlinewidth\": 0, \"ticks\": \"\"}}, \"type\": \"histogram\"}], \"histogram2d\": [{\"colorbar\": {\"outlinewidth\": 0, \"ticks\": \"\"}, \"colorscale\": [[0.0, \"#0d0887\"], [0.1111111111111111, \"#46039f\"], [0.2222222222222222, \"#7201a8\"], [0.3333333333333333, \"#9c179e\"], [0.4444444444444444, \"#bd3786\"], [0.5555555555555556, \"#d8576b\"], [0.6666666666666666, \"#ed7953\"], [0.7777777777777778, \"#fb9f3a\"], [0.8888888888888888, \"#fdca26\"], [1.0, \"#f0f921\"]], \"type\": \"histogram2d\"}], \"histogram2dcontour\": [{\"colorbar\": {\"outlinewidth\": 0, \"ticks\": \"\"}, \"colorscale\": [[0.0, \"#0d0887\"], [0.1111111111111111, \"#46039f\"], [0.2222222222222222, \"#7201a8\"], [0.3333333333333333, \"#9c179e\"], [0.4444444444444444, \"#bd3786\"], [0.5555555555555556, \"#d8576b\"], [0.6666666666666666, \"#ed7953\"], [0.7777777777777778, \"#fb9f3a\"], [0.8888888888888888, \"#fdca26\"], [1.0, \"#f0f921\"]], \"type\": \"histogram2dcontour\"}], \"mesh3d\": [{\"colorbar\": {\"outlinewidth\": 0, \"ticks\": \"\"}, \"type\": \"mesh3d\"}], \"parcoords\": [{\"line\": {\"colorbar\": {\"outlinewidth\": 0, \"ticks\": \"\"}}, \"type\": \"parcoords\"}], \"pie\": [{\"automargin\": true, \"type\": \"pie\"}], \"scatter\": [{\"marker\": {\"colorbar\": {\"outlinewidth\": 0, \"ticks\": \"\"}}, \"type\": \"scatter\"}], \"scatter3d\": [{\"line\": {\"colorbar\": {\"outlinewidth\": 0, \"ticks\": \"\"}}, \"marker\": {\"colorbar\": {\"outlinewidth\": 0, \"ticks\": \"\"}}, \"type\": \"scatter3d\"}], \"scattercarpet\": [{\"marker\": {\"colorbar\": {\"outlinewidth\": 0, \"ticks\": \"\"}}, \"type\": \"scattercarpet\"}], \"scattergeo\": [{\"marker\": {\"colorbar\": {\"outlinewidth\": 0, \"ticks\": \"\"}}, \"type\": \"scattergeo\"}], \"scattergl\": [{\"marker\": {\"colorbar\": {\"outlinewidth\": 0, \"ticks\": \"\"}}, \"type\": \"scattergl\"}], \"scattermapbox\": [{\"marker\": {\"colorbar\": {\"outlinewidth\": 0, \"ticks\": \"\"}}, \"type\": \"scattermapbox\"}], \"scatterpolar\": [{\"marker\": {\"colorbar\": {\"outlinewidth\": 0, \"ticks\": \"\"}}, \"type\": \"scatterpolar\"}], \"scatterpolargl\": [{\"marker\": {\"colorbar\": {\"outlinewidth\": 0, \"ticks\": \"\"}}, \"type\": \"scatterpolargl\"}], \"scatterternary\": [{\"marker\": {\"colorbar\": {\"outlinewidth\": 0, \"ticks\": \"\"}}, \"type\": \"scatterternary\"}], \"surface\": [{\"colorbar\": {\"outlinewidth\": 0, \"ticks\": \"\"}, \"colorscale\": [[0.0, \"#0d0887\"], [0.1111111111111111, \"#46039f\"], [0.2222222222222222, \"#7201a8\"], [0.3333333333333333, \"#9c179e\"], [0.4444444444444444, \"#bd3786\"], [0.5555555555555556, \"#d8576b\"], [0.6666666666666666, \"#ed7953\"], [0.7777777777777778, \"#fb9f3a\"], [0.8888888888888888, \"#fdca26\"], [1.0, \"#f0f921\"]], \"type\": \"surface\"}], \"table\": [{\"cells\": {\"fill\": {\"color\": \"#EBF0F8\"}, \"line\": {\"color\": \"white\"}}, \"header\": {\"fill\": {\"color\": \"#C8D4E3\"}, \"line\": {\"color\": \"white\"}}, \"type\": \"table\"}]}, \"layout\": {\"annotationdefaults\": {\"arrowcolor\": \"#2a3f5f\", \"arrowhead\": 0, \"arrowwidth\": 1}, \"coloraxis\": {\"colorbar\": {\"outlinewidth\": 0, \"ticks\": \"\"}}, \"colorscale\": {\"diverging\": [[0, \"#8e0152\"], [0.1, \"#c51b7d\"], [0.2, \"#de77ae\"], [0.3, \"#f1b6da\"], [0.4, \"#fde0ef\"], [0.5, \"#f7f7f7\"], [0.6, \"#e6f5d0\"], [0.7, \"#b8e186\"], [0.8, \"#7fbc41\"], [0.9, \"#4d9221\"], [1, \"#276419\"]], \"sequential\": [[0.0, \"#0d0887\"], [0.1111111111111111, \"#46039f\"], [0.2222222222222222, \"#7201a8\"], [0.3333333333333333, \"#9c179e\"], [0.4444444444444444, \"#bd3786\"], [0.5555555555555556, \"#d8576b\"], [0.6666666666666666, \"#ed7953\"], [0.7777777777777778, \"#fb9f3a\"], [0.8888888888888888, \"#fdca26\"], [1.0, \"#f0f921\"]], \"sequentialminus\": [[0.0, \"#0d0887\"], [0.1111111111111111, \"#46039f\"], [0.2222222222222222, \"#7201a8\"], [0.3333333333333333, \"#9c179e\"], [0.4444444444444444, \"#bd3786\"], [0.5555555555555556, \"#d8576b\"], [0.6666666666666666, \"#ed7953\"], [0.7777777777777778, \"#fb9f3a\"], [0.8888888888888888, \"#fdca26\"], [1.0, \"#f0f921\"]]}, \"colorway\": [\"#636efa\", \"#EF553B\", \"#00cc96\", \"#ab63fa\", \"#FFA15A\", \"#19d3f3\", \"#FF6692\", \"#B6E880\", \"#FF97FF\", \"#FECB52\"], \"font\": {\"color\": \"#2a3f5f\"}, \"geo\": {\"bgcolor\": \"white\", \"lakecolor\": \"white\", \"landcolor\": \"#E5ECF6\", \"showlakes\": true, \"showland\": true, \"subunitcolor\": \"white\"}, \"hoverlabel\": {\"align\": \"left\"}, \"hovermode\": \"closest\", \"mapbox\": {\"style\": \"light\"}, \"paper_bgcolor\": \"white\", \"plot_bgcolor\": \"#E5ECF6\", \"polar\": {\"angularaxis\": {\"gridcolor\": \"white\", \"linecolor\": \"white\", \"ticks\": \"\"}, \"bgcolor\": \"#E5ECF6\", \"radialaxis\": {\"gridcolor\": \"white\", \"linecolor\": \"white\", \"ticks\": \"\"}}, \"scene\": {\"xaxis\": {\"backgroundcolor\": \"#E5ECF6\", \"gridcolor\": \"white\", \"gridwidth\": 2, \"linecolor\": \"white\", \"showbackground\": true, \"ticks\": \"\", \"zerolinecolor\": \"white\"}, \"yaxis\": {\"backgroundcolor\": \"#E5ECF6\", \"gridcolor\": \"white\", \"gridwidth\": 2, \"linecolor\": \"white\", \"showbackground\": true, \"ticks\": \"\", \"zerolinecolor\": \"white\"}, \"zaxis\": {\"backgroundcolor\": \"#E5ECF6\", \"gridcolor\": \"white\", \"gridwidth\": 2, \"linecolor\": \"white\", \"showbackground\": true, \"ticks\": \"\", \"zerolinecolor\": \"white\"}}, \"shapedefaults\": {\"line\": {\"color\": \"#2a3f5f\"}}, \"ternary\": {\"aaxis\": {\"gridcolor\": \"white\", \"linecolor\": \"white\", \"ticks\": \"\"}, \"baxis\": {\"gridcolor\": \"white\", \"linecolor\": \"white\", \"ticks\": \"\"}, \"bgcolor\": \"#E5ECF6\", \"caxis\": {\"gridcolor\": \"white\", \"linecolor\": \"white\", \"ticks\": \"\"}}, \"title\": {\"x\": 0.05}, \"xaxis\": {\"automargin\": true, \"gridcolor\": \"white\", \"linecolor\": \"white\", \"ticks\": \"\", \"title\": {\"standoff\": 15}, \"zerolinecolor\": \"white\", \"zerolinewidth\": 2}, \"yaxis\": {\"automargin\": true, \"gridcolor\": \"white\", \"linecolor\": \"white\", \"ticks\": \"\", \"title\": {\"standoff\": 15}, \"zerolinecolor\": \"white\", \"zerolinewidth\": 2}}}, \"xaxis\": {\"tickangle\": -90, \"title\": {\"text\": \"User_ID\"}}, \"yaxis\": {\"tickmode\": \"array\", \"ticktext\": [\"\\u041f\\u043d\", \"\\u0412\\u0442\", \"\\u0421\\u0440\", \"\\u0427\\u0442\", \"\\u041f\\u0442\", \"\\u0421\\u0431\", \"\\u0412\\u0441\"], \"tickvals\": [0, 1, 2, 3, 4, 5, 6], \"title\": {\"text\": \"\\u0414\\u0435\\u043d\\u044c \\u043d\\u0435\\u0434\\u0435\\u043b\\u0438\"}}},\n",
       "                        {\"responsive\": true}\n",
       "                    ).then(function(){\n",
       "                            \n",
       "var gd = document.getElementById('46f51803-1be4-4111-9be3-576d82abdbd8');\n",
       "var x = new MutationObserver(function (mutations, observer) {{\n",
       "        var display = window.getComputedStyle(gd).display;\n",
       "        if (!display || display === 'none') {{\n",
       "            console.log([gd, 'removed!']);\n",
       "            Plotly.purge(gd);\n",
       "            observer.disconnect();\n",
       "        }}\n",
       "}});\n",
       "\n",
       "// Listen for the removal of the full notebook cells\n",
       "var notebookContainer = gd.closest('#notebook-container');\n",
       "if (notebookContainer) {{\n",
       "    x.observe(notebookContainer, {childList: true});\n",
       "}}\n",
       "\n",
       "// Listen for the clearing of the current output cell\n",
       "var outputEl = gd.closest('.output');\n",
       "if (outputEl) {{\n",
       "    x.observe(outputEl, {childList: true});\n",
       "}}\n",
       "\n",
       "                        })\n",
       "                };\n",
       "                });\n",
       "            </script>\n",
       "        </div>"
      ]
     },
     "metadata": {},
     "output_type": "display_data"
    }
   ],
   "source": [
    "d = {}\n",
    "for user_x in new_train_data_150users['user_id'].unique():\n",
    "    d[user_x] =int(np.median(new_train_data_150users[new_train_data_150users['user_id'] == user_x]['Start_Weekday']))\n",
    "    \n",
    "days_of_week = [u'Пн', u'Вт', u'Ср', u'Чт', u'Пт', u'Сб', u'Вс']\n",
    "\n",
    "data_viz =  go.Bar(\n",
    "    x = map(lambda x: 'user'+x, map(str,d.keys())),\n",
    "    y = d.values()\n",
    ")\n",
    "\n",
    "fig = go.Figure(data = [data_viz])\n",
    "fig.update_xaxes(tickangle=-90)\n",
    "fig.update_layout(xaxis_title='User_ID', yaxis_title=u'День недели', \n",
    "                  yaxis=dict(\n",
    "                      tickmode = 'array',\n",
    "                      tickvals = range(7),\n",
    "                      ticktext=days_of_week)\n",
    "                 )\n",
    "iplot(fig)"
   ]
  },
  {
   "cell_type": "markdown",
   "metadata": {},
   "source": [
    "Выведите медианное время суток, в который началась сессия, для сессий 150 пользователей"
   ]
  },
  {
   "cell_type": "code",
   "execution_count": 50,
   "metadata": {},
   "outputs": [
    {
     "data": {
      "application/vnd.plotly.v1+json": {
       "config": {
        "linkText": "Export to plot.ly",
        "plotlyServerURL": "https://plot.ly",
        "showLink": false
       },
       "data": [
        {
         "type": "bar",
         "x": [
          "user515",
          "user2902",
          "user6",
          "user13",
          "user15",
          "user16",
          "user533",
          "user28",
          "user1054",
          "user31",
          "user33",
          "user1371",
          "user39",
          "user46",
          "user49",
          "user50",
          "user563",
          "user564",
          "user53",
          "user568",
          "user569",
          "user570",
          "user573",
          "user575",
          "user576",
          "user65",
          "user66",
          "user580",
          "user2118",
          "user583",
          "user584",
          "user82",
          "user85",
          "user600",
          "user89",
          "user603",
          "user92",
          "user605",
          "user1040",
          "user100",
          "user102",
          "user103",
          "user105",
          "user106",
          "user118",
          "user119",
          "user120",
          "user126",
          "user127",
          "user128",
          "user875",
          "user647",
          "user138",
          "user653",
          "user2191",
          "user664",
          "user665",
          "user158",
          "user160",
          "user165",
          "user172",
          "user177",
          "user692",
          "user1993",
          "user697",
          "user705",
          "user785",
          "user2250",
          "user203",
          "user207",
          "user722",
          "user1797",
          "user223",
          "user1248",
          "user740",
          "user741",
          "user233",
          "user235",
          "user236",
          "user237",
          "user238",
          "user240",
          "user241",
          "user242",
          "user1267",
          "user756",
          "user245",
          "user246",
          "user249",
          "user252",
          "user254",
          "user256",
          "user640",
          "user258",
          "user259",
          "user260",
          "user261",
          "user1798",
          "user263",
          "user264",
          "user780",
          "user269",
          "user270",
          "user784",
          "user273",
          "user1299",
          "user797",
          "user287",
          "user294",
          "user561",
          "user298",
          "user812",
          "user301",
          "user2355",
          "user308",
          "user315",
          "user318",
          "user2174",
          "user327",
          "user332",
          "user333",
          "user339",
          "user340",
          "user342",
          "user344",
          "user859",
          "user351",
          "user356",
          "user2408",
          "user361",
          "user363",
          "user2625",
          "user411",
          "user417",
          "user932",
          "user425",
          "user430",
          "user435",
          "user436",
          "user440",
          "user444",
          "user2493",
          "user844",
          "user868",
          "user475",
          "user476",
          "user677",
          "user996",
          "user486",
          "user1014"
         ],
         "y": [
          2,
          2,
          3,
          3,
          2,
          2,
          3,
          3,
          2,
          3,
          2,
          2,
          2,
          3,
          2,
          3,
          3,
          3,
          3,
          2,
          2,
          2,
          2,
          2,
          2,
          3,
          3,
          2,
          2,
          3,
          2,
          3,
          3,
          3,
          3,
          2,
          2,
          3,
          2,
          3,
          2,
          3,
          2,
          3,
          3,
          3,
          3,
          3,
          3,
          4,
          2,
          3,
          3,
          4,
          3,
          3,
          2,
          2,
          3,
          3,
          2,
          3,
          2,
          2,
          2,
          2,
          2,
          3,
          3,
          3,
          3,
          2,
          3,
          3,
          2,
          3,
          3,
          3,
          2,
          3,
          3,
          2,
          3,
          3,
          3,
          3,
          2,
          2,
          2,
          3,
          4,
          2,
          3,
          2,
          3,
          2,
          3,
          2,
          3,
          3,
          3,
          2,
          2,
          3,
          2,
          2,
          3,
          2,
          3,
          2,
          3,
          2,
          3,
          3,
          3,
          3,
          3,
          3,
          3,
          3,
          3,
          3,
          3,
          2,
          2,
          2,
          3,
          2,
          3,
          3,
          2,
          2,
          3,
          3,
          2,
          3,
          2,
          3,
          3,
          2,
          3,
          2,
          3,
          3,
          3,
          3,
          3,
          2,
          3,
          3
         ]
        }
       ],
       "layout": {
        "template": {
         "data": {
          "bar": [
           {
            "error_x": {
             "color": "#2a3f5f"
            },
            "error_y": {
             "color": "#2a3f5f"
            },
            "marker": {
             "line": {
              "color": "#E5ECF6",
              "width": 0.5
             }
            },
            "type": "bar"
           }
          ],
          "barpolar": [
           {
            "marker": {
             "line": {
              "color": "#E5ECF6",
              "width": 0.5
             }
            },
            "type": "barpolar"
           }
          ],
          "carpet": [
           {
            "aaxis": {
             "endlinecolor": "#2a3f5f",
             "gridcolor": "white",
             "linecolor": "white",
             "minorgridcolor": "white",
             "startlinecolor": "#2a3f5f"
            },
            "baxis": {
             "endlinecolor": "#2a3f5f",
             "gridcolor": "white",
             "linecolor": "white",
             "minorgridcolor": "white",
             "startlinecolor": "#2a3f5f"
            },
            "type": "carpet"
           }
          ],
          "choropleth": [
           {
            "colorbar": {
             "outlinewidth": 0,
             "ticks": ""
            },
            "type": "choropleth"
           }
          ],
          "contour": [
           {
            "colorbar": {
             "outlinewidth": 0,
             "ticks": ""
            },
            "colorscale": [
             [
              0,
              "#0d0887"
             ],
             [
              0.1111111111111111,
              "#46039f"
             ],
             [
              0.2222222222222222,
              "#7201a8"
             ],
             [
              0.3333333333333333,
              "#9c179e"
             ],
             [
              0.4444444444444444,
              "#bd3786"
             ],
             [
              0.5555555555555556,
              "#d8576b"
             ],
             [
              0.6666666666666666,
              "#ed7953"
             ],
             [
              0.7777777777777778,
              "#fb9f3a"
             ],
             [
              0.8888888888888888,
              "#fdca26"
             ],
             [
              1,
              "#f0f921"
             ]
            ],
            "type": "contour"
           }
          ],
          "contourcarpet": [
           {
            "colorbar": {
             "outlinewidth": 0,
             "ticks": ""
            },
            "type": "contourcarpet"
           }
          ],
          "heatmap": [
           {
            "colorbar": {
             "outlinewidth": 0,
             "ticks": ""
            },
            "colorscale": [
             [
              0,
              "#0d0887"
             ],
             [
              0.1111111111111111,
              "#46039f"
             ],
             [
              0.2222222222222222,
              "#7201a8"
             ],
             [
              0.3333333333333333,
              "#9c179e"
             ],
             [
              0.4444444444444444,
              "#bd3786"
             ],
             [
              0.5555555555555556,
              "#d8576b"
             ],
             [
              0.6666666666666666,
              "#ed7953"
             ],
             [
              0.7777777777777778,
              "#fb9f3a"
             ],
             [
              0.8888888888888888,
              "#fdca26"
             ],
             [
              1,
              "#f0f921"
             ]
            ],
            "type": "heatmap"
           }
          ],
          "heatmapgl": [
           {
            "colorbar": {
             "outlinewidth": 0,
             "ticks": ""
            },
            "colorscale": [
             [
              0,
              "#0d0887"
             ],
             [
              0.1111111111111111,
              "#46039f"
             ],
             [
              0.2222222222222222,
              "#7201a8"
             ],
             [
              0.3333333333333333,
              "#9c179e"
             ],
             [
              0.4444444444444444,
              "#bd3786"
             ],
             [
              0.5555555555555556,
              "#d8576b"
             ],
             [
              0.6666666666666666,
              "#ed7953"
             ],
             [
              0.7777777777777778,
              "#fb9f3a"
             ],
             [
              0.8888888888888888,
              "#fdca26"
             ],
             [
              1,
              "#f0f921"
             ]
            ],
            "type": "heatmapgl"
           }
          ],
          "histogram": [
           {
            "marker": {
             "colorbar": {
              "outlinewidth": 0,
              "ticks": ""
             }
            },
            "type": "histogram"
           }
          ],
          "histogram2d": [
           {
            "colorbar": {
             "outlinewidth": 0,
             "ticks": ""
            },
            "colorscale": [
             [
              0,
              "#0d0887"
             ],
             [
              0.1111111111111111,
              "#46039f"
             ],
             [
              0.2222222222222222,
              "#7201a8"
             ],
             [
              0.3333333333333333,
              "#9c179e"
             ],
             [
              0.4444444444444444,
              "#bd3786"
             ],
             [
              0.5555555555555556,
              "#d8576b"
             ],
             [
              0.6666666666666666,
              "#ed7953"
             ],
             [
              0.7777777777777778,
              "#fb9f3a"
             ],
             [
              0.8888888888888888,
              "#fdca26"
             ],
             [
              1,
              "#f0f921"
             ]
            ],
            "type": "histogram2d"
           }
          ],
          "histogram2dcontour": [
           {
            "colorbar": {
             "outlinewidth": 0,
             "ticks": ""
            },
            "colorscale": [
             [
              0,
              "#0d0887"
             ],
             [
              0.1111111111111111,
              "#46039f"
             ],
             [
              0.2222222222222222,
              "#7201a8"
             ],
             [
              0.3333333333333333,
              "#9c179e"
             ],
             [
              0.4444444444444444,
              "#bd3786"
             ],
             [
              0.5555555555555556,
              "#d8576b"
             ],
             [
              0.6666666666666666,
              "#ed7953"
             ],
             [
              0.7777777777777778,
              "#fb9f3a"
             ],
             [
              0.8888888888888888,
              "#fdca26"
             ],
             [
              1,
              "#f0f921"
             ]
            ],
            "type": "histogram2dcontour"
           }
          ],
          "mesh3d": [
           {
            "colorbar": {
             "outlinewidth": 0,
             "ticks": ""
            },
            "type": "mesh3d"
           }
          ],
          "parcoords": [
           {
            "line": {
             "colorbar": {
              "outlinewidth": 0,
              "ticks": ""
             }
            },
            "type": "parcoords"
           }
          ],
          "pie": [
           {
            "automargin": true,
            "type": "pie"
           }
          ],
          "scatter": [
           {
            "marker": {
             "colorbar": {
              "outlinewidth": 0,
              "ticks": ""
             }
            },
            "type": "scatter"
           }
          ],
          "scatter3d": [
           {
            "line": {
             "colorbar": {
              "outlinewidth": 0,
              "ticks": ""
             }
            },
            "marker": {
             "colorbar": {
              "outlinewidth": 0,
              "ticks": ""
             }
            },
            "type": "scatter3d"
           }
          ],
          "scattercarpet": [
           {
            "marker": {
             "colorbar": {
              "outlinewidth": 0,
              "ticks": ""
             }
            },
            "type": "scattercarpet"
           }
          ],
          "scattergeo": [
           {
            "marker": {
             "colorbar": {
              "outlinewidth": 0,
              "ticks": ""
             }
            },
            "type": "scattergeo"
           }
          ],
          "scattergl": [
           {
            "marker": {
             "colorbar": {
              "outlinewidth": 0,
              "ticks": ""
             }
            },
            "type": "scattergl"
           }
          ],
          "scattermapbox": [
           {
            "marker": {
             "colorbar": {
              "outlinewidth": 0,
              "ticks": ""
             }
            },
            "type": "scattermapbox"
           }
          ],
          "scatterpolar": [
           {
            "marker": {
             "colorbar": {
              "outlinewidth": 0,
              "ticks": ""
             }
            },
            "type": "scatterpolar"
           }
          ],
          "scatterpolargl": [
           {
            "marker": {
             "colorbar": {
              "outlinewidth": 0,
              "ticks": ""
             }
            },
            "type": "scatterpolargl"
           }
          ],
          "scatterternary": [
           {
            "marker": {
             "colorbar": {
              "outlinewidth": 0,
              "ticks": ""
             }
            },
            "type": "scatterternary"
           }
          ],
          "surface": [
           {
            "colorbar": {
             "outlinewidth": 0,
             "ticks": ""
            },
            "colorscale": [
             [
              0,
              "#0d0887"
             ],
             [
              0.1111111111111111,
              "#46039f"
             ],
             [
              0.2222222222222222,
              "#7201a8"
             ],
             [
              0.3333333333333333,
              "#9c179e"
             ],
             [
              0.4444444444444444,
              "#bd3786"
             ],
             [
              0.5555555555555556,
              "#d8576b"
             ],
             [
              0.6666666666666666,
              "#ed7953"
             ],
             [
              0.7777777777777778,
              "#fb9f3a"
             ],
             [
              0.8888888888888888,
              "#fdca26"
             ],
             [
              1,
              "#f0f921"
             ]
            ],
            "type": "surface"
           }
          ],
          "table": [
           {
            "cells": {
             "fill": {
              "color": "#EBF0F8"
             },
             "line": {
              "color": "white"
             }
            },
            "header": {
             "fill": {
              "color": "#C8D4E3"
             },
             "line": {
              "color": "white"
             }
            },
            "type": "table"
           }
          ]
         },
         "layout": {
          "annotationdefaults": {
           "arrowcolor": "#2a3f5f",
           "arrowhead": 0,
           "arrowwidth": 1
          },
          "coloraxis": {
           "colorbar": {
            "outlinewidth": 0,
            "ticks": ""
           }
          },
          "colorscale": {
           "diverging": [
            [
             0,
             "#8e0152"
            ],
            [
             0.1,
             "#c51b7d"
            ],
            [
             0.2,
             "#de77ae"
            ],
            [
             0.3,
             "#f1b6da"
            ],
            [
             0.4,
             "#fde0ef"
            ],
            [
             0.5,
             "#f7f7f7"
            ],
            [
             0.6,
             "#e6f5d0"
            ],
            [
             0.7,
             "#b8e186"
            ],
            [
             0.8,
             "#7fbc41"
            ],
            [
             0.9,
             "#4d9221"
            ],
            [
             1,
             "#276419"
            ]
           ],
           "sequential": [
            [
             0,
             "#0d0887"
            ],
            [
             0.1111111111111111,
             "#46039f"
            ],
            [
             0.2222222222222222,
             "#7201a8"
            ],
            [
             0.3333333333333333,
             "#9c179e"
            ],
            [
             0.4444444444444444,
             "#bd3786"
            ],
            [
             0.5555555555555556,
             "#d8576b"
            ],
            [
             0.6666666666666666,
             "#ed7953"
            ],
            [
             0.7777777777777778,
             "#fb9f3a"
            ],
            [
             0.8888888888888888,
             "#fdca26"
            ],
            [
             1,
             "#f0f921"
            ]
           ],
           "sequentialminus": [
            [
             0,
             "#0d0887"
            ],
            [
             0.1111111111111111,
             "#46039f"
            ],
            [
             0.2222222222222222,
             "#7201a8"
            ],
            [
             0.3333333333333333,
             "#9c179e"
            ],
            [
             0.4444444444444444,
             "#bd3786"
            ],
            [
             0.5555555555555556,
             "#d8576b"
            ],
            [
             0.6666666666666666,
             "#ed7953"
            ],
            [
             0.7777777777777778,
             "#fb9f3a"
            ],
            [
             0.8888888888888888,
             "#fdca26"
            ],
            [
             1,
             "#f0f921"
            ]
           ]
          },
          "colorway": [
           "#636efa",
           "#EF553B",
           "#00cc96",
           "#ab63fa",
           "#FFA15A",
           "#19d3f3",
           "#FF6692",
           "#B6E880",
           "#FF97FF",
           "#FECB52"
          ],
          "font": {
           "color": "#2a3f5f"
          },
          "geo": {
           "bgcolor": "white",
           "lakecolor": "white",
           "landcolor": "#E5ECF6",
           "showlakes": true,
           "showland": true,
           "subunitcolor": "white"
          },
          "hoverlabel": {
           "align": "left"
          },
          "hovermode": "closest",
          "mapbox": {
           "style": "light"
          },
          "paper_bgcolor": "white",
          "plot_bgcolor": "#E5ECF6",
          "polar": {
           "angularaxis": {
            "gridcolor": "white",
            "linecolor": "white",
            "ticks": ""
           },
           "bgcolor": "#E5ECF6",
           "radialaxis": {
            "gridcolor": "white",
            "linecolor": "white",
            "ticks": ""
           }
          },
          "scene": {
           "xaxis": {
            "backgroundcolor": "#E5ECF6",
            "gridcolor": "white",
            "gridwidth": 2,
            "linecolor": "white",
            "showbackground": true,
            "ticks": "",
            "zerolinecolor": "white"
           },
           "yaxis": {
            "backgroundcolor": "#E5ECF6",
            "gridcolor": "white",
            "gridwidth": 2,
            "linecolor": "white",
            "showbackground": true,
            "ticks": "",
            "zerolinecolor": "white"
           },
           "zaxis": {
            "backgroundcolor": "#E5ECF6",
            "gridcolor": "white",
            "gridwidth": 2,
            "linecolor": "white",
            "showbackground": true,
            "ticks": "",
            "zerolinecolor": "white"
           }
          },
          "shapedefaults": {
           "line": {
            "color": "#2a3f5f"
           }
          },
          "ternary": {
           "aaxis": {
            "gridcolor": "white",
            "linecolor": "white",
            "ticks": ""
           },
           "baxis": {
            "gridcolor": "white",
            "linecolor": "white",
            "ticks": ""
           },
           "bgcolor": "#E5ECF6",
           "caxis": {
            "gridcolor": "white",
            "linecolor": "white",
            "ticks": ""
           }
          },
          "title": {
           "x": 0.05
          },
          "xaxis": {
           "automargin": true,
           "gridcolor": "white",
           "linecolor": "white",
           "ticks": "",
           "title": {
            "standoff": 15
           },
           "zerolinecolor": "white",
           "zerolinewidth": 2
          },
          "yaxis": {
           "automargin": true,
           "gridcolor": "white",
           "linecolor": "white",
           "ticks": "",
           "title": {
            "standoff": 15
           },
           "zerolinecolor": "white",
           "zerolinewidth": 2
          }
         }
        },
        "xaxis": {
         "tickangle": -90,
         "title": {
          "text": "User_ID"
         }
        },
        "yaxis": {
         "tickmode": "array",
         "ticktext": [
          "Раннее утро",
          "Утро",
          "Полдень",
          "Вечер",
          "Ночь",
          "Поздняя ночь"
         ],
         "tickvals": [
          1,
          2,
          3,
          4,
          5
         ],
         "title": {
          "text": "Время суток"
         }
        }
       }
      },
      "text/html": [
       "<div>\n",
       "        \n",
       "        \n",
       "            <div id=\"4d794a3a-da22-4cf5-84d9-8f242ae610c3\" class=\"plotly-graph-div\" style=\"height:525px; width:100%;\"></div>\n",
       "            <script type=\"text/javascript\">\n",
       "                require([\"plotly\"], function(Plotly) {\n",
       "                    window.PLOTLYENV=window.PLOTLYENV || {};\n",
       "                    \n",
       "                if (document.getElementById(\"4d794a3a-da22-4cf5-84d9-8f242ae610c3\")) {\n",
       "                    Plotly.newPlot(\n",
       "                        '4d794a3a-da22-4cf5-84d9-8f242ae610c3',\n",
       "                        [{\"type\": \"bar\", \"x\": [\"user515\", \"user2902\", \"user6\", \"user13\", \"user15\", \"user16\", \"user533\", \"user28\", \"user1054\", \"user31\", \"user33\", \"user1371\", \"user39\", \"user46\", \"user49\", \"user50\", \"user563\", \"user564\", \"user53\", \"user568\", \"user569\", \"user570\", \"user573\", \"user575\", \"user576\", \"user65\", \"user66\", \"user580\", \"user2118\", \"user583\", \"user584\", \"user82\", \"user85\", \"user600\", \"user89\", \"user603\", \"user92\", \"user605\", \"user1040\", \"user100\", \"user102\", \"user103\", \"user105\", \"user106\", \"user118\", \"user119\", \"user120\", \"user126\", \"user127\", \"user128\", \"user875\", \"user647\", \"user138\", \"user653\", \"user2191\", \"user664\", \"user665\", \"user158\", \"user160\", \"user165\", \"user172\", \"user177\", \"user692\", \"user1993\", \"user697\", \"user705\", \"user785\", \"user2250\", \"user203\", \"user207\", \"user722\", \"user1797\", \"user223\", \"user1248\", \"user740\", \"user741\", \"user233\", \"user235\", \"user236\", \"user237\", \"user238\", \"user240\", \"user241\", \"user242\", \"user1267\", \"user756\", \"user245\", \"user246\", \"user249\", \"user252\", \"user254\", \"user256\", \"user640\", \"user258\", \"user259\", \"user260\", \"user261\", \"user1798\", \"user263\", \"user264\", \"user780\", \"user269\", \"user270\", \"user784\", \"user273\", \"user1299\", \"user797\", \"user287\", \"user294\", \"user561\", \"user298\", \"user812\", \"user301\", \"user2355\", \"user308\", \"user315\", \"user318\", \"user2174\", \"user327\", \"user332\", \"user333\", \"user339\", \"user340\", \"user342\", \"user344\", \"user859\", \"user351\", \"user356\", \"user2408\", \"user361\", \"user363\", \"user2625\", \"user411\", \"user417\", \"user932\", \"user425\", \"user430\", \"user435\", \"user436\", \"user440\", \"user444\", \"user2493\", \"user844\", \"user868\", \"user475\", \"user476\", \"user677\", \"user996\", \"user486\", \"user1014\"], \"y\": [2, 2, 3, 3, 2, 2, 3, 3, 2, 3, 2, 2, 2, 3, 2, 3, 3, 3, 3, 2, 2, 2, 2, 2, 2, 3, 3, 2, 2, 3, 2, 3, 3, 3, 3, 2, 2, 3, 2, 3, 2, 3, 2, 3, 3, 3, 3, 3, 3, 4, 2, 3, 3, 4, 3, 3, 2, 2, 3, 3, 2, 3, 2, 2, 2, 2, 2, 3, 3, 3, 3, 2, 3, 3, 2, 3, 3, 3, 2, 3, 3, 2, 3, 3, 3, 3, 2, 2, 2, 3, 4, 2, 3, 2, 3, 2, 3, 2, 3, 3, 3, 2, 2, 3, 2, 2, 3, 2, 3, 2, 3, 2, 3, 3, 3, 3, 3, 3, 3, 3, 3, 3, 3, 2, 2, 2, 3, 2, 3, 3, 2, 2, 3, 3, 2, 3, 2, 3, 3, 2, 3, 2, 3, 3, 3, 3, 3, 2, 3, 3]}],\n",
       "                        {\"template\": {\"data\": {\"bar\": [{\"error_x\": {\"color\": \"#2a3f5f\"}, \"error_y\": {\"color\": \"#2a3f5f\"}, \"marker\": {\"line\": {\"color\": \"#E5ECF6\", \"width\": 0.5}}, \"type\": \"bar\"}], \"barpolar\": [{\"marker\": {\"line\": {\"color\": \"#E5ECF6\", \"width\": 0.5}}, \"type\": \"barpolar\"}], \"carpet\": [{\"aaxis\": {\"endlinecolor\": \"#2a3f5f\", \"gridcolor\": \"white\", \"linecolor\": \"white\", \"minorgridcolor\": \"white\", \"startlinecolor\": \"#2a3f5f\"}, \"baxis\": {\"endlinecolor\": \"#2a3f5f\", \"gridcolor\": \"white\", \"linecolor\": \"white\", \"minorgridcolor\": \"white\", \"startlinecolor\": \"#2a3f5f\"}, \"type\": \"carpet\"}], \"choropleth\": [{\"colorbar\": {\"outlinewidth\": 0, \"ticks\": \"\"}, \"type\": \"choropleth\"}], \"contour\": [{\"colorbar\": {\"outlinewidth\": 0, \"ticks\": \"\"}, \"colorscale\": [[0.0, \"#0d0887\"], [0.1111111111111111, \"#46039f\"], [0.2222222222222222, \"#7201a8\"], [0.3333333333333333, \"#9c179e\"], [0.4444444444444444, \"#bd3786\"], [0.5555555555555556, \"#d8576b\"], [0.6666666666666666, \"#ed7953\"], [0.7777777777777778, \"#fb9f3a\"], [0.8888888888888888, \"#fdca26\"], [1.0, \"#f0f921\"]], \"type\": \"contour\"}], \"contourcarpet\": [{\"colorbar\": {\"outlinewidth\": 0, \"ticks\": \"\"}, \"type\": \"contourcarpet\"}], \"heatmap\": [{\"colorbar\": {\"outlinewidth\": 0, \"ticks\": \"\"}, \"colorscale\": [[0.0, \"#0d0887\"], [0.1111111111111111, \"#46039f\"], [0.2222222222222222, \"#7201a8\"], [0.3333333333333333, \"#9c179e\"], [0.4444444444444444, \"#bd3786\"], [0.5555555555555556, \"#d8576b\"], [0.6666666666666666, \"#ed7953\"], [0.7777777777777778, \"#fb9f3a\"], [0.8888888888888888, \"#fdca26\"], [1.0, \"#f0f921\"]], \"type\": \"heatmap\"}], \"heatmapgl\": [{\"colorbar\": {\"outlinewidth\": 0, \"ticks\": \"\"}, \"colorscale\": [[0.0, \"#0d0887\"], [0.1111111111111111, \"#46039f\"], [0.2222222222222222, \"#7201a8\"], [0.3333333333333333, \"#9c179e\"], [0.4444444444444444, \"#bd3786\"], [0.5555555555555556, \"#d8576b\"], [0.6666666666666666, \"#ed7953\"], [0.7777777777777778, \"#fb9f3a\"], [0.8888888888888888, \"#fdca26\"], [1.0, \"#f0f921\"]], \"type\": \"heatmapgl\"}], \"histogram\": [{\"marker\": {\"colorbar\": {\"outlinewidth\": 0, \"ticks\": \"\"}}, \"type\": \"histogram\"}], \"histogram2d\": [{\"colorbar\": {\"outlinewidth\": 0, \"ticks\": \"\"}, \"colorscale\": [[0.0, \"#0d0887\"], [0.1111111111111111, \"#46039f\"], [0.2222222222222222, \"#7201a8\"], [0.3333333333333333, \"#9c179e\"], [0.4444444444444444, \"#bd3786\"], [0.5555555555555556, \"#d8576b\"], [0.6666666666666666, \"#ed7953\"], [0.7777777777777778, \"#fb9f3a\"], [0.8888888888888888, \"#fdca26\"], [1.0, \"#f0f921\"]], \"type\": \"histogram2d\"}], \"histogram2dcontour\": [{\"colorbar\": {\"outlinewidth\": 0, \"ticks\": \"\"}, \"colorscale\": [[0.0, \"#0d0887\"], [0.1111111111111111, \"#46039f\"], [0.2222222222222222, \"#7201a8\"], [0.3333333333333333, \"#9c179e\"], [0.4444444444444444, \"#bd3786\"], [0.5555555555555556, \"#d8576b\"], [0.6666666666666666, \"#ed7953\"], [0.7777777777777778, \"#fb9f3a\"], [0.8888888888888888, \"#fdca26\"], [1.0, \"#f0f921\"]], \"type\": \"histogram2dcontour\"}], \"mesh3d\": [{\"colorbar\": {\"outlinewidth\": 0, \"ticks\": \"\"}, \"type\": \"mesh3d\"}], \"parcoords\": [{\"line\": {\"colorbar\": {\"outlinewidth\": 0, \"ticks\": \"\"}}, \"type\": \"parcoords\"}], \"pie\": [{\"automargin\": true, \"type\": \"pie\"}], \"scatter\": [{\"marker\": {\"colorbar\": {\"outlinewidth\": 0, \"ticks\": \"\"}}, \"type\": \"scatter\"}], \"scatter3d\": [{\"line\": {\"colorbar\": {\"outlinewidth\": 0, \"ticks\": \"\"}}, \"marker\": {\"colorbar\": {\"outlinewidth\": 0, \"ticks\": \"\"}}, \"type\": \"scatter3d\"}], \"scattercarpet\": [{\"marker\": {\"colorbar\": {\"outlinewidth\": 0, \"ticks\": \"\"}}, \"type\": \"scattercarpet\"}], \"scattergeo\": [{\"marker\": {\"colorbar\": {\"outlinewidth\": 0, \"ticks\": \"\"}}, \"type\": \"scattergeo\"}], \"scattergl\": [{\"marker\": {\"colorbar\": {\"outlinewidth\": 0, \"ticks\": \"\"}}, \"type\": \"scattergl\"}], \"scattermapbox\": [{\"marker\": {\"colorbar\": {\"outlinewidth\": 0, \"ticks\": \"\"}}, \"type\": \"scattermapbox\"}], \"scatterpolar\": [{\"marker\": {\"colorbar\": {\"outlinewidth\": 0, \"ticks\": \"\"}}, \"type\": \"scatterpolar\"}], \"scatterpolargl\": [{\"marker\": {\"colorbar\": {\"outlinewidth\": 0, \"ticks\": \"\"}}, \"type\": \"scatterpolargl\"}], \"scatterternary\": [{\"marker\": {\"colorbar\": {\"outlinewidth\": 0, \"ticks\": \"\"}}, \"type\": \"scatterternary\"}], \"surface\": [{\"colorbar\": {\"outlinewidth\": 0, \"ticks\": \"\"}, \"colorscale\": [[0.0, \"#0d0887\"], [0.1111111111111111, \"#46039f\"], [0.2222222222222222, \"#7201a8\"], [0.3333333333333333, \"#9c179e\"], [0.4444444444444444, \"#bd3786\"], [0.5555555555555556, \"#d8576b\"], [0.6666666666666666, \"#ed7953\"], [0.7777777777777778, \"#fb9f3a\"], [0.8888888888888888, \"#fdca26\"], [1.0, \"#f0f921\"]], \"type\": \"surface\"}], \"table\": [{\"cells\": {\"fill\": {\"color\": \"#EBF0F8\"}, \"line\": {\"color\": \"white\"}}, \"header\": {\"fill\": {\"color\": \"#C8D4E3\"}, \"line\": {\"color\": \"white\"}}, \"type\": \"table\"}]}, \"layout\": {\"annotationdefaults\": {\"arrowcolor\": \"#2a3f5f\", \"arrowhead\": 0, \"arrowwidth\": 1}, \"coloraxis\": {\"colorbar\": {\"outlinewidth\": 0, \"ticks\": \"\"}}, \"colorscale\": {\"diverging\": [[0, \"#8e0152\"], [0.1, \"#c51b7d\"], [0.2, \"#de77ae\"], [0.3, \"#f1b6da\"], [0.4, \"#fde0ef\"], [0.5, \"#f7f7f7\"], [0.6, \"#e6f5d0\"], [0.7, \"#b8e186\"], [0.8, \"#7fbc41\"], [0.9, \"#4d9221\"], [1, \"#276419\"]], \"sequential\": [[0.0, \"#0d0887\"], [0.1111111111111111, \"#46039f\"], [0.2222222222222222, \"#7201a8\"], [0.3333333333333333, \"#9c179e\"], [0.4444444444444444, \"#bd3786\"], [0.5555555555555556, \"#d8576b\"], [0.6666666666666666, \"#ed7953\"], [0.7777777777777778, \"#fb9f3a\"], [0.8888888888888888, \"#fdca26\"], [1.0, \"#f0f921\"]], \"sequentialminus\": [[0.0, \"#0d0887\"], [0.1111111111111111, \"#46039f\"], [0.2222222222222222, \"#7201a8\"], [0.3333333333333333, \"#9c179e\"], [0.4444444444444444, \"#bd3786\"], [0.5555555555555556, \"#d8576b\"], [0.6666666666666666, \"#ed7953\"], [0.7777777777777778, \"#fb9f3a\"], [0.8888888888888888, \"#fdca26\"], [1.0, \"#f0f921\"]]}, \"colorway\": [\"#636efa\", \"#EF553B\", \"#00cc96\", \"#ab63fa\", \"#FFA15A\", \"#19d3f3\", \"#FF6692\", \"#B6E880\", \"#FF97FF\", \"#FECB52\"], \"font\": {\"color\": \"#2a3f5f\"}, \"geo\": {\"bgcolor\": \"white\", \"lakecolor\": \"white\", \"landcolor\": \"#E5ECF6\", \"showlakes\": true, \"showland\": true, \"subunitcolor\": \"white\"}, \"hoverlabel\": {\"align\": \"left\"}, \"hovermode\": \"closest\", \"mapbox\": {\"style\": \"light\"}, \"paper_bgcolor\": \"white\", \"plot_bgcolor\": \"#E5ECF6\", \"polar\": {\"angularaxis\": {\"gridcolor\": \"white\", \"linecolor\": \"white\", \"ticks\": \"\"}, \"bgcolor\": \"#E5ECF6\", \"radialaxis\": {\"gridcolor\": \"white\", \"linecolor\": \"white\", \"ticks\": \"\"}}, \"scene\": {\"xaxis\": {\"backgroundcolor\": \"#E5ECF6\", \"gridcolor\": \"white\", \"gridwidth\": 2, \"linecolor\": \"white\", \"showbackground\": true, \"ticks\": \"\", \"zerolinecolor\": \"white\"}, \"yaxis\": {\"backgroundcolor\": \"#E5ECF6\", \"gridcolor\": \"white\", \"gridwidth\": 2, \"linecolor\": \"white\", \"showbackground\": true, \"ticks\": \"\", \"zerolinecolor\": \"white\"}, \"zaxis\": {\"backgroundcolor\": \"#E5ECF6\", \"gridcolor\": \"white\", \"gridwidth\": 2, \"linecolor\": \"white\", \"showbackground\": true, \"ticks\": \"\", \"zerolinecolor\": \"white\"}}, \"shapedefaults\": {\"line\": {\"color\": \"#2a3f5f\"}}, \"ternary\": {\"aaxis\": {\"gridcolor\": \"white\", \"linecolor\": \"white\", \"ticks\": \"\"}, \"baxis\": {\"gridcolor\": \"white\", \"linecolor\": \"white\", \"ticks\": \"\"}, \"bgcolor\": \"#E5ECF6\", \"caxis\": {\"gridcolor\": \"white\", \"linecolor\": \"white\", \"ticks\": \"\"}}, \"title\": {\"x\": 0.05}, \"xaxis\": {\"automargin\": true, \"gridcolor\": \"white\", \"linecolor\": \"white\", \"ticks\": \"\", \"title\": {\"standoff\": 15}, \"zerolinecolor\": \"white\", \"zerolinewidth\": 2}, \"yaxis\": {\"automargin\": true, \"gridcolor\": \"white\", \"linecolor\": \"white\", \"ticks\": \"\", \"title\": {\"standoff\": 15}, \"zerolinecolor\": \"white\", \"zerolinewidth\": 2}}}, \"xaxis\": {\"tickangle\": -90, \"title\": {\"text\": \"User_ID\"}}, \"yaxis\": {\"tickmode\": \"array\", \"ticktext\": [\"\\u0420\\u0430\\u043d\\u043d\\u0435\\u0435 \\u0443\\u0442\\u0440\\u043e\", \"\\u0423\\u0442\\u0440\\u043e\", \"\\u041f\\u043e\\u043b\\u0434\\u0435\\u043d\\u044c\", \"\\u0412\\u0435\\u0447\\u0435\\u0440\", \"\\u041d\\u043e\\u0447\\u044c\", \"\\u041f\\u043e\\u0437\\u0434\\u043d\\u044f\\u044f \\u043d\\u043e\\u0447\\u044c\"], \"tickvals\": [1, 2, 3, 4, 5], \"title\": {\"text\": \"\\u0412\\u0440\\u0435\\u043c\\u044f \\u0441\\u0443\\u0442\\u043e\\u043a\"}}},\n",
       "                        {\"responsive\": true}\n",
       "                    ).then(function(){\n",
       "                            \n",
       "var gd = document.getElementById('4d794a3a-da22-4cf5-84d9-8f242ae610c3');\n",
       "var x = new MutationObserver(function (mutations, observer) {{\n",
       "        var display = window.getComputedStyle(gd).display;\n",
       "        if (!display || display === 'none') {{\n",
       "            console.log([gd, 'removed!']);\n",
       "            Plotly.purge(gd);\n",
       "            observer.disconnect();\n",
       "        }}\n",
       "}});\n",
       "\n",
       "// Listen for the removal of the full notebook cells\n",
       "var notebookContainer = gd.closest('#notebook-container');\n",
       "if (notebookContainer) {{\n",
       "    x.observe(notebookContainer, {childList: true});\n",
       "}}\n",
       "\n",
       "// Listen for the clearing of the current output cell\n",
       "var outputEl = gd.closest('.output');\n",
       "if (outputEl) {{\n",
       "    x.observe(outputEl, {childList: true});\n",
       "}}\n",
       "\n",
       "                        })\n",
       "                };\n",
       "                });\n",
       "            </script>\n",
       "        </div>"
      ]
     },
     "metadata": {},
     "output_type": "display_data"
    }
   ],
   "source": [
    "d = {}\n",
    "for user_x in new_train_data_150users['user_id'].unique():\n",
    "    d[user_x] =int(np.median(new_train_data_150users[new_train_data_150users['user_id'] == user_x]['Part_of_Day']))\n",
    "    \n",
    "part_of_day = [u'Раннее утро', u'Утро', u'Полдень', u'Вечер', u'Ночь', u'Поздняя ночь']\n",
    "\n",
    "data_viz =  go.Bar(\n",
    "    x = map(lambda x: 'user'+x, map(str,d.keys())),\n",
    "    y = d.values()\n",
    ")\n",
    "\n",
    "fig = go.Figure(data = [data_viz])\n",
    "fig.update_xaxes(tickangle=-90)\n",
    "fig.update_layout(xaxis_title='User_ID', yaxis_title=u'Время суток', \n",
    "                  yaxis=dict(\n",
    "                      tickmode = 'array',\n",
    "                      tickvals = range(1,6),\n",
    "                      ticktext=part_of_day)\n",
    "                 )\n",
    "iplot(fig)"
   ]
  },
  {
   "cell_type": "markdown",
   "metadata": {},
   "source": [
    "Исследуем гистограммы распределений количества сессий относительно новых оставшихся признаков на выборке из 10 пользователей: \n",
    "- `aver_time_top_site` от 1 до 30 - среднее время пребывания на сайте для топ-30 популярных сайтов\n",
    "- `freq_top_site` от 1 до 30 - частота посещения для топ-30 популярных сайтов\n",
    "- `count_facebook` - количество посещения сайта facebook\n",
    "- `count_youtube` - количество посещения сайта youtube\n",
    "- `count_twitter` - количество посещения сайта twitter\n",
    "- `count_google` - количество посещения сайта google\n",
    "для каждого пользователя в отдельности (как ранее выше)"
   ]
  },
  {
   "cell_type": "code",
   "execution_count": 51,
   "metadata": {},
   "outputs": [],
   "source": [
    "id_name_dict = {128: 'Mary-Kate', 39: 'Ashley', 207: 'Lindsey', 127: 'Naomi', 237: 'Avril',\n",
    "               33: 'Bob', 50: 'Bill', 31: 'John', 100: 'Dick', 241: 'Ed'}\n",
    "new_train_data_10users['user_id'] = new_train_data_10users['user_id'].map(id_name_dict)"
   ]
  },
  {
   "cell_type": "code",
   "execution_count": 52,
   "metadata": {},
   "outputs": [],
   "source": [
    "color_dic = {'Mary-Kate': 'pink', 'Ashley': 'darkviolet', 'Lindsey':'blueviolet', \n",
    "             'Naomi': 'hotpink', 'Avril': 'orchid', \n",
    "             'Bob': 'firebrick', 'Bill': 'gold', 'John': 'forestgreen', \n",
    "             'Dick': 'slategrey', 'Ed':'brown'}"
   ]
  },
  {
   "cell_type": "markdown",
   "metadata": {},
   "source": [
    "Выведим гистрограмму распределения медианы среднего значения времени пребывания на сайте для топ-30 по популярности сайтов по 10 пользователям"
   ]
  },
  {
   "cell_type": "code",
   "execution_count": 53,
   "metadata": {},
   "outputs": [
    {
     "data": {
      "image/png": "[encoded data removed]",
      "text/plain": [
       "<Figure size 1152x720 with 12 Axes>"
      ]
     },
     "metadata": {
      "needs_background": "light"
     },
     "output_type": "display_data"
    }
   ],
   "source": [
    "fig, axes = plt.subplots(nrows=3, ncols=4, figsize=(16, 10))\n",
    "d = {}\n",
    "\n",
    "for idx, (user, sub_df) in  enumerate(pd.DataFrame.groupby(new_train_data_10users, 'user_id')): \n",
    "    y = {}\n",
    "    for  i in range(1,31):\n",
    "        y[i] =float(np.nan_to_num(np.nanmedian(sub_df['aver_time_top_site_'+str(i)])))\n",
    "        \n",
    "    d[user] = y\n",
    "    \n",
    "    axes[idx // 4][idx % 4].bar(map(str,d[user].keys()), d[user].values(), \n",
    "                                color = color_dic[user], label = user)\n",
    "    axes[idx // 4][idx % 4].legend()\n",
    "    axes[idx // 4][idx % 4].set_xlabel(u'Номер топ-30 сайта')\n",
    "    axes[idx // 4][idx % 4].set_ylabel(u'Длительность посещения, сек', fontsize=8)\n",
    "    axes[idx // 4][idx % 4].set_xticklabels([i for i in range(1,31)], rotation=90, fontsize=8)"
   ]
  },
  {
   "cell_type": "markdown",
   "metadata": {},
   "source": [
    "Выведим гистрограмму распределения среднего значения частоты посещения сайта из топ-30 за сессию для 10 пользователей"
   ]
  },
  {
   "cell_type": "code",
   "execution_count": 54,
   "metadata": {
    "scrolled": false
   },
   "outputs": [
    {
     "data": {
      "image/png": "[encoded data removed]",
      "text/plain": [
       "<Figure size 1296x720 with 12 Axes>"
      ]
     },
     "metadata": {
      "needs_background": "light"
     },
     "output_type": "display_data"
    }
   ],
   "source": [
    "fig, axes = plt.subplots(nrows=3, ncols=4, figsize=(18, 10))\n",
    "d = {}\n",
    "\n",
    "for idx, (user, sub_df) in  enumerate(pd.DataFrame.groupby(new_train_data_10users, 'user_id')): \n",
    "    y = {}\n",
    "    for  i in range(1,31):\n",
    "        y[i] =float(np.average(sub_df['freq_top_site_'+str(i)]))\n",
    "        \n",
    "    d[user] = y\n",
    "    \n",
    "    axes[idx // 4][idx % 4].bar(map(str,d[user].keys()), d[user].values(), \n",
    "                                color = color_dic[user], label = user)\n",
    "    axes[idx // 4][idx % 4].legend()\n",
    "    axes[idx // 4][idx % 4].set_xlabel(u'Номер топ-30 сайта')\n",
    "    axes[idx // 4][idx % 4].set_ylabel(u'Частота посещения', fontsize=8)\n",
    "    axes[idx // 4][idx % 4].set_xticklabels([i for i in range(1,31)], rotation=90, fontsize=8)"
   ]
  },
  {
   "cell_type": "markdown",
   "metadata": {},
   "source": [
    "Выведим гистрограмму распределения частоты посещения сайтов 'facebook', 'youtube', 'twitter', 'google' для 10 пользователей"
   ]
  },
  {
   "cell_type": "code",
   "execution_count": 55,
   "metadata": {},
   "outputs": [
    {
     "data": {
      "image/png": "[encoded data removed]",
      "text/plain": [
       "<Figure size 1296x720 with 12 Axes>"
      ]
     },
     "metadata": {
      "needs_background": "light"
     },
     "output_type": "display_data"
    }
   ],
   "source": [
    "fig, axes = plt.subplots(nrows=3, ncols=4, figsize=(18, 10))\n",
    "d_site = ['facebook', 'youtube', 'twitter', 'google']\n",
    "for idx, (user, sub_df) in  enumerate(pd.DataFrame.groupby(new_train_data_10users, 'user_id')): \n",
    "    y = {}\n",
    "    for  i in d_site:\n",
    "        y[i] =sub_df['count_'+i]\n",
    "        y[i] = sum(sub_df['count_'+i])/(len(y[i])*10)\n",
    "    \n",
    "    axes[idx // 4][idx % 4].bar(y.keys(), y.values(), width=0.5, color = color_dic[user], label = user)\n",
    "    axes[idx // 4][idx % 4].legend()\n",
    "    axes[idx // 4][idx % 4].set_xlabel(u'Сайт')\n",
    "    axes[idx // 4][idx % 4].set_ylabel(u'Частота посещения, д.е.', fontsize=8)"
   ]
  },
  {
   "cell_type": "markdown",
   "metadata": {},
   "source": [
    "**В конце сохраните в pickle-файлы только те признаки, которые, как Вы предполагаете, помогут идентифицировать пользователя более точно. Это касается и признаков, которые мы вместе создали в начале (*session_timespan, #unique_sites, start_hour, day_of_week*), и Ваших собственных. Можно создать все эти признаки не только для сессий из 10 сайтов, но и для других сочетаний параметров *session_length* и *window_size*.**"
   ]
  },
  {
   "cell_type": "markdown",
   "metadata": {},
   "source": [
    "По мнению автора наиболее представительные признаки для идентификации пользователя это:\n",
    "- `session_timespan` – продолжительность сессии (разница между максимальным и минимальным временем посещения сайтов в   сессии, в секундах)\n",
    "- `start_hour` – час начала сессии (то есть час в записи минимального timestamp среди десяти)\n",
    "- `day_of_week` – день недели (то есть день недели в записи минимального timestamp среди десяти) \n",
    "- `aver_time_top_site` от 1 до 30 - среднее время пребывания на сайте для топ-30 популярных сайтов\n",
    "- `freq_top_site` от 1 до 30 - частота посещения для топ-30 популярных сайтов"
   ]
  },
  {
   "cell_type": "code",
   "execution_count": 56,
   "metadata": {},
   "outputs": [],
   "source": [
    "selected_features_10users = train_data_10users[['session_timespan', 'start_hour', 'day_of_week']].join(new_train_data_10users[['aver_time_top_site_' + str(j) for j in range(1,31)] + \\\n",
    "            ['freq_top_site_' + str(j) for j in range(1,31)]])\n",
    "selected_features_150users = train_data_150users[['session_timespan', 'start_hour', 'day_of_week']].join(new_train_data_150users[['aver_time_top_site_' + str(j) for j in range(1,31)] + \\\n",
    "            ['freq_top_site_' + str(j) for j in range(1,31)]])"
   ]
  },
  {
   "cell_type": "code",
   "execution_count": 57,
   "metadata": {},
   "outputs": [],
   "source": [
    "with open(os.path.join(PATH_TO_DATA, \n",
    "                       'selected_features_10users.pkl'), 'wb') as selected_features_10users_pkl:\n",
    "    pickle.dump(selected_features_10users, selected_features_10users_pkl, \n",
    "                protocol=2)\n",
    "with open(os.path.join(PATH_TO_DATA, \n",
    "                       'selected_features_150users.pkl'), 'wb') as selected_features_150users_pkl:\n",
    "    pickle.dump(selected_features_150users, selected_features_150users_pkl, \n",
    "                protocol=2)"
   ]
  },
  {
   "cell_type": "markdown",
   "metadata": {},
   "source": [
    "### Критерии оценки работы (только для Peer Review в специализации):\n",
    "- Верно ли отображена гистограмма session_timespan из п. 1? (max. 3 балла)\n",
    "- Верно ли отображена гистограмма #unique_sites из п. 2? (max. 3 балла)\n",
    "- Верно ли отображены гистограммы #unique_sites по каждому пользователю из п. 3? (max. 6 баллов)\n",
    "- Верно ли отображена гистограмма start_hour из п. 4? (max. 3 балла)\n",
    "- Верно ли отображены гистограммы start_hour по каждому пользователю из п. 5? (max. 6 баллов)\n",
    "- Верно ли отображена гистограмма day_of_week из п. 6? (max. 3 балла)\n",
    "- Верно ли отображены гистограммы day_of_week по каждому пользователю из п. 7? (max. 6 баллов)\n",
    "- Насколько сделанные выводы в п. 8 соответствуют построенным картинкам? (max. 6 баллов)\n",
    "- Верно ли отображен barplot для 10 популярных сайтов из п. 9? (max. 6 баллов)\n",
    "- Правильно ли посчитана медианная продолжительность сессий в п. 10? (max. 3 балла)\n",
    "- Правильно ли посчитан медианный день недели начала сессии в п. 11? (max. 3 балла)\n",
    "- Правильно ли посчитан медианный час начала сессии в п. 12? (max. 3 балла)\n",
    "- Правильно ли посчитано медианное значение числа уникальных сайтов в сессиях 150 пользователей п. 13? (max. 3 балла)\n",
    "- Есть ли оригинальные построенные признаки и картинки к ним? Оцените также и качество картинок. (max. 8 баллов)"
   ]
  },
  {
   "cell_type": "markdown",
   "metadata": {},
   "source": [
    "## Пути улучшения\n",
    "Что еще можно добавить по 3 части проекта:\n",
    "- IPython-widgets, интерактив и анимация (стоящие статьи по этому ремеслу – [раз](https://habrahabr.ru/post/308162/) и  [два](https://habrahabr.ru/company/ods/blog/323210/))\n",
    "- можно попробовать изобразить исходные данные в некотором пространстве, например, Word2Vec, потом выделить главные компоненты или t-SNE  (только пользуйтесь эффективными реализациями типа [Multicore-TSNE](https://github.com/DmitryUlyanov/Multicore-TSNE), не Sklearn) и раскрасить по целевому классу. Но нет гарантий, что получится что-то значимо отличающееся от каши\n",
    "\n",
    "На следующей неделе мы наконец приступим к обучению моделей классификации. "
   ]
  }
 ],
 "metadata": {
  "anaconda-cloud": {},
  "kernelspec": {
   "display_name": "Python 3",
   "language": "python",
   "name": "python3"
  },
  "language_info": {
   "codemirror_mode": {
    "name": "ipython",
    "version": 3
   },
   "file_extension": ".py",
   "mimetype": "text/x-python",
   "name": "python",
   "nbconvert_exporter": "python",
   "pygments_lexer": "ipython3",
   "version": "3.7.6"
  }
 },
 "nbformat": 4,
 "nbformat_minor": 1
}
