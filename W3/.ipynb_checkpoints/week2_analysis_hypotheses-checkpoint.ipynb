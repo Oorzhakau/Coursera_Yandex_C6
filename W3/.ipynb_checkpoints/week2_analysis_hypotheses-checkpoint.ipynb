{
 "cells": [
  {
   "cell_type": "markdown",
   "metadata": {},
   "source": [
    "<center>\n",
    "<img src=\"https://habrastorage.org/web/677/8e1/337/6778e1337c3d4b159d7e99df94227cb2.jpg\"/>\n",
    "## Специализация \"Машинное обучение и анализ данных\"\n",
    "<center>Автор материала: программист-исследователь Mail.Ru Group, старший преподаватель Факультета Компьютерных Наук ВШЭ [Юрий Кашницкий](https://yorko.github.io/)"
   ]
  },
  {
   "cell_type": "markdown",
   "metadata": {},
   "source": [
    "# <center> Capstone проект №1 <br>Идентификация пользователей по посещенным веб-страницам\n",
    "<img src='http://i.istockimg.com/file_thumbview_approve/21546327/5/stock-illustration-21546327-identification-de-l-utilisateur.jpg'>\n",
    "\n",
    "# <center>Неделя 2. Подготовка и первичный анализ данных\n",
    "\n",
    "На второй неделе мы продолжим подготавливать данные для дальнейшего анализа и построения прогнозных моделей. Конкретно, раньше мы определили что сессия – это последовательность из 10 посещенных пользователем сайтов, теперь сделаем длину сессии параметром, и потом при обучении прогнозных моделей выберем лучшую длину сессии.\n",
    "Также мы познакомимся с предобработанными данными и статистически проверим первые гипотезы, связанные с нашими наблюдениями. \n",
    "\n",
    "**План 2 недели:**\n",
    " - Часть 1. Подготовка нескольких обучающих выборок для сравнения\n",
    " - Часть 2. Первичный анализ данных, проверка гипотез\n",
    "\n",
    "**В этой части проекта Вам могут быть полезны  следующие видеозаписи лекций курса \"Построение выводов по данным\":**\n",
    "\n",
    "   - [Доверительные интервалы для доли](https://www.coursera.org/learn/stats-for-data-analysis/lecture/3oi53/dovieritiel-nyie-intiervaly-dlia-doli)\n",
    "   - [Биномиальный критерий для доли](https://www.coursera.org/learn/stats-for-data-analysis/lecture/JwmBw/binomial-nyi-kritierii-dlia-doli)\n",
    "   - [Доверительные интервалы на основе бутстрепа](https://www.coursera.org/learn/stats-for-data-analysis/lecture/GZjW7/dovieritiel-nyie-intiervaly-na-osnovie-butstriepa)\n",
    "   \n",
    "**Кроме того, в задании будут использоваться библиотеки Python [glob](https://docs.python.org/3/library/glob.html), [pickle](https://docs.python.org/2/library/pickle.html), [itertools](https://docs.python.org/3/library/itertools.html) и класс [csr_matrix](https://docs.scipy.org/doc/scipy-0.14.0/reference/generated/scipy.sparse.csr_matrix.html) из scipy.sparse.**"
   ]
  },
  {
   "cell_type": "markdown",
   "metadata": {},
   "source": [
    "### Задание\n",
    "1. Заполните код в этой тетрадке \n",
    "2. Если вы проходите специализацию Яндеса и МФТИ, пошлите файл с ответами в соответствующем Programming Assignment. <br> Если вы проходите курс ODS, выберите ответы в [веб-форме](https://docs.google.com/forms/d/13ZnT7w7foHD0uw0ynTtj7atdiCGvlltF8ThhbJCvLsc).  \n"
   ]
  },
  {
   "cell_type": "markdown",
   "metadata": {},
   "source": [
    "## Часть 1. Подготовка нескольких обучающих выборок для сравнения\n",
    "\n",
    "Пока мы брали последовательности из 10 сайтов, и это было наобум. Давайте сделаем число сайтов в сессии параметром, чтоб в дальнейшем сравнить модели классификации, обученные на разных выборках – с 5, 7, 10 и 15 сайтами в сессии. Более того, пока мы брали по 10 сайтов подряд, без пересечения. Теперь давайте применим идею скользящего окна – сессии будут перекрываться. \n",
    "\n",
    "**Пример**: для длины сессии 10 и ширины окна 7 файл из 30 записей породит не 3 сессии, как раньше (1-10, 11-20, 21-30), а 5 (1-10, 8-17, 15-24, 22-30, 29-30). При этом в предпоследней сессии будет один ноль, а в последней – 8 нолей.\n",
    "\n",
    "Создадим несколько выборок для разных сочетаний параметров длины сессии и ширины окна. Все они представлены в табличке ниже:\n",
    "\n",
    "<style type=\"text/css\">\n",
    ".tg  {border-collapse:collapse;border-spacing:0;}\n",
    ".tg td{font-family:Arial, sans-serif;font-size:14px;padding:10px 5px;border-style:solid;border-width:1px;overflow:hidden;word-break:normal;}\n",
    ".tg th{font-family:Arial, sans-serif;font-size:14px;font-weight:normal;padding:10px 5px;border-style:solid;border-width:1px;overflow:hidden;word-break:normal;}\n",
    "</style>\n",
    "<table class=\"tg\">\n",
    "  <tr>\n",
    "    <th class=\"tg-031e\">session_length -&gt;<br>window_size <br></th>\n",
    "    <th class=\"tg-031e\">5</th>\n",
    "    <th class=\"tg-031e\">7</th>\n",
    "    <th class=\"tg-031e\">10</th>\n",
    "    <th class=\"tg-031e\">15</th>\n",
    "  </tr>\n",
    "  <tr>\n",
    "    <td class=\"tg-031e\">5</td>\n",
    "    <td class=\"tg-031e\">v</td>\n",
    "    <td class=\"tg-031e\">v</td>\n",
    "    <td class=\"tg-031e\">v</td>\n",
    "    <td class=\"tg-031e\">v</td>\n",
    "  </tr>\n",
    "  <tr>\n",
    "    <td class=\"tg-031e\">7</td>\n",
    "    <td class=\"tg-031e\"></td>\n",
    "    <td class=\"tg-031e\">v</td>\n",
    "    <td class=\"tg-031e\">v</td>\n",
    "    <td class=\"tg-031e\">v</td>\n",
    "  </tr>\n",
    "  <tr>\n",
    "    <td class=\"tg-031e\">10</td>\n",
    "    <td class=\"tg-031e\"></td>\n",
    "    <td class=\"tg-031e\"></td>\n",
    "    <td class=\"tg-031e\"><font color='green'>v</font></td>\n",
    "    <td class=\"tg-031e\">v</td>\n",
    "  </tr>\n",
    "</table>\n",
    "\n",
    "Итого должно получиться 18 разреженных матриц – указанные в таблице 9 сочетаний параметров формирования сессий для выборок из 10 и 150 пользователей. При этом 2 выборки мы уже сделали в прошлой части, они соответствуют сочетанию параметров: session_length=10, window_size=10, которые помечены в таблице выше галочкой зеленого цвета (done)."
   ]
  },
  {
   "cell_type": "markdown",
   "metadata": {},
   "source": [
    "Реализуйте функцию *prepare_sparse_train_set_window*.\n",
    "\n",
    "Аргументы:\n",
    "- *path_to_csv_files* – путь к каталогу с csv-файлами\n",
    "- *site_freq_path* – путь к pickle-файлу с частотным словарем, полученным в 1 части проекта\n",
    "- *session_length* – длина сессии (параметр)\n",
    "- *window_size* – ширина окна (параметр) \n",
    "\n",
    "Функция должна возвращать 2 объекта:\n",
    "- разреженную матрицу *X_sparse* (двухмерная Scipy.sparse.csr_matrix), в которой строки соответствуют сессиям из *session_length* сайтов, а *max(site_id)* столбцов – количеству посещений *site_id* в сессии. \n",
    "- вектор *y* (Numpy array) \"ответов\" в виде ID пользователей, которым принадлежат сессии из *X_sparse*\n",
    "\n",
    "Детали:\n",
    "- Модифицируйте созданную в 1 части функцию *prepare_train_set*\n",
    "- Некоторые сессии могут повторяться – оставьте как есть, не удаляйте дубликаты\n",
    "- Замеряйте время выполнения итераций цикла с помощью *time* из *time*, *tqdm* из *tqdm* или с помощью виджета [log_progress](https://github.com/alexanderkuk/log-progress) ([статья](https://habrahabr.ru/post/276725/) о нем на Хабрахабре)\n",
    "- 150 файлов из *capstone_websites_data/150users/* должны обрабатываться за несколько секунд (в зависимости от входных параметров). Если дольше – не страшно, но знайте, что функцию можно ускорить. "
   ]
  },
  {
   "cell_type": "code",
   "execution_count": 1,
   "metadata": {},
   "outputs": [],
   "source": [
    "from __future__ import division, print_function\n",
    "# отключим всякие предупреждения Anaconda\n",
    "import warnings\n",
    "warnings.filterwarnings('ignore')\n",
    "from glob import glob\n",
    "import os\n",
    "import pickle\n",
    "from tqdm import tqdm_notebook\n",
    "import numpy as np\n",
    "import pandas as pd\n",
    "from scipy.sparse import csr_matrix\n",
    "from scipy import stats\n",
    "from statsmodels.stats.proportion import proportion_confint\n",
    "%matplotlib inline\n",
    "from matplotlib import pyplot as plt\n",
    "from tqdm import tqdm, tqdm_notebook"
   ]
  },
  {
   "cell_type": "code",
   "execution_count": 2,
   "metadata": {},
   "outputs": [],
   "source": [
    "# Поменяйте на свой путь к данным\n",
    "PATH_TO_DATA = 'C:/Users/oorzhak/Desktop/Coursera/C6/Ident_user/W2/capstone_user_identification/'\n"
   ]
  },
  {
   "cell_type": "code",
   "execution_count": 3,
   "metadata": {},
   "outputs": [],
   "source": [
    "def func_csr_matrix(DataForMatrix):\n",
    "    docs = DataForMatrix[:, 1:]\n",
    "    indptr = [0]\n",
    "    indices = []\n",
    "    data = []\n",
    "    vocabulary = {}\n",
    "\n",
    "    for d in docs:\n",
    "        for t in d:\n",
    "            index = vocabulary.setdefault(t, t)\n",
    "            indices.append(index)\n",
    "            data.append(1)    \n",
    "        indptr.append(len(indices))\n",
    "\n",
    "    return csr_matrix((data, indices, indptr), dtype=int)[:, 1:]"
   ]
  },
  {
   "cell_type": "code",
   "execution_count": 4,
   "metadata": {},
   "outputs": [],
   "source": [
    "def prepare_sparse_train_set_window(path_to_csv_files, site_freq_path, \n",
    "                                    session_length=10, window_size=10):\n",
    "    \n",
    "    with open(site_freq_path, 'rb') as SFD_pkl:\n",
    "        SiteFreqDict = pickle.Unpickler(SFD_pkl).load()\n",
    "    \n",
    "    l = glob(path_to_csv_files+'/*.csv')\n",
    "    si = 0\n",
    "    ListDataRes = []\n",
    "    \n",
    "    for i, NameCsvFile in tqdm(enumerate(l)):\n",
    "        user_x = pd.read_csv(NameCsvFile, sep = ',', header = 0)\n",
    "        user_x['index'] = user_x['site'].map(lambda x: SiteFreqDict[x][0])\n",
    "        StackSites = user_x['index']\n",
    "        k = 0;\n",
    "        ListData = []\n",
    "\n",
    "        while (k*session_length+1-k*(session_length-window_size)) <= len(StackSites):\n",
    "            ListData.append([si+1])\n",
    "            for j in range(session_length):\n",
    "                if (k*session_length+1-k*(session_length-window_size)+j) <= len(StackSites):\n",
    "                    ListData[k].append(StackSites[k*session_length-k*(session_length-window_size)+j])\n",
    "                else:\n",
    "                    ListData[k].append(0)\n",
    "            ListData[k].append(i+1)\n",
    "            k+=1\n",
    "            si+=1\n",
    "        ListDataRes += ListData\n",
    "        \n",
    "    DataRes = pd.DataFrame(ListDataRes, columns=['session_id']+map(lambda x: 'site'+str(x+1),\n",
    "                                                                                      xrange(session_length))+['user_id'])\n",
    "    \n",
    "    X_Res = DataRes.iloc[:, :-1].values\n",
    "    X_sparse_Res = func_csr_matrix(X_Res)\n",
    "                    \n",
    "    return X_sparse_Res, DataRes.iloc[:, -1].values"
   ]
  },
  {
   "cell_type": "markdown",
   "metadata": {},
   "source": [
    "**Примените полученную функцию с параметрами *session_length=5* и *window_size=3* к игрушечному примеру. Убедитесь, что все работает как надо.**"
   ]
  },
  {
   "cell_type": "code",
   "execution_count": 5,
   "metadata": {},
   "outputs": [
    {
     "name": "stderr",
     "output_type": "stream",
     "text": [
      "3it [00:00, 33.33it/s]\n"
     ]
    }
   ],
   "source": [
    "X_toy_s5_w3, y_s5_w3 = prepare_sparse_train_set_window(os.path.join(PATH_TO_DATA,'3users'), \n",
    "                                                       os.path.join(PATH_TO_DATA,'site_freq_3users.pkl'),\n",
    "                                       session_length=5, window_size=3)"
   ]
  },
  {
   "cell_type": "code",
   "execution_count": 6,
   "metadata": {},
   "outputs": [
    {
     "data": {
      "text/plain": [
       "{'accounts.google.com': [11, 1L],\n",
       " 'apis.google.com': [10, 1L],\n",
       " 'football.kulichki.ru': [5, 2L],\n",
       " 'geo.mozilla.org': [9, 1L],\n",
       " 'google.com': [1, 9L],\n",
       " 'mail.google.com': [6, 2L],\n",
       " 'meduza.io': [3, 3L],\n",
       " 'oracle.com': [2, 8L],\n",
       " 'plus.google.com': [8, 1L],\n",
       " 'vk.com': [4, 3L],\n",
       " 'yandex.ru': [7, 1L]}"
      ]
     },
     "execution_count": 6,
     "metadata": {},
     "output_type": "execute_result"
    }
   ],
   "source": [
    "with open(os.path.join(PATH_TO_DATA,'site_freq_3users.pkl'), 'rb') as SFD_pkl:\n",
    "        SiteFreqDict = pickle.Unpickler(SFD_pkl).load()\n",
    "SiteFreqDict"
   ]
  },
  {
   "cell_type": "code",
   "execution_count": 7,
   "metadata": {},
   "outputs": [
    {
     "data": {
      "text/plain": [
       "matrix([[0, 3, 0, 1, 0, 0, 0, 0, 1, 0, 0],\n",
       "        [1, 1, 0, 0, 0, 1, 0, 0, 1, 0, 1],\n",
       "        [0, 0, 0, 1, 0, 1, 0, 1, 0, 1, 1],\n",
       "        [3, 0, 0, 1, 0, 0, 0, 1, 0, 0, 0],\n",
       "        [2, 0, 0, 0, 0, 0, 0, 0, 0, 0, 0],\n",
       "        [0, 2, 0, 1, 2, 0, 0, 0, 0, 0, 0],\n",
       "        [0, 1, 0, 0, 1, 0, 0, 0, 0, 0, 0],\n",
       "        [2, 2, 1, 0, 0, 0, 0, 0, 0, 0, 0],\n",
       "        [3, 1, 0, 0, 0, 1, 0, 0, 0, 0, 0],\n",
       "        [1, 0, 2, 0, 0, 1, 1, 0, 0, 0, 0],\n",
       "        [1, 1, 2, 0, 0, 0, 0, 0, 0, 0, 0],\n",
       "        [0, 1, 0, 0, 0, 0, 0, 0, 0, 0, 0]])"
      ]
     },
     "execution_count": 7,
     "metadata": {},
     "output_type": "execute_result"
    }
   ],
   "source": [
    "#My\n",
    "X_toy_s5_w3.todense()"
   ]
  },
  {
   "cell_type": "code",
   "execution_count": 8,
   "metadata": {},
   "outputs": [
    {
     "data": {
      "text/plain": [
       "array([1, 1, 1, 1, 1, 2, 2, 3, 3, 3, 3, 3], dtype=int64)"
      ]
     },
     "execution_count": 8,
     "metadata": {},
     "output_type": "execute_result"
    }
   ],
   "source": [
    "#My\n",
    "y_s5_w3"
   ]
  },
  {
   "cell_type": "code",
   "execution_count": 9,
   "metadata": {},
   "outputs": [
    {
     "data": {
      "text/plain": [
       "matrix([[0, 3, 0, 1, 0, 0, 0, 0, 1, 0, 0],\n",
       "        [1, 1, 0, 0, 0, 1, 0, 0, 1, 0, 1],\n",
       "        [0, 0, 0, 1, 0, 1, 0, 1, 0, 1, 1],\n",
       "        [3, 0, 0, 1, 0, 0, 0, 1, 0, 0, 0],\n",
       "        [2, 0, 0, 0, 0, 0, 0, 0, 0, 0, 0],\n",
       "        [0, 2, 0, 1, 2, 0, 0, 0, 0, 0, 0],\n",
       "        [0, 1, 0, 0, 1, 0, 0, 0, 0, 0, 0],\n",
       "        [2, 2, 1, 0, 0, 0, 0, 0, 0, 0, 0],\n",
       "        [3, 1, 0, 0, 0, 1, 0, 0, 0, 0, 0],\n",
       "        [1, 0, 2, 0, 0, 1, 1, 0, 0, 0, 0],\n",
       "        [1, 1, 2, 0, 0, 0, 0, 0, 0, 0, 0],\n",
       "        [0, 1, 0, 0, 0, 0, 0, 0, 0, 0, 0]])"
      ]
     },
     "execution_count": 9,
     "metadata": {},
     "output_type": "execute_result"
    }
   ],
   "source": [
    "X_toy_s5_w3.todense()"
   ]
  },
  {
   "cell_type": "code",
   "execution_count": 10,
   "metadata": {},
   "outputs": [
    {
     "data": {
      "text/plain": [
       "array([1, 1, 1, 1, 1, 2, 2, 3, 3, 3, 3, 3], dtype=int64)"
      ]
     },
     "execution_count": 10,
     "metadata": {},
     "output_type": "execute_result"
    }
   ],
   "source": [
    "y_s5_w3"
   ]
  },
  {
   "cell_type": "markdown",
   "metadata": {},
   "source": [
    "**Запустите созданную функцию 16 раз с помощью циклов по числу пользователей num_users (10 или 150), значениям параметра *session_length* (15, 10, 7 или 5) и значениям параметра *window_size* (10, 7 или 5). Сериализуйте все 16 разреженных матриц (обучающие выборки) и векторов (метки целевого класса – ID пользователя) в файлы `X_sparse_{num_users}users_s{session_length}_w{window_size}.pkl` и `y_{num_users}users_s{session_length}_w{window_size}.pkl`.**\n",
    "\n",
    "**Чтоб убедиться, что мы все далее будем работать с идентичными объектами, запишите в список *data_lengths* число строк во всех полученных рареженных матрицах (16 значений). Если какие-то будут совпадать, это нормально (можно сообразить, почему).**\n",
    "\n",
    "**На моем ноутбуке этот участок кода отработал за 26 секунд, хотя понятно, что все зависит от эффективности реализации функции *prepare_sparse_train_set_window* и мощности используемого железа. И честно говоря, моя первая реализация была намного менее эффективной (34 минуты), так что тут у Вас есть возможность оптимизировать свой код.**"
   ]
  },
  {
   "cell_type": "code",
   "execution_count": 14,
   "metadata": {},
   "outputs": [
    {
     "name": "stderr",
     "output_type": "stream",
     "text": [
      "10it [00:02,  3.61it/s]\n",
      "10it [00:03,  2.54it/s]\n",
      "10it [00:02,  3.75it/s]\n",
      "10it [00:02,  4.69it/s]\n",
      "10it [00:05,  1.85it/s]\n",
      "10it [00:03,  2.81it/s]\n",
      "10it [00:02,  3.56it/s]\n",
      "10it [00:02,  4.60it/s]\n",
      "150it [00:28,  6.90it/s]\n",
      "150it [00:38,  4.62it/s]\n",
      "150it [00:26,  7.03it/s]\n",
      "150it [00:20,  7.87it/s]\n",
      "150it [00:51,  3.54it/s]\n",
      "150it [00:36,  5.04it/s]\n",
      "150it [00:27,  7.08it/s]\n",
      "150it [00:20,  8.65it/s]\n"
     ]
    },
    {
     "name": "stdout",
     "output_type": "stream",
     "text": [
      "Wall time: 5min 23s\n"
     ]
    }
   ],
   "source": [
    "%%time\n",
    "import itertools\n",
    "\n",
    "data_lengths = []\n",
    "\n",
    "for num_users in [10, 150]:\n",
    "    for window_size, session_length in itertools.product([10, 7, 5], [15, 10, 7, 5]):\n",
    "        if window_size <= session_length and (window_size, session_length) != (10, 10):\n",
    "            X_sparse, y = prepare_sparse_train_set_window(os.path.join(PATH_TO_DATA, str(num_users)+'users'), \n",
    "                                                       os.path.join(PATH_TO_DATA,'site_freq_'+str(num_users)+'users.pkl'),\n",
    "                                       session_length, window_size)\n",
    "            with open(os.path.join(PATH_TO_DATA, 'X_sparse_'+str(num_users)+'users_s'+\n",
    "                                   str(session_length)+'_w'+str(window_size)+'.pkl'), 'wb') as X_pkl:\n",
    "                pickle.dump(X_sparse, X_pkl, protocol=2)\n",
    "            with open(os.path.join(PATH_TO_DATA, 'y_'+str(num_users)+'users_s'+\n",
    "                                   str(session_length)+'_w'+str(window_size)+'.pkl'), 'wb') as y_pkl:\n",
    "                pickle.dump(y, y_pkl, protocol=2)\n",
    "            data_lengths.append(len(X_sparse.toarray()))"
   ]
  },
  {
   "cell_type": "markdown",
   "metadata": {},
   "source": [
    "**<font color='red'> Вопрос 1. </font>Сколько всего уникальных значений в списке `data_lengths`?**"
   ]
  },
  {
   "cell_type": "code",
   "execution_count": 19,
   "metadata": {},
   "outputs": [
    {
     "data": {
      "text/plain": [
       "[14061,\n",
       " 20087,\n",
       " 20087,\n",
       " 20087,\n",
       " 28118,\n",
       " 28118,\n",
       " 28118,\n",
       " 28118,\n",
       " 137019,\n",
       " 195712,\n",
       " 195712,\n",
       " 195712,\n",
       " 273957,\n",
       " 273957,\n",
       " 273957,\n",
       " 273957]"
      ]
     },
     "execution_count": 19,
     "metadata": {},
     "output_type": "execute_result"
    }
   ],
   "source": [
    "data_lengths"
   ]
  },
  {
   "cell_type": "code",
   "execution_count": 255,
   "metadata": {},
   "outputs": [
    {
     "name": "stdout",
     "output_type": "stream",
     "text": [
      "16\n",
      "6\n"
     ]
    }
   ],
   "source": [
    "#Ответ\n",
    "print(len(data_lengths))\n",
    "print(len(np.unique(data_lengths)))\n",
    "\n",
    "with open(str(1)+\".txt\", \"w\") as fout:\n",
    "        str_res = ''\n",
    "        for i in data_lengths:\n",
    "            str_res+=str(i\n",
    "            str_res+=' '\n",
    "        fout.write(str_res)"
   ]
  },
  {
   "cell_type": "markdown",
   "metadata": {},
   "source": [
    "## Часть 2. Первичный анализ данных, проверка гипотез"
   ]
  },
  {
   "cell_type": "markdown",
   "metadata": {},
   "source": [
    "**Считаем в DataFrame подготовленный на 1 неделе файл `train_data_10users.csv`. Далее будем работать с ним.**"
   ]
  },
  {
   "cell_type": "code",
   "execution_count": 103,
   "metadata": {},
   "outputs": [],
   "source": [
    "train_df = pd.read_csv(os.path.join(PATH_TO_DATA, 'train_data_10users.csv'), \n",
    "                       index_col='session_id')"
   ]
  },
  {
   "cell_type": "code",
   "execution_count": 105,
   "metadata": {},
   "outputs": [
    {
     "data": {
      "text/html": [
       "<div>\n",
       "<style scoped>\n",
       "    .dataframe tbody tr th:only-of-type {\n",
       "        vertical-align: middle;\n",
       "    }\n",
       "\n",
       "    .dataframe tbody tr th {\n",
       "        vertical-align: top;\n",
       "    }\n",
       "\n",
       "    .dataframe thead th {\n",
       "        text-align: right;\n",
       "    }\n",
       "</style>\n",
       "<table border=\"1\" class=\"dataframe\">\n",
       "  <thead>\n",
       "    <tr style=\"text-align: right;\">\n",
       "      <th></th>\n",
       "      <th>site1</th>\n",
       "      <th>site2</th>\n",
       "      <th>site3</th>\n",
       "      <th>site4</th>\n",
       "      <th>site5</th>\n",
       "      <th>site6</th>\n",
       "      <th>site7</th>\n",
       "      <th>site8</th>\n",
       "      <th>site9</th>\n",
       "      <th>site10</th>\n",
       "      <th>user_id</th>\n",
       "    </tr>\n",
       "    <tr>\n",
       "      <th>session_id</th>\n",
       "      <th></th>\n",
       "      <th></th>\n",
       "      <th></th>\n",
       "      <th></th>\n",
       "      <th></th>\n",
       "      <th></th>\n",
       "      <th></th>\n",
       "      <th></th>\n",
       "      <th></th>\n",
       "      <th></th>\n",
       "      <th></th>\n",
       "    </tr>\n",
       "  </thead>\n",
       "  <tbody>\n",
       "    <tr>\n",
       "      <th>0</th>\n",
       "      <td>193</td>\n",
       "      <td>575</td>\n",
       "      <td>134</td>\n",
       "      <td>3</td>\n",
       "      <td>134</td>\n",
       "      <td>134</td>\n",
       "      <td>3</td>\n",
       "      <td>134</td>\n",
       "      <td>203</td>\n",
       "      <td>134</td>\n",
       "      <td>1</td>\n",
       "    </tr>\n",
       "    <tr>\n",
       "      <th>1</th>\n",
       "      <td>417</td>\n",
       "      <td>192</td>\n",
       "      <td>698</td>\n",
       "      <td>254</td>\n",
       "      <td>134</td>\n",
       "      <td>31</td>\n",
       "      <td>396</td>\n",
       "      <td>3673</td>\n",
       "      <td>221</td>\n",
       "      <td>55</td>\n",
       "      <td>1</td>\n",
       "    </tr>\n",
       "    <tr>\n",
       "      <th>2</th>\n",
       "      <td>55</td>\n",
       "      <td>3</td>\n",
       "      <td>55</td>\n",
       "      <td>55</td>\n",
       "      <td>5</td>\n",
       "      <td>294</td>\n",
       "      <td>417</td>\n",
       "      <td>336</td>\n",
       "      <td>912</td>\n",
       "      <td>55</td>\n",
       "      <td>1</td>\n",
       "    </tr>\n",
       "    <tr>\n",
       "      <th>3</th>\n",
       "      <td>476</td>\n",
       "      <td>3875</td>\n",
       "      <td>476</td>\n",
       "      <td>55</td>\n",
       "      <td>55</td>\n",
       "      <td>55</td>\n",
       "      <td>55</td>\n",
       "      <td>965</td>\n",
       "      <td>202</td>\n",
       "      <td>124</td>\n",
       "      <td>1</td>\n",
       "    </tr>\n",
       "    <tr>\n",
       "      <th>4</th>\n",
       "      <td>344</td>\n",
       "      <td>55</td>\n",
       "      <td>5</td>\n",
       "      <td>3667</td>\n",
       "      <td>258</td>\n",
       "      <td>211</td>\n",
       "      <td>4046</td>\n",
       "      <td>2323</td>\n",
       "      <td>697</td>\n",
       "      <td>2323</td>\n",
       "      <td>1</td>\n",
       "    </tr>\n",
       "  </tbody>\n",
       "</table>\n",
       "</div>"
      ],
      "text/plain": [
       "            site1  site2  site3  site4  site5  site6  site7  site8  site9  \\\n",
       "session_id                                                                  \n",
       "0             193    575    134      3    134    134      3    134    203   \n",
       "1             417    192    698    254    134     31    396   3673    221   \n",
       "2              55      3     55     55      5    294    417    336    912   \n",
       "3             476   3875    476     55     55     55     55    965    202   \n",
       "4             344     55      5   3667    258    211   4046   2323    697   \n",
       "\n",
       "            site10  user_id  \n",
       "session_id                   \n",
       "0              134        1  \n",
       "1               55        1  \n",
       "2               55        1  \n",
       "3              124        1  \n",
       "4             2323        1  "
      ]
     },
     "execution_count": 105,
     "metadata": {},
     "output_type": "execute_result"
    }
   ],
   "source": [
    "#My\n",
    "train_df.drop(columns='session_id.1', inplace=True)\n",
    "train_df.head()"
   ]
  },
  {
   "cell_type": "code",
   "execution_count": 102,
   "metadata": {},
   "outputs": [
    {
     "data": {
      "text/html": [
       "<div>\n",
       "<style scoped>\n",
       "    .dataframe tbody tr th:only-of-type {\n",
       "        vertical-align: middle;\n",
       "    }\n",
       "\n",
       "    .dataframe tbody tr th {\n",
       "        vertical-align: top;\n",
       "    }\n",
       "\n",
       "    .dataframe thead th {\n",
       "        text-align: right;\n",
       "    }\n",
       "</style>\n",
       "<table border=\"1\" class=\"dataframe\">\n",
       "  <thead>\n",
       "    <tr style=\"text-align: right;\">\n",
       "      <th></th>\n",
       "      <th>site1</th>\n",
       "      <th>site2</th>\n",
       "      <th>site3</th>\n",
       "      <th>site4</th>\n",
       "      <th>site5</th>\n",
       "      <th>site6</th>\n",
       "      <th>site7</th>\n",
       "      <th>site8</th>\n",
       "      <th>site9</th>\n",
       "      <th>site10</th>\n",
       "      <th>user_id</th>\n",
       "    </tr>\n",
       "    <tr>\n",
       "      <th>session_id</th>\n",
       "      <th></th>\n",
       "      <th></th>\n",
       "      <th></th>\n",
       "      <th></th>\n",
       "      <th></th>\n",
       "      <th></th>\n",
       "      <th></th>\n",
       "      <th></th>\n",
       "      <th></th>\n",
       "      <th></th>\n",
       "      <th></th>\n",
       "    </tr>\n",
       "  </thead>\n",
       "  <tbody>\n",
       "    <tr>\n",
       "      <th>0</th>\n",
       "      <td>193</td>\n",
       "      <td>575</td>\n",
       "      <td>134</td>\n",
       "      <td>3</td>\n",
       "      <td>134</td>\n",
       "      <td>134</td>\n",
       "      <td>3</td>\n",
       "      <td>134</td>\n",
       "      <td>203</td>\n",
       "      <td>134</td>\n",
       "      <td>1</td>\n",
       "    </tr>\n",
       "    <tr>\n",
       "      <th>1</th>\n",
       "      <td>417</td>\n",
       "      <td>192</td>\n",
       "      <td>698</td>\n",
       "      <td>254</td>\n",
       "      <td>134</td>\n",
       "      <td>31</td>\n",
       "      <td>396</td>\n",
       "      <td>3673</td>\n",
       "      <td>221</td>\n",
       "      <td>55</td>\n",
       "      <td>1</td>\n",
       "    </tr>\n",
       "    <tr>\n",
       "      <th>2</th>\n",
       "      <td>55</td>\n",
       "      <td>3</td>\n",
       "      <td>55</td>\n",
       "      <td>55</td>\n",
       "      <td>5</td>\n",
       "      <td>294</td>\n",
       "      <td>417</td>\n",
       "      <td>336</td>\n",
       "      <td>912</td>\n",
       "      <td>55</td>\n",
       "      <td>1</td>\n",
       "    </tr>\n",
       "    <tr>\n",
       "      <th>3</th>\n",
       "      <td>476</td>\n",
       "      <td>3875</td>\n",
       "      <td>476</td>\n",
       "      <td>55</td>\n",
       "      <td>55</td>\n",
       "      <td>55</td>\n",
       "      <td>55</td>\n",
       "      <td>965</td>\n",
       "      <td>202</td>\n",
       "      <td>124</td>\n",
       "      <td>1</td>\n",
       "    </tr>\n",
       "    <tr>\n",
       "      <th>4</th>\n",
       "      <td>344</td>\n",
       "      <td>55</td>\n",
       "      <td>5</td>\n",
       "      <td>3667</td>\n",
       "      <td>258</td>\n",
       "      <td>211</td>\n",
       "      <td>4046</td>\n",
       "      <td>2323</td>\n",
       "      <td>697</td>\n",
       "      <td>2323</td>\n",
       "      <td>1</td>\n",
       "    </tr>\n",
       "  </tbody>\n",
       "</table>\n",
       "</div>"
      ],
      "text/plain": [
       "            site1  site2  site3  site4  site5  site6  site7  site8  site9  \\\n",
       "session_id                                                                  \n",
       "0             193    575    134      3    134    134      3    134    203   \n",
       "1             417    192    698    254    134     31    396   3673    221   \n",
       "2              55      3     55     55      5    294    417    336    912   \n",
       "3             476   3875    476     55     55     55     55    965    202   \n",
       "4             344     55      5   3667    258    211   4046   2323    697   \n",
       "\n",
       "            site10  user_id  \n",
       "session_id                   \n",
       "0              134        1  \n",
       "1               55        1  \n",
       "2               55        1  \n",
       "3              124        1  \n",
       "4             2323        1  "
      ]
     },
     "execution_count": 102,
     "metadata": {},
     "output_type": "execute_result"
    }
   ],
   "source": [
    "train_df.head()"
   ]
  },
  {
   "cell_type": "code",
   "execution_count": 12,
   "metadata": {},
   "outputs": [
    {
     "name": "stdout",
     "output_type": "stream",
     "text": [
      "<class 'pandas.core.frame.DataFrame'>\n",
      "Int64Index: 14061 entries, 0 to 14060\n",
      "Data columns (total 11 columns):\n",
      "site1      14061 non-null int64\n",
      "site2      14061 non-null int64\n",
      "site3      14061 non-null int64\n",
      "site4      14061 non-null int64\n",
      "site5      14061 non-null int64\n",
      "site6      14061 non-null int64\n",
      "site7      14061 non-null int64\n",
      "site8      14061 non-null int64\n",
      "site9      14061 non-null int64\n",
      "site10     14061 non-null int64\n",
      "user_id    14061 non-null int64\n",
      "dtypes: int64(11)\n",
      "memory usage: 1.3 MB\n"
     ]
    }
   ],
   "source": [
    "train_df.info()"
   ]
  },
  {
   "cell_type": "markdown",
   "metadata": {},
   "source": [
    "**Распределение целевого класса:**"
   ]
  },
  {
   "cell_type": "code",
   "execution_count": 106,
   "metadata": {},
   "outputs": [
    {
     "data": {
      "text/plain": [
       "7     2796\n",
       "3     2204\n",
       "8     1868\n",
       "6     1712\n",
       "9     1643\n",
       "2     1022\n",
       "4      802\n",
       "1      760\n",
       "5      720\n",
       "10     534\n",
       "Name: user_id, dtype: int64"
      ]
     },
     "execution_count": 106,
     "metadata": {},
     "output_type": "execute_result"
    }
   ],
   "source": [
    "#My\n",
    "train_df['user_id'].value_counts()"
   ]
  },
  {
   "cell_type": "code",
   "execution_count": 107,
   "metadata": {},
   "outputs": [
    {
     "data": {
      "text/plain": [
       "7     2796\n",
       "3     2204\n",
       "8     1868\n",
       "6     1712\n",
       "9     1643\n",
       "2     1022\n",
       "4      802\n",
       "1      760\n",
       "5      720\n",
       "10     534\n",
       "Name: user_id, dtype: int64"
      ]
     },
     "execution_count": 107,
     "metadata": {},
     "output_type": "execute_result"
    }
   ],
   "source": [
    "train_df['user_id'].value_counts()"
   ]
  },
  {
   "cell_type": "markdown",
   "metadata": {},
   "source": [
    "**Посчитаем распределение числа уникальных сайтов в каждой сессии из 10 посещенных подряд сайтов.**"
   ]
  },
  {
   "cell_type": "code",
   "execution_count": 108,
   "metadata": {},
   "outputs": [
    {
     "data": {
      "text/plain": [
       "array([[193, 575, 134, ..., 203, 134,   1],\n",
       "       [417, 192, 698, ..., 221,  55,   1],\n",
       "       [ 55,   3,  55, ..., 912,  55,   1],\n",
       "       ...,\n",
       "       [ 33,   4,   9, ...,   4,   4,  10],\n",
       "       [  4,   4,   4, ...,   9,   4,  10],\n",
       "       [ 10,  21,   0, ...,   0,   0,  10]], dtype=int64)"
      ]
     },
     "execution_count": 108,
     "metadata": {},
     "output_type": "execute_result"
    }
   ],
   "source": [
    "train_df.values"
   ]
  },
  {
   "cell_type": "code",
   "execution_count": 109,
   "metadata": {},
   "outputs": [],
   "source": [
    "num_unique_sites = [np.unique(train_df.values[i, :-1]).shape[0] \n",
    "                    for i in range(train_df.shape[0])]"
   ]
  },
  {
   "cell_type": "code",
   "execution_count": 110,
   "metadata": {},
   "outputs": [
    {
     "data": {
      "text/plain": [
       "7     2308\n",
       "6     2197\n",
       "8     2046\n",
       "5     1735\n",
       "9     1394\n",
       "2     1246\n",
       "4     1163\n",
       "3      894\n",
       "10     651\n",
       "1      427\n",
       "dtype: int64"
      ]
     },
     "execution_count": 110,
     "metadata": {},
     "output_type": "execute_result"
    }
   ],
   "source": [
    "pd.Series(num_unique_sites).value_counts()"
   ]
  },
  {
   "cell_type": "code",
   "execution_count": 112,
   "metadata": {},
   "outputs": [
    {
     "data": {
      "image/png": "[encoded data removed]",
      "text/plain": [
       "<Figure size 432x288 with 1 Axes>"
      ]
     },
     "metadata": {
      "needs_background": "light"
     },
     "output_type": "display_data"
    }
   ],
   "source": [
    "pd.Series(num_unique_sites).hist(bins=10);"
   ]
  },
  {
   "cell_type": "markdown",
   "metadata": {},
   "source": [
    "**Проверьте с помощью QQ-плота и критерия Шапиро-Уилка, что эта величина распределена нормально**"
   ]
  },
  {
   "cell_type": "markdown",
   "metadata": {},
   "source": [
    "**<font color='red'> Вопрос 2. </font>Распределено ли нормально число уникальных сайтов в каждой сессии из 10 посещенных подряд сайтов (согласно критерию Шапиро-Уилка)?**"
   ]
  },
  {
   "cell_type": "markdown",
   "metadata": {},
   "source": [
    "Критерий Шапиро-Уилка:\n",
    "\n",
    " $H_0\\colon$ распредлены нормально\n",
    " \n",
    " $H_1\\colon$ не нормально."
   ]
  },
  {
   "cell_type": "code",
   "execution_count": 61,
   "metadata": {},
   "outputs": [],
   "source": [
    "from statsmodels.stats.weightstats import *\n",
    "import scipy"
   ]
  },
  {
   "cell_type": "code",
   "execution_count": 62,
   "metadata": {},
   "outputs": [
    {
     "name": "stdout",
     "output_type": "stream",
     "text": [
      "Populating the interactive namespace from numpy and matplotlib\n"
     ]
    }
   ],
   "source": [
    "%pylab inline"
   ]
  },
  {
   "cell_type": "code",
   "execution_count": 113,
   "metadata": {},
   "outputs": [
    {
     "data": {
      "image/png": "[encoded data removed]",
      "text/plain": [
       "<Figure size 432x288 with 1 Axes>"
      ]
     },
     "metadata": {
      "needs_background": "light"
     },
     "output_type": "display_data"
    }
   ],
   "source": [
    "pylab.figure(figsize=(6,4))\n",
    "stats.probplot(num_unique_sites, dist=\"norm\", plot=pylab)\n",
    "pylab.show()"
   ]
  },
  {
   "cell_type": "code",
   "execution_count": 249,
   "metadata": {},
   "outputs": [
    {
     "name": "stdout",
     "output_type": "stream",
     "text": [
      "Shapiro-Wilk normality test, W-statistic: 0.927919, p-value: 0.000000\n"
     ]
    }
   ],
   "source": [
    "print(\"Shapiro-Wilk normality test, W-statistic: %f, p-value: %f\" % stats.shapiro(num_unique_sites[:5000]))\n",
    "\n",
    "with open(str(2)+\".txt\", \"w\") as fout:\n",
    "        fout.write(str('NO'))"
   ]
  },
  {
   "cell_type": "markdown",
   "metadata": {},
   "source": [
    "***Ответ:***\n",
    "\n",
    "Нулевая гипотеза Ho отвергается в пользу альтернативной"
   ]
  },
  {
   "cell_type": "markdown",
   "metadata": {},
   "source": [
    "**Проверьте гипотезу о том, что пользователь хотя бы раз зайдет на сайт, который он уже ранее посетил в сессии из 10 сайтов. Давайте проверим с помощью биномиального критерия для доли, что доля случаев, когда пользователь повторно посетил какой-то сайт (то есть число уникальных сайтов в сессии < 10) велика: больше 95% (обратите внимание, что альтернатива тому, что доля равна 95% –  одностороняя). Ответом на 3 вопрос в тесте будет полученное p-value.**"
   ]
  },
  {
   "cell_type": "markdown",
   "metadata": {},
   "source": [
    "**<font color='red'> Вопрос 3. </font>Каково p-value при проверке описанной гипотезы?**"
   ]
  },
  {
   "cell_type": "code",
   "execution_count": 120,
   "metadata": {},
   "outputs": [
    {
     "data": {
      "text/plain": [
       "14061"
      ]
     },
     "execution_count": 120,
     "metadata": {},
     "output_type": "execute_result"
    }
   ],
   "source": [
    "has_two_similar = (np.array(num_unique_sites) < 10).astype('int')\n",
    "pd.Series(has_two_similar).value_counts()[0]\n",
    "len(has_two_similar)"
   ]
  },
  {
   "cell_type": "code",
   "execution_count": 250,
   "metadata": {},
   "outputs": [
    {
     "name": "stdout",
     "output_type": "stream",
     "text": [
      "0.022\n"
     ]
    }
   ],
   "source": [
    "pi_val = stats.binom_test(pd.Series(has_two_similar).value_counts()[1], len(has_two_similar), \n",
    "                          p=0.95, alternative='greater')\n",
    "                          #p=(pd.Series(has_two_similar).value_counts()[1])/(len(has_two_similar)), alternative='greater')\n",
    "print('%.3f' % pi_val)\n",
    "\n",
    "with open(str(3)+\".txt\", \"w\") as fout:\n",
    "        fout.write(str('%.3f' % pi_val))"
   ]
  },
  {
   "cell_type": "markdown",
   "metadata": {},
   "source": [
    "**<font color='red'> Вопрос 4. </font>Каков 95% доверительный интервал Уилсона для доли случаев, когда пользователь повторно посетил какой-то сайт (из п. 3)?**"
   ]
  },
  {
   "cell_type": "code",
   "execution_count": 150,
   "metadata": {},
   "outputs": [],
   "source": [
    "wilson_interval = proportion_confint(sum(has_two_similar), len(has_two_similar), method = 'wilson')"
   ]
  },
  {
   "cell_type": "code",
   "execution_count": 246,
   "metadata": {},
   "outputs": [
    {
     "name": "stdout",
     "output_type": "stream",
     "text": [
      "0.95 0.957\n"
     ]
    }
   ],
   "source": [
    "print('{} {}'.format(round(wilson_interval[0], 3),\n",
    "                                   round(wilson_interval[1], 3)))\n",
    "\n",
    "with open(str(4)+\".txt\", \"w\") as fout:\n",
    "        fout.write(str('%.3f' % wilson_interval[0])+' '+ str('%.3f' % wilson_interval[1]))"
   ]
  },
  {
   "cell_type": "markdown",
   "metadata": {},
   "source": [
    "**Постройте распределение частоты посещения сайтов (сколько раз тот или иной сайт попадается в выборке) для сайтов, которые были посещены как минимум 1000 раз.**"
   ]
  },
  {
   "cell_type": "code",
   "execution_count": 265,
   "metadata": {
    "scrolled": true
   },
   "outputs": [
    {
     "name": "stdout",
     "output_type": "stream",
     "text": [
      "Wall time: 0 ns\n",
      "[5, 18, 7, 20, 10, 23, 21, 4, 22, 19, 25, 11, 2, 12, 13, 14, 1, 3, 24, 16, 8, 9, 6, 17, 15]\n",
      "25\n"
     ]
    },
    {
     "data": {
      "text/plain": [
       "0.0     2019\n",
       "10.0    1928\n",
       "2.0     1429\n",
       "3.0     1351\n",
       "1.0     1285\n",
       "4.0     1218\n",
       "6.0     1097\n",
       "5.0     1090\n",
       "7.0     1058\n",
       "8.0      878\n",
       "9.0      708\n",
       "dtype: int64"
      ]
     },
     "execution_count": 265,
     "metadata": {},
     "output_type": "execute_result"
    }
   ],
   "source": [
    "%time\n",
    "with open(os.path.join(PATH_TO_DATA,'site_freq_10users.pkl'), 'rb') as SFD_pkl:\n",
    "        list_site_all = pickle.Unpickler(SFD_pkl).load()\n",
    "list_site_1000 = [x[0] for k,x in list_site_all.items() if x[1]>=1000]\n",
    "\n",
    "print(list_site_1000)\n",
    "print(len(list_site_1000))\n",
    "\n",
    "site_freqs = []\n",
    "for i in train_df.drop(columns='user_id', inplace=False).values:\n",
    "    site_freqs.append(sum([1 for item in i if item in list_site_1000]))\n",
    "pd.Series(site_freqs).value_counts()"
   ]
  },
  {
   "cell_type": "code",
   "execution_count": 268,
   "metadata": {},
   "outputs": [
    {
     "data": {
      "text/plain": [
       "<matplotlib.axes._subplots.AxesSubplot at 0x12805ba8>"
      ]
     },
     "execution_count": 268,
     "metadata": {},
     "output_type": "execute_result"
    },
    {
     "data": {
      "image/png": "[encoded data removed]",
      "text/plain": [
       "<Figure size 432x288 with 1 Axes>"
      ]
     },
     "metadata": {
      "needs_background": "light"
     },
     "output_type": "display_data"
    }
   ],
   "source": [
    "pd.Series(site_freqs).hist(bins=11)"
   ]
  },
  {
   "cell_type": "markdown",
   "metadata": {},
   "source": [
    "**Постройте 95% доверительный интервал для средней частоты появления сайта в выборке (во всей, уже не только для тех сайтов, что были посещены как минимум 1000 раз) на основе bootstrap. Используйте столько же bootstrap-подвыборок, сколько сайтов оказалось в исходной выборке по 10 пользователям. Берите подвыборки из посчитанного списка частот посещений сайтов – не надо заново считать эти частоты. Учтите, что частоту появления нуля (сайт с индексом 0 появлялся там, где сессии были короче 10 сайтов) включать не надо. Округлите границы интервала до 3 знаков после запятой и запишите через пробел в файл *answer2_5.txt*. Это будет ответом на 5 вопрос теста.**"
   ]
  },
  {
   "cell_type": "markdown",
   "metadata": {},
   "source": [
    "**<font color='red'> Вопрос 5. </font>Каков 95% доверительный интервал для средней частоты появления сайта в выборке?**"
   ]
  },
  {
   "cell_type": "code",
   "execution_count": 274,
   "metadata": {},
   "outputs": [],
   "source": [
    "def get_bootstrap_samples(data, n_samples, random_seed=17):\n",
    "    np.random.seed(random_seed)\n",
    "    indices = np.random.randint(0, len(data), (n_samples, len(data)))\n",
    "    samples = data[indices]\n",
    "    return samples"
   ]
  },
  {
   "cell_type": "code",
   "execution_count": 275,
   "metadata": {},
   "outputs": [],
   "source": [
    "def stat_intervals(stat, alpha):\n",
    "    boundaries = np.percentile(stat, \n",
    "                 [100 * alpha / 2., 100 * (1 - alpha / 2.)])\n",
    "    return boundaries"
   ]
  },
  {
   "cell_type": "code",
   "execution_count": 270,
   "metadata": {},
   "outputs": [
    {
     "data": {
      "text/plain": [
       "{'i1-js-14-3-01-11544-644949368-i.init.cedexis-radar.net': [3446, 1L],\n",
       " 'img16.societe.com': [2686, 2L],\n",
       " 'api.dailymotion.com': [396, 40L],\n",
       " 'stackexchange.com': [2139, 3L],\n",
       " 'web.buddytv.com': [1869, 4L],\n",
       " 'pic.dhe.ibm.com': [445, 34L],\n",
       " 'forum.doctissimo.fr': [4386, 1L],\n",
       " 'faa.linternaute.com': [1632, 5L],\n",
       " 'www.lamalledemarie.com': [1196, 8L],\n",
       " 'www.bwin.fr': [707, 17L],\n",
       " 'i1-js-14-3-01-11074-239188531-i.init.cedexis-radar.net': [3664, 1L],\n",
       " 'office14client.microsoft.com': [548, 25L],\n",
       " 'cid-9eb56df34664a58.users.storage.live.com': [3320, 1L],\n",
       " 'i1-js-14-3-01-10077-64220993-i.init.cedexis-radar.net': [3824, 1L],\n",
       " 'commondatastorage.googleapis.com': [2633, 2L],\n",
       " '6h6efur6lm.b.ad6media.fr': [3081, 2L],\n",
       " 'www.ca-centrefrance.fr': [561, 24L],\n",
       " 'files.player.mediabong.com': [2150, 3L],\n",
       " 'www.mathrice.org': [1416, 6L],\n",
       " 'i.dell.com': [685, 18L],\n",
       " 'core.vntsm.com': [4695, 1L],\n",
       " 'cfa.priceminister.com': [3917, 1L],\n",
       " 'i2.technet.microsoft.com': [1439, 6L],\n",
       " 'www.otakia.com': [1716, 5L],\n",
       " 'www.accenture.com': [599, 22L],\n",
       " 'i-cms.journaldesfemmes.com': [3832, 1L],\n",
       " 'cookieb.mythings.com': [2662, 2L],\n",
       " 'fda.linternaute.com': [2644, 2L],\n",
       " '4wa5x9fgbp.b.ad6media.fr': [2765, 2L],\n",
       " 'i1-js-14-3-01-10077-234229257-i.init.cedexis-radar.net': [4403, 1L],\n",
       " 'media.comprendrechoisir.com': [3515, 1L],\n",
       " 'delivery.ctasnet.com': [2984, 2L],\n",
       " 'dba-oracle.com': [2987, 2L],\n",
       " 'www.lotame.com': [1583, 5L],\n",
       " 'fr.netbeans.org': [2597, 2L],\n",
       " 'www.amazon.fr': [442, 35L],\n",
       " 'www.ressources-solidaires.org': [2183, 3L],\n",
       " 'sufco.univ-montp3.fr': [3516, 1L],\n",
       " 'i1-js-14-3-01-11074-112249999-i.init.cedexis-radar.net': [3828, 1L],\n",
       " 'www.slaya.fr': [4543, 1L],\n",
       " 'ezs3.s3.amazonaws.com': [3105, 2L],\n",
       " 'pmp.mxptint.net': [4507, 1L],\n",
       " 'dev.twitter.com': [491, 30L],\n",
       " 'dcc.linternaute.com': [4367, 1L],\n",
       " '160.92.123.193': [185, 91L],\n",
       " 'bab.journaldunet.com': [3756, 1L],\n",
       " 'cdd.linternaute.com': [4331, 1L],\n",
       " 'www.developpez.com': [104, 164L],\n",
       " 'mt1.googleapis.com': [181, 93L],\n",
       " 'oniseptv.onisep.fr': [1969, 4L],\n",
       " 'www.crous-clermont.fr': [972, 11L],\n",
       " 'www.facebook.com': [5, 4141L],\n",
       " 'ddc.journaldunet.com': [2439, 3L],\n",
       " 'www.madagascar-embassy.ca': [2532, 3L],\n",
       " 'www.byperiscope.com': [194, 87L],\n",
       " 'jl2tho.blogspot.com': [1086, 9L],\n",
       " 'www.dlcompare.fr': [2726, 2L],\n",
       " 'crimtan.com': [1437, 6L],\n",
       " 'www.birt-exchange.org': [4528, 1L],\n",
       " 'fr.sports.yahoo.com': [737, 16L],\n",
       " 'www.redhat.com': [1843, 4L],\n",
       " 'yur03wdr95.b.ad6media.fr': [4524, 1L],\n",
       " 'i1-js-14-3-01-11074-730367211-i.init.cedexis-radar.net': [4480, 1L],\n",
       " 's.codeproject.com': [2106, 3L],\n",
       " 'ca.m.sfr.im': [3451, 1L],\n",
       " 'ocsp.entrust.net': [306, 52L],\n",
       " 'perso0.free.fr': [1443, 6L],\n",
       " 'www.info.univ-angers.fr': [3170, 2L],\n",
       " 'lossietereinos.com': [4908, 1L],\n",
       " 'n5.hal9000.redintelligence.net': [4578, 1L],\n",
       " 'i1-js-14-3-01-11074-297407461-i.init.cedexis-radar.net': [3733, 1L],\n",
       " 'www.mr.refer.org': [4199, 1L],\n",
       " 'deliv.leboncoin.fr': [98, 179L],\n",
       " 'litbimg8.rightinthebox.com': [2933, 2L],\n",
       " 'sejour.voyages-sncf.com': [3253, 2L],\n",
       " 'courses.carrefour.fr': [1849, 4L],\n",
       " 'r5---sn-cg07lues.googlevideo.com': [2966, 2L],\n",
       " 'profs.cmaisonneuve.qc.ca': [1177, 8L],\n",
       " 'cntr.adrcntr.com': [935, 12L],\n",
       " 's6.scribdassets.com': [1247, 7L],\n",
       " 'www.levriersansfrontiere.com': [1960, 4L],\n",
       " 'ymettier.free.fr': [3154, 2L],\n",
       " 'ibeu2.mookie1.com': [572, 24L],\n",
       " 'fbcdn-photos-d-a.akamaihd.net': [291, 56L],\n",
       " 'www.irma-grenoble.com': [1013, 10L],\n",
       " 'marketplace.eclipse.org': [198, 86L],\n",
       " 'youtu.be': [4527, 1L],\n",
       " 'books.google.fr': [366, 43L],\n",
       " 'thyv54em90.b.ad6media.fr': [1664, 5L],\n",
       " 'md1.libe.com': [1979, 4L],\n",
       " 'www.sqlpac.com': [1539, 6L],\n",
       " 'www.codeblocks.org': [859, 13L],\n",
       " 'www.info-3000.com': [4673, 1L],\n",
       " 'sems.sas.com': [3423, 1L],\n",
       " 'i1-js-14-3-01-10083-735992672-i.init.cedexis-radar.net': [3825, 1L],\n",
       " 'www.regioncentre.fr': [991, 11L],\n",
       " 'esp.pagesjaunes.fr': [2622, 2L],\n",
       " 'telechargement.ter-sncf.com': [1296, 7L],\n",
       " 'sante.journaldesfemmes.com': [1521, 6L],\n",
       " 'brandalley-box.akio-solutions.com': [629, 20L],\n",
       " 'www.surinvitation.com': [1530, 6L],\n",
       " 'iad.rackspace.bench.cedexis.com': [990, 11L],\n",
       " 'openlayers.org': [2014, 4L],\n",
       " 'yhp.mxptint.net': [4658, 1L],\n",
       " 'img.psychologies.com': [1826, 4L],\n",
       " 'img15.societe.com': [2705, 2L],\n",
       " 'eulerian.netbooster.com': [975, 11L],\n",
       " 'smartraveller.gov.au': [3400, 1L],\n",
       " 'stats.stackexchange.com': [2851, 2L],\n",
       " 'de.tynt.com': [1306, 7L],\n",
       " 'ptc.uquebec.ca': [867, 13L],\n",
       " 'www.m2iformation.fr': [2773, 2L],\n",
       " 'plus.lefigaro.fr': [1386, 6L],\n",
       " 'onlinestores.metaservices.microsoft.com': [2891, 2L],\n",
       " 'search.yves-rocher.fr': [1434, 6L],\n",
       " 'bks5.books.google.fr': [2402, 3L],\n",
       " 'fde.linternaute.com': [2643, 2L],\n",
       " 'serv3.vizury.com': [766, 16L],\n",
       " 'www.hospitals.be': [2952, 2L],\n",
       " 'ead.linternaute.com': [2608, 2L],\n",
       " 'gdc.indeed.com': [2012, 4L],\n",
       " 'www.youscribe.com': [340, 47L],\n",
       " 'balsamik.commander1.com': [3584, 1L],\n",
       " 'hsrd.yahoo.com': [1208, 8L],\n",
       " 'aminelgareh.wordpress.com': [2918, 2L],\n",
       " 'a.travel-assets.com': [2171, 3L],\n",
       " 'www.verif.com': [1178, 8L],\n",
       " 'media.brandalley.com': [308, 52L],\n",
       " 's27.postimg.org': [3211, 2L],\n",
       " 'ade.journaldunet.com': [4692, 1L],\n",
       " 'static.s-sfr.fr': [317, 51L],\n",
       " 'trk-fr.makazi.com': [2085, 4L],\n",
       " 'www.nbcnews.com': [3139, 2L],\n",
       " 'player.vimeo.com': [265, 62L],\n",
       " 'yieldaffiliate.com': [4110, 1L],\n",
       " 'www.programcreek.com': [881, 13L],\n",
       " 'static.ak.facebook.com': [18, 1265L],\n",
       " 'www.gamergen.com': [1820, 4L],\n",
       " 'www.tuto-dba-oracle.com': [2073, 4L],\n",
       " 'cfe.journaldunet.com': [3428, 1L],\n",
       " 'foglio.basilic.io': [892, 13L],\n",
       " 'www.editionstechnip.com': [4827, 1L],\n",
       " 'a137.idata.over-blog.com': [2817, 2L],\n",
       " 'www.ats.ucla.edu': [4872, 1L],\n",
       " 'www.parisjob.com': [4519, 1L],\n",
       " 'c.travel-assets.com': [3012, 2L],\n",
       " 'www.paypal.com': [643, 19L],\n",
       " 'webr.emv2.com': [1871, 4L],\n",
       " 'yep.video.yahoo.com': [690, 18L],\n",
       " 's7.scribdassets.com': [953, 11L],\n",
       " 'www.yceml.net': [2108, 3L],\n",
       " 'zor.livefyre.com': [1371, 7L],\n",
       " 'www.uk.embassy.gov.au': [1617, 5L],\n",
       " 'static.ning.com': [2093, 3L],\n",
       " 'www.rd.ca': [4590, 1L],\n",
       " 'gg.google.com': [77, 267L],\n",
       " 'www.pagesjaunes.fr': [704, 18L],\n",
       " 'www.talendforge.org': [241, 71L],\n",
       " 'www.larousse.fr': [1601, 5L],\n",
       " 'g.microsoft.com': [2552, 3L],\n",
       " 'www.spc.univ-lyon1.fr': [1926, 4L],\n",
       " 'www.conseilsmarketing.com': [1123, 9L],\n",
       " 'rd.trovit.com': [3266, 2L],\n",
       " 'logo.flixfacts.co.uk': [2140, 3L],\n",
       " 'i1-js-14-3-01-11074-905782560-i.init.cedexis-radar.net': [3949, 1L],\n",
       " 'www.maxitoys.fr': [776, 15L],\n",
       " 'www.lasergame-evolution.com': [1353, 7L],\n",
       " 'cbv.sfr.bench.cedexis.com': [2751, 2L],\n",
       " 'tempsreel.nouvelobs.com': [964, 11L],\n",
       " 'brandalley-acc.akio-solutions.com': [1128, 9L],\n",
       " 'img.over-blog-kiwi.com': [4826, 1L],\n",
       " 'www.ucl.ac.uk': [2329, 3L],\n",
       " 'netcologne.dl.sourceforge.net': [2000, 4L],\n",
       " 'clicks.beap.bc.yahoo.com': [262, 63L],\n",
       " 'um.simpli.fi': [128, 129L],\n",
       " 'www.powerarchiver.com': [509, 28L],\n",
       " 'rquid.blogspot.com': [4499, 1L],\n",
       " 'geo0.ggpht.com': [113, 151L],\n",
       " 't.datvantage.com': [1169, 8L],\n",
       " 'videosfr.s3.amazonaws.com': [459, 33L],\n",
       " 'www.luminate.com': [2494, 3L],\n",
       " 'gce-us-central1-a.bench.cedexis.com': [1027, 10L],\n",
       " 'adobe.tt.omtrdc.net': [2912, 2L],\n",
       " 'erp.ebizfun.fr': [4320, 1L],\n",
       " 'i2.services.social.microsoft.com': [2505, 3L],\n",
       " 'compose.mail.yahoo.com': [4076, 1L],\n",
       " 'www.yasni.info': [890, 13L],\n",
       " 'fr.openclassrooms.com': [36, 662L],\n",
       " 'i1-js-14-3-01-11074-625661358-i.init.cedexis-radar.net': [4016, 1L],\n",
       " 'recruteurs.apec.fr': [1680, 5L],\n",
       " 'stats.adobe.com': [947, 11L],\n",
       " 'www.piloter.org': [1284, 7L],\n",
       " 'df9v6ngw2bw7n.cloudfront.net': [1165, 8L],\n",
       " 'www.visa4uk.fco.gov.uk': [3056, 2L],\n",
       " 'livestats.fr': [319, 50L],\n",
       " 'secure.regionsjob.com': [3413, 1L],\n",
       " 'static1.get-the-look.fr': [3638, 1L],\n",
       " 'repo.maven.apache.org': [109, 157L],\n",
       " 'forum-usages-cooperatifs.net': [3636, 1L],\n",
       " 'master.dl.sourceforge.net': [2993, 2L],\n",
       " 'akio-1-17.akio-solutions.com': [542, 26L],\n",
       " 'maps.google.com': [101, 167L],\n",
       " 'public.dhe.ibm.com': [653, 19L],\n",
       " 'ts1.mm.bing.net': [857, 13L],\n",
       " 'www.devenirplusefficace.com': [4863, 1L],\n",
       " 'newsrss.bbc.co.uk': [2594, 2L],\n",
       " 'ca.sfr.im': [3471, 1L],\n",
       " 'edge.sharethis.com': [522, 27L],\n",
       " 'ak.c.ooyala.com': [419, 37L],\n",
       " 'laurent.leturgez.free.fr': [2037, 4L],\n",
       " 'common.osimatic.eu': [4075, 1L],\n",
       " 'www.knmi.nl': [2831, 2L],\n",
       " 'www.gites-de-france.com': [1507, 6L],\n",
       " 'actualite.20minutes.fr': [4265, 1L],\n",
       " '13.docs.google.com': [2886, 2L],\n",
       " 'i1-js-14-3-01-11074-503806994-i.init.cedexis-radar.net': [3961, 1L],\n",
       " 'i1-js-14-3-01-12160-834693108-i.init.cedexis-radar.net': [3443, 1L],\n",
       " 'fr.92.classic.clickintext.net': [2030, 4L],\n",
       " 'img.baidu.com': [1763, 5L],\n",
       " 'dbd.linternaute.com': [2619, 2L],\n",
       " 'i1-js-14-3-01-11074-353276956-i.init.cedexis-radar.net': [3751, 1L],\n",
       " 'rd.yahoo.com': [4767, 1L],\n",
       " 'www.annuairedeforums.com': [4873, 1L],\n",
       " 'ezs3bdc753ef0d872cf5f3ec7cb48ab9c6cd.s3.amazonaws.com': [3108, 2L],\n",
       " 'miniimg4.rightinthebox.com': [301, 53L],\n",
       " 'metrics.apple.com': [1158, 8L],\n",
       " 'img.clubic.com': [1808, 4L],\n",
       " 'i1-js-14-3-01-11074-420491346-i.init.cedexis-radar.net': [3855, 1L],\n",
       " 'feed.theplatform.com': [3178, 2L],\n",
       " 'www.lignemobile.com': [4612, 1L],\n",
       " 's29.postimg.org': [3216, 2L],\n",
       " 'manoa.hawaii.edu': [636, 20L],\n",
       " 'www.erasme.org': [1907, 4L],\n",
       " 'flv-player.net': [4547, 1L],\n",
       " 'dtm.weddingpaperdivas.com': [3833, 1L],\n",
       " 'api.ning.com': [4430, 1L],\n",
       " 'byperiscopfr.track.emarketing-factory.com': [297, 54L],\n",
       " 'www.hawaii.edu': [722, 17L],\n",
       " 'account.goodgamestudios.com': [4119, 1L],\n",
       " 'cip.gagnoo.com': [462, 33L],\n",
       " 'fbcdn-sphotos-a-a.akamaihd.net': [279, 59L],\n",
       " 'style2.ad6.fr': [618, 21L],\n",
       " 'www.paypalobjects.com': [1062, 10L],\n",
       " 'www.gravatar.com': [119, 138L],\n",
       " 'www.chu-clermontferrand.fr': [120, 138L],\n",
       " 'lelab.europe1.fr': [3469, 1L],\n",
       " 'media.expedia.com': [635, 20L],\n",
       " 'www.lahalle.com': [3167, 2L],\n",
       " 'assets5.lefigaro.fr': [1455, 6L],\n",
       " 'i1-js-14-3-01-11074-87293069-i.init.cedexis-radar.net': [3936, 1L],\n",
       " 'media.query.yahoo.com': [562, 24L],\n",
       " 'kasereka.info': [4324, 1L],\n",
       " 'a69.g.akamai.net': [1719, 5L],\n",
       " 'devshed.disqus.com': [3683, 1L],\n",
       " 'i1-js-14-3-01-11544-647324421-i.init.cedexis-radar.net': [3441, 1L],\n",
       " 'www.secure-res.com': [1918, 4L],\n",
       " 'a.fsdn.com': [408, 38L],\n",
       " 'maps.googleapis.com': [40, 559L],\n",
       " 'www.mibawards.ca': [4666, 1L],\n",
       " 'fbcdn-sphotos-h-a.akamaihd.net': [235, 74L],\n",
       " 'transact-can.cedexis.com': [1140, 9L],\n",
       " 'bks9.books.google.fr': [2782, 2L],\n",
       " '193.164.196.30': [414, 38L],\n",
       " 'media.histoiredor.com': [432, 36L],\n",
       " 'www.courseapied.net': [1340, 7L],\n",
       " 'ides.geol.u-psud.fr': [2953, 2L],\n",
       " 'bay178.afx.ms': [750, 16L],\n",
       " 'fbb.linternaute.com': [2488, 3L],\n",
       " 'i1-js-14-3-01-11074-212110788-i.init.cedexis-radar.net': [3677, 1L],\n",
       " 'i1-js-14-3-01-11074-758263039-i.init.cedexis-radar.net': [3883, 1L],\n",
       " '0.drive.google.com': [323, 49L],\n",
       " 'www.dataprix.net': [1801, 4L],\n",
       " 'video.journaldesfemmes.com': [1332, 7L],\n",
       " 'images.sourceforge.net': [1050, 10L],\n",
       " 'aab.journaldunet.com': [4593, 1L],\n",
       " 'www.editions-organisation.com': [1802, 4L],\n",
       " 'admaym.com': [646, 19L],\n",
       " 'cache.media.education.gouv.fr': [1194, 8L],\n",
       " 'static.actusports.fr': [3535, 1L],\n",
       " 'juicing-fr.mo7e.com': [4194, 1L],\n",
       " '497-bmk-910.mktoresp.com': [1010, 10L],\n",
       " 'support.euro.dell.com': [1312, 7L],\n",
       " 'tracking.jules.com': [1894, 4L],\n",
       " 'i1-js-14-3-01-11074-119249028-i.init.cedexis-radar.net': [3703, 1L],\n",
       " '865-tqb-861.mktoresp.com': [2247, 3L],\n",
       " 'www.banquepopulaire.fr': [1589, 5L],\n",
       " 's1973398186.t.eloqua.com': [1218, 8L],\n",
       " 'mj3j3nqk0n.b.ad6media.fr': [1794, 4L],\n",
       " 'media.education.gouv.fr': [3041, 2L],\n",
       " 'era.easyvoyage.com': [4275, 1L],\n",
       " 'd0.histats.12mlbe.com': [2656, 2L],\n",
       " 'smeric.developpez.com': [2392, 3L],\n",
       " 'mg.mail.yahoo.com': [142, 115L],\n",
       " 'fr.conv.indeed.com': [2338, 3L],\n",
       " 'imgv2-4.scribdassets.com': [751, 16L],\n",
       " 'st.chatango.com': [1529, 6L],\n",
       " 'www.all-up.com': [4406, 1L],\n",
       " 'static.sb.am': [4787, 1L],\n",
       " 'i1-js-14-3-01-11544-893170590-i.init.cedexis-radar.net': [3454, 1L],\n",
       " 'pub.cotecine.fr': [1989, 4L],\n",
       " 'ced.linternaute.com': [2219, 3L],\n",
       " 'rtb01-c.eu.dataxu.net': [4215, 1L],\n",
       " 'css.maxdesign.com.au': [4083, 1L],\n",
       " 'dw.cbsi.com': [1713, 5L],\n",
       " 'tracking.fan2.fr': [1637, 5L],\n",
       " 'www.webutations.net': [4236, 1L],\n",
       " 'video.mediabong.com': [1634, 5L],\n",
       " 'www.inria.fr': [2051, 4L],\n",
       " 'guide-astro.fr': [4383, 1L],\n",
       " 'dz-telecharger.blogspot.com': [4210, 1L],\n",
       " 'gatherer.wizards.com': [1248, 7L],\n",
       " 'cdn3-public.ladmedia.fr': [2303, 3L],\n",
       " 'www.reportingbusiness.fr': [1870, 4L],\n",
       " 'cef.linternaute.com': [4340, 1L],\n",
       " 'api.facebook.com': [307, 52L],\n",
       " 'ml.ventes-privees-du-jour.com': [3051, 2L],\n",
       " 'www.morganslibrary.org': [3165, 2L],\n",
       " 'common-en.sensagent.com': [2446, 3L],\n",
       " 'cid-6aea46922ca72343.users.storage.live.com': [1132, 9L],\n",
       " 'us-sw1.joyent.bench.cedexis.com': [1139, 9L],\n",
       " 'pad1.whstatic.com': [2963, 2L],\n",
       " 'static.les-horaires.fr': [3255, 2L],\n",
       " 'eros.usgs.gov': [427, 36L],\n",
       " 'img137.imageshack.us': [3558, 1L],\n",
       " 'sharetv.org': [3531, 1L],\n",
       " 'varlyproject.files.wordpress.com': [2742, 2L],\n",
       " 'www.bfs.admin.ch': [2942, 2L],\n",
       " 'ak.dynamic.t1.tiles.virtualearth.net': [4415, 1L],\n",
       " 'i1-js-14-3-01-11544-266846355-i.init.cedexis-radar.net': [3371, 1L],\n",
       " 'r15.imgfast.net': [2672, 2L],\n",
       " 'mavenhub.com': [2628, 2L],\n",
       " 'www.spi0n.com': [931, 12L],\n",
       " 'classiques.uqac.ca': [3339, 1L],\n",
       " 'di63.shoppingshadow.com': [4681, 1L],\n",
       " 'www.bestformulations.com': [2557, 3L],\n",
       " 'i.ssix.io': [1250, 7L],\n",
       " 'api.choicestream.com': [4429, 1L],\n",
       " 'rubicon-match.dotomi.com': [294, 55L],\n",
       " 'netstorage.lequipe.fr': [613, 21L],\n",
       " 'www.stid.com': [2365, 3L],\n",
       " 'www.scribd.com': [954, 11L],\n",
       " 'zapactu.disqus.com': [2919, 2L],\n",
       " 'old.ecoledubois.fr': [3504, 1L],\n",
       " 'images.forbes.com': [994, 11L],\n",
       " 't.newsletter.brandalley.com': [1016, 10L],\n",
       " 'ad.foxitsoftware.com': [800, 15L],\n",
       " 'unicm-nyc.netmng.com': [3374, 1L],\n",
       " 'media.showroomprive.com': [3795, 1L],\n",
       " 'i55.servimg.com': [4814, 1L],\n",
       " 'www.risques.tv': [2130, 3L],\n",
       " 'dtm.cabelas.com': [3140, 2L],\n",
       " 'gops.usw105.mobstor.vip.gq1.yahoo.com': [3597, 1L],\n",
       " 'www.ibm.com': [293, 55L],\n",
       " 'i35.servimg.com': [4813, 1L],\n",
       " 'www.lemonde.fr': [428, 36L],\n",
       " 'forums.macg.co': [1076, 9L],\n",
       " 'www.has-sante.fr': [1020, 10L],\n",
       " 'api.brightcove.com': [2455, 3L],\n",
       " 'ch.tbe.taleo.net': [2050, 4L],\n",
       " 'api.bing.com': [93, 205L],\n",
       " 'i1-js-14-3-01-11544-270261077-i.init.cedexis-radar.net': [3370, 1L],\n",
       " 'faa.journaldunet.com': [2615, 2L],\n",
       " 'ws-cdi.web-boosting.net': [517, 27L],\n",
       " 'dmros.ysm.yahoo.com': [981, 11L],\n",
       " 'otdylw8hct.b.ad6media.fr': [1973, 4L],\n",
       " 'www.rte-france.com': [3106, 2L],\n",
       " 'limelight.cedexis.com': [221, 78L],\n",
       " 'www.pressealgerie.fr': [834, 14L],\n",
       " 'i1-js-14-3-01-11074-833293475-i.init.cedexis-radar.net': [3872, 1L],\n",
       " 'spc.ceedgflebejfafnelgcehefe.ijs.venatusmedia-pubnet.fr.telemetryverification.net': [864,\n",
       "  13L],\n",
       " 'piwik.netsample.com': [3209, 2L],\n",
       " 'angularjs.org': [2248, 3L],\n",
       " 'img1.17k.com': [2581, 2L],\n",
       " 'office.microsoft.com': [218, 78L],\n",
       " 'www.hot-live-chat.com': [3171, 2L],\n",
       " 'images.cuisine-facile.com': [2309, 3L],\n",
       " 'www.infres.enst.fr': [3036, 2L],\n",
       " 'korriban.mediabong.com': [1988, 4L],\n",
       " 'broadcast.piximedia.fr': [594, 22L],\n",
       " 'targeting.unrulymedia.com': [4310, 1L],\n",
       " 'd3dy5gmtp8yhk7.cloudfront.net': [2722, 2L],\n",
       " 'i1-js-14-3-01-11074-51513411-i.init.cedexis-radar.net': [3966, 1L],\n",
       " 'yupeek.com': [928, 12L],\n",
       " 'i1-js-14-3-01-10077-133179756-i.init.cedexis-radar.net': [4399, 1L],\n",
       " 'www.iro.umontreal.ca': [2715, 2L],\n",
       " 'www.linux-france.org': [4869, 1L],\n",
       " 'cid-b1a1925cdfe846a7.users.storage.live.com': [440, 35L],\n",
       " 'd389zggrogs7qo.cloudfront.net': [4858, 1L],\n",
       " 'www.alfi.fr': [2448, 3L],\n",
       " 'www.modele-cv-lettre.com': [1548, 6L],\n",
       " 'cran.r-project.org': [888, 13L],\n",
       " 'a248.e.akamai.net': [405, 39L],\n",
       " 'roadef2009.loria.fr': [3861, 1L],\n",
       " 'h2.msn.com': [147, 112L],\n",
       " 'd13pix9kaak6wt.cloudfront.net': [4812, 1L],\n",
       " 'www.java2s.com': [1394, 6L],\n",
       " 'static.lequipe.fr': [389, 41L],\n",
       " 'i1-js-14-3-01-11074-606903505-i.init.cedexis-radar.net': [4055, 1L],\n",
       " 'i1-js-14-3-01-11544-895626397-i.init.cedexis-radar.net': [3402, 1L],\n",
       " 'i1-js-14-3-01-11074-470364725-i.init.cedexis-radar.net': [3997, 1L],\n",
       " 'www.elance.com': [3094, 2L],\n",
       " 'sflogo.sourceforge.net': [1207, 8L],\n",
       " 'edinaschools.org': [4800, 1L],\n",
       " 'sin.savvis.bench.cedexis.com': [1484, 6L],\n",
       " 'u.videostep.com': [1289, 7L],\n",
       " 'com-sfr.netmng.com': [1392, 6L],\n",
       " 'b-i.forbesimg.com': [2155, 3L],\n",
       " 'i1-js-14-3-01-11544-368273410-i.init.cedexis-radar.net': [3310, 1L],\n",
       " 'ultraserve.s3-website-us-east-1.amazonaws.com': [2418, 3L],\n",
       " 'i1-js-14-3-01-11544-702482826-i.init.cedexis-radar.net': [3434, 1L],\n",
       " 'i1-js-14-3-01-12160-182433560-i.init.cedexis-radar.net': [3403, 1L],\n",
       " 'lejournaldeleco.fr': [2178, 3L],\n",
       " 'www.capital.fr': [494, 30L],\n",
       " 'i1-js-14-3-01-11074-397027401-i.init.cedexis-radar.net': [3718, 1L],\n",
       " 'www.thefreedictionary.com': [1857, 4L],\n",
       " 'dw.cnet.com': [4211, 1L],\n",
       " 'halc.iadvize.com': [76, 268L],\n",
       " 'algs4.cs.princeton.edu': [2859, 2L],\n",
       " 'xslttest.appspot.com': [438, 35L],\n",
       " 'le-menhir.fr': [870, 13L],\n",
       " 'sita-atl.bench.cedexis.com': [2056, 4L],\n",
       " 'ic.pics.livejournal.com': [4817, 1L],\n",
       " 'speedserve.s3-website-us-east-1.amazonaws.com': [2360, 3L],\n",
       " 'fr.web.img2.acsta.net': [882, 13L],\n",
       " 'media4.cadeaux.com': [3336, 1L],\n",
       " 'i1-js-14-3-01-11074-415607820-i.init.cedexis-radar.net': [3726, 1L],\n",
       " 'windows.microsoft.com': [164, 102L],\n",
       " 'ffb.linternaute.com': [2665, 2L],\n",
       " 'ec.c.ooyala.com': [1856, 4L],\n",
       " 'www.groupon.fr': [539, 26L],\n",
       " 'playout.3qsdn.com': [2026, 4L],\n",
       " 'tag.audiencetv.hiro.tv': [1764, 5L],\n",
       " 'thumbs4.ebaystatic.com': [1663, 5L],\n",
       " 'ec2-eu-west-1a.cedexis.com': [665, 19L],\n",
       " 'www.adobe.com': [749, 16L],\n",
       " 'r3---sn-gxo5uxg-jqbe.googlevideo.com': [7, 3244L],\n",
       " 'fr.91.clickintext.net': [3183, 2L],\n",
       " 'twitter.com': [20, 1204L],\n",
       " 'img18.societe.com': [2684, 2L],\n",
       " 'www.francetelevisions.fr': [4811, 1L],\n",
       " 'banniere.reussissonsensemble.fr': [172, 97L],\n",
       " 'i1-js-14-3-01-11544-544528902-i.init.cedexis-radar.net': [3325, 1L],\n",
       " 'share.static.skyrock.net': [3553, 1L],\n",
       " 'i1-js-14-3-01-11074-439518065-i.init.cedexis-radar.net': [3958, 1L],\n",
       " 'espace-client.sfr.fr': [2186, 3L],\n",
       " 'java.sun.com': [240, 72L],\n",
       " 'forum.forumactif.com': [1449, 6L],\n",
       " 'roget.biz': [1328, 7L],\n",
       " 'www.miniinthebox.com': [327, 48L],\n",
       " 'download.eclipse.org': [349, 46L],\n",
       " 'openid.net': [1877, 4L],\n",
       " 'www.grouponitalia.com': [4610, 1L],\n",
       " 'd20i4x3ol1vz2n.cloudfront.net': [4146, 1L],\n",
       " 'api-read.facebook.com': [1783, 4L],\n",
       " 'www.tazzaz.com': [4092, 1L],\n",
       " 'seal.digicert.com': [2185, 3L],\n",
       " 'u.jimdo.com': [663, 19L],\n",
       " 'static.ad4mat.net': [2062, 4L],\n",
       " 'calendar.google.com': [2590, 2L],\n",
       " 'i1-js-14-3-01-11074-862051783-i.init.cedexis-radar.net': [3879, 1L],\n",
       " 'metrics.cdiscount.com': [404, 39L],\n",
       " 'www.jeux-geographiques.com': [144, 114L],\n",
       " 'static.galerieslafayette.com': [2408, 3L],\n",
       " 'www.stats.ox.ac.uk': [4504, 1L],\n",
       " 'img2.societe.com': [3521, 1L],\n",
       " 'www.parisetudiant.com': [628, 20L],\n",
       " 'www.francetv.fr': [2002, 4L],\n",
       " 'bfss.cr-auvergne.fr': [413, 38L],\n",
       " 'uservoice.com': [4742, 1L],\n",
       " 'sgeieg.fr': [2028, 4L],\n",
       " 'cnfg.toolbarservices.com': [655, 19L],\n",
       " 'geolab-clermont.fr': [4565, 1L],\n",
       " 'www.capcampus.com': [919, 12L],\n",
       " 'www.symtrax.fr': [2394, 3L],\n",
       " 'www.edfrecrute.com': [1346, 7L],\n",
       " 'fac.linternaute.com': [1472, 6L],\n",
       " 'voyagerloin.com': [1205, 8L],\n",
       " 'www.usgs.gov': [1778, 5L],\n",
       " 'www.sanmarina.fr': [3069, 2L],\n",
       " 'www.cfasup2000.net': [3802, 1L],\n",
       " 'k.ilius.net': [3818, 1L],\n",
       " 'fbcdn-sphotos-f-a.akamaihd.net': [200, 85L],\n",
       " 'litbimg6.rightinthebox.com': [2931, 2L],\n",
       " 'ajax.cloudflare.com': [778, 15L],\n",
       " 'tk.ilius.net': [3540, 1L],\n",
       " 'integrate.factiva.com': [2077, 4L],\n",
       " 'www.cg57.fr': [2793, 2L],\n",
       " 'c1.adform.net': [347, 46L],\n",
       " 'bed.linternaute.com': [3258, 2L],\n",
       " 'espace-client.m.sfr.fr': [3787, 1L],\n",
       " 'darksleep.com': [4152, 1L],\n",
       " 'www.finaland.com': [2710, 2L],\n",
       " 'img.publicidees.com': [2957, 2L],\n",
       " 'zurich.cloudsigma.cedexis.com': [4661, 1L],\n",
       " 'www.geolsoc.org.uk': [2829, 2L],\n",
       " 'i1-js-14-3-01-10077-984452141-i.init.cedexis-radar.net': [4469, 1L],\n",
       " 'i1-js-14-3-01-11074-323680647-i.init.cedexis-radar.net': [3746, 1L],\n",
       " 'imdoc.fr': [4107, 1L],\n",
       " 'en.wikipedia.org': [777, 15L],\n",
       " 'lh4.google.com': [2337, 3L],\n",
       " 'static.amazon.fr': [2852, 2L],\n",
       " 'js.cprogramming.com': [4803, 1L],\n",
       " 'perso.ensta-paristech.fr': [3684, 1L],\n",
       " 'iutpa.univ-pau.fr': [3843, 1L],\n",
       " 'vm.ger.leaseweb.bench.cedexis.com': [4625, 1L],\n",
       " 'www.skoda.fr': [2359, 3L],\n",
       " 'google-code-prettify.googlecode.com': [4407, 1L],\n",
       " 'x2.vindicosuite.com': [417, 37L],\n",
       " 'code.jquery.com': [244, 69L],\n",
       " 'd2o307dm5mqftz.cloudfront.net': [4691, 1L],\n",
       " 'media.vitrinemagique.com': [2616, 2L],\n",
       " 'aksb-a.akamaihd.net': [2226, 3L],\n",
       " 'playforfree.travian.fr': [727, 17L],\n",
       " 'bdm.capital.fr': [2526, 3L],\n",
       " 'horoscope.fr': [4388, 1L],\n",
       " 'cbjs.baidu.com': [2199, 3L],\n",
       " 'img20.societe.com': [3528, 1L],\n",
       " 'www.consoglobe.com': [2556, 3L],\n",
       " 'i1-js-14-3-01-11074-305185178-i.init.cedexis-radar.net': [3737, 1L],\n",
       " 'contact-mobile.sfr.fr': [4045, 1L],\n",
       " 'n4.hal9000.redintelligence.net': [2272, 3L],\n",
       " 'www.tf1.fr': [2399, 3L],\n",
       " 'cdn1-marketplace.vntsm.com': [2816, 2L],\n",
       " 'proxy-blu-people.directory.live.com': [227, 76L],\n",
       " 'img.dell.com': [2246, 3L],\n",
       " 'i1-js-14-3-01-11074-889446074-i.init.cedexis-radar.net': [3943, 1L],\n",
       " 'store.apple.com': [2182, 3L],\n",
       " 'browser-update.org': [1135, 9L],\n",
       " 'secure.shared.live.com': [97, 180L],\n",
       " 'img.zonebourse.com': [3000, 2L],\n",
       " 'contextweb-match.dotomi.com': [2039, 4L],\n",
       " 'i1-js-14-3-01-11074-373108888-i.init.cedexis-radar.net': [3727, 1L],\n",
       " 'www.outiror.com': [2341, 3L],\n",
       " 'www.forumimprimante.com': [1574, 5L],\n",
       " 'uk.savvis.bench.cedexis.com': [2467, 3L],\n",
       " 'www.darkknightarmoury.com': [2191, 3L],\n",
       " 'www.ticketac.com': [3193, 2L],\n",
       " 'epiphys.emn.fr': [1510, 6L],\n",
       " 'network.alfemminile.com': [828, 14L],\n",
       " 'i1-js-14-3-01-11074-589340895-i.init.cedexis-radar.net': [4048, 1L],\n",
       " 'sci.sciences.univ-bpclermont.fr': [448, 34L],\n",
       " 'i1-js-14-3-01-11074-112627276-i.init.cedexis-radar.net': [3805, 1L],\n",
       " 'unesdoc.unesco.org': [2691, 2L],\n",
       " 'france3midipyrennees.disqus.com': [4419, 1L],\n",
       " 'asset2.cbsistatic.com': [2195, 3L],\n",
       " 'c.fr.msn.com': [312, 51L],\n",
       " 'www.xl.com': [1265, 7L],\n",
       " 'news.fr.msn.com': [547, 26L],\n",
       " 'www.developpez.net': [59, 357L],\n",
       " 'wwwppeda.free.fr': [4176, 1L],\n",
       " 'petites-annonces.autoplus.fr': [1980, 4L],\n",
       " 'optimate.dl.sourceforge.net': [1876, 4L],\n",
       " 'fr.web.img6.acsta.net': [483, 31L],\n",
       " 'mo7e.com': [2884, 2L],\n",
       " 'dl.javafx.com': [254, 65L],\n",
       " 'sqlpro.developpez.com': [2307, 3L],\n",
       " 'www.slate.fr': [923, 12L],\n",
       " 'fr.aide.yahoo.com': [2032, 4L],\n",
       " 'www.ampl.com': [2560, 3L],\n",
       " 'www.histoiredor.com': [295, 55L],\n",
       " 'teras.slashdotmedia.com': [2154, 3L],\n",
       " 'airfrance.front.bannerfactory.ecritel.net': [1514, 6L],\n",
       " 'www.meltystyle.fr': [576, 23L],\n",
       " 'dub114.afx.ms': [1264, 7L],\n",
       " 'cdn-public.ladmedia.fr': [2648, 2L],\n",
       " 'www.google.com.pe': [168, 99L],\n",
       " 'n39.hal9000.redintelligence.net': [2694, 2L],\n",
       " 'www.meltybuzz.fr': [351, 45L],\n",
       " 's30.postimg.org': [4327, 1L],\n",
       " 'media.kpsule.me': [1309, 7L],\n",
       " 'www.magiclogixstaging.com': [3482, 1L],\n",
       " 'ftn.fortuneo.fr': [196, 87L],\n",
       " 'slip.madmoizelle.com': [2703, 2L],\n",
       " 'go.disqus.com': [288, 56L],\n",
       " 'wiki.eclipse.org': [1348, 7L],\n",
       " 'ts2.mm.bing.net': [942, 11L],\n",
       " 'www.google.be': [4854, 1L],\n",
       " 'www.la-lettre.com': [1580, 5L],\n",
       " 'github.global.ssl.fastly.net': [1414, 6L],\n",
       " 'utils.babylon.com': [2168, 3L],\n",
       " 'k.keyade.com': [1629, 5L],\n",
       " 'wenku.baidu.com': [924, 12L],\n",
       " 'www.carhire3000.com': [2930, 2L],\n",
       " 'chart.googleapis.com': [634, 20L],\n",
       " 'www.lesinrocks.com': [1066, 10L],\n",
       " 'html3.scribdassets.com': [763, 16L],\n",
       " 'i1-js-14-3-01-11544-127599669-i.init.cedexis-radar.net': [3351, 1L],\n",
       " 'www.bouyguestelecom.fr': [2544, 3L],\n",
       " 'cdnsl.coveritlive.com': [1415, 6L],\n",
       " 'www.cg29.fr': [1072, 9L],\n",
       " 'ak.dynamic.t0.tiles.virtualearth.net': [4412, 1L],\n",
       " 'lh3.ggpht.com': [742, 16L],\n",
       " 'www.brainsurface.com': [1256, 7L],\n",
       " 'i1-js-14-3-01-11544-756650358-i.init.cedexis-radar.net': [3430, 1L],\n",
       " 'medias.jules.fr': [694, 18L],\n",
       " 'tags.master-perf-tools.com': [1635, 5L],\n",
       " 'www.cotedor.fr': [2473, 3L],\n",
       " 'www.wizbii.com': [1545, 6L],\n",
       " 'n23.hal9000.redintelligence.net': [4203, 1L],\n",
       " 'appmetrics.elance.com': [4829, 1L],\n",
       " 'static.liligo.com': [1223, 8L],\n",
       " 'media.regimedukan.com': [1101, 9L],\n",
       " '193.164.196.40': [368, 43L],\n",
       " 'www.buddytv.com': [1197, 8L],\n",
       " 'www.numericable.biz': [666, 19L],\n",
       " 'accounts.google.com': [10, 2089L],\n",
       " 'ban.unclejeans.com': [4244, 1L],\n",
       " 'www.emploi.bouyguestelecom.fr': [393, 40L],\n",
       " 'i1-js-14-3-01-11074-387306612-i.init.cedexis-radar.net': [3710, 1L],\n",
       " 'onapp.cedexis.com': [611, 21L],\n",
       " 'fae.journaldunet.com': [3620, 1L],\n",
       " 'adf.linternaute.com': [4131, 1L],\n",
       " 'blog.developpez.com': [2239, 3L],\n",
       " 'www.roseindia.net': [1457, 6L],\n",
       " 'www.caledonianpost.com': [1039, 10L],\n",
       " 't.qservz.com': [2696, 2L],\n",
       " 'ebe.journaldunet.com': [2716, 2L],\n",
       " 'posters.tripican.com': [4207, 1L],\n",
       " '7fa6l6mbu9.b.ad6media.fr': [3637, 1L],\n",
       " 'www.oscaro.com': [3162, 2L],\n",
       " 'skydrive.live.com': [116, 140L],\n",
       " 'static.iquesta.com': [234, 75L],\n",
       " 'geolab.univ-bpclermont.fr': [1365, 7L],\n",
       " 'mentions.squarepartners.com': [3510, 1L],\n",
       " 'www.wdemo.fr': [3083, 2L],\n",
       " 'google.ezakus.net': [1349, 7L],\n",
       " 'bea.linternaute.com': [3260, 2L],\n",
       " 'static.videostep.com': [922, 12L],\n",
       " 'r.ccmbg.com': [146, 113L],\n",
       " 'www.ebz.io': [1385, 6L],\n",
       " 'dtm.footlocker.com': [1720, 5L],\n",
       " 'khm0.googleapis.com': [401, 40L],\n",
       " 'www.lepoint.fr': [1080, 9L],\n",
       " 'lewebpedagogique.com': [1673, 5L],\n",
       " 'i1-js-14-3-01-11544-421750152-i.init.cedexis-radar.net': [3328, 1L],\n",
       " 'bcs.wenku.bdimg.com': [1841, 4L],\n",
       " 'media-1.fan2.fr': [2060, 4L],\n",
       " 'www.lesocial.fr': [2460, 3L],\n",
       " 'bshits.blogspirit.net': [4286, 1L],\n",
       " 'support.microsoft.com': [1517, 6L],\n",
       " 'laposte.net': [575, 23L],\n",
       " 'socialprofiles.zenfs.com': [110, 154L],\n",
       " 'i1-js-14-3-01-10013-489174752-i.init.cedexis-radar.net': [3814, 1L],\n",
       " 'hc.55labs.com': [1920, 4L],\n",
       " 'ts2.explicit.bing.net': [3298, 2L],\n",
       " 'r.bstatic.com': [2832, 2L],\n",
       " 'images.monmenu.fr': [2733, 2L],\n",
       " 'shell.windows.com': [272, 61L],\n",
       " 'pages-perso.luminy.univ-amu.fr': [4667, 1L],\n",
       " 'mt.google.com': [1275, 7L],\n",
       " 'vap2iad3.lijit.com': [4453, 1L],\n",
       " 'i1-js-14-3-01-11074-676250759-i.init.cedexis-radar.net': [3957, 1L],\n",
       " 'api.adyoulike.com': [375, 42L],\n",
       " 'fr.91.slidein.clickintext.net': [1450, 6L],\n",
       " 'i1-js-14-3-01-11074-845452184-i.init.cedexis-radar.net': [3876, 1L],\n",
       " 'rmdiscala.developpez.com': [3231, 2L],\n",
       " 'fr.reddit.com': [3189, 2L],\n",
       " 'www.ebay.fr': [2775, 2L],\n",
       " 'www.univ-valenciennes.fr': [4865, 1L],\n",
       " 'www.visainfoservices.com': [454, 33L],\n",
       " 'www.chu-rennes.fr': [4906, 1L],\n",
       " 'www.zupmage.eu': [4229, 1L],\n",
       " 'www.coaching.monster.fr': [4523, 1L],\n",
       " 'i1-js-14-3-01-10169-975759653-i.init.cedexis-radar.net': [4629, 1L],\n",
       " 'static.panoramio.com.storage.googleapis.com': [1734, 5L],\n",
       " 'jslog.krxd.net': [2264, 3L],\n",
       " 'safebrowsing-cache.google.com': [23, 1039L],\n",
       " 'www.recrute.bouyguestelecom.fr': [1451, 6L],\n",
       " 'encrypted.google.com': [1915, 4L],\n",
       " 'blogs.codes-sources.com': [4191, 1L],\n",
       " 'dtm.kidsfootlocker.com': [3822, 1L],\n",
       " 'cm.adgrx.com': [860, 13L],\n",
       " 'ce.lijit.com': [212, 81L],\n",
       " 'cdn-files.deezer.com': [668, 19L],\n",
       " 'nexus.ensighten.com': [380, 42L],\n",
       " 'images.surinvitation.com': [1261, 7L],\n",
       " 'creative.stayfriends.de': [2756, 2L],\n",
       " 'my.indeed.com': [3202, 2L],\n",
       " 'i1-js-14-3-01-11074-300071794-i.init.cedexis-radar.net': [3734, 1L],\n",
       " 'afb.linternaute.com': [3047, 2L],\n",
       " 'visualvm.java.net': [4447, 1L],\n",
       " 'www.u-psud.fr': [637, 20L],\n",
       " 'er.brandalley.fr': [1470, 6L],\n",
       " 'gawker.com': [4428, 1L],\n",
       " 'ag.ctnsnet.com': [2205, 3L],\n",
       " 'www.supinfo.fr': [4662, 1L],\n",
       " 'gb2.cedexis.swiftserve.com': [1003, 11L],\n",
       " 'www.oracle.com': [69, 293L],\n",
       " 'optim.dekalee.fr': [520, 27L],\n",
       " 'i1-js-14-3-01-11074-858120344-i.init.cedexis-radar.net': [3878, 1L],\n",
       " 'www.search.bouyguestelecom.fr': [2243, 3L],\n",
       " 'ak-w3.c.ooyala.com': [1338, 7L],\n",
       " 'img10.societe.com': [3512, 1L],\n",
       " 'blog.xebia.fr': [659, 19L],\n",
       " 'adm.fwmrm.net': [908, 12L],\n",
       " 'a01.gestionpub.com': [2241, 3L],\n",
       " 'fidelite-programme-voyageur.sncf.com': [1930, 4L],\n",
       " 'igm.u-pem.fr': [1798, 4L],\n",
       " 'www.topito.com': [1301, 7L],\n",
       " 'i2.wp.com': [701, 18L],\n",
       " 'adzerk-www.s3.amazonaws.com': [497, 29L],\n",
       " 'i1-js-14-3-01-11074-657065464-i.init.cedexis-radar.net': [4027, 1L],\n",
       " 'audience.visiblemeasures.com': [951, 11L],\n",
       " 'fbcdn-photos-c-a.akamaihd.net': [357, 45L],\n",
       " 'fpdownload2.macromedia.com': [193, 88L],\n",
       " 'www.esiee.fr': [3596, 1L],\n",
       " 'www.gdfsuez.com': [1582, 5L],\n",
       " 'imworld.aufeminin.com': [527, 27L],\n",
       " 'www.pietmondriaan.com': [4206, 1L],\n",
       " 'picasaweb.google.fr': [4755, 1L],\n",
       " 't1162.trafiz.net': [1641, 5L],\n",
       " 'i58.servimg.com': [2536, 3L],\n",
       " 'capcampus.net': [929, 12L],\n",
       " 'n5ctfw70ln.b.ad6media.fr': [1968, 4L],\n",
       " 'www.theworldcafe.com': [4570, 1L],\n",
       " 'superuser.com': [2996, 2L],\n",
       " '37.docs.google.com': [3061, 2L],\n",
       " 'www.actionsrh.com': [4389, 1L],\n",
       " 'store.storeimages.cdn-apple.com': [1109, 9L],\n",
       " 'i1-js-14-3-01-12160-617242077-i.init.cedexis-radar.net': [4462, 1L],\n",
       " 'medias.autoplus.fr': [1156, 8L],\n",
       " 'deptinfo.cnam.fr': [3525, 1L],\n",
       " 'nl.jules.com': [2994, 2L],\n",
       " 'statistique.enligne-fr.com': [1773, 5L],\n",
       " 'www.ut-capitole.fr': [2808, 2L],\n",
       " 'www.coveritlive.com': [498, 29L],\n",
       " 'www.dropbox.com': [150, 111L],\n",
       " 'www.cs.waikato.ac.nz': [2198, 3L],\n",
       " 'www.lexpress.fr': [1126, 9L],\n",
       " 'logger-02.vty.dailymotion.com': [756, 16L],\n",
       " 'education.oracle.com': [1356, 7L],\n",
       " 'copainsdavant.linternaute.com': [1014, 10L],\n",
       " 'ecvideo.aufeminin.com': [1212, 8L],\n",
       " 'cdnjs.cloudflare.com': [869, 13L],\n",
       " 'chandon13.free.fr': [4348, 1L],\n",
       " 'd3f8ykwhia686p.cloudfront.net': [4175, 1L],\n",
       " 'freefr.dl.sourceforge.net': [1436, 6L],\n",
       " 'www.i3s.unice.fr': [3307, 1L],\n",
       " 'www.bsimard.com': [1562, 5L],\n",
       " 'www.yves-rocher.fr': [1136, 9L],\n",
       " 'a.telemetrytaxonomy.net': [3082, 2L],\n",
       " 'rs2.scribd.com': [330, 48L],\n",
       " 'forums.oracle.com': [633, 20L],\n",
       " 'dynamic2.cedexis.com': [1692, 5L],\n",
       " 'fef.journaldunet.com': [4202, 1L],\n",
       " 'www.ensta-paristech.fr': [1605, 5L],\n",
       " 'ford-fr-livechat.s3ae.com': [3179, 2L],\n",
       " 'ajax.microsoft.com': [315, 51L],\n",
       " 'www.iae.univ-savoie.fr': [3493, 1L],\n",
       " 'i1-js-14-3-01-11074-638645016-i.init.cedexis-radar.net': [4021, 1L],\n",
       " 'cb.baidu.com': [1853, 4L],\n",
       " 'tag.webcompteur.com': [2729, 2L],\n",
       " 'n36.hal9000.redintelligence.net': [3786, 1L],\n",
       " 'thumbs.ebaystatic.com': [3577, 1L],\n",
       " 'www.9lessons.info': [4740, 1L],\n",
       " 'francofoliepolis.files.wordpress.com': [3575, 1L],\n",
       " 'repo1.maven.org': [1079, 9L],\n",
       " 'open.login.yahooapis.com': [3906, 1L],\n",
       " 'rd.springer.com': [1393, 6L],\n",
       " 'homescope.sfr.fr': [3849, 1L],\n",
       " 's-am.dp.yahoo.com': [2297, 3L],\n",
       " 'evintl-ocsp.verisign.com': [184, 91L],\n",
       " 'i1-js-14-3-01-10044-698893547-i.init.cedexis-radar.net': [3817, 1L],\n",
       " 'www.java-forums.org': [1889, 4L],\n",
       " 'dl-web.dropbox.com': [610, 21L],\n",
       " 'bsimard.disqus.com': [4187, 1L],\n",
       " 'img.over-blog.com': [480, 31L],\n",
       " 'www.agrojob.com': [2565, 3L],\n",
       " 'marilleauni.free.fr': [1307, 7L],\n",
       " 'youtube.com': [2429, 3L],\n",
       " 'artludique.com': [1528, 6L],\n",
       " 'assistance.sfr.fr': [2776, 2L],\n",
       " 'tracking.elasticad.net': [2843, 2L],\n",
       " 'orafrance.free.fr': [3946, 1L],\n",
       " 'blogs.skynet.be': [4278, 1L],\n",
       " 'www.pinterest.com': [4546, 1L],\n",
       " 'www.themig.com': [2485, 3L],\n",
       " 'fr.seafight.bigpoint.com': [4413, 1L],\n",
       " 'u-bbsvkwr1ct.mi.bkln.wc.s1.b.yahoodns.net': [3490, 1L],\n",
       " 'i1-js-14-3-01-11074-284363696-i.init.cedexis-radar.net': [3665, 1L],\n",
       " 'thumbs3.ebaystatic.com': [1662, 5L],\n",
       " 'www.consostatic.com': [2558, 3L],\n",
       " 'blog.paumard.org': [1827, 4L],\n",
       " 'www.proba.jussieu.fr': [4567, 1L],\n",
       " 'vacances.linternaute.com': [1070, 10L],\n",
       " 'p.sfx.ms': [156, 106L],\n",
       " 'cid-e81b8df88f98b519.users.storage.live.com': [4068, 1L],\n",
       " 'u-cmkzk7taj9.wc.yahoodns.net': [3613, 1L],\n",
       " 'forums.madmoizelle.com': [1037, 10L],\n",
       " 'adventori.com': [247, 68L],\n",
       " 'search.maven.org': [1737, 5L],\n",
       " 'deptinfo.unice.fr': [917, 12L],\n",
       " 'fr.mail.yahoo.com': [141, 116L],\n",
       " 'www.critique-film.fr': [1418, 6L],\n",
       " 'p4.storage.canalblog.com': [2097, 3L],\n",
       " 'webmaker.org': [2437, 3L],\n",
       " 'video.jeuxvideo.com': [2737, 2L],\n",
       " 'cfc.journaldunet.com': [3117, 2L],\n",
       " 'fce.linternaute.com': [2587, 2L],\n",
       " 'www.planete-auto-entrepreneur.com': [1171, 8L],\n",
       " 'dub125.mail.live.com': [153, 110L],\n",
       " 'www.clocklink.com': [2249, 3L],\n",
       " 'www.toutlemondeenblogue.com': [1615, 5L],\n",
       " 'www.skynetblogs.be': [4571, 1L],\n",
       " 'slc.viawest.bench.cedexis.com': [2398, 3L],\n",
       " 'assets4.lefigaro.fr': [1809, 4L],\n",
       " 'fr.pourelles.yahoo.com': [479, 31L],\n",
       " 'i1-js-14-3-01-11544-163921270-i.init.cedexis-radar.net': [3372, 1L],\n",
       " 'common.staticskynet.be': [4368, 1L],\n",
       " 'govoyages4.travelagency.travel': [1241, 8L],\n",
       " 'avise.org': [2410, 3L],\n",
       " 'geo1.ggpht.com': [129, 126L],\n",
       " 'connect.facebook.net': [45, 482L],\n",
       " 'edit.europe.yahoo.com': [1996, 4L],\n",
       " 'faraitoday.com': [1302, 7L],\n",
       " 'lwh.free.fr': [1406, 6L],\n",
       " 'mailinglists.scilab.org': [1847, 4L],\n",
       " 'www.smart-doc.org': [894, 13L],\n",
       " 'staticclub.caradisiac.com': [1772, 5L],\n",
       " 'i1-js-14-3-01-11074-981670202-i.init.cedexis-radar.net': [3921, 1L],\n",
       " 'i1-js-14-3-01-11074-975529973-i.init.cedexis-radar.net': [3908, 1L],\n",
       " 'static05.bonial.fr': [2173, 3L],\n",
       " 'resources.arcgis.com': [482, 31L],\n",
       " 'b2capi.viamichelin.fr': [945, 11L],\n",
       " 's20.postimg.org': [678, 18L],\n",
       " 'fec.linternaute.com': [4444, 1L],\n",
       " 'www.smartclient.com': [3159, 2L],\n",
       " 'www.assoc-amazon.fr': [1730, 5L],\n",
       " 'farm2.staticflickr.com': [1978, 4L],\n",
       " 'comptepro.leboncoin.fr': [2165, 3L],\n",
       " 'spacewarchief.free.fr': [4281, 1L],\n",
       " 'lp.longtailvideo.com': [2481, 3L],\n",
       " 'www.listesdemots.fr': [607, 21L],\n",
       " 'static.viamichelin.fr': [1740, 5L],\n",
       " 'www.nr-communication.com': [4550, 1L],\n",
       " 'logging.windows.microsoft.com': [1222, 8L],\n",
       " 'moncherwatson.files.wordpress.com': [1481, 6L],\n",
       " 'www.amandine-salbreux.com': [2515, 3L],\n",
       " 'reporter.autoplus.fr': [3415, 1L],\n",
       " 'foad2.unicaen.fr': [2274, 3L],\n",
       " 'www.lordoftheringswords.com': [252, 66L],\n",
       " 'static.media.showroomprive.com': [1336, 7L],\n",
       " 'img31.exs.cx': [4096, 1L],\n",
       " 'www.canalblog.com': [1941, 4L],\n",
       " 'www.tightvnc.com': [1421, 6L],\n",
       " 'accounts.youtube.com': [21, 1057L],\n",
       " 'dnn506yrbagrg.cloudfront.net': [157, 105L],\n",
       " 'm.bestofmedia.com': [1094, 9L],\n",
       " 'fr-fr.facebook.com': [573, 24L],\n",
       " 'saxon.sourceforge.net': [4298, 1L],\n",
       " 'nsclick.baidu.com': [976, 11L],\n",
       " 'www2.glam.com': [2881, 2L],\n",
       " 'evolvestar.com': [4846, 1L],\n",
       " 'aca.linternaute.com': [2432, 3L],\n",
       " 'static.ibsrv.net': [4704, 1L],\n",
       " 'www.toupie.org': [3778, 1L],\n",
       " 'images.buzzerie.com': [3407, 1L],\n",
       " 'blogs.developpeur.org': [2224, 3L],\n",
       " 'priceminister.ezakus.net': [3619, 1L],\n",
       " 'www.placeojeunes.com': [3767, 1L],\n",
       " 'images.eveiletjeux.net': [1370, 7L],\n",
       " 'resize2-public.ladmedia.fr': [2316, 3L],\n",
       " 'r.orange.fr': [3960, 1L],\n",
       " 'i1-js-14-3-01-10169-84269479-i.init.cedexis-radar.net': [4631, 1L],\n",
       " 'media.bestofmicro.com': [2677, 2L],\n",
       " 'dec.journaldunet.com': [2985, 2L],\n",
       " 'ssdc.ups.com': [1910, 4L],\n",
       " 'safire.univ-poitiers.fr': [3918, 1L],\n",
       " 'cm.yieldoptimizer.com': [2261, 3L],\n",
       " 's5.wat.fr': [4753, 1L],\n",
       " 'filezilla-project.org': [2275, 3L],\n",
       " 'widget.tripican.com': [1308, 7L],\n",
       " 'static3.7sur7.be': [4707, 1L],\n",
       " 'dqbgy0ozmibf8.cloudfront.net': [3695, 1L],\n",
       " 'tracking.meltybuzz.fr': [1642, 5L],\n",
       " 'www4-fr.fnac-static.com': [1797, 4L],\n",
       " 'livepass.sfr.fr': [3440, 1L],\n",
       " 'specials-images.forbesimg.com': [4192, 1L],\n",
       " 'www.smartraveller.gov.au': [4494, 1L],\n",
       " 'www.geology.sdsu.edu': [2293, 3L],\n",
       " 'www.ensai.fr': [2669, 2L],\n",
       " 'ttvpsy.psychologies.com': [4735, 1L],\n",
       " 'intranet.univ-tln.fr': [3848, 1L],\n",
       " '1.bp.blogspot.com': [604, 21L],\n",
       " 'www.vente-du-diable.com': [4878, 1L],\n",
       " 'a400.idata.over-blog.com': [1429, 6L],\n",
       " 'www.cprogramming.com': [2104, 3L],\n",
       " 'asset0.cbsistatic.com': [2197, 3L],\n",
       " 'openx2-match.dotomi.com': [2576, 2L],\n",
       " 'static3.viadeo-static.com': [1387, 6L],\n",
       " 'developers.facebook.com': [1929, 4L],\n",
       " 'r.kelkoo.com': [532, 27L],\n",
       " 'js-project-eu.s3.amazonaws.com': [2584, 2L],\n",
       " 'www.ac-nice.fr': [2893, 2L],\n",
       " 'romgbafr.blogspot.com': [2675, 2L],\n",
       " 'forum.aufeminin.com': [1046, 10L],\n",
       " 'espace.netavenir.com': [3788, 1L],\n",
       " 'www.goodbarber.com': [1883, 4L],\n",
       " 'googlewebtoolkit.blogspot.fr': [2975, 2L],\n",
       " 'photos.fr.msn.com': [286, 57L],\n",
       " 'js.sddan.com': [715, 17L],\n",
       " 'i1-js-14-3-01-11074-972407826-i.init.cedexis-radar.net': [3914, 1L],\n",
       " 'www.piecesetpneus.com': [1280, 7L],\n",
       " 'media.mcm.fr': [1042, 10L],\n",
       " '2347554.r.msn.com': [4657, 1L],\n",
       " 'www.cartejeunes-nouveaumonde.fr': [485, 31L],\n",
       " 'agregateur.kimladi.fr': [1854, 4L],\n",
       " 'd29w7vju1zwrfb.cloudfront.net': [2546, 3L],\n",
       " 'dpm.zebestof.com': [1909, 4L],\n",
       " 'org-join.viadeo.com': [4195, 1L],\n",
       " 'www.clermont-aeroport.com': [1237, 8L],\n",
       " 'www.univ-paris1.fr': [3146, 2L],\n",
       " 's1.wp.com': [583, 23L],\n",
       " 'i.forbesimg.com': [1321, 7L],\n",
       " 'www.legifrance.gouv.fr': [2504, 3L],\n",
       " 'dw1.s81c.com': [1731, 5L],\n",
       " 'download.skype.com': [1884, 4L],\n",
       " 'repondeur-plus.sfr.fr': [3507, 1L],\n",
       " 'medext.the-oz.com': [4260, 1L],\n",
       " 'www.actusports.fr': [4638, 1L],\n",
       " 'fls-na.amazon.com': [978, 11L],\n",
       " 'forum.rue-montgallet.com': [2612, 2L],\n",
       " 'dds.cr.usgs.gov': [1427, 6L],\n",
       " 'w8gaecx290.b.ad6media.fr': [1571, 5L],\n",
       " 'imgeo.mediastay.net': [2682, 2L],\n",
       " '193.164.196.50': [406, 39L],\n",
       " 'i1-js-14-3-01-11033-189782114-i.init.cedexis-radar.net': [4471, 1L],\n",
       " 'adf.journaldunet.com': [4690, 1L],\n",
       " 'api.flickr.com': [1043, 10L],\n",
       " 'lacl.univ-paris12.fr': [2645, 2L],\n",
       " 'www.openx.net': [3163, 2L],\n",
       " 'fbcdn-vthumb-a.akamaihd.net': [449, 34L],\n",
       " 'piwik.univ-tlse1.fr': [2689, 2L],\n",
       " 'www.michelin.fr': [1354, 7L],\n",
       " 'www1.montpellier.inra.fr': [2121, 3L],\n",
       " 'jeux-netbook.sfr.fr': [3452, 1L],\n",
       " 'dca.sl.bench.cedexis.com': [4142, 1L],\n",
       " 'www.mail.live.com': [650, 19L],\n",
       " 'lettre-de-motivation.modele-cv-lettre.com': [1098, 9L],\n",
       " 'i1-js-14-3-01-11074-518884641-i.init.cedexis-radar.net': [3968, 1L],\n",
       " 'www.surveystore.info': [1195, 8L],\n",
       " 'skins.ow2.org': [2134, 3L],\n",
       " 'ids.craig.fr': [916, 12L],\n",
       " 'i1-js-14-3-01-11074-198879476-i.init.cedexis-radar.net': [3699, 1L],\n",
       " 'iml.univ-mrs.fr': [2786, 2L],\n",
       " 'im1.all-up.com': [2642, 2L],\n",
       " 'r.789695.n4.nabble.com': [1755, 5L],\n",
       " 'www.christophe-benaroya.fr': [1649, 5L],\n",
       " 'homepages.ulb.ac.be': [1095, 9L],\n",
       " 'edge1.digicert.com': [2977, 2L],\n",
       " 'covea.taleo.net': [850, 14L],\n",
       " 'ocsp.thawte.com': [80, 257L],\n",
       " 'forgetcode.com': [2625, 2L],\n",
       " 'static-tv.s-sfr.fr': [2349, 3L],\n",
       " 'image.linternaute.com': [4064, 1L],\n",
       " 'xml.betclick.com': [4656, 1L],\n",
       " 'www.qualea.fr': [2234, 3L],\n",
       " 'jeux-tv.sfr.fr': [2787, 2L],\n",
       " 'humeurs-verticales.over-blog.com': [2542, 3L],\n",
       " 'www.rvty.net': [2250, 3L],\n",
       " 'www.univ-orleans.fr': [1494, 6L],\n",
       " 'base.efe.fr': [2818, 2L],\n",
       " 'fbcdn-photos-g-a.akamaihd.net': [311, 51L],\n",
       " 'www.zorpia.com': [3072, 2L],\n",
       " 'mf.imdoc.fr': [1807, 4L],\n",
       " 'media.june.fr': [1087, 9L],\n",
       " 'iquesta.com': [303, 53L],\n",
       " 'geo3.ggpht.com': [133, 119L],\n",
       " 'moritan.developpez.com': [1725, 5L],\n",
       " 'www.developpez.be': [1258, 7L],\n",
       " 'bdd.linternaute.com': [4315, 1L],\n",
       " 'cab.journaldunet.com': [4621, 1L],\n",
       " 'i1-js-14-3-01-11544-681738083-i.init.cedexis-radar.net': [3436, 1L],\n",
       " 'r5---sn-25ge7n7z.googlevideo.com': [4501, 1L],\n",
       " 'event.etam.com': [3086, 2L],\n",
       " 'services.lmde.com': [3265, 2L],\n",
       " 'eulerian.telechargement.fr': [2137, 3L],\n",
       " 'www.emploi-collectivites.fr': [2521, 3L],\n",
       " 'fr.massivetriviaquiz.com': [148, 111L],\n",
       " 'www.univ-lehavre.fr': [4832, 1L],\n",
       " 'xmlns.jcp.org': [1878, 4L],\n",
       " 'apps.facebook.com': [987, 11L],\n",
       " 'blufiles.storage.live.com': [402, 39L],\n",
       " '92.docs.google.com': [4247, 1L],\n",
       " 'www.cannaweed.com': [1717, 5L],\n",
       " 'absolunet.com': [1355, 7L],\n",
       " 'www-inf.int-evry.fr': [3885, 1L],\n",
       " 'www.hardcoding.fr': [4273, 1L],\n",
       " 'static.css.oscaro.com': [1904, 4L],\n",
       " 's233.meetrics.net': [3518, 1L],\n",
       " 'd2hfi8wofzzjwf.cloudfront.net': [2990, 2L],\n",
       " 'lh6.google.com': [1073, 9L],\n",
       " 'zenovia-match.dotomi.com': [2255, 3L],\n",
       " 'tinymce.cachefly.net': [3341, 1L],\n",
       " 'caf.fr': [1490, 6L],\n",
       " 'cdn2.doctoralia.com': [1504, 6L],\n",
       " 'powerpoint.officeapps.live.com': [934, 12L],\n",
       " 'm.ad6media.fr': [874, 13L],\n",
       " 'hiroservers.appspot.com': [2626, 2L],\n",
       " 'img14.societe.com': [3560, 1L],\n",
       " ...}"
      ]
     },
     "execution_count": 270,
     "metadata": {},
     "output_type": "execute_result"
    }
   ],
   "source": [
    "list_site_all"
   ]
  },
  {
   "cell_type": "markdown",
   "metadata": {},
   "source": [
    "### Список частоты сайтов необходимо отсортировать по убыванию"
   ]
  },
  {
   "cell_type": "code",
   "execution_count": 289,
   "metadata": {},
   "outputs": [],
   "source": [
    "list_sites = np.sort(np.array([x[1] for k,x in list_site_all.items()]))\n",
    "list_sites = list_sites[::-1]\n",
    "n = len(list_sites)"
   ]
  },
  {
   "cell_type": "code",
   "execution_count": 290,
   "metadata": {},
   "outputs": [
    {
     "data": {
      "text/plain": [
       "array([8300, 7813, 5441, ...,    1,    1,    1], dtype=int64)"
      ]
     },
     "execution_count": 290,
     "metadata": {},
     "output_type": "execute_result"
    }
   ],
   "source": [
    "list_sites"
   ]
  },
  {
   "cell_type": "code",
   "execution_count": 291,
   "metadata": {},
   "outputs": [
    {
     "name": "stdout",
     "output_type": "stream",
     "text": [
      "95% confidence interval: 22.515245267657235 35.763036841033994\n"
     ]
    }
   ],
   "source": [
    "mean_scores = map(np.mean, get_bootstrap_samples(list_sites, n))\n",
    "x1, x2 = stat_intervals(mean_scores, 0.05)\n",
    "\n",
    "print(\"95% confidence interval:\",  x1, x2)"
   ]
  },
  {
   "cell_type": "code",
   "execution_count": 292,
   "metadata": {},
   "outputs": [
    {
     "name": "stdout",
     "output_type": "stream",
     "text": [
      "95% confidence interval: 22.515245267657235 35.763036841033994\n"
     ]
    }
   ],
   "source": [
    "average_scores = map(np.average, get_bootstrap_samples(list_sites, n))\n",
    "x1, x2 = stat_intervals(average_scores, 0.05)\n",
    "\n",
    "print(\"95% confidence interval:\",  x1, x2)\n",
    "\n",
    "with open(str(5)+\".txt\", \"w\") as fout:\n",
    "        fout.write(str('%.3f' % x1)+' '+ str('%.3f' % x2))"
   ]
  },
  {
   "cell_type": "markdown",
   "metadata": {},
   "source": [
    "## Пути улучшения\n",
    "Что еще можно добавить по второй части проекта:\n",
    "- можно дополнительно рассматривать сессии с параметром – длиной сессии по времени. И составить выборки, скажем, для 5-, 10-, 15- и 20-минутных сессий (это как раз пригодится в [соревновании](https://inclass.kaggle.com/c/catch-me-if-you-can-intruder-detection-through-webpage-session-tracking2) Kaggle Inclass)\n",
    "- можно провести больше первичного анализа и проверять прочие интересные гипотезы (а больше их появится после создания признаков на следующей неделе)\n",
    "\n",
    "На 3 неделе мы займемся визуальным анализом данных и построением признаков."
   ]
  }
 ],
 "metadata": {
  "anaconda-cloud": {},
  "kernelspec": {
   "display_name": "Python 2",
   "language": "python",
   "name": "python2"
  },
  "language_info": {
   "codemirror_mode": {
    "name": "ipython",
    "version": 2
   },
   "file_extension": ".py",
   "mimetype": "text/x-python",
   "name": "python",
   "nbconvert_exporter": "python",
   "pygments_lexer": "ipython2",
   "version": "2.7.16"
  }
 },
 "nbformat": 4,
 "nbformat_minor": 1
}
