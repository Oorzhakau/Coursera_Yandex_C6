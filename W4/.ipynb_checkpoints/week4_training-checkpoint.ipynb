{
 "cells": [
  {
   "cell_type": "markdown",
   "metadata": {},
   "source": [
    "<center>\n",
    "<img src=\"https://habrastorage.org/web/677/8e1/337/6778e1337c3d4b159d7e99df94227cb2.jpg\"/>\n",
    "## Специализация \"Машинное обучение и анализ данных\"\n",
    "<center>Автор материала: программист-исследователь Mail.Ru Group, старший преподаватель Факультета Компьютерных Наук ВШЭ [Юрий Кашницкий](https://yorko.github.io/)"
   ]
  },
  {
   "cell_type": "markdown",
   "metadata": {},
   "source": [
    "# <center> Capstone проект №1 <br> Идентификация пользователей по посещенным веб-страницам\n",
    "<img src='http://i.istockimg.com/file_thumbview_approve/21546327/5/stock-illustration-21546327-identification-de-l-utilisateur.jpg'>\n",
    "\n",
    "# <center>Неделя 4.  Сравнение алгоритмов классификации\n",
    "\n",
    "Теперь мы наконец подойдем к обучению моделей классификации, сравним на кросс-валидации несколько алгоритмов, разберемся, какие параметры длины сессии (*session_length* и *window_size*) лучше использовать. Также для выбранного алгоритма построим кривые валидации (как качество классификации зависит от одного из гиперпараметров алгоритма) и кривые обучения (как качество классификации зависит от объема выборки).\n",
    "\n",
    "**План 4 недели:**\n",
    "- Часть 1. Сравнение нескольких алгоритмов на сессиях из 10 сайтов\n",
    "- Часть 2. Выбор параметров – длины сессии и ширины окна\n",
    "- Часть 3. Идентификация  конкретного пользователя и кривые обучения\n",
    " \n",
    "\n",
    "\n",
    "**В этой части проекта Вам могут быть полезны видеозаписи следующих лекций курса \"Обучение на размеченных данных\":**\n",
    "   - [Линейная классификация](https://www.coursera.org/learn/supervised-learning/lecture/jqLcO/linieinaia-klassifikatsiia)\n",
    "   - [Сравнение алгоритмов и выбор гиперпараметров](https://www.coursera.org/learn/supervised-learning/lecture/aF79U/sravnieniie-alghoritmov-i-vybor-ghipierparamietrov)\n",
    "   - [Кросс-валидация. Sklearn.cross_validation](https://www.coursera.org/learn/supervised-learning/lecture/XbHEk/kross-validatsiia-sklearn-cross-validation)\n",
    "   - [Линейные модели. Sklearn.linear_model. Классификация](https://www.coursera.org/learn/supervised-learning/lecture/EBg9t/linieinyie-modieli-sklearn-linear-model-klassifikatsiia)\n",
    "   - и многие другие\n"
   ]
  },
  {
   "cell_type": "markdown",
   "metadata": {},
   "source": [
    "### Задание\n",
    "1. Заполните код в этой тетрадке \n",
    "2. Если вы проходите специализацию Яндеса и МФТИ, пошлите файл с ответами в соответствующем Programming Assignment. <br> Если вы проходите курс ODS, выберите ответы в [веб-форме](https://docs.google.com/forms/d/12VB7kmzDoSVzSpQNaJp0tR-2t8K8PynQopP3dypf7i4).  "
   ]
  },
  {
   "cell_type": "code",
   "execution_count": 1,
   "metadata": {},
   "outputs": [],
   "source": [
    "# pip install watermark\n",
    "%load_ext watermark"
   ]
  },
  {
   "cell_type": "code",
   "execution_count": 2,
   "metadata": {},
   "outputs": [
    {
     "name": "stdout",
     "output_type": "stream",
     "text": [
      "scipy 1.4.1\n",
      "pandas 1.0.1\n",
      "matplotlib 3.1.3\n",
      "sklearn 0.22.1\n"
     ]
    }
   ],
   "source": [
    "%watermark -p scipy,pandas,matplotlib,sklearn"
   ]
  },
  {
   "cell_type": "code",
   "execution_count": 3,
   "metadata": {},
   "outputs": [],
   "source": [
    "from __future__ import division, print_function\n",
    "# отключим всякие предупреждения Anaconda\n",
    "import warnings\n",
    "warnings.filterwarnings('ignore')\n",
    "from time import time\n",
    "import itertools\n",
    "import os\n",
    "import numpy as np\n",
    "import pandas as pd\n",
    "import seaborn as sns\n",
    "%matplotlib inline\n",
    "from matplotlib import pyplot as plt\n",
    "import pickle\n",
    "from scipy.sparse import csr_matrix\n",
    "from sklearn.model_selection import train_test_split, cross_val_score, StratifiedKFold, GridSearchCV\n",
    "from sklearn.metrics import accuracy_score, f1_score"
   ]
  },
  {
   "cell_type": "code",
   "execution_count": 4,
   "metadata": {},
   "outputs": [],
   "source": [
    "# Поменяйте на свой путь к данным\n",
    "PATH_TO_DATA = 'capstone_user_identification'"
   ]
  },
  {
   "cell_type": "markdown",
   "metadata": {},
   "source": [
    "## Часть 1. Сравнение нескольких алгоритмов на сессиях из 10 сайтов"
   ]
  },
  {
   "cell_type": "markdown",
   "metadata": {},
   "source": [
    "**Загрузим сериализованные ранее объекты *X_sparse_10users* и *y_10users*, соответствующие обучающей выборке для 10 пользователей.**"
   ]
  },
  {
   "cell_type": "code",
   "execution_count": 5,
   "metadata": {},
   "outputs": [],
   "source": [
    "with open(os.path.join(PATH_TO_DATA, \n",
    "         'X_sparse_10users.pkl'), 'rb') as X_sparse_10users_pkl:\n",
    "    X_sparse_10users = pickle.load(X_sparse_10users_pkl, encoding='latin1')\n",
    "with open(os.path.join(PATH_TO_DATA, \n",
    "                       'y_10users.pkl'), 'rb') as y_10users_pkl:\n",
    "    y_10users = pickle.load(y_10users_pkl, encoding='latin1')"
   ]
  },
  {
   "cell_type": "markdown",
   "metadata": {},
   "source": [
    "**Здесь более 14 тысяч сессий и почти 5 тысяч уникальных посещенных сайтов.**"
   ]
  },
  {
   "cell_type": "code",
   "execution_count": 6,
   "metadata": {},
   "outputs": [
    {
     "data": {
      "text/plain": [
       "(14061, 4913)"
      ]
     },
     "execution_count": 6,
     "metadata": {},
     "output_type": "execute_result"
    }
   ],
   "source": [
    "X_sparse_10users.shape"
   ]
  },
  {
   "cell_type": "markdown",
   "metadata": {},
   "source": [
    "**Разобьем выборку на 2 части. На одной будем проводить кросс-валидацию, на второй – оценивать модель, обученную после кросс-валидации.**"
   ]
  },
  {
   "cell_type": "code",
   "execution_count": 9,
   "metadata": {},
   "outputs": [],
   "source": [
    "X_train, X_valid, y_train, y_valid = train_test_split(X_sparse_10users, y_10users, \n",
    "                                                      test_size=0.3, \n",
    "                                                     random_state=17, stratify=y_10users)"
   ]
  },
  {
   "cell_type": "markdown",
   "metadata": {},
   "source": [
    "**Зададим заранее тип кросс-валидации: 3-кратная, с перемешиванием, параметр random_state=17 – для воспроизводимости.**"
   ]
  },
  {
   "cell_type": "code",
   "execution_count": 10,
   "metadata": {},
   "outputs": [],
   "source": [
    "skf = StratifiedKFold(n_splits=3, shuffle=True, random_state=17)"
   ]
  },
  {
   "cell_type": "markdown",
   "metadata": {},
   "source": [
    "**Вспомогательная функция для отрисовки кривых валидации после запуска GridSearchCV (или RandomizedCV).**"
   ]
  },
  {
   "cell_type": "code",
   "execution_count": 11,
   "metadata": {},
   "outputs": [],
   "source": [
    "def plot_validation_curves(param_values, grid_cv_results_):\n",
    "    train_mu, train_std = grid_cv_results_['mean_train_score'], grid_cv_results_['std_train_score']\n",
    "    valid_mu, valid_std = grid_cv_results_['mean_test_score'], grid_cv_results_['std_test_score']\n",
    "    train_line = plt.plot(param_values, train_mu, '-', label='train', color='green')\n",
    "    valid_line = plt.plot(param_values, valid_mu, '-', label='test', color='red')\n",
    "    plt.fill_between(param_values, train_mu - train_std, train_mu + train_std, edgecolor='none',\n",
    "                     facecolor=train_line[0].get_color(), alpha=0.2)\n",
    "    plt.fill_between(param_values, valid_mu - valid_std, valid_mu + valid_std, edgecolor='none',\n",
    "                     facecolor=valid_line[0].get_color(), alpha=0.2)\n",
    "    plt.legend()"
   ]
  },
  {
   "cell_type": "markdown",
   "metadata": {},
   "source": [
    "**1. Обучите `KNeighborsClassifier` со 100 ближайшими соседями (остальные параметры оставьте по умолчанию, только `n_jobs`=-1 для распараллеливания) и посмотрите на долю правильных ответов на 3-кратной кросс-валидации (ради воспроизводимости используйте для этого объект `StratifiedKFold` `skf`) по выборке `(X_train, y_train)` и отдельно на выборке `(X_valid, y_valid)`.**"
   ]
  },
  {
   "cell_type": "code",
   "execution_count": 12,
   "metadata": {},
   "outputs": [],
   "source": [
    "from sklearn.neighbors import KNeighborsClassifier"
   ]
  },
  {
   "cell_type": "code",
   "execution_count": 13,
   "metadata": {},
   "outputs": [],
   "source": [
    "knn = KNeighborsClassifier(n_neighbors=100, n_jobs=-1)"
   ]
  },
  {
   "cell_type": "code",
   "execution_count": 14,
   "metadata": {},
   "outputs": [
    {
     "name": "stdout",
     "output_type": "stream",
     "text": [
      "Accuracy 0: %f 0.5659859798841816\n",
      "Y:  [128 128 207 ... 128 207 127]\n",
      "Prediction:  [128 128 207 ... 128 207 127]\n",
      "Accuracy 1: %f 0.5540993599512344\n",
      "Y:  [127 207 207 ...  50  33 127]\n",
      "Prediction:  [127  33 207 ...  39 207 207]\n",
      "Accuracy 2: %f 0.5579268292682927\n",
      "Y:  [ 33 128 128 ... 128 237  39]\n",
      "Prediction:  [207 128 128 ... 128 128  39]\n",
      "Accuracy : 0.584025\n",
      "Y:  [ 33 100  39 ... 207  39 237]\n",
      "Prediction:  [128 128  39 ... 207 207 207]\n"
     ]
    }
   ],
   "source": [
    "mass = []\n",
    "ans = []\n",
    "i = 0\n",
    "for train_index, test_index in skf.split(X_train, y_train):\n",
    "    X_train_skf, X_test_skf = X_train[train_index], X_train[test_index]\n",
    "    y_train_skf, y_test_skf = y_train[train_index], y_train[test_index]\n",
    "    knn.fit(X_train_skf, y_train_skf)\n",
    "    knn_predictions = knn.predict(X_test_skf.toarray())\n",
    "    ans_acc = accuracy_score(y_test_skf, knn_predictions)\n",
    "    print(\"Accuracy \" + str(i) + \": %f\" , ans_acc)\n",
    "    print(\"Y: \", y_test_skf)\n",
    "    print(\"Prediction: \", knn_predictions)\n",
    "    i += 1\n",
    "    mass.append(ans_acc)\n",
    "ans.append(np.mean(mass))\n",
    "\n",
    "knn.fit(X_train, y_train)\n",
    "knn_predictions = knn.predict(X_valid.toarray())\n",
    "ans_acc = accuracy_score(y_valid, knn_predictions)\n",
    "print(\"Accuracy : %f\" % ans_acc)\n",
    "print(\"Y: \", y_valid)\n",
    "print(\"Prediction: \", knn_predictions)\n",
    "ans.append(ans_acc)"
   ]
  },
  {
   "cell_type": "code",
   "execution_count": 15,
   "metadata": {},
   "outputs": [
    {
     "data": {
      "text/plain": [
       "[0.5593373897012363, 0.584024650391088]"
      ]
     },
     "execution_count": 15,
     "metadata": {},
     "output_type": "execute_result"
    }
   ],
   "source": [
    "ans"
   ]
  },
  {
   "cell_type": "markdown",
   "metadata": {},
   "source": [
    "**<font color='red'>Вопрос 1. </font> Посчитайте доли правильных ответов для KNeighborsClassifier на кросс-валидации и отложенной выборке. Округлите каждое до 3 знаков после запятой и введите через пробел.**"
   ]
  },
  {
   "cell_type": "code",
   "execution_count": 64,
   "metadata": {},
   "outputs": [],
   "source": [
    "def write_answer_to_file(number, answer):\n",
    "    with open(str(number)+\".txt\", \"w\") as fout:\n",
    "        fout.write(str(answer))"
   ]
  },
  {
   "cell_type": "code",
   "execution_count": 14,
   "metadata": {},
   "outputs": [
    {
     "data": {
      "text/plain": [
       "'0.559 0.584'"
      ]
     },
     "execution_count": 14,
     "metadata": {},
     "output_type": "execute_result"
    }
   ],
   "source": [
    "ans_1 = str(round(ans[0],3))\n",
    "\n",
    "for i in ans:\n",
    "    if i != ans[0]:\n",
    "        ans_1 += \" \"+str(round(i,3))\n",
    "ans_1"
   ]
  },
  {
   "cell_type": "code",
   "execution_count": 15,
   "metadata": {},
   "outputs": [],
   "source": [
    "write_answer_to_file(1, ans_1)"
   ]
  },
  {
   "cell_type": "markdown",
   "metadata": {},
   "source": [
    "**2. Обучите случайный лес (`RandomForestClassifier`) из 100 деревьев (для воспроизводимости `random_state`=17). Посмотрите на OOB-оценку (для этого надо сразу установить `oob_score`=True) и на долю правильных ответов на выборке `(X_valid, y_valid)`. Для распараллеливания задайте `n_jobs`=-1.**"
   ]
  },
  {
   "cell_type": "code",
   "execution_count": 17,
   "metadata": {},
   "outputs": [],
   "source": [
    "from sklearn.ensemble import RandomForestClassifier"
   ]
  },
  {
   "cell_type": "code",
   "execution_count": 18,
   "metadata": {},
   "outputs": [],
   "source": [
    "forest = RandomForestClassifier(n_estimators=100, random_state=17, oob_score=True, n_jobs=-1)\n",
    "forest.fit(X_train, y_train)\n",
    "forest_predict = forest.predict(X_valid)"
   ]
  },
  {
   "cell_type": "code",
   "execution_count": 18,
   "metadata": {},
   "outputs": [
    {
     "name": "stdout",
     "output_type": "stream",
     "text": [
      "OOB score -  0.7225157488315384\n",
      "Accuracy score -  0.733349134866082\n"
     ]
    }
   ],
   "source": [
    "print('OOB score - ', forest.oob_score_)\n",
    "acc_valid_ran_forest = accuracy_score(y_valid, forest_predict)\n",
    "print('Accuracy score - ', acc_valid_ran_forest)"
   ]
  },
  {
   "cell_type": "markdown",
   "metadata": {},
   "source": [
    "**<font color='red'>Вопрос 2. </font> Посчитайте доли правильных ответов для `RandomForestClassifier` при Out-of-Bag оценке и на отложенной выборке. Округлите каждое до 3 знаков после запятой и введите через пробел.**"
   ]
  },
  {
   "cell_type": "code",
   "execution_count": 19,
   "metadata": {},
   "outputs": [
    {
     "data": {
      "text/plain": [
       "'0.723 0.733'"
      ]
     },
     "execution_count": 19,
     "metadata": {},
     "output_type": "execute_result"
    }
   ],
   "source": [
    "ans_2 = str(round(forest.oob_score_,3))\n",
    "ans_2 += \" \" + str(round(acc_valid_ran_forest,3))\n",
    "write_answer_to_file(2, ans_2)\n",
    "ans_2"
   ]
  },
  {
   "cell_type": "code",
   "execution_count": 20,
   "metadata": {},
   "outputs": [],
   "source": [
    "write_answer_to_file(2, ans_2)"
   ]
  },
  {
   "cell_type": "code",
   "execution_count": 21,
   "metadata": {},
   "outputs": [],
   "source": [
    "%pycat 2.txt"
   ]
  },
  {
   "cell_type": "markdown",
   "metadata": {},
   "source": [
    "**3. Обучите логистическую регрессию (`LogisticRegression`) с параметром `C` по умолчанию и `random_state`=17 (для воспроизводимости). Посмотрите на долю правильных ответов на кросс-валидации (используйте объект `skf`, созданный ранее) и на выборке `(X_valid, y_valid)`. Для распараллеливания задайте `n_jobs=-1`.**"
   ]
  },
  {
   "cell_type": "code",
   "execution_count": 22,
   "metadata": {},
   "outputs": [],
   "source": [
    "from sklearn.linear_model import LogisticRegression, LogisticRegressionCV"
   ]
  },
  {
   "cell_type": "code",
   "execution_count": 23,
   "metadata": {},
   "outputs": [],
   "source": [
    "logit = LogisticRegression(random_state=17, n_jobs=-1)"
   ]
  },
  {
   "cell_type": "code",
   "execution_count": 24,
   "metadata": {},
   "outputs": [
    {
     "name": "stdout",
     "output_type": "stream",
     "text": [
      "Accuracy 0: %f 0.7610484608351112\n",
      "Y:  [128 128 207 ... 128 207 127]\n",
      "Prediction:  [128 128 207 ... 128 207 127]\n",
      "Accuracy 1: %f 0.7482474855227065\n",
      "Y:  [127 207 207 ...  50  33 127]\n",
      "Prediction:  [127 207 207 ...  39 127 127]\n",
      "Accuracy 2: %f 0.7725609756097561\n",
      "Y:  [ 33 128 128 ... 128 237  39]\n",
      "Prediction:  [ 33 128 128 ... 128 207  39]\n",
      "\n",
      "\n",
      "Valid data\n",
      "Accuracy : 0.776724\n",
      "Y:  [ 33 100  39 ... 207  39 237]\n",
      "Prediction:  [ 33 128  39 ... 207  39 237]\n"
     ]
    }
   ],
   "source": [
    "mass = []\n",
    "ans = []\n",
    "i = 0\n",
    "for train_index, test_index in skf.split(X_train, y_train):\n",
    "    X_train_skf, X_test_skf = X_train[train_index], X_train[test_index]\n",
    "    y_train_skf, y_test_skf = y_train[train_index], y_train[test_index]\n",
    "    logit.fit(X_train_skf, y_train_skf)\n",
    "    logit_predictions = logit.predict(X_test_skf.toarray())\n",
    "    ans_acc = accuracy_score(y_test_skf, logit_predictions)\n",
    "    print(\"Accuracy \" + str(i) + \": %f\" , ans_acc)\n",
    "    print(\"Y: \", y_test_skf)\n",
    "    print(\"Prediction: \", logit_predictions)\n",
    "    i += 1\n",
    "    mass.append(ans_acc)\n",
    "ans.append(np.mean(mass))\n",
    "\n",
    "logit.fit(X_train, y_train)\n",
    "logit_predictions = logit.predict(X_valid.toarray())\n",
    "ans_acc = accuracy_score(y_valid, logit_predictions)\n",
    "print(\"\\n\\nValid data\")\n",
    "print(\"Accuracy : %f\" % ans_acc)\n",
    "print(\"Y: \", y_valid)\n",
    "print(\"Prediction: \", logit_predictions)\n",
    "ans.append(ans_acc)"
   ]
  },
  {
   "cell_type": "markdown",
   "metadata": {},
   "source": [
    "**Почитайте документацию к [LogisticRegressionCV](http://scikit-learn.org/stable/modules/generated/sklearn.linear_model.LogisticRegressionCV.html). Логистическая регрессия хорошо изучена, и для нее существуют алгоритмы быстрого подбора параметра регуляризации `C` (быстрее, чем с `GridSearchCV`).**\n",
    "\n",
    "**С помощью `LogisticRegressionCV` подберите параметр `C` для `LogisticRegression` сначала в широком диапазоне: 10 значений от 1e-4 до 1e2, используйте `logspace` из `NumPy`. Укажите у `LogisticRegressionCV` параметры `multi_class`='multinomial' и `random_state`=17. Для кросс-валидации используйте объект `skf`, созданный ранее. Для распараллеливания задайте `n_jobs=-1`.**\n",
    "\n",
    "**Нарисуйте кривые валидации по параметру `C`.**"
   ]
  },
  {
   "cell_type": "code",
   "execution_count": 25,
   "metadata": {},
   "outputs": [
    {
     "name": "stdout",
     "output_type": "stream",
     "text": [
      "Wall time: 8.12 s\n"
     ]
    },
    {
     "data": {
      "text/plain": [
       "LogisticRegressionCV(Cs=array([1.00000000e-04, 4.64158883e-04, 2.15443469e-03, 1.00000000e-02,\n",
       "       4.64158883e-02, 2.15443469e-01, 1.00000000e+00, 4.64158883e+00,\n",
       "       2.15443469e+01, 1.00000000e+02]),\n",
       "                     class_weight=None,\n",
       "                     cv=StratifiedKFold(n_splits=3, random_state=17, shuffle=True),\n",
       "                     dual=False, fit_intercept=True, intercept_scaling=1.0,\n",
       "                     l1_ratios=None, max_iter=100, multi_class='multinomial',\n",
       "                     n_jobs=-1, penalty='l2', random_state=17, refit=True,\n",
       "                     scoring=None, solver='lbfgs', tol=0.0001, verbose=0)"
      ]
     },
     "execution_count": 25,
     "metadata": {},
     "output_type": "execute_result"
    }
   ],
   "source": [
    "%%time\n",
    "logit_c_values1 = np.logspace(-4, 2, 10)\n",
    "\n",
    "logit_grid_searcher1 = LogisticRegressionCV(Cs=logit_c_values1, multi_class='multinomial', random_state=17, cv=skf, n_jobs=-1) \n",
    "logit_grid_searcher1.fit(X_train, y_train)"
   ]
  },
  {
   "cell_type": "markdown",
   "metadata": {},
   "source": [
    "Средние значения доли правильных ответов на кросс-валидации по каждому из 10 параметров `C`."
   ]
  },
  {
   "cell_type": "code",
   "execution_count": 26,
   "metadata": {
    "scrolled": true
   },
   "outputs": [],
   "source": [
    "res = np.array([])\n",
    "for i in logit_grid_searcher1.scores_:\n",
    "    arr = logit_grid_searcher1.scores_[i]\n",
    "    for j in arr:\n",
    "        res = np.append(res, j)\n",
    "res = res.reshape((int(res.shape[0]/10),10))"
   ]
  },
  {
   "cell_type": "code",
   "execution_count": 27,
   "metadata": {},
   "outputs": [],
   "source": [
    "logit_mean_cv_scores1 = np.mean(res,axis=0)"
   ]
  },
  {
   "cell_type": "code",
   "execution_count": 28,
   "metadata": {},
   "outputs": [
    {
     "data": {
      "text/plain": [
       "0.7613302322066196"
      ]
     },
     "execution_count": 28,
     "metadata": {},
     "output_type": "execute_result"
    }
   ],
   "source": [
    "logit_mean_cv_scores1[6]"
   ]
  },
  {
   "cell_type": "code",
   "execution_count": 29,
   "metadata": {},
   "outputs": [
    {
     "data": {
      "text/plain": [
       "array([0.31954964, 0.47307397, 0.55202236, 0.64875035, 0.71438846,\n",
       "       0.75177962, 0.76133023, 0.7580791 , 0.7493409 , 0.74029835])"
      ]
     },
     "execution_count": 29,
     "metadata": {},
     "output_type": "execute_result"
    }
   ],
   "source": [
    "logit_mean_cv_scores1"
   ]
  },
  {
   "cell_type": "code",
   "execution_count": 30,
   "metadata": {
    "scrolled": true
   },
   "outputs": [
    {
     "data": {
      "text/plain": [
       "1.0"
      ]
     },
     "execution_count": 30,
     "metadata": {},
     "output_type": "execute_result"
    }
   ],
   "source": [
    "logit_grid_searcher1.Cs_[6]"
   ]
  },
  {
   "cell_type": "markdown",
   "metadata": {},
   "source": [
    "Выведите лучшее значение доли правильных ответов на кросс-валидации и соответствующее значение `C`."
   ]
  },
  {
   "cell_type": "code",
   "execution_count": 31,
   "metadata": {},
   "outputs": [
    {
     "data": {
      "text/plain": [
       "1.0"
      ]
     },
     "execution_count": 31,
     "metadata": {},
     "output_type": "execute_result"
    }
   ],
   "source": [
    "logit_grid_searcher1.Cs_[6]"
   ]
  },
  {
   "cell_type": "markdown",
   "metadata": {},
   "source": [
    "Нарисуйте график зависимости доли правильных ответов на кросс-валидации от `C`."
   ]
  },
  {
   "cell_type": "code",
   "execution_count": 32,
   "metadata": {},
   "outputs": [
    {
     "data": {
      "image/png": "[encoded data removed]",
      "text/plain": [
       "<Figure size 432x288 with 1 Axes>"
      ]
     },
     "metadata": {
      "needs_background": "light"
     },
     "output_type": "display_data"
    }
   ],
   "source": [
    "plt.plot(logit_c_values1, logit_mean_cv_scores1);"
   ]
  },
  {
   "cell_type": "markdown",
   "metadata": {},
   "source": [
    "**Теперь то же самое, только значения параметра `C` перебирайте в диапазоне `np.linspace`(0.1, 7, 20). Опять нарисуйте кривые валидации, определите максимальное значение доли правильных ответов на кросс-валидации.**"
   ]
  },
  {
   "cell_type": "code",
   "execution_count": 24,
   "metadata": {},
   "outputs": [
    {
     "name": "stdout",
     "output_type": "stream",
     "text": [
      "Wall time: 23.2 s\n"
     ]
    },
    {
     "data": {
      "text/plain": [
       "LogisticRegressionCV(Cs=array([0.1       , 0.46315789, 0.82631579, 1.18947368, 1.55263158,\n",
       "       1.91578947, 2.27894737, 2.64210526, 3.00526316, 3.36842105,\n",
       "       3.73157895, 4.09473684, 4.45789474, 4.82105263, 5.18421053,\n",
       "       5.54736842, 5.91052632, 6.27368421, 6.63684211, 7.        ]),\n",
       "                     class_weight=None,\n",
       "                     cv=StratifiedKFold(n_splits=3, random_state=17, shuffle=True),\n",
       "                     dual=False, fit_intercept=True, intercept_scaling=1.0,\n",
       "                     l1_ratios=None, max_iter=100, multi_class='multinomial',\n",
       "                     n_jobs=-1, penalty='l2', random_state=17, refit=True,\n",
       "                     scoring=None, solver='lbfgs', tol=0.0001, verbose=0)"
      ]
     },
     "execution_count": 24,
     "metadata": {},
     "output_type": "execute_result"
    }
   ],
   "source": [
    "%%time\n",
    "logit_c_values2 = np.linspace(0.1, 7, 20)\n",
    "\n",
    "logit_grid_searcher2 = LogisticRegressionCV(Cs=logit_c_values2, multi_class='multinomial', random_state=17, cv=skf, n_jobs=-1) \n",
    "logit_grid_searcher2.fit(X_train, y_train)"
   ]
  },
  {
   "cell_type": "markdown",
   "metadata": {},
   "source": [
    "Средние значения доли правильных ответов на кросс-валидации по каждому из 10 параметров `C`."
   ]
  },
  {
   "cell_type": "code",
   "execution_count": 25,
   "metadata": {},
   "outputs": [],
   "source": [
    "res = np.array([])\n",
    "for i in logit_grid_searcher2.scores_:\n",
    "    arr = logit_grid_searcher2.scores_[i]\n",
    "    for j in arr:\n",
    "        res = np.append(res, j)\n",
    "res = res.reshape((int(res.shape[0]/20),20))\n",
    "logit_mean_cv_scores2 = np.mean(res,axis=0)"
   ]
  },
  {
   "cell_type": "code",
   "execution_count": 26,
   "metadata": {},
   "outputs": [
    {
     "data": {
      "text/plain": [
       "array([0.1       , 0.46315789, 0.82631579, 1.18947368, 1.55263158,\n",
       "       1.91578947, 2.27894737, 2.64210526, 3.00526316, 3.36842105,\n",
       "       3.73157895, 4.09473684, 4.45789474, 4.82105263, 5.18421053,\n",
       "       5.54736842, 5.91052632, 6.27368421, 6.63684211, 7.        ])"
      ]
     },
     "execution_count": 26,
     "metadata": {},
     "output_type": "execute_result"
    }
   ],
   "source": [
    "logit_grid_searcher2.Cs_"
   ]
  },
  {
   "cell_type": "markdown",
   "metadata": {},
   "source": [
    "Выведите лучшее значение доли правильных ответов на кросс-валидации и соответствующее значение `C`."
   ]
  },
  {
   "cell_type": "code",
   "execution_count": 27,
   "metadata": {},
   "outputs": [
    {
     "name": "stdout",
     "output_type": "stream",
     "text": [
      "5\n",
      "1.9157894736842107\n"
     ]
    }
   ],
   "source": [
    "print(np.argmax(logit_mean_cv_scores2))\n",
    "print(logit_grid_searcher2.Cs_[np.argmax(logit_mean_cv_scores2)])\n",
    "c_best = logit_grid_searcher2.Cs_[np.argmax(logit_mean_cv_scores2)]"
   ]
  },
  {
   "cell_type": "markdown",
   "metadata": {},
   "source": [
    "Нарисуйте график зависимости доли правильных ответов на кросс-валидации от `C`."
   ]
  },
  {
   "cell_type": "code",
   "execution_count": 104,
   "metadata": {},
   "outputs": [
    {
     "data": {
      "text/plain": [
       "3.7315789473684213"
      ]
     },
     "execution_count": 104,
     "metadata": {},
     "output_type": "execute_result"
    }
   ],
   "source": [
    "logit_grid_searcher2.Cs_[10]"
   ]
  },
  {
   "cell_type": "code",
   "execution_count": 37,
   "metadata": {},
   "outputs": [
    {
     "data": {
      "image/png": "[encoded data removed]",
      "text/plain": [
       "<Figure size 432x288 with 1 Axes>"
      ]
     },
     "metadata": {
      "needs_background": "light"
     },
     "output_type": "display_data"
    }
   ],
   "source": [
    "plt.plot(logit_c_values2, logit_mean_cv_scores2);"
   ]
  },
  {
   "cell_type": "markdown",
   "metadata": {},
   "source": [
    "Выведите долю правильных ответов на выборке `(X_valid, y_valid)` для логистической регрессии с лучшим найденным значением `C`."
   ]
  },
  {
   "cell_type": "code",
   "execution_count": 38,
   "metadata": {},
   "outputs": [],
   "source": [
    "logit_cv_acc = accuracy_score(y_valid, logit_grid_searcher2.predict(X_valid.toarray()))"
   ]
  },
  {
   "cell_type": "code",
   "execution_count": 39,
   "metadata": {},
   "outputs": [
    {
     "data": {
      "text/plain": [
       "0.7798056411471913"
      ]
     },
     "execution_count": 39,
     "metadata": {},
     "output_type": "execute_result"
    }
   ],
   "source": [
    "logit_cv_acc"
   ]
  },
  {
   "cell_type": "markdown",
   "metadata": {},
   "source": [
    "**<font color='red'>Вопрос 3. </font>Посчитайте доли правильных ответов для `logit_grid_searcher2` на кросс-валидации для лучшего значения параметра `C` и на отложенной выборке. Округлите каждое до 3 знаков после запятой и выведите через пробел.**"
   ]
  },
  {
   "cell_type": "code",
   "execution_count": 40,
   "metadata": {},
   "outputs": [
    {
     "name": "stdout",
     "output_type": "stream",
     "text": [
      "Accuracy 241: %f 0.7612286991126542\n",
      "\n",
      "\n",
      "Valid data\n",
      "Accuracy : 0.779806\n",
      "Y:  [ 33 100  39 ... 207  39 237]\n",
      "Prediction:  [ 33 128  39 ... 207  39 237]\n"
     ]
    }
   ],
   "source": [
    "print(\"Accuracy \" + str(i) + \": %f\", np.max(logit_mean_cv_scores2))\n",
    "ans.append(np.max(logit_mean_cv_scores2))\n",
    "\n",
    "logit_grid_searcher2.fit(X_train, y_train)\n",
    "logit_predictions = logit_grid_searcher2.predict(X_valid.toarray())\n",
    "ans_acc = accuracy_score(y_valid, logit_predictions)\n",
    "print(\"\\n\\nValid data\")\n",
    "print(\"Accuracy : %f\" % ans_acc)\n",
    "print(\"Y: \", y_valid)\n",
    "print(\"Prediction: \", logit_predictions)\n",
    "ans.append(ans_acc)"
   ]
  },
  {
   "cell_type": "code",
   "execution_count": 41,
   "metadata": {},
   "outputs": [
    {
     "data": {
      "text/plain": [
       "[0.7612286991126542, 0.7798056411471913]"
      ]
     },
     "execution_count": 41,
     "metadata": {},
     "output_type": "execute_result"
    }
   ],
   "source": [
    "ans = []\n",
    "ans.append(np.max(logit_mean_cv_scores2))\n",
    "ans.append(ans_acc)\n",
    "ans"
   ]
  },
  {
   "cell_type": "code",
   "execution_count": 42,
   "metadata": {},
   "outputs": [],
   "source": [
    "ans_3 = str(round(ans[0],3))\n",
    "ans_3 += \" \" + str(round(ans[1],3))\n",
    "write_answer_to_file(3, ans_3)"
   ]
  },
  {
   "cell_type": "markdown",
   "metadata": {},
   "source": [
    "**4. Обучите линейный SVM (`LinearSVC`) с параметром `C`=1 и `random_state`=17 (для воспроизводимости). Посмотрите на долю правильных ответов на кросс-валидации (используйте объект `skf`, созданный ранее) и на выборке `(X_valid, y_valid)`.**"
   ]
  },
  {
   "cell_type": "code",
   "execution_count": 147,
   "metadata": {},
   "outputs": [],
   "source": [
    "from sklearn.svm import LinearSVC"
   ]
  },
  {
   "cell_type": "code",
   "execution_count": 148,
   "metadata": {},
   "outputs": [],
   "source": [
    "svm = LinearSVC(C=1, random_state=17)"
   ]
  },
  {
   "cell_type": "code",
   "execution_count": 45,
   "metadata": {},
   "outputs": [
    {
     "name": "stdout",
     "output_type": "stream",
     "text": [
      "Accuracy 0: 0.7504\n",
      "Y:  [128 128 207 ... 128 207 127]\n",
      "Prediction:  [128 128 207 ... 128 207 127]\n",
      "Accuracy 1: 0.7327\n",
      "Y:  [127 207 207 ...  50  33 127]\n",
      "Prediction:  [127 207 207 ...  39  31 127]\n",
      "Accuracy 2: 0.7692\n",
      "Y:  [ 33 128 128 ... 128 237  39]\n",
      "Prediction:  [ 33 128 128 ... 128 237  39]\n",
      "\n",
      "\n",
      "Accuracy : 0.776961\n",
      "Y:  [ 33 100  39 ... 207  39 237]\n",
      "Prediction:  [ 33 128  39 ... 207  39 237]\n"
     ]
    }
   ],
   "source": [
    "mass = []\n",
    "ans = []\n",
    "i = 0\n",
    "for train_index, test_index in skf.split(X_train, y_train):\n",
    "    X_train_skf, X_test_skf = X_train[train_index], X_train[test_index]\n",
    "    y_train_skf, y_test_skf = y_train[train_index], y_train[test_index]\n",
    "    svm.fit(X_train_skf, y_train_skf)\n",
    "    svm_predictions = svm.predict(X_test_skf.toarray())\n",
    "    ans_acc = accuracy_score(y_test_skf, svm_predictions)\n",
    "    print(\"Accuracy \" + str(i) + \": %.4f\" % ans_acc)\n",
    "    print(\"Y: \", y_test_skf)\n",
    "    print(\"Prediction: \", svm_predictions)\n",
    "    i += 1\n",
    "    mass.append(ans_acc)\n",
    "ans.append(np.mean(mass))\n",
    "\n",
    "svm.fit(X_train, y_train)\n",
    "svm_predictions = svm.predict(X_valid.toarray())\n",
    "ans_acc = accuracy_score(y_valid, svm_predictions)\n",
    "print(\"\\n\\nAccuracy : %f\" % ans_acc)\n",
    "print(\"Y: \", y_valid)\n",
    "print(\"Prediction: \", svm_predictions)\n",
    "ans.append(ans_acc)"
   ]
  },
  {
   "cell_type": "markdown",
   "metadata": {},
   "source": [
    "**С помощью `GridSearchCV` подберите параметр `C` для SVM сначала в широком диапазоне: 10 значений от 1e-4 до 1e4, используйте `linspace` из NumPy. Нарисуйте кривые валидации.**"
   ]
  },
  {
   "cell_type": "code",
   "execution_count": 46,
   "metadata": {},
   "outputs": [
    {
     "name": "stdout",
     "output_type": "stream",
     "text": [
      "Wall time: 1min 35s\n"
     ]
    },
    {
     "data": {
      "text/plain": [
       "GridSearchCV(cv=None, error_score=nan,\n",
       "             estimator=LinearSVC(C=1, class_weight=None, dual=True,\n",
       "                                 fit_intercept=True, intercept_scaling=1,\n",
       "                                 loss='squared_hinge', max_iter=1000,\n",
       "                                 multi_class='ovr', penalty='l2',\n",
       "                                 random_state=17, tol=0.0001, verbose=0),\n",
       "             iid='deprecated', n_jobs=None,\n",
       "             param_grid={'C': array([1.0000000e-04, 1.1111112e+03, 2.2222223e+03, 3.3333334e+03,\n",
       "       4.4444445e+03, 5.5555556e+03, 6.6666667e+03, 7.7777778e+03,\n",
       "       8.8888889e+03, 1.0000000e+04])},\n",
       "             pre_dispatch='2*n_jobs', refit=True, return_train_score=False,\n",
       "             scoring=None, verbose=0)"
      ]
     },
     "execution_count": 46,
     "metadata": {},
     "output_type": "execute_result"
    }
   ],
   "source": [
    "%%time\n",
    "svm_params1 = {'C': np.linspace(1e-4, 1e4, 10)}\n",
    "\n",
    "svm_grid_searcher1 = GridSearchCV(svm, param_grid=svm_params1)\n",
    "svm_grid_searcher1.fit(X_train, y_train)"
   ]
  },
  {
   "cell_type": "markdown",
   "metadata": {},
   "source": [
    "Выведите лучшее значение доли правильных ответов на кросс-валидации и соответствующее значение `C`."
   ]
  },
  {
   "cell_type": "code",
   "execution_count": 47,
   "metadata": {},
   "outputs": [
    {
     "data": {
      "text/plain": [
       "{'C': array([1.0000000e-04, 1.1111112e+03, 2.2222223e+03, 3.3333334e+03,\n",
       "        4.4444445e+03, 5.5555556e+03, 6.6666667e+03, 7.7777778e+03,\n",
       "        8.8888889e+03, 1.0000000e+04])}"
      ]
     },
     "execution_count": 47,
     "metadata": {},
     "output_type": "execute_result"
    }
   ],
   "source": [
    "svm_params1"
   ]
  },
  {
   "cell_type": "code",
   "execution_count": 48,
   "metadata": {},
   "outputs": [
    {
     "data": {
      "text/plain": [
       "5555.555600000001"
      ]
     },
     "execution_count": 48,
     "metadata": {},
     "output_type": "execute_result"
    }
   ],
   "source": [
    "svm_grid_searcher1.best_params_['C']"
   ]
  },
  {
   "cell_type": "code",
   "execution_count": 49,
   "metadata": {},
   "outputs": [
    {
     "name": "stdout",
     "output_type": "stream",
     "text": [
      "Best score -  0.6970148583532559\n",
      "Best C -  5555.555600000001\n"
     ]
    }
   ],
   "source": [
    "print('Best score - ', svm_grid_searcher1.best_score_)\n",
    "print('Best C - ', svm_grid_searcher1.best_params_['C'])"
   ]
  },
  {
   "cell_type": "markdown",
   "metadata": {},
   "source": [
    "Нарисуйте график зависимости доли правильных ответов на кросс-валидации от `C`."
   ]
  },
  {
   "cell_type": "code",
   "execution_count": 50,
   "metadata": {
    "scrolled": true
   },
   "outputs": [
    {
     "data": {
      "text/plain": [
       "{'mean_fit_time': array([0.06003909, 2.06904855, 2.05704894, 2.03394208, 2.04031987,\n",
       "        2.06958284, 2.02807064, 2.03355956, 2.05867252, 2.03495903]),\n",
       " 'std_fit_time': array([0.00194418, 0.03960621, 0.05307849, 0.03815566, 0.0529685 ,\n",
       "        0.04349736, 0.03899765, 0.03898491, 0.03911818, 0.0217339 ]),\n",
       " 'mean_score_time': array([0.0010035 , 0.00059257, 0.00059829, 0.00059319, 0.00019917,\n",
       "        0.00080395, 0.00079808, 0.00059905, 0.00099602, 0.00059958]),\n",
       " 'std_score_time': array([1.15695671e-05, 4.83968354e-04, 4.88500099e-04, 4.84440199e-04,\n",
       "        3.98349762e-04, 4.02114121e-04, 3.99041528e-04, 4.89122943e-04,\n",
       "        4.74111396e-06, 4.89563149e-04]),\n",
       " 'param_C': masked_array(data=[0.0001, 1111.1112, 2222.2223000000004,\n",
       "                    3333.3334000000004, 4444.4445000000005,\n",
       "                    5555.555600000001, 6666.666700000001,\n",
       "                    7777.777800000001, 8888.8889, 10000.0],\n",
       "              mask=[False, False, False, False, False, False, False, False,\n",
       "                    False, False],\n",
       "        fill_value='?',\n",
       "             dtype=object),\n",
       " 'params': [{'C': 0.0001},\n",
       "  {'C': 1111.1112},\n",
       "  {'C': 2222.2223000000004},\n",
       "  {'C': 3333.3334000000004},\n",
       "  {'C': 4444.4445000000005},\n",
       "  {'C': 5555.555600000001},\n",
       "  {'C': 6666.666700000001},\n",
       "  {'C': 7777.777800000001},\n",
       "  {'C': 8888.8889},\n",
       "  {'C': 10000.0}],\n",
       " 'split0_test_score': array([0.56018283, 0.67394617, 0.67343829, 0.70746572, 0.68410361,\n",
       "        0.67851701, 0.67851701, 0.68105637, 0.62214322, 0.67039106]),\n",
       " 'split1_test_score': array([0.57592687, 0.69527679, 0.70949721, 0.70898933, 0.69832402,\n",
       "        0.69527679, 0.702387  , 0.70898933, 0.70035551, 0.68664297]),\n",
       " 'split2_test_score': array([0.57926829, 0.69664634, 0.68953252, 0.63465447, 0.71036585,\n",
       "        0.7078252 , 0.67682927, 0.70528455, 0.65752033, 0.70680894]),\n",
       " 'split3_test_score': array([0.5523374 , 0.62042683, 0.6976626 , 0.6824187 , 0.6875    ,\n",
       "        0.7027439 , 0.69715447, 0.64227642, 0.64939024, 0.70071138]),\n",
       " 'split4_test_score': array([0.56707317, 0.6773374 , 0.69918699, 0.69156504, 0.6925813 ,\n",
       "        0.70071138, 0.69867886, 0.6773374 , 0.66463415, 0.69461382]),\n",
       " 'mean_test_score': array([0.56695771, 0.6727267 , 0.69386352, 0.68501865, 0.69457496,\n",
       "        0.69701486, 0.69071332, 0.68298882, 0.65880869, 0.69183363]),\n",
       " 'std_test_score': array([0.00991627, 0.02770804, 0.01202607, 0.02707261, 0.00924215,\n",
       "        0.01008505, 0.01079565, 0.02394284, 0.02527765, 0.01262957]),\n",
       " 'rank_test_score': array([10,  8,  3,  6,  2,  1,  5,  7,  9,  4])}"
      ]
     },
     "execution_count": 50,
     "metadata": {},
     "output_type": "execute_result"
    }
   ],
   "source": [
    "svm_grid_searcher1.cv_results_"
   ]
  },
  {
   "cell_type": "code",
   "execution_count": 51,
   "metadata": {},
   "outputs": [],
   "source": [
    "def plot_validation_curves(param_values, grid_cv_results_):\n",
    "    train_mu, train_std = grid_cv_results_['split0_test_score'], grid_cv_results_['std_test_score']\n",
    "    valid_mu, valid_std = grid_cv_results_['mean_test_score'], grid_cv_results_['std_test_score']\n",
    "    train_line = plt.plot(param_values, train_mu, '-', label='train', color='green')\n",
    "    valid_line = plt.plot(param_values, valid_mu, '-', label='test', color='red')\n",
    "    plt.fill_between(param_values, train_mu - train_std, train_mu + train_std, edgecolor='none',\n",
    "                     facecolor=train_line[0].get_color(), alpha=0.2)\n",
    "    plt.fill_between(param_values, valid_mu - valid_std, valid_mu + valid_std, edgecolor='none',\n",
    "                     facecolor=valid_line[0].get_color(), alpha=0.2)\n",
    "    plt.legend()"
   ]
  },
  {
   "cell_type": "code",
   "execution_count": 52,
   "metadata": {},
   "outputs": [
    {
     "data": {
      "image/png": "[encoded data removed]",
      "text/plain": [
       "<Figure size 432x288 with 1 Axes>"
      ]
     },
     "metadata": {
      "needs_background": "light"
     },
     "output_type": "display_data"
    }
   ],
   "source": [
    "plot_validation_curves(svm_params1['C'], svm_grid_searcher1.cv_results_)"
   ]
  },
  {
   "cell_type": "markdown",
   "metadata": {},
   "source": [
    "**Но мы помним, что с параметром регуляризации по умолчанию (С=1) на кросс-валидации доля правильных ответов выше. Это тот случай (не редкий), когда можно ошибиться и перебирать параметры не в том диапазоне (причина в том, что мы взяли равномерную сетку на большом интервале и упустили действительно хороший интервал значений `C`). Здесь намного осмысленней подбирать `C` в районе 1, к тому же, так модель быстрее обучается, чем при больших `C`. **\n",
    "\n",
    "**С помощью `GridSearchCV` подберите параметр `C` для SVM в диапазоне (1e-3, 1), 30 значений, используйте `linspace` из NumPy. Нарисуйте кривые валидации.**"
   ]
  },
  {
   "cell_type": "code",
   "execution_count": 149,
   "metadata": {},
   "outputs": [
    {
     "name": "stdout",
     "output_type": "stream",
     "text": [
      "Wall time: 2min 45s\n"
     ]
    },
    {
     "data": {
      "text/plain": [
       "GridSearchCV(cv=None, error_score=nan,\n",
       "             estimator=LinearSVC(C=1, class_weight=None, dual=True,\n",
       "                                 fit_intercept=True, intercept_scaling=1,\n",
       "                                 loss='squared_hinge', max_iter=1000,\n",
       "                                 multi_class='ovr', penalty='l2',\n",
       "                                 random_state=17, tol=0.0001, verbose=0),\n",
       "             iid='deprecated', n_jobs=None,\n",
       "             param_grid={'C': array([0.001     , 0.03544828, 0.06989655, 0.10434483, 0.1387931 ,\n",
       "       0.17324138, 0.20768966, 0.24213793, 0.27658621, 0.31103448,\n",
       "       0.34548276, 0.37993103, 0.41437931, 0.44882759, 0.48327586,\n",
       "       0.51772414, 0.55217241, 0.58662069, 0.62106897, 0.65551724,\n",
       "       0.68996552, 0.72441379, 0.75886207, 0.79331034, 0.82775862,\n",
       "       0.8622069 , 0.89665517, 0.93110345, 0.96555172, 1.        ])},\n",
       "             pre_dispatch='2*n_jobs', refit=True, return_train_score=False,\n",
       "             scoring=None, verbose=0)"
      ]
     },
     "execution_count": 149,
     "metadata": {},
     "output_type": "execute_result"
    }
   ],
   "source": [
    "%%time\n",
    "svm_params2 = {'C': np.linspace(1e-3, 1, 30)}\n",
    "\n",
    "svm_grid_searcher2 = GridSearchCV(svm, param_grid=svm_params2)\n",
    "svm_grid_searcher2.fit(X_train, y_train)"
   ]
  },
  {
   "cell_type": "markdown",
   "metadata": {},
   "source": [
    "Выведите лучшее значение доли правильных ответов на кросс-валидации и соответствующее значение `C`."
   ]
  },
  {
   "cell_type": "code",
   "execution_count": 150,
   "metadata": {},
   "outputs": [
    {
     "name": "stdout",
     "output_type": "stream",
     "text": [
      "Best score -  0.7701686093803548\n",
      "Best C -  0.10434482758620689\n"
     ]
    }
   ],
   "source": [
    "print('Best score - ', svm_grid_searcher2.best_score_)\n",
    "print('Best C - ', svm_grid_searcher2.best_params_['C'])"
   ]
  },
  {
   "cell_type": "markdown",
   "metadata": {},
   "source": [
    "Нарисуйте график зависимости доли правильных ответов на кросс-валидации от С."
   ]
  },
  {
   "cell_type": "code",
   "execution_count": 152,
   "metadata": {},
   "outputs": [
    {
     "ename": "KeyError",
     "evalue": "'mean_train_score'",
     "output_type": "error",
     "traceback": [
      "\u001b[1;31m---------------------------------------------------------------------------\u001b[0m",
      "\u001b[1;31mKeyError\u001b[0m                                  Traceback (most recent call last)",
      "\u001b[1;32m<ipython-input-152-1d5f8937f161>\u001b[0m in \u001b[0;36m<module>\u001b[1;34m\u001b[0m\n\u001b[1;32m----> 1\u001b[1;33m \u001b[0mplot_validation_curves\u001b[0m\u001b[1;33m(\u001b[0m\u001b[0msvm_params2\u001b[0m\u001b[1;33m[\u001b[0m\u001b[1;34m'C'\u001b[0m\u001b[1;33m]\u001b[0m\u001b[1;33m,\u001b[0m \u001b[0msvm_grid_searcher2\u001b[0m\u001b[1;33m.\u001b[0m\u001b[0mcv_results_\u001b[0m\u001b[1;33m)\u001b[0m\u001b[1;33m\u001b[0m\u001b[1;33m\u001b[0m\u001b[0m\n\u001b[0m",
      "\u001b[1;32m<ipython-input-11-aef47e8c74e6>\u001b[0m in \u001b[0;36mplot_validation_curves\u001b[1;34m(param_values, grid_cv_results_)\u001b[0m\n\u001b[0;32m      1\u001b[0m \u001b[1;32mdef\u001b[0m \u001b[0mplot_validation_curves\u001b[0m\u001b[1;33m(\u001b[0m\u001b[0mparam_values\u001b[0m\u001b[1;33m,\u001b[0m \u001b[0mgrid_cv_results_\u001b[0m\u001b[1;33m)\u001b[0m\u001b[1;33m:\u001b[0m\u001b[1;33m\u001b[0m\u001b[1;33m\u001b[0m\u001b[0m\n\u001b[1;32m----> 2\u001b[1;33m     \u001b[0mtrain_mu\u001b[0m\u001b[1;33m,\u001b[0m \u001b[0mtrain_std\u001b[0m \u001b[1;33m=\u001b[0m \u001b[0mgrid_cv_results_\u001b[0m\u001b[1;33m[\u001b[0m\u001b[1;34m'mean_train_score'\u001b[0m\u001b[1;33m]\u001b[0m\u001b[1;33m,\u001b[0m \u001b[0mgrid_cv_results_\u001b[0m\u001b[1;33m[\u001b[0m\u001b[1;34m'std_train_score'\u001b[0m\u001b[1;33m]\u001b[0m\u001b[1;33m\u001b[0m\u001b[1;33m\u001b[0m\u001b[0m\n\u001b[0m\u001b[0;32m      3\u001b[0m     \u001b[0mvalid_mu\u001b[0m\u001b[1;33m,\u001b[0m \u001b[0mvalid_std\u001b[0m \u001b[1;33m=\u001b[0m \u001b[0mgrid_cv_results_\u001b[0m\u001b[1;33m[\u001b[0m\u001b[1;34m'mean_test_score'\u001b[0m\u001b[1;33m]\u001b[0m\u001b[1;33m,\u001b[0m \u001b[0mgrid_cv_results_\u001b[0m\u001b[1;33m[\u001b[0m\u001b[1;34m'std_test_score'\u001b[0m\u001b[1;33m]\u001b[0m\u001b[1;33m\u001b[0m\u001b[1;33m\u001b[0m\u001b[0m\n\u001b[0;32m      4\u001b[0m     \u001b[0mtrain_line\u001b[0m \u001b[1;33m=\u001b[0m \u001b[0mplt\u001b[0m\u001b[1;33m.\u001b[0m\u001b[0mplot\u001b[0m\u001b[1;33m(\u001b[0m\u001b[0mparam_values\u001b[0m\u001b[1;33m,\u001b[0m \u001b[0mtrain_mu\u001b[0m\u001b[1;33m,\u001b[0m \u001b[1;34m'-'\u001b[0m\u001b[1;33m,\u001b[0m \u001b[0mlabel\u001b[0m\u001b[1;33m=\u001b[0m\u001b[1;34m'train'\u001b[0m\u001b[1;33m,\u001b[0m \u001b[0mcolor\u001b[0m\u001b[1;33m=\u001b[0m\u001b[1;34m'green'\u001b[0m\u001b[1;33m)\u001b[0m\u001b[1;33m\u001b[0m\u001b[1;33m\u001b[0m\u001b[0m\n\u001b[0;32m      5\u001b[0m     \u001b[0mvalid_line\u001b[0m \u001b[1;33m=\u001b[0m \u001b[0mplt\u001b[0m\u001b[1;33m.\u001b[0m\u001b[0mplot\u001b[0m\u001b[1;33m(\u001b[0m\u001b[0mparam_values\u001b[0m\u001b[1;33m,\u001b[0m \u001b[0mvalid_mu\u001b[0m\u001b[1;33m,\u001b[0m \u001b[1;34m'-'\u001b[0m\u001b[1;33m,\u001b[0m \u001b[0mlabel\u001b[0m\u001b[1;33m=\u001b[0m\u001b[1;34m'test'\u001b[0m\u001b[1;33m,\u001b[0m \u001b[0mcolor\u001b[0m\u001b[1;33m=\u001b[0m\u001b[1;34m'red'\u001b[0m\u001b[1;33m)\u001b[0m\u001b[1;33m\u001b[0m\u001b[1;33m\u001b[0m\u001b[0m\n",
      "\u001b[1;31mKeyError\u001b[0m: 'mean_train_score'"
     ]
    }
   ],
   "source": [
    "plot_validation_curves(svm_params2['C'], svm_grid_searcher2.cv_results_)"
   ]
  },
  {
   "cell_type": "markdown",
   "metadata": {},
   "source": [
    "Выведите долю правильных ответов на выборке `(X_valid, y_valid)` для `LinearSVC` с лучшим найденным значением `C`."
   ]
  },
  {
   "cell_type": "code",
   "execution_count": null,
   "metadata": {},
   "outputs": [],
   "source": [
    "svm_cv_acc = accuracy_score(y_valid, svm_grid_searcher2.predict(X_valid.toarray()))"
   ]
  },
  {
   "cell_type": "markdown",
   "metadata": {},
   "source": [
    "**<font color='red'>Вопрос 4. </font> Посчитайте доли правильных ответов для `svm_grid_searcher2` на кросс-валидации для лучшего значения параметра `C` и на отложенной выборке. Округлите каждое до 3 знаков после запятой и выведите через пробел.**"
   ]
  },
  {
   "cell_type": "code",
   "execution_count": null,
   "metadata": {
    "scrolled": false
   },
   "outputs": [],
   "source": [
    "svm_grid_searcher2.best_score_"
   ]
  },
  {
   "cell_type": "code",
   "execution_count": 58,
   "metadata": {},
   "outputs": [
    {
     "data": {
      "text/plain": [
       "[0.7701686093803548, 0.7807537331121118]"
      ]
     },
     "execution_count": 58,
     "metadata": {},
     "output_type": "execute_result"
    }
   ],
   "source": [
    "ans = []\n",
    "ans.append(svm_grid_searcher2.best_score_)\n",
    "ans.append(svm_cv_acc)\n",
    "ans"
   ]
  },
  {
   "cell_type": "code",
   "execution_count": 59,
   "metadata": {},
   "outputs": [],
   "source": [
    "ans_4 = str(round(ans[0],3))\n",
    "ans_4 += \" \" + str(round(ans[1],3))\n",
    "write_answer_to_file(4, ans_4)"
   ]
  },
  {
   "cell_type": "markdown",
   "metadata": {},
   "source": [
    "## Часть 2. Выбор параметров – длины сессии и ширины окна"
   ]
  },
  {
   "cell_type": "markdown",
   "metadata": {},
   "source": [
    "**Возьмем `LinearSVC`, показавший лучшее качество на кросс-валидации в 1 части, и проверим его работу еще на 8 выборках для 10 пользователей (с разными сочетаниями параметров *session_length* и *window_size*). Поскольку тут уже вычислений побольше, мы не будем каждый раз заново подбирать параметр регуляризации `C`.**\n",
    "\n",
    "**Определите функцию `model_assessment`, ее документация описана ниже. Обратите внимание на все детали. Например, на то, что разбиение  выборки с `train_test_split` должно быть стратифицированным. Не теряйте нигде `random_state`.**"
   ]
  },
  {
   "cell_type": "code",
   "execution_count": 60,
   "metadata": {},
   "outputs": [],
   "source": [
    "import time"
   ]
  },
  {
   "cell_type": "code",
   "execution_count": 61,
   "metadata": {},
   "outputs": [],
   "source": [
    "def model_assessment(estimator, path_to_X_pickle, path_to_y_pickle, cv, random_state=17, test_size=0.3):\n",
    "    '''\n",
    "    Estimates CV-accuracy for (1 - test_size) share of (X_sparse, y) \n",
    "    loaded from path_to_X_pickle and path_to_y_pickle and holdout accuracy for (test_size) share of (X_sparse, y).\n",
    "    The split is made with stratified train_test_split with params random_state and test_size.\n",
    "    \n",
    "    :param estimator – Scikit-learn estimator (classifier or regressor)\n",
    "    :param path_to_X_pickle – path to pickled sparse X (instances and their features)\n",
    "    :param path_to_y_pickle – path to pickled y (responses)\n",
    "    :param cv – cross-validation as in cross_val_score (use StratifiedKFold here)\n",
    "    :param random_state –  for train_test_split\n",
    "    :param test_size –  for train_test_split\n",
    "    \n",
    "    :returns mean CV-accuracy for (X_train, y_train) and accuracy for (X_valid, y_valid) where (X_train, y_train)\n",
    "    and (X_valid, y_valid) are (1 - test_size) and (testsize) shares of (X_sparse, y).\n",
    "    '''\n",
    "    start = time.time()\n",
    "    \n",
    "    with open(path_to_X_pickle, 'rb') as X_sparse_users_pkl:\n",
    "        X_sparse_users = pickle.load(X_sparse_users_pkl, encoding='latin1')\n",
    "    with open(path_to_y_pickle, 'rb') as y_users_pkl:\n",
    "        y_users = pickle.load(y_users_pkl, encoding='latin1')\n",
    "        \n",
    "    X_train, X_valid, y_train, y_valid = train_test_split(X_sparse_users, y_users, \n",
    "                                                      test_size = test_size, \n",
    "                                                     random_state = random_state, stratify=y_users)\n",
    "    \n",
    "    mass = []\n",
    "    ans = []\n",
    "    \n",
    "    for train_index, test_index in cv.split(X_train, y_train):\n",
    "        X_train_cv, X_test_cv = X_train[train_index], X_train[test_index]\n",
    "        y_train_cv, y_test_cv = y_train[train_index], y_train[test_index]\n",
    "        estimator.fit(X_train_cv, y_train_cv)\n",
    "        estimator_predictions = estimator.predict(X_test_cv.toarray())\n",
    "        ans_acc = accuracy_score(y_test_cv, estimator_predictions)\n",
    "        mass.append(ans_acc)\n",
    "    ans.append(np.mean(mass))\n",
    "    \n",
    "    estimator.fit(X_train, y_train)\n",
    "    estimator_predictions = estimator.predict(X_valid.toarray())\n",
    "    ans_acc = accuracy_score(y_valid, estimator_predictions)\n",
    "    ans.append(ans_acc)\n",
    "    \n",
    "    end = time.time()\n",
    "    ans.append(end - start)\n",
    "    return ans        "
   ]
  },
  {
   "cell_type": "markdown",
   "metadata": {},
   "source": [
    "**Убедитесь, что функция работает.**"
   ]
  },
  {
   "cell_type": "code",
   "execution_count": 62,
   "metadata": {},
   "outputs": [
    {
     "data": {
      "text/plain": [
       "[0.7670206386611259, 0.7807537331121118, 2.0721495151519775]"
      ]
     },
     "execution_count": 62,
     "metadata": {},
     "output_type": "execute_result"
    }
   ],
   "source": [
    "model_assessment(svm_grid_searcher2.best_estimator_, \n",
    "                 os.path.join(PATH_TO_DATA, 'X_sparse_10users.pkl'),\n",
    "        os.path.join(PATH_TO_DATA, 'y_10users.pkl'), skf, random_state=17, test_size=0.3)"
   ]
  },
  {
   "cell_type": "markdown",
   "metadata": {},
   "source": [
    "**Примените функцию *model_assessment* для лучшего алгоритма из предыдущей части (а именно, `svm_grid_searcher2.best_estimator_`) и 9 выборок вида с разными сочетаниями параметров *session_length* и *window_size* для 10 пользователей. Выведите в цикле параметры *session_length* и *window_size*, а также результат вывода функции *model_assessment*. \n",
    "Удобно сделать так, чтоб *model_assessment* возвращала 3-им элементом время, за которое она выполнилась. На моем ноуте этот участок кода выполнился за 20 секунд. Но со 150 пользователями каждая итерация занимает уже несколько минут.**"
   ]
  },
  {
   "cell_type": "markdown",
   "metadata": {},
   "source": [
    "Здесь для удобства стоит создать копии ранее созданных pickle-файлов X_sparse_10users.pkl, X_sparse_150users.pkl, y_10users.pkl и y_150users.pkl, добавив к их названиям s10_w10, что означает длину сессии 10 и ширину окна 10. "
   ]
  },
  {
   "cell_type": "code",
   "execution_count": 73,
   "metadata": {},
   "outputs": [
    {
     "name": "stderr",
     "output_type": "stream",
     "text": [
      "\"cp\" ­Ґ пў«пҐвбп ў­гваҐ­­Ґ© Ё«Ё ў­Ґи­Ґ©\n",
      "Є®¬ ­¤®©, ЁбЇ®«­пҐ¬®© Їа®Ја ¬¬®© Ё«Ё Ї ЄҐв­л¬ д ©«®¬.\n",
      "\"cp\" ­Ґ пў«пҐвбп ў­гваҐ­­Ґ© Ё«Ё ў­Ґи­Ґ©\n",
      "Є®¬ ­¤®©, ЁбЇ®«­пҐ¬®© Їа®Ја ¬¬®© Ё«Ё Ї ЄҐв­л¬ д ©«®¬.\n",
      "\"cp\" ­Ґ пў«пҐвбп ў­гваҐ­­Ґ© Ё«Ё ў­Ґи­Ґ©\n",
      "Є®¬ ­¤®©, ЁбЇ®«­пҐ¬®© Їа®Ја ¬¬®© Ё«Ё Ї ЄҐв­л¬ д ©«®¬.\n",
      "\"cp\" ­Ґ пў«пҐвбп ў­гваҐ­­Ґ© Ё«Ё ў­Ґи­Ґ©\n",
      "Є®¬ ­¤®©, ЁбЇ®«­пҐ¬®© Їа®Ја ¬¬®© Ё«Ё Ї ЄҐв­л¬ д ©«®¬.\n"
     ]
    }
   ],
   "source": [
    "!cp $PATH_TO_DATA/X_sparse_10users.pkl $PATH_TO_DATA/X_sparse_10users_s10_w10.pkl \n",
    "!cp $PATH_TO_DATA/X_sparse_150users.pkl $PATH_TO_DATA/X_sparse_150users_s10_w10.pkl \n",
    "!cp $PATH_TO_DATA/y_10users.pkl $PATH_TO_DATA/y_10users_s10_w10.pkl \n",
    "!cp $PATH_TO_DATA/y_150users.pkl $PATH_TO_DATA/y_150users_s10_w10.pkl "
   ]
  },
  {
   "cell_type": "code",
   "execution_count": 63,
   "metadata": {},
   "outputs": [
    {
     "name": "stdout",
     "output_type": "stream",
     "text": [
      "S - 15 W - 10. [Accuracy CV, Accuracy test, time] - \n",
      "[0.8243252292702751, 0.8404835269021095, 3.3081185817718506]\n",
      "\n",
      "\n",
      "S - 10 W - 10. [Accuracy CV, Accuracy test, time] - \n",
      "[0.7670206386611259, 0.7807537331121118, 2.0551702976226807]\n",
      "\n",
      "\n",
      "S - 7 W - 10. [Accuracy CV, Accuracy test, time] - \n",
      "[0.7670206386611259, 0.7807537331121118, 2.060469150543213]\n",
      "\n",
      "\n",
      "S - 5 W - 10. [Accuracy CV, Accuracy test, time] - \n",
      "[0.7670206386611259, 0.7807537331121118, 2.0563275814056396]\n",
      "\n",
      "\n",
      "S - 15 W - 7. [Accuracy CV, Accuracy test, time] - \n",
      "[0.8495024256089474, 0.8543222166915547, 4.531134843826294]\n",
      "\n",
      "\n",
      "S - 10 W - 7. [Accuracy CV, Accuracy test, time] - \n",
      "[0.7983645917156946, 0.8073668491786958, 2.7606194019317627]\n",
      "\n",
      "\n",
      "S - 7 W - 7. [Accuracy CV, Accuracy test, time] - \n",
      "[0.754765400423003, 0.7617388418782147, 1.9647257328033447]\n",
      "\n",
      "\n",
      "S - 5 W - 7. [Accuracy CV, Accuracy test, time] - \n",
      "[0.754765400423003, 0.7617388418782147, 1.9721179008483887]\n",
      "\n",
      "\n",
      "S - 15 W - 5. [Accuracy CV, Accuracy test, time] - \n",
      "[0.8670355547005402, 0.8752963489805595, 6.043787717819214]\n",
      "\n",
      "\n",
      "S - 10 W - 5. [Accuracy CV, Accuracy test, time] - \n",
      "[0.8177520250854086, 0.8245614035087719, 3.8366236686706543]\n",
      "\n",
      "\n",
      "S - 7 W - 5. [Accuracy CV, Accuracy test, time] - \n",
      "[0.772939529035208, 0.7853247984826932, 2.6731410026550293]\n",
      "\n",
      "\n",
      "S - 5 W - 5. [Accuracy CV, Accuracy test, time] - \n",
      "[0.7254849424351582, 0.7362494073020389, 2.0576860904693604]\n",
      "\n",
      "\n",
      "Wall time: 35.3 s\n"
     ]
    }
   ],
   "source": [
    "%%time\n",
    "\n",
    "for window_size, session_length in itertools.product([10, 7, 5], [15, 10, 7, 5]):\n",
    "    if window_size <= session_length:\n",
    "        path_to_X_pkl = os.path.join(PATH_TO_DATA, 'X_sparse_10users_s'+str(session_length)+'_w'+str(window_size)+'.pkl')\n",
    "        path_to_y_pkl = os.path.join(PATH_TO_DATA, 'y_10users_s'+str(session_length)+'_w'+str(window_size)+'.pkl')\n",
    "    print('S - ' + str(session_length) + ' W - ' + str(window_size) +'. [Accuracy CV, Accuracy test, time] - ')\n",
    "    print(model_assessment(svm_grid_searcher2.best_estimator_, \n",
    "                        path_to_X_pkl,\n",
    "                        path_to_y_pkl, skf, random_state=17, test_size=0.3))\n",
    "    print('\\n')"
   ]
  },
  {
   "cell_type": "markdown",
   "metadata": {},
   "source": [
    "**<font color='red'>Вопрос 5. </font> Посчитайте доли правильных ответов для `LinearSVC` с настроенным параметром `C` и выборки `X_sparse_10users_s15_w5`. Укажите доли правильных ответов на кросс-валидации и на отложенной выборке. Округлите каждое до 3 знаков после запятой и выведите через пробел.**"
   ]
  },
  {
   "cell_type": "code",
   "execution_count": 64,
   "metadata": {},
   "outputs": [],
   "source": [
    "ans_5 = str(0.867)\n",
    "ans_5 += \" \" + str(0.875)\n",
    "write_answer_to_file(5, ans_5)"
   ]
  },
  {
   "cell_type": "markdown",
   "metadata": {},
   "source": [
    "**Прокомментируйте полученные результаты. Сравните для 150 пользователей доли правильных ответов на кросс-валидации и оставленной выборке для сочетаний параметров (*session_length, window_size*): (5,5), (7,7) и (10,10). На среднем ноуте это может занять до часа – запаситесь терпением, это Data Science :) **\n",
    "\n",
    "**Сделайте вывод о том, как качество классификации зависит от длины сессии и ширины окна.**"
   ]
  },
  {
   "cell_type": "code",
   "execution_count": 102,
   "metadata": {},
   "outputs": [
    {
     "name": "stdout",
     "output_type": "stream",
     "text": [
      "S - 10 W - 10. [Accuracy CV, Accuracy test, time] - \n",
      "[0.46307591254574465, 0.4836276942538802, 237.59596276283264]\n",
      "\n",
      "\n",
      "Wall time: 3min 57s\n"
     ]
    }
   ],
   "source": [
    "%%time\n",
    "estimator = svm_grid_searcher2.best_estimator_\n",
    "\n",
    "for window_size, session_length in [(10,10)]:\n",
    "    if window_size <= session_length:\n",
    "        path_to_X_pkl = os.path.join(PATH_TO_DATA, 'X_sparse_150users_s'+str(session_length)+'_w'+str(window_size)+'.pkl')\n",
    "        path_to_y_pkl = os.path.join(PATH_TO_DATA, 'y_150users_s'+str(session_length)+'_w'+str(window_size)+'.pkl')\n",
    "    print('S - ' + str(session_length) + ' W - ' + str(window_size) +'. [Accuracy CV, Accuracy test, time] - ')\n",
    "    print(model_assessment(svm_grid_searcher2.best_estimator_, \n",
    "                        path_to_X_pkl,\n",
    "                        path_to_y_pkl, skf, random_state=17, test_size=0.3))\n",
    "    print('\\n')"
   ]
  },
  {
   "cell_type": "code",
   "execution_count": 104,
   "metadata": {
    "scrolled": true
   },
   "outputs": [
    {
     "name": "stdout",
     "output_type": "stream",
     "text": [
      "S - 5 W - 5. [Accuracy CV, Accuracy test, time] - \n",
      "[0.4083611011164474, 0.42171606560568453, 350.8168456554413]\n",
      "\n",
      "\n",
      "S - 7 W - 7. [Accuracy CV, Accuracy test, time] - \n",
      "[0.4366487102001489, 0.45295840855673264, 253.23808121681213]\n",
      "\n",
      "\n",
      "S - 10 W - 10. [Accuracy CV, Accuracy test, time] - \n",
      "[0.46307591254574465, 0.4836276942538802, 214.69721460342407]\n",
      "\n",
      "\n",
      "Wall time: 13min 38s\n"
     ]
    }
   ],
   "source": [
    "%%time\n",
    "estimator = svm_grid_searcher2.best_estimator_\n",
    "\n",
    "for window_size, session_length in [(5,5), (7,7), (10,10)]:\n",
    "    if window_size <= session_length:\n",
    "        path_to_X_pkl = os.path.join(PATH_TO_DATA, 'X_sparse_150users_s'+str(session_length)+'_w'+str(window_size)+'.pkl')\n",
    "        path_to_y_pkl = os.path.join(PATH_TO_DATA, 'y_150users_s'+str(session_length)+'_w'+str(window_size)+'.pkl')\n",
    "    print('S - ' + str(session_length) + ' W - ' + str(window_size) +'. [Accuracy CV, Accuracy test, time] - ')\n",
    "    print(model_assessment(svm_grid_searcher2.best_estimator_, \n",
    "                        path_to_X_pkl,\n",
    "                        path_to_y_pkl, skf, random_state=17, test_size=0.3))\n",
    "    print('\\n')"
   ]
  },
  {
   "cell_type": "markdown",
   "metadata": {},
   "source": [
    "**<font color='red'>Вопрос 6. </font> Посчитайте доли правильных ответов для `LinearSVC` с настроенным параметром `C` и выборки `X_sparse_150users`. Укажите доли правильных ответов на кросс-валидации и на отложенной выборке. Округлите каждое до 3 знаков после запятой и выведите через пробел.**"
   ]
  },
  {
   "cell_type": "code",
   "execution_count": 103,
   "metadata": {},
   "outputs": [],
   "source": [
    "ans_6 = str(0.463)\n",
    "ans_6 += \" \" + str(0.483)\n",
    "write_answer_to_file(6, ans_6)"
   ]
  },
  {
   "cell_type": "markdown",
   "metadata": {},
   "source": [
    "## Часть 3. Идентификация  конкретного пользователя и кривые обучения"
   ]
  },
  {
   "cell_type": "markdown",
   "metadata": {},
   "source": [
    "**Поскольку может разочаровать, что многоклассовая доля правильных ответов на выборке из 150 пользовалей невелика, порадуемся тому, что конкретного пользователя можно идентифицировать достаточно хорошо. **"
   ]
  },
  {
   "cell_type": "markdown",
   "metadata": {},
   "source": [
    "**Загрузим сериализованные ранее объекты *X_sparse_150users* и *y_150users*, соответствующие обучающей выборке для 150 пользователей с параметрами (*session_length, window_size*) = (10,10). Так же точно разобьем их на 70% и 30%.**"
   ]
  },
  {
   "cell_type": "code",
   "execution_count": 19,
   "metadata": {},
   "outputs": [],
   "source": [
    "with open(os.path.join(PATH_TO_DATA, 'X_sparse_150users.pkl'), 'rb') as X_sparse_150users_pkl:\n",
    "     X_sparse_150users = pickle.load(X_sparse_150users_pkl)\n",
    "with open(os.path.join(PATH_TO_DATA, 'y_150users.pkl'), 'rb') as y_150users_pkl:\n",
    "    y_150users = pickle.load(y_150users_pkl)"
   ]
  },
  {
   "cell_type": "code",
   "execution_count": 20,
   "metadata": {},
   "outputs": [],
   "source": [
    "X_train_150, X_valid_150, y_train_150, y_valid_150 = train_test_split(X_sparse_150users, \n",
    "                                                                      y_150users, test_size=0.3, \n",
    "                                                     random_state=17, stratify=y_150users)"
   ]
  },
  {
   "cell_type": "markdown",
   "metadata": {},
   "source": [
    "**Обучите `LogisticRegressionCV` для одного значения параметра `C` (лучшего на кросс-валидации в 1 части, используйте точное значение, не на глаз). Теперь будем решать 150 задач \"Один-против-Всех\", поэтому укажите аргумент `multi_class`='ovr'. Как всегда, где возможно, указывайте `n_jobs=-1` и `random_state`=17.**"
   ]
  },
  {
   "cell_type": "code",
   "execution_count": 108,
   "metadata": {},
   "outputs": [
    {
     "data": {
      "text/plain": [
       "3.7315789473684213"
      ]
     },
     "execution_count": 108,
     "metadata": {},
     "output_type": "execute_result"
    }
   ],
   "source": [
    "m = [c_best]"
   ]
  },
  {
   "cell_type": "code",
   "execution_count": 109,
   "metadata": {},
   "outputs": [
    {
     "name": "stdout",
     "output_type": "stream",
     "text": [
      "Wall time: 4min 20s\n"
     ]
    },
    {
     "data": {
      "text/plain": [
       "LogisticRegressionCV(Cs=[3.7315789473684213], class_weight=None,\n",
       "                     cv=StratifiedKFold(n_splits=3, random_state=17, shuffle=True),\n",
       "                     dual=False, fit_intercept=True, intercept_scaling=1.0,\n",
       "                     l1_ratios=None, max_iter=100, multi_class='ovr', n_jobs=-1,\n",
       "                     penalty='l2', random_state=17, refit=True, scoring=None,\n",
       "                     solver='lbfgs', tol=0.0001, verbose=0)"
      ]
     },
     "execution_count": 109,
     "metadata": {},
     "output_type": "execute_result"
    }
   ],
   "source": [
    "%%time\n",
    "logit_cv_150users = LogisticRegressionCV(Cs=[logit_grid_searcher2.Cs_[10]], multi_class='ovr', random_state=17, cv=skf, n_jobs=-1)\n",
    "logit_cv_150users.fit(X_train_150, y_train_150)"
   ]
  },
  {
   "cell_type": "markdown",
   "metadata": {},
   "source": [
    "**Посмотрите на средние доли правильных ответов на кросс-валидации в задаче идентификации каждого пользователя по отдельности.**"
   ]
  },
  {
   "cell_type": "code",
   "execution_count": 110,
   "metadata": {},
   "outputs": [
    {
     "name": "stdout",
     "output_type": "stream",
     "text": [
      "User 6, CV score: 0.9961110589805345\n",
      "User 13, CV score: 0.9963612857485429\n",
      "User 15, CV score: 0.9952769697538395\n",
      "User 16, CV score: 0.9917946472323876\n",
      "User 28, CV score: 0.9903558433163387\n",
      "User 31, CV score: 0.9941718015284685\n",
      "User 33, CV score: 0.9937234785691199\n",
      "User 39, CV score: 0.9858309092615182\n",
      "User 46, CV score: 0.9979669075099308\n",
      "User 49, CV score: 0.9953082480998404\n",
      "User 50, CV score: 0.994286488797139\n",
      "User 53, CV score: 0.993587939069782\n",
      "User 65, CV score: 0.9968825915152273\n",
      "User 66, CV score: 0.9947869423331562\n",
      "User 82, CV score: 0.9963195812872083\n",
      "User 85, CV score: 0.9963821379792104\n",
      "User 89, CV score: 0.9907103312376843\n",
      "User 92, CV score: 0.9944011760658097\n",
      "User 100, CV score: 0.9944428805271444\n",
      "User 102, CV score: 0.9912003586583675\n",
      "User 103, CV score: 0.9806491299406753\n",
      "User 105, CV score: 0.9969451482072295\n",
      "User 106, CV score: 0.9948390729098245\n",
      "User 118, CV score: 0.9910022624670275\n",
      "User 119, CV score: 0.9965802341705503\n",
      "User 120, CV score: 0.9943177671431401\n",
      "User 126, CV score: 0.9950475952164983\n",
      "User 127, CV score: 0.9915965510410475\n",
      "User 128, CV score: 0.9846214798828105\n",
      "User 138, CV score: 0.9969764265532305\n",
      "User 158, CV score: 0.9970494093605663\n",
      "User 160, CV score: 0.9967887564772241\n",
      "User 165, CV score: 0.9973309144745759\n",
      "User 172, CV score: 0.9964968252478809\n",
      "User 177, CV score: 0.9967574781312231\n",
      "User 203, CV score: 0.9976332718192529\n",
      "User 207, CV score: 0.987947410674257\n",
      "User 223, CV score: 0.9964759730172136\n",
      "User 233, CV score: 0.9963508596332092\n",
      "User 235, CV score: 0.9965802341705504\n",
      "User 236, CV score: 0.9899075203569901\n",
      "User 237, CV score: 0.9894591973976415\n",
      "User 238, CV score: 0.996163189557203\n",
      "User 240, CV score: 0.9956106054445174\n",
      "User 241, CV score: 0.9959442411351954\n",
      "User 242, CV score: 0.9951831347158362\n",
      "User 245, CV score: 0.9960693545191996\n",
      "User 246, CV score: 0.9969555743225632\n",
      "User 249, CV score: 0.9949329079478276\n",
      "User 252, CV score: 0.996361285748543\n",
      "User 254, CV score: 0.9920970045770646\n",
      "User 256, CV score: 0.9959859455965302\n",
      "User 258, CV score: 0.9959129627891944\n",
      "User 259, CV score: 0.9949016296018267\n",
      "User 260, CV score: 0.997299636128575\n",
      "User 261, CV score: 0.9898449636649881\n",
      "User 263, CV score: 0.9928268326504228\n",
      "User 264, CV score: 0.9965489558245494\n",
      "User 269, CV score: 0.9869882080635577\n",
      "User 270, CV score: 0.9894904757436427\n",
      "User 273, CV score: 0.9943281932584739\n",
      "User 287, CV score: 0.9899492248183249\n",
      "User 294, CV score: 0.9955793270985164\n",
      "User 298, CV score: 0.9912629153503696\n",
      "User 301, CV score: 0.9972683577825738\n",
      "User 308, CV score: 0.9956314576751849\n",
      "User 315, CV score: 0.997497732319915\n",
      "User 318, CV score: 0.9958399799818585\n",
      "User 327, CV score: 0.9965906602858841\n",
      "User 332, CV score: 0.9967053475545548\n",
      "User 333, CV score: 0.9962465984798724\n",
      "User 339, CV score: 0.9970806877065673\n",
      "User 340, CV score: 0.9966323647472187\n",
      "User 342, CV score: 0.9923055268837384\n",
      "User 344, CV score: 0.9965698080552167\n",
      "User 351, CV score: 0.9923472313450731\n",
      "User 356, CV score: 0.9976124195885855\n",
      "User 361, CV score: 0.9964863991325471\n",
      "User 363, CV score: 0.9965072513632146\n",
      "User 411, CV score: 0.9912316370043687\n",
      "User 417, CV score: 0.9966532169778862\n",
      "User 425, CV score: 0.9941613754131348\n",
      "User 430, CV score: 0.9961944679032039\n",
      "User 435, CV score: 0.9969451482072295\n",
      "User 436, CV score: 0.9951727086005026\n",
      "User 440, CV score: 0.9969660004378968\n",
      "User 444, CV score: 0.997893924702595\n",
      "User 475, CV score: 0.9891672661682983\n",
      "User 476, CV score: 0.9970494093605664\n",
      "User 486, CV score: 0.9954020831378436\n",
      "User 515, CV score: 0.9941196709518\n",
      "User 533, CV score: 0.9938590180684579\n",
      "User 561, CV score: 0.9843608269994683\n",
      "User 563, CV score: 0.9967574781312231\n",
      "User 564, CV score: 0.995725292713188\n",
      "User 568, CV score: 0.991648681617716\n",
      "User 569, CV score: 0.9893340840136373\n",
      "User 570, CV score: 0.9982379865086067\n",
      "User 573, CV score: 0.9905747917383462\n",
      "User 575, CV score: 0.990043059856328\n",
      "User 576, CV score: 0.9940779664904653\n",
      "User 580, CV score: 0.9866232940268785\n",
      "User 583, CV score: 0.9808680783626827\n",
      "User 584, CV score: 0.9810557484386893\n",
      "User 600, CV score: 0.9915027160030444\n",
      "User 603, CV score: 0.9956835882518532\n",
      "User 605, CV score: 0.9975498628965833\n",
      "User 640, CV score: 0.9972058010905717\n",
      "User 647, CV score: 0.9977166807419223\n",
      "User 653, CV score: 0.9973830450512443\n",
      "User 664, CV score: 0.9951414302545015\n",
      "User 665, CV score: 0.9968096087078915\n",
      "User 677, CV score: 0.9965176774785482\n",
      "User 692, CV score: 0.996893017630561\n",
      "User 697, CV score: 0.9958816844431934\n",
      "User 705, CV score: 0.996423842440545\n",
      "User 722, CV score: 0.9946931072951529\n",
      "User 740, CV score: 0.9966219386318852\n",
      "User 741, CV score: 0.9967157736698883\n",
      "User 756, CV score: 0.9956627360211859\n",
      "User 780, CV score: 0.9964759730172136\n",
      "User 784, CV score: 0.9966010864012178\n",
      "User 785, CV score: 0.9968096087078915\n",
      "User 797, CV score: 0.9957252927131881\n",
      "User 812, CV score: 0.9948286467944909\n",
      "User 844, CV score: 0.9970806877065673\n",
      "User 859, CV score: 0.9982067081626057\n",
      "User 868, CV score: 0.9964551207865462\n",
      "User 875, CV score: 0.9957357188285217\n",
      "User 932, CV score: 0.9904705305850093\n",
      "User 996, CV score: 0.9934523995704442\n",
      "User 1014, CV score: 0.9972370794365727\n",
      "User 1040, CV score: 0.9970598354759\n",
      "User 1054, CV score: 0.9964342685558787\n",
      "User 1248, CV score: 0.997800089664592\n",
      "User 1267, CV score: 0.9973309144745759\n",
      "User 1299, CV score: 0.9969347220918957\n",
      "User 1371, CV score: 0.9934106951091093\n",
      "User 1797, CV score: 0.9951101519085004\n",
      "User 1798, CV score: 0.9966323647472187\n",
      "User 1993, CV score: 0.9969034437458948\n",
      "User 2118, CV score: 0.9978730724719277\n",
      "User 2174, CV score: 0.9958399799818585\n",
      "User 2191, CV score: 0.9952456914078384\n",
      "User 2250, CV score: 0.9972683577825737\n",
      "User 2355, CV score: 0.9958816844431934\n",
      "User 2408, CV score: 0.9937026263384525\n",
      "User 2493, CV score: 0.9966532169778862\n",
      "User 2625, CV score: 0.9961840417878703\n",
      "User 2902, CV score: 0.9971640966292369\n"
     ]
    }
   ],
   "source": [
    "cv_scores_by_user = {}\n",
    "for user_id in logit_cv_150users.scores_:\n",
    "    print('User {}, CV score: {}'.format(str(user_id), str(np.mean(logit_cv_150users.scores_[user_id]))))"
   ]
  },
  {
   "cell_type": "markdown",
   "metadata": {},
   "source": [
    "**Результаты кажутся впечатляющими, но возможно, мы забываем про дисбаланс классов, и высокую долю правильных ответов можно получить константным прогнозом. Посчитайте для каждого пользователя разницу между долей правильных ответов на кросс-валидации (только что посчитанную с помощью `LogisticRegressionCV`) и долей меток в *y_train_150*, отличных от ID \n",
    " этого пользователя (именно такую долю правильных ответов можно получить, если классификатор всегда \"говорит\", что это не пользователь с номером $i$ в задаче классификации $i$-vs-All).**"
   ]
  },
  {
   "cell_type": "code",
   "execution_count": 111,
   "metadata": {},
   "outputs": [],
   "source": [
    "class_distr = np.bincount(y_train_150.astype('int'))"
   ]
  },
  {
   "cell_type": "code",
   "execution_count": 112,
   "metadata": {},
   "outputs": [
    {
     "data": {
      "text/plain": [
       "0.9950475952164983"
      ]
     },
     "execution_count": 112,
     "metadata": {},
     "output_type": "execute_result"
    }
   ],
   "source": [
    "(1-class_distr[user_id]/np.sum(class_distr))"
   ]
  },
  {
   "cell_type": "code",
   "execution_count": 113,
   "metadata": {},
   "outputs": [],
   "source": [
    "part_class = (1-class_distr[user_id]/np.sum(class_distr))"
   ]
  },
  {
   "cell_type": "code",
   "execution_count": 114,
   "metadata": {},
   "outputs": [
    {
     "name": "stdout",
     "output_type": "stream",
     "text": [
      "User 6, CV score: 0.9961110589805345, part: 0.984402531460803, diff: 0.011708527519731504\n",
      "User 13, CV score: 0.9963612857485429, part: 0.9957044404825206, diff: 0.0006568452660222768\n",
      "User 15, CV score: 0.9952769697538395, part: 0.9944011760658097, diff: 0.0008757936880298134\n",
      "User 16, CV score: 0.9917946472323876, part: 0.9847153149208137, diff: 0.007079332311573983\n",
      "User 28, CV score: 0.9903558433163387, part: 0.9879474106742568, diff: 0.0024084326420819036\n",
      "User 31, CV score: 0.9941718015284685, part: 0.9944533066424781, diff: -0.00028150511400959477\n",
      "User 33, CV score: 0.9937234785691199, part: 0.9925453275364132, diff: 0.0011781510327066869\n",
      "User 39, CV score: 0.9858309092615182, part: 0.9839125040401197, diff: 0.0019184052213985225\n",
      "User 46, CV score: 0.9979669075099308, part: 0.9971223921679022, diff: 0.0008445153420285623\n",
      "User 49, CV score: 0.9953082480998404, part: 0.9938277397224569, diff: 0.0014805083773835603\n",
      "User 50, CV score: 0.994286488797139, part: 0.9941509492978011, diff: 0.0001355394993378667\n",
      "User 53, CV score: 0.993587939069782, part: 0.9920448740003962, diff: 0.0015430650693858405\n",
      "User 65, CV score: 0.9968825915152273, part: 0.9969242959765621, diff: -4.170446133477945e-05\n",
      "User 66, CV score: 0.9947869423331562, part: 0.9948599251404919, diff: -7.298280733569751e-05\n",
      "User 82, CV score: 0.9963195812872083, part: 0.9963508596332092, diff: -3.1278346000918056e-05\n",
      "User 85, CV score: 0.9963821379792104, part: 0.996194467903204, diff: 0.0001876700760063965\n",
      "User 89, CV score: 0.9907103312376843, part: 0.9900743382023292, diff: 0.0006359930353551091\n",
      "User 92, CV score: 0.9944011760658097, part: 0.9941509492978011, diff: 0.0002502267680085657\n",
      "User 100, CV score: 0.9944428805271444, part: 0.9947452378718213, diff: -0.0003023573446769845\n",
      "User 102, CV score: 0.9912003586583675, part: 0.9904392522390083, diff: 0.0007611064193592254\n",
      "User 103, CV score: 0.9806491299406753, part: 0.9769999895738847, diff: 0.0036491403667906486\n",
      "User 105, CV score: 0.9969451482072295, part: 0.9960172239425312, diff: 0.0009279242646982322\n",
      "User 106, CV score: 0.9948390729098245, part: 0.9872175826008988, diff: 0.007621490308925782\n",
      "User 118, CV score: 0.9910022624670275, part: 0.9900013553949933, diff: 0.0010009070720341517\n",
      "User 119, CV score: 0.9965802341705503, part: 0.9959442411351954, diff: 0.000635993035354887\n",
      "User 120, CV score: 0.9943177671431401, part: 0.9936609218771179, diff: 0.0006568452660222768\n",
      "User 126, CV score: 0.9950475952164983, part: 0.9940571142597979, diff: 0.0009904809567004014\n",
      "User 127, CV score: 0.9915965510410475, part: 0.987509513830242, diff: 0.0040870372108055\n",
      "User 128, CV score: 0.9846214798828105, part: 0.979596092291973, diff: 0.005025387590837482\n",
      "User 138, CV score: 0.9969764265532305, part: 0.9971119660525685, diff: -0.0001355394993379777\n",
      "User 158, CV score: 0.9970494093605663, part: 0.9967783303618905, diff: 0.0002710789986758444\n",
      "User 160, CV score: 0.9967887564772241, part: 0.9965385297092156, diff: 0.00025022676800845467\n",
      "User 165, CV score: 0.9973309144745759, part: 0.9970806877065674, diff: 0.00025022676800845467\n",
      "User 172, CV score: 0.9964968252478809, part: 0.996257024595206, diff: 0.00023980065267481532\n",
      "User 177, CV score: 0.9967574781312231, part: 0.9964968252478809, diff: 0.00026065288334220504\n",
      "User 203, CV score: 0.9976332718192529, part: 0.9961840417878702, diff: 0.0014492300313826423\n",
      "User 207, CV score: 0.987947410674257, part: 0.9863626411435363, diff: 0.00158476953072062\n",
      "User 223, CV score: 0.9964759730172136, part: 0.9964655469018798, diff: 1.0426115333750374e-05\n",
      "User 233, CV score: 0.9963508596332092, part: 0.9962361723645387, diff: 0.00011468726867058798\n",
      "User 235, CV score: 0.9965802341705504, part: 0.9967470520158894, diff: -0.0001668178453390068\n",
      "User 236, CV score: 0.9899075203569901, part: 0.9887814999009519, diff: 0.001126020456038268\n",
      "User 237, CV score: 0.9894591973976415, part: 0.988009967366259, diff: 0.0014492300313825313\n",
      "User 238, CV score: 0.996163189557203, part: 0.9962674507105398, diff: -0.00010426115333683761\n",
      "User 240, CV score: 0.9956106054445174, part: 0.9957774232898564, diff: -0.0001668178453390068\n",
      "User 241, CV score: 0.9959442411351954, part: 0.9961006328652008, diff: -0.00015639173000536744\n",
      "User 242, CV score: 0.9951831347158362, part: 0.9946618289491518, diff: 0.0005213057666844101\n",
      "User 245, CV score: 0.9960693545191996, part: 0.9957669971745228, diff: 0.0003023573446768735\n",
      "User 246, CV score: 0.9969555743225632, part: 0.9971223921679022, diff: -0.0001668178453390068\n",
      "User 249, CV score: 0.9949329079478276, part: 0.9950997257931667, diff: -0.0001668178453391178\n",
      "User 252, CV score: 0.996361285748543, part: 0.9962987290565408, diff: 6.255669200216918e-05\n",
      "User 254, CV score: 0.9920970045770646, part: 0.9899179464723239, diff: 0.0021790581047407276\n",
      "User 256, CV score: 0.9959859455965302, part: 0.995558474867849, diff: 0.00042747072868121183\n",
      "User 258, CV score: 0.9959129627891944, part: 0.995756571059189, diff: 0.00015639173000536744\n",
      "User 259, CV score: 0.9949016296018267, part: 0.9951831347158362, diff: -0.00028150511400948375\n",
      "User 260, CV score: 0.997299636128575, part: 0.9970806877065674, diff: 0.00021894842200753661\n",
      "User 261, CV score: 0.9898449636649881, part: 0.9891047094762963, diff: 0.0007402541886918357\n",
      "User 263, CV score: 0.9928268326504228, part: 0.9915965510410476, diff: 0.0012302816093752167\n",
      "User 264, CV score: 0.9965489558245494, part: 0.9962048940185376, diff: 0.00034406180601176395\n",
      "User 269, CV score: 0.9869882080635577, part: 0.9857475003388487, diff: 0.001240707724708967\n",
      "User 270, CV score: 0.9894904757436427, part: 0.9851219334188275, diff: 0.0043685423248152055\n",
      "User 273, CV score: 0.9943281932584739, part: 0.9937339046844537, diff: 0.0005942885740202186\n",
      "User 287, CV score: 0.9899492248183249, part: 0.9882393419036002, diff: 0.0017098829147247363\n",
      "User 294, CV score: 0.9955793270985164, part: 0.9959546672505292, diff: -0.000375340152012793\n",
      "User 298, CV score: 0.9912629153503696, part: 0.9897719808576523, diff: 0.0014909344927173107\n",
      "User 301, CV score: 0.9972683577825738, part: 0.9954750659451795, diff: 0.0017932918373942952\n",
      "User 308, CV score: 0.9956314576751849, part: 0.9949746124091625, diff: 0.0006568452660223878\n",
      "User 315, CV score: 0.997497732319915, part: 0.9971119660525685, diff: 0.0003857662673465434\n",
      "User 318, CV score: 0.9958399799818585, part: 0.9953395264458416, diff: 0.0005004535360169093\n",
      "User 327, CV score: 0.9965906602858841, part: 0.9966323647472188, diff: -4.170446133477945e-05\n",
      "User 332, CV score: 0.9967053475545548, part: 0.9968200348232252, diff: -0.00011468726867047696\n",
      "User 333, CV score: 0.9962465984798724, part: 0.9949746124091625, diff: 0.0012719860707098851\n",
      "User 339, CV score: 0.9970806877065673, part: 0.995923388904528, diff: 0.0011572988020392971\n",
      "User 340, CV score: 0.9966323647472187, part: 0.9965072513632146, diff: 0.0001251133840041163\n",
      "User 342, CV score: 0.9923055268837384, part: 0.9919093345010582, diff: 0.00039619238268018275\n",
      "User 344, CV score: 0.9965698080552167, part: 0.9967783303618905, diff: -0.00020852230667378624\n",
      "User 351, CV score: 0.9923472313450731, part: 0.9910335408130285, diff: 0.0013136905320445535\n",
      "User 356, CV score: 0.9976124195885855, part: 0.9972162272059053, diff: 0.00039619238268018275\n",
      "User 361, CV score: 0.9964863991325471, part: 0.9966323647472188, diff: -0.00014596561467172808\n",
      "User 363, CV score: 0.9965072513632146, part: 0.9952978219845068, diff: 0.001209429378707827\n",
      "User 411, CV score: 0.9912316370043687, part: 0.9892298228603005, diff: 0.0020018141440681925\n",
      "User 417, CV score: 0.9966532169778862, part: 0.9966323647472188, diff: 2.0852230667389726e-05\n",
      "User 425, CV score: 0.9941613754131348, part: 0.9941613754131349, diff: -1.1102230246251565e-16\n",
      "User 430, CV score: 0.9961944679032039, part: 0.9952456914078384, diff: 0.0009487764953655109\n",
      "User 435, CV score: 0.9969451482072295, part: 0.9971536705139032, diff: -0.00020852230667378624\n",
      "User 436, CV score: 0.9951727086005026, part: 0.9950163168704972, diff: 0.00015639173000536744\n",
      "User 440, CV score: 0.9969660004378968, part: 0.9970911138219011, diff: -0.00012511338400422733\n",
      "User 444, CV score: 0.997893924702595, part: 0.9970181310145653, diff: 0.0008757936880297024\n",
      "User 475, CV score: 0.9891672661682983, part: 0.9879891151355916, diff: 0.0011781510327066869\n",
      "User 476, CV score: 0.9970494093605664, part: 0.9961319112112018, diff: 0.0009174981493645928\n",
      "User 486, CV score: 0.9954020831378436, part: 0.9952456914078384, diff: 0.0001563917300052564\n",
      "User 515, CV score: 0.9941196709518, part: 0.9939841314524621, diff: 0.0001355394993378667\n",
      "User 533, CV score: 0.9938590180684579, part: 0.9926391625744164, diff: 0.0012198554940414663\n",
      "User 561, CV score: 0.9843608269994683, part: 0.9809723395160197, diff: 0.0033884874834485545\n",
      "User 563, CV score: 0.9967574781312231, part: 0.9963091551718745, diff: 0.00044832295934860156\n",
      "User 564, CV score: 0.995725292713188, part: 0.9951310041391678, diff: 0.0005942885740202186\n",
      "User 568, CV score: 0.991648681617716, part: 0.9918259255783888, diff: -0.00017724396067275716\n",
      "User 569, CV score: 0.9893340840136373, part: 0.9850489506114917, diff: 0.004285133402145647\n",
      "User 570, CV score: 0.9982379865086067, part: 0.9957044404825206, diff: 0.002533546026086131\n",
      "User 573, CV score: 0.9905747917383462, part: 0.9909605580056926, diff: -0.0003857662673464324\n",
      "User 575, CV score: 0.990043059856328, part: 0.9886042559402792, diff: 0.0014388039160487809\n",
      "User 576, CV score: 0.9940779664904653, part: 0.9943907499504759, diff: -0.00031278346001062385\n",
      "User 580, CV score: 0.9866232940268785, part: 0.9804823120953364, diff: 0.006140981931542111\n",
      "User 583, CV score: 0.9808680783626827, part: 0.9660421423581788, diff: 0.014825936004503992\n",
      "User 584, CV score: 0.9810557484386893, part: 0.9784387934899336, diff: 0.00261695494875569\n",
      "User 600, CV score: 0.9915027160030444, part: 0.9905956439690136, diff: 0.0009070720340308425\n",
      "User 603, CV score: 0.9956835882518532, part: 0.995058021331832, diff: 0.0006255669200212477\n",
      "User 605, CV score: 0.9975498628965833, part: 0.9950684474471656, diff: 0.002481415449417712\n",
      "User 640, CV score: 0.9972058010905717, part: 0.9970389832452327, diff: 0.0001668178453390068\n",
      "User 647, CV score: 0.9977166807419223, part: 0.9960172239425312, diff: 0.001699456799391097\n",
      "User 653, CV score: 0.9973830450512443, part: 0.9972475055519064, diff: 0.0001355394993378667\n",
      "User 664, CV score: 0.9951414302545015, part: 0.9945784200264823, diff: 0.0005630102280191895\n",
      "User 665, CV score: 0.9968096087078915, part: 0.9966740692085536, diff: 0.0001355394993378667\n",
      "User 677, CV score: 0.9965176774785482, part: 0.9959025366738606, diff: 0.0006151408046876083\n",
      "User 692, CV score: 0.996893017630561, part: 0.9968721653998937, diff: 2.0852230667389726e-05\n",
      "User 697, CV score: 0.9958816844431934, part: 0.9952456914078384, diff: 0.0006359930353549981\n",
      "User 705, CV score: 0.996423842440545, part: 0.9961840417878702, diff: 0.00023980065267481532\n",
      "User 722, CV score: 0.9946931072951529, part: 0.9936192174157831, diff: 0.0010738898793698493\n",
      "User 740, CV score: 0.9966219386318852, part: 0.995860832212526, diff: 0.0007611064193592254\n",
      "User 741, CV score: 0.9967157736698883, part: 0.9967783303618905, diff: -6.255669200216918e-05\n",
      "User 756, CV score: 0.9956627360211859, part: 0.9953082480998405, diff: 0.0003544879213454033\n",
      "User 780, CV score: 0.9964759730172136, part: 0.9957669971745228, diff: 0.0007089758426908066\n",
      "User 784, CV score: 0.9966010864012178, part: 0.9949537601784951, diff: 0.0016473262227226781\n",
      "User 785, CV score: 0.9968096087078915, part: 0.9970389832452327, diff: -0.00022937453734117597\n",
      "User 797, CV score: 0.9957252927131881, part: 0.9952144130618373, diff: 0.0005108796513507707\n",
      "User 812, CV score: 0.9948286467944909, part: 0.9895009018589763, diff: 0.005327744935514578\n",
      "User 844, CV score: 0.9970806877065673, part: 0.9969660004378968, diff: 0.00011468726867047696\n",
      "User 859, CV score: 0.9982067081626057, part: 0.9969138698612284, diff: 0.0012928383013772748\n",
      "User 868, CV score: 0.9964551207865462, part: 0.9967783303618905, diff: -0.0003232095753442632\n",
      "User 875, CV score: 0.9957357188285217, part: 0.9901368948943313, diff: 0.005598823934190422\n",
      "User 932, CV score: 0.9904705305850093, part: 0.9881038024042622, diff: 0.002366728180747124\n",
      "User 996, CV score: 0.9934523995704442, part: 0.990480956700343, diff: 0.002971442870101204\n",
      "User 1014, CV score: 0.9972370794365727, part: 0.9957878494051902, diff: 0.0014492300313825313\n",
      "User 1040, CV score: 0.9970598354759, part: 0.9951727086005026, diff: 0.0018871268753974935\n",
      "User 1054, CV score: 0.9964342685558787, part: 0.9963508596332092, diff: 8.340892266944788e-05\n",
      "User 1248, CV score: 0.997800089664592, part: 0.9973309144745759, diff: 0.0004691751900161023\n",
      "User 1267, CV score: 0.9973309144745759, part: 0.9969972787838979, diff: 0.0003336356906780136\n",
      "User 1299, CV score: 0.9969347220918957, part: 0.9968304609385589, diff: 0.00010426115333683761\n",
      "User 1371, CV score: 0.9934106951091093, part: 0.9887293693242835, diff: 0.004681325784825829\n",
      "User 1797, CV score: 0.9951101519085004, part: 0.9917425166557192, diff: 0.003367635252781165\n",
      "User 1798, CV score: 0.9966323647472187, part: 0.9954333614838448, diff: 0.0011990032633739656\n",
      "User 1993, CV score: 0.9969034437458948, part: 0.995923388904528, diff: 0.000980054841366762\n",
      "User 2118, CV score: 0.9978730724719277, part: 0.9963404335178756, diff: 0.0015326389540520902\n",
      "User 2174, CV score: 0.9958399799818585, part: 0.9953499525611752, diff: 0.00049002742068327\n",
      "User 2191, CV score: 0.9952456914078384, part: 0.9948286467944908, diff: 0.0004170446133475725\n",
      "User 2250, CV score: 0.9972683577825737, part: 0.9974351756279128, diff: -0.0001668178453391178\n",
      "User 2355, CV score: 0.9958816844431934, part: 0.9874365310229062, diff: 0.008445153420287177\n",
      "User 2408, CV score: 0.9937026263384525, part: 0.992420214152409, diff: 0.0012824121860435245\n",
      "User 2493, CV score: 0.9966532169778862, part: 0.9963091551718745, diff: 0.00034406180601176395\n",
      "User 2625, CV score: 0.9961840417878703, part: 0.9954646398298458, diff: 0.000719401958024557\n",
      "User 2902, CV score: 0.9971640966292369, part: 0.9950475952164983, diff: 0.0021165014127385584\n"
     ]
    }
   ],
   "source": [
    "class_distr = np.bincount(y_train_150.astype('int'))\n",
    "acc_diff_vs_constant = {}\n",
    "\n",
    "for user_id in np.unique(y_train_150):\n",
    "    print('User {}, CV score: {}, part: {}, diff: {}'.format(str(user_id), \n",
    "                                                   str(np.mean(logit_cv_150users.scores_[user_id])),\n",
    "                                                   str(1-class_distr[user_id]/np.sum(class_distr)),\n",
    "                                                   str(np.mean(logit_cv_150users.scores_[user_id])-(1-class_distr[user_id]/np.sum(class_distr)))))\n",
    "    acc_diff_vs_constant[user_id] = np.mean(logit_cv_150users.scores_[user_id])-\\\n",
    "            (np.sum(class_distr)-class_distr[user_id])/np.sum(class_distr)"
   ]
  },
  {
   "cell_type": "code",
   "execution_count": 115,
   "metadata": {},
   "outputs": [
    {
     "data": {
      "text/plain": [
       "122"
      ]
     },
     "execution_count": 115,
     "metadata": {},
     "output_type": "execute_result"
    }
   ],
   "source": [
    "num_better_than_default = (np.array(list(acc_diff_vs_constant.values())) > 0).sum()\n",
    "num_better_than_default"
   ]
  },
  {
   "cell_type": "code",
   "execution_count": 116,
   "metadata": {},
   "outputs": [
    {
     "data": {
      "text/plain": [
       "0.8133333333333334"
      ]
     },
     "execution_count": 116,
     "metadata": {},
     "output_type": "execute_result"
    }
   ],
   "source": [
    "ans_7 = num_better_than_default/len(acc_diff_vs_constant)\n",
    "ans_7"
   ]
  },
  {
   "cell_type": "code",
   "execution_count": 117,
   "metadata": {},
   "outputs": [],
   "source": [
    "ans_7 = round(ans_7,3)"
   ]
  },
  {
   "cell_type": "markdown",
   "metadata": {},
   "source": [
    "**<font color='red'>Вопрос 7. </font> Посчитайте долю пользователей, для которых логистическая регрессия на кросс-валидации дает прогноз лучше константного. Округлите до 3 знаков после запятой.**"
   ]
  },
  {
   "cell_type": "code",
   "execution_count": 118,
   "metadata": {},
   "outputs": [],
   "source": [
    "write_answer_to_file(7, ans_7)"
   ]
  },
  {
   "cell_type": "markdown",
   "metadata": {},
   "source": [
    "**Дальше будем строить кривые обучения для конкретного пользователя, допустим, для 128-го. Составьте новый бинарный вектор на основе *y_150users*, его значения будут 1 или 0 в зависимости от того, равен ли ID-шник пользователя 128.**"
   ]
  },
  {
   "cell_type": "code",
   "execution_count": 157,
   "metadata": {},
   "outputs": [],
   "source": [
    "r = np.zeros(len(y_150users))\n",
    "r[y_150users==128] = 1\n",
    "y_binary_128 = r"
   ]
  },
  {
   "cell_type": "code",
   "execution_count": 143,
   "metadata": {},
   "outputs": [],
   "source": [
    "from sklearn.model_selection import learning_curve\n",
    "\n",
    "def plot_learning_curve(val_train, val_test, train_sizes, \n",
    "                        xlabel='Training Set Size', ylabel='score'):\n",
    "    def plot_with_err(x, data, **kwargs):\n",
    "        mu, std = data.mean(1), data.std(1)\n",
    "        lines = plt.plot(x, mu, '-', **kwargs)\n",
    "        plt.fill_between(x, mu - std, mu + std, edgecolor='none',\n",
    "                         facecolor=lines[0].get_color(), alpha=0.2)\n",
    "    plot_with_err(train_sizes, val_train, label='train')\n",
    "    plot_with_err(train_sizes, val_test, label='valid')\n",
    "    plt.xlabel(xlabel); plt.ylabel(ylabel)\n",
    "    plt.legend(loc='lower right');"
   ]
  },
  {
   "cell_type": "markdown",
   "metadata": {},
   "source": [
    "**Посчитайте доли правильных ответов на кросс-валидации в задаче классификации \"user128-vs-All\" в зависимости от размера выборки. Не помешает посмотреть встроенную документацию для *learning_curve*.**"
   ]
  },
  {
   "cell_type": "code",
   "execution_count": 164,
   "metadata": {},
   "outputs": [
    {
     "name": "stdout",
     "output_type": "stream",
     "text": [
      "Wall time: 6.56 s\n"
     ]
    }
   ],
   "source": [
    "%%time\n",
    "train_sizes = np.linspace(0.25, 1, 20)\n",
    "estimator = svm_grid_searcher2.best_estimator_\n",
    "n_train, val_train, val_test = learning_curve(estimator=estimator, X=X_sparse_150users, y=y_binary_128)"
   ]
  },
  {
   "cell_type": "code",
   "execution_count": 165,
   "metadata": {},
   "outputs": [
    {
     "data": {
      "image/png": "[encoded data removed]",
      "text/plain": [
       "<Figure size 432x288 with 1 Axes>"
      ]
     },
     "metadata": {
      "needs_background": "light"
     },
     "output_type": "display_data"
    }
   ],
   "source": [
    "plot_learning_curve(val_train, val_test, n_train, \n",
    "                    xlabel='train_size', ylabel='accuracy')"
   ]
  },
  {
   "cell_type": "markdown",
   "metadata": {},
   "source": [
    "**Сделайте выводы о том, помогут ли алгоритму новые размеченные данные при той же постановке задачи.**"
   ]
  },
  {
   "cell_type": "markdown",
   "metadata": {},
   "source": [
    "## Пути улучшения\n",
    "- конечно, можно проверить еще кучу алгоритмов, например, Xgboost, но в такой задаче очень маловероятно, что что-то справится лучше линейных методов\n",
    "- интересно проверить качество алгоритма на данных, где сессии выделялись не по количеству посещенных сайтов, а по времени, например, 5, 7, 10 и 15 минут. Отдельно стоит отметить данные нашего [соревнования](https://inclass.kaggle.com/c/catch-me-if-you-can-intruder-detection-through-webpage-session-tracking2) \n",
    "- опять же, если ресурсы позволяют, можно проверить, насколько хорошо можно решить задачу для 3000 пользователей\n",
    "\n",
    "\n",
    "На следующей неделе мы вспомним про линейные модели, обучаемые стохастическим градиентным спуском, и порадуемся тому, насколько быстрее они работают. Также сделаем первые (или не первые) посылки в [соревновании](https://inclass.kaggle.com/c/catch-me-if-you-can-intruder-detection-through-webpage-session-tracking2) Kaggle Inclass."
   ]
  }
 ],
 "metadata": {
  "anaconda-cloud": {},
  "kernelspec": {
   "display_name": "Python 3",
   "language": "python",
   "name": "python3"
  },
  "language_info": {
   "codemirror_mode": {
    "name": "ipython",
    "version": 3
   },
   "file_extension": ".py",
   "mimetype": "text/x-python",
   "name": "python",
   "nbconvert_exporter": "python",
   "pygments_lexer": "ipython3",
   "version": "3.7.6"
  }
 },
 "nbformat": 4,
 "nbformat_minor": 1
}
